{
 "cells": [
  {
   "cell_type": "code",
   "execution_count": 17,
   "metadata": {
    "collapsed": true
   },
   "outputs": [],
   "source": [
    "%matplotlib inline\n",
    "import pandas as pd\n",
    "import numpy as np\n",
    "from sklearn.decomposition import PCA\n",
    "import matplotlib.pyplot as plt"
   ]
  },
  {
   "cell_type": "code",
   "execution_count": 2,
   "metadata": {
    "collapsed": true
   },
   "outputs": [],
   "source": [
    "df = pd.read_clipboard()"
   ]
  },
  {
   "cell_type": "code",
   "execution_count": 3,
   "metadata": {},
   "outputs": [
    {
     "data": {
      "text/html": [
       "<div>\n",
       "<table border=\"1\" class=\"dataframe\">\n",
       "  <thead>\n",
       "    <tr style=\"text-align: right;\">\n",
       "      <th></th>\n",
       "      <th>PlaceholderID</th>\n",
       "      <th>First Major Category</th>\n",
       "      <th>Graduating Major Category</th>\n",
       "      <th>Ethnicity</th>\n",
       "      <th>gndr_flag</th>\n",
       "      <th>Physics major at one time</th>\n",
       "      <th>class_type</th>\n",
       "      <th>course_id</th>\n",
       "      <th>grade_code</th>\n",
       "      <th>z_score</th>\n",
       "    </tr>\n",
       "  </thead>\n",
       "  <tbody>\n",
       "    <tr>\n",
       "      <th>0</th>\n",
       "      <td>70F5188A-36E4-4FC5-A084-E41B8CBEB274</td>\n",
       "      <td>Engineering</td>\n",
       "      <td>Has Not Graduated</td>\n",
       "      <td>White (non-Hispanic)</td>\n",
       "      <td>M</td>\n",
       "      <td>N</td>\n",
       "      <td>PHY</td>\n",
       "      <td>PHY183</td>\n",
       "      <td>3.0</td>\n",
       "      <td>-0.100195</td>\n",
       "    </tr>\n",
       "    <tr>\n",
       "      <th>1</th>\n",
       "      <td>70F5188A-36E4-4FC5-A084-E41B8CBEB274</td>\n",
       "      <td>Engineering</td>\n",
       "      <td>Has Not Graduated</td>\n",
       "      <td>White (non-Hispanic)</td>\n",
       "      <td>M</td>\n",
       "      <td>N</td>\n",
       "      <td>PHY</td>\n",
       "      <td>PHY184</td>\n",
       "      <td>3.0</td>\n",
       "      <td>0.178007</td>\n",
       "    </tr>\n",
       "    <tr>\n",
       "      <th>2</th>\n",
       "      <td>70FF380C-A3CF-4B0E-B9EC-B0107E000C87</td>\n",
       "      <td>Engineering</td>\n",
       "      <td>Engineering</td>\n",
       "      <td>White (non-Hispanic)</td>\n",
       "      <td>M</td>\n",
       "      <td>N</td>\n",
       "      <td>PHY</td>\n",
       "      <td>PHY183</td>\n",
       "      <td>3.5</td>\n",
       "      <td>0.456127</td>\n",
       "    </tr>\n",
       "    <tr>\n",
       "      <th>3</th>\n",
       "      <td>71043334-1B60-40D6-87F5-CD9B167A90F3</td>\n",
       "      <td>Engineering</td>\n",
       "      <td>Engineering</td>\n",
       "      <td>White (non-Hispanic)</td>\n",
       "      <td>M</td>\n",
       "      <td>N</td>\n",
       "      <td>PHY</td>\n",
       "      <td>PHY183</td>\n",
       "      <td>4.0</td>\n",
       "      <td>0.906374</td>\n",
       "    </tr>\n",
       "    <tr>\n",
       "      <th>4</th>\n",
       "      <td>71043334-1B60-40D6-87F5-CD9B167A90F3</td>\n",
       "      <td>Engineering</td>\n",
       "      <td>Engineering</td>\n",
       "      <td>White (non-Hispanic)</td>\n",
       "      <td>M</td>\n",
       "      <td>N</td>\n",
       "      <td>PHY</td>\n",
       "      <td>PHY184</td>\n",
       "      <td>2.5</td>\n",
       "      <td>-0.643793</td>\n",
       "    </tr>\n",
       "  </tbody>\n",
       "</table>\n",
       "</div>"
      ],
      "text/plain": [
       "                          PlaceholderID First Major Category  \\\n",
       "0  70F5188A-36E4-4FC5-A084-E41B8CBEB274          Engineering   \n",
       "1  70F5188A-36E4-4FC5-A084-E41B8CBEB274          Engineering   \n",
       "2  70FF380C-A3CF-4B0E-B9EC-B0107E000C87          Engineering   \n",
       "3  71043334-1B60-40D6-87F5-CD9B167A90F3          Engineering   \n",
       "4  71043334-1B60-40D6-87F5-CD9B167A90F3          Engineering   \n",
       "\n",
       "  Graduating Major Category             Ethnicity gndr_flag  \\\n",
       "0         Has Not Graduated  White (non-Hispanic)         M   \n",
       "1         Has Not Graduated  White (non-Hispanic)         M   \n",
       "2               Engineering  White (non-Hispanic)         M   \n",
       "3               Engineering  White (non-Hispanic)         M   \n",
       "4               Engineering  White (non-Hispanic)         M   \n",
       "\n",
       "  Physics major at one time class_type course_id  grade_code   z_score  \n",
       "0                         N        PHY    PHY183         3.0 -0.100195  \n",
       "1                         N        PHY    PHY184         3.0  0.178007  \n",
       "2                         N        PHY    PHY183         3.5  0.456127  \n",
       "3                         N        PHY    PHY183         4.0  0.906374  \n",
       "4                         N        PHY    PHY184         2.5 -0.643793  "
      ]
     },
     "execution_count": 3,
     "metadata": {},
     "output_type": "execute_result"
    }
   ],
   "source": [
    "df.head()"
   ]
  },
  {
   "cell_type": "code",
   "execution_count": 7,
   "metadata": {},
   "outputs": [],
   "source": [
    "df_gb = df.groupby(['Graduating Major Category', 'course_id']).mean().reset_index()"
   ]
  },
  {
   "cell_type": "code",
   "execution_count": 8,
   "metadata": {},
   "outputs": [
    {
     "data": {
      "text/html": [
       "<div>\n",
       "<table border=\"1\" class=\"dataframe\">\n",
       "  <thead>\n",
       "    <tr style=\"text-align: right;\">\n",
       "      <th></th>\n",
       "      <th>Graduating Major Category</th>\n",
       "      <th>course_id</th>\n",
       "      <th>grade_code</th>\n",
       "      <th>z_score</th>\n",
       "    </tr>\n",
       "  </thead>\n",
       "  <tbody>\n",
       "    <tr>\n",
       "      <th>0</th>\n",
       "      <td>Engineering</td>\n",
       "      <td>MTH132</td>\n",
       "      <td>2.872378</td>\n",
       "      <td>0.296137</td>\n",
       "    </tr>\n",
       "    <tr>\n",
       "      <th>1</th>\n",
       "      <td>Engineering</td>\n",
       "      <td>MTH133</td>\n",
       "      <td>2.647235</td>\n",
       "      <td>0.248979</td>\n",
       "    </tr>\n",
       "    <tr>\n",
       "      <th>2</th>\n",
       "      <td>Engineering</td>\n",
       "      <td>MTH234</td>\n",
       "      <td>2.666327</td>\n",
       "      <td>0.185677</td>\n",
       "    </tr>\n",
       "    <tr>\n",
       "      <th>3</th>\n",
       "      <td>Engineering</td>\n",
       "      <td>MTH235</td>\n",
       "      <td>2.824030</td>\n",
       "      <td>0.145827</td>\n",
       "    </tr>\n",
       "    <tr>\n",
       "      <th>4</th>\n",
       "      <td>Engineering</td>\n",
       "      <td>PHY183</td>\n",
       "      <td>3.214660</td>\n",
       "      <td>0.296719</td>\n",
       "    </tr>\n",
       "  </tbody>\n",
       "</table>\n",
       "</div>"
      ],
      "text/plain": [
       "  Graduating Major Category course_id  grade_code   z_score\n",
       "0               Engineering    MTH132    2.872378  0.296137\n",
       "1               Engineering    MTH133    2.647235  0.248979\n",
       "2               Engineering    MTH234    2.666327  0.185677\n",
       "3               Engineering    MTH235    2.824030  0.145827\n",
       "4               Engineering    PHY183    3.214660  0.296719"
      ]
     },
     "execution_count": 8,
     "metadata": {},
     "output_type": "execute_result"
    }
   ],
   "source": [
    "df_gb.head()"
   ]
  },
  {
   "cell_type": "code",
   "execution_count": 11,
   "metadata": {},
   "outputs": [],
   "source": [
    "df_gb_pivot = df_gb.pivot(index='course_id', columns='Graduating Major Category', values='z_score')"
   ]
  },
  {
   "cell_type": "code",
   "execution_count": 43,
   "metadata": {},
   "outputs": [
    {
     "data": {
      "text/html": [
       "<div>\n",
       "<table border=\"1\" class=\"dataframe\">\n",
       "  <thead>\n",
       "    <tr style=\"text-align: right;\">\n",
       "      <th>Graduating Major Category</th>\n",
       "      <th>Engineering</th>\n",
       "      <th>Has Not Graduated</th>\n",
       "      <th>Non STEM</th>\n",
       "      <th>Other STEM</th>\n",
       "      <th>Physics</th>\n",
       "    </tr>\n",
       "    <tr>\n",
       "      <th>course_id</th>\n",
       "      <th></th>\n",
       "      <th></th>\n",
       "      <th></th>\n",
       "      <th></th>\n",
       "      <th></th>\n",
       "    </tr>\n",
       "  </thead>\n",
       "  <tbody>\n",
       "    <tr>\n",
       "      <th>MTH132</th>\n",
       "      <td>0.296137</td>\n",
       "      <td>-0.139868</td>\n",
       "      <td>-0.023939</td>\n",
       "      <td>0.148236</td>\n",
       "      <td>0.199836</td>\n",
       "    </tr>\n",
       "    <tr>\n",
       "      <th>MTH133</th>\n",
       "      <td>0.248979</td>\n",
       "      <td>-0.150400</td>\n",
       "      <td>-0.131073</td>\n",
       "      <td>0.126104</td>\n",
       "      <td>0.257570</td>\n",
       "    </tr>\n",
       "    <tr>\n",
       "      <th>MTH234</th>\n",
       "      <td>0.185677</td>\n",
       "      <td>-0.148014</td>\n",
       "      <td>-0.203100</td>\n",
       "      <td>0.105970</td>\n",
       "      <td>0.128310</td>\n",
       "    </tr>\n",
       "    <tr>\n",
       "      <th>MTH235</th>\n",
       "      <td>0.145827</td>\n",
       "      <td>-0.116999</td>\n",
       "      <td>-0.419336</td>\n",
       "      <td>-0.100901</td>\n",
       "      <td>-0.010883</td>\n",
       "    </tr>\n",
       "    <tr>\n",
       "      <th>PHY183</th>\n",
       "      <td>0.296719</td>\n",
       "      <td>-0.173381</td>\n",
       "      <td>-0.478985</td>\n",
       "      <td>0.131273</td>\n",
       "      <td>0.275772</td>\n",
       "    </tr>\n",
       "    <tr>\n",
       "      <th>PHY184</th>\n",
       "      <td>0.210174</td>\n",
       "      <td>-0.167844</td>\n",
       "      <td>-0.657293</td>\n",
       "      <td>0.021052</td>\n",
       "      <td>0.320978</td>\n",
       "    </tr>\n",
       "    <tr>\n",
       "      <th>PHY191</th>\n",
       "      <td>0.001356</td>\n",
       "      <td>-0.180343</td>\n",
       "      <td>-0.399002</td>\n",
       "      <td>0.059475</td>\n",
       "      <td>0.302984</td>\n",
       "    </tr>\n",
       "    <tr>\n",
       "      <th>PHY192</th>\n",
       "      <td>0.304282</td>\n",
       "      <td>-0.202422</td>\n",
       "      <td>-0.194853</td>\n",
       "      <td>0.049198</td>\n",
       "      <td>0.084076</td>\n",
       "    </tr>\n",
       "    <tr>\n",
       "      <th>PHY215</th>\n",
       "      <td>0.165719</td>\n",
       "      <td>-0.292238</td>\n",
       "      <td>-0.635595</td>\n",
       "      <td>0.049853</td>\n",
       "      <td>0.258375</td>\n",
       "    </tr>\n",
       "  </tbody>\n",
       "</table>\n",
       "</div>"
      ],
      "text/plain": [
       "Graduating Major Category  Engineering  Has Not Graduated  Non STEM  \\\n",
       "course_id                                                             \n",
       "MTH132                        0.296137          -0.139868 -0.023939   \n",
       "MTH133                        0.248979          -0.150400 -0.131073   \n",
       "MTH234                        0.185677          -0.148014 -0.203100   \n",
       "MTH235                        0.145827          -0.116999 -0.419336   \n",
       "PHY183                        0.296719          -0.173381 -0.478985   \n",
       "PHY184                        0.210174          -0.167844 -0.657293   \n",
       "PHY191                        0.001356          -0.180343 -0.399002   \n",
       "PHY192                        0.304282          -0.202422 -0.194853   \n",
       "PHY215                        0.165719          -0.292238 -0.635595   \n",
       "\n",
       "Graduating Major Category  Other STEM   Physics  \n",
       "course_id                                        \n",
       "MTH132                       0.148236  0.199836  \n",
       "MTH133                       0.126104  0.257570  \n",
       "MTH234                       0.105970  0.128310  \n",
       "MTH235                      -0.100901 -0.010883  \n",
       "PHY183                       0.131273  0.275772  \n",
       "PHY184                       0.021052  0.320978  \n",
       "PHY191                       0.059475  0.302984  \n",
       "PHY192                       0.049198  0.084076  \n",
       "PHY215                       0.049853  0.258375  "
      ]
     },
     "execution_count": 43,
     "metadata": {},
     "output_type": "execute_result"
    }
   ],
   "source": [
    "df_gb_pivot"
   ]
  },
  {
   "cell_type": "code",
   "execution_count": 44,
   "metadata": {},
   "outputs": [
    {
     "data": {
      "text/plain": [
       "Graduating Major Category\n",
       "Engineering          0.206097\n",
       "Has Not Graduated   -0.174612\n",
       "Non STEM            -0.349242\n",
       "Other STEM           0.065584\n",
       "Physics              0.201891\n",
       "dtype: float64"
      ]
     },
     "execution_count": 44,
     "metadata": {},
     "output_type": "execute_result"
    }
   ],
   "source": [
    "df_gb_pivot"
   ]
  },
  {
   "cell_type": "code",
   "execution_count": 20,
   "metadata": {},
   "outputs": [
    {
     "data": {
      "text/plain": [
       "PCA(copy=True, n_components=2, whiten=False)"
      ]
     },
     "execution_count": 20,
     "metadata": {},
     "output_type": "execute_result"
    }
   ],
   "source": [
    "pca = PCA(n_components=2)\n",
    "pca.fit(df_gb_pivot)"
   ]
  },
  {
   "cell_type": "code",
   "execution_count": 42,
   "metadata": {},
   "outputs": [
    {
     "data": {
      "image/png": "[encoded data removed]",
      "text/plain": [
       "<matplotlib.figure.Figure at 0xc813438>"
      ]
     },
     "metadata": {},
     "output_type": "display_data"
    }
   ],
   "source": [
    "fig, ax = plt.subplots(1, figsize=(8, 8))\n",
    "ax.plot(pca.components_[0], pca.components_[1], marker='*', linestyle='', markersize=15)\n",
    "ax.set_xlim(-1,1)\n",
    "ax.set_ylim(-1,1)\n",
    "ax.plot([-1,1],[0,0], color='gray', linestyle='--')\n",
    "ax.plot([0,0],[-1,1], color='gray', linestyle='--')\n",
    "\n",
    "ax.set_xlabel('pca1', fontsize=14)\n",
    "ax.set_ylabel('pca2', rotation=0, fontsize=14)\n",
    "ax.set_title('principle component analysis\\nintroductory math and physics Z-scores')\n",
    "\n",
    "for x,y,s in zip(pca.components_[0],pca.components_[1], ['Engineering', 'Not Graduated', 'Non STEM', 'Other STEM', 'Physics']):\n",
    "    ax.text(x+0.05,y, s=s)"
   ]
  },
  {
   "cell_type": "code",
   "execution_count": null,
   "metadata": {
    "collapsed": true
   },
   "outputs": [],
   "source": []
  }
 ],
 "metadata": {
  "kernelspec": {
   "display_name": "Python 3",
   "language": "python",
   "name": "python3"
  },
  "language_info": {
   "codemirror_mode": {
    "name": "ipython",
    "version": 3
   },
   "file_extension": ".py",
   "mimetype": "text/x-python",
   "name": "python",
   "nbconvert_exporter": "python",
   "pygments_lexer": "ipython3",
   "version": "3.5.4"
  }
 },
 "nbformat": 4,
 "nbformat_minor": 1
}
