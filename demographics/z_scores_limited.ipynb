{
 "cells": [
  {
   "cell_type": "code",
   "execution_count": 2,
   "metadata": {
    "collapsed": true
   },
   "outputs": [],
   "source": [
    "%matplotlib inline\n",
    "import pandas as pd\n",
    "import numpy as np\n",
    "import matplotlib.pyplot as plt\n",
    "import matplotlib\n",
    "# matplotlib.style.use('ggplot')"
   ]
  },
  {
   "cell_type": "markdown",
   "metadata": {},
   "source": [
    "# limiting courses"
   ]
  },
  {
   "cell_type": "markdown",
   "metadata": {},
   "source": [
    "It's important to limit the data set to only courses for physics majors so that we can more accurately compare physics majors to non-majors and physics majors that end up getting different degrees. While MSU offers a BS and BA in physics and astronomy and astrophysics the core introductory courses (i.e. 100 and 200 level) are the same. The 100 and 200 level courses that are required are as follows:\n",
    "\n",
    "| level | physics | Math |\n",
    "|---|---|---|\n",
    "| 100 | PHY183, PHY184, PHY193H, PhY294H, PHY191, PHY192 | MTH132, MTH133,   |\n",
    "| 200 | PHY215 | MTH234, MTH235 |\n",
    "\n",
    "\n",
    "Additionally students are required to have four semester credits equivalent to one of the following courses: MTH110, MTH116, MTH124, MTH132. These are not accounted for in this data set. We also have removed students who have not graduated yet.\n",
    "\n",
    "**Sources:**\n",
    "\n",
    "1. http://www.pa.msu.edu/undergrad/BS_Physics.pdf\n",
    "2. http://www.pa.msu.edu/undergrad/BS_Astrophysics.pdf"
   ]
  },
  {
   "cell_type": "markdown",
   "metadata": {},
   "source": [
    "## SQL Query for raw data\n",
    "\n",
    "    /****** Script for SelectTopNRows command from SSMS  ******/\n",
    "    DECLARE @z_score TABLE (id varchar(50), course_id varchar(6), grade_code FLOAT, z_score FLOAT, class_type varchar(3))\n",
    "\n",
    "    INSERT INTO @z_score\n",
    "    SELECT [PlaceholderID]\n",
    "          ,LEFT([course_id],6) AS course_id\n",
    "          ,[grade_code]\n",
    "          ,[z_score]\n",
    "          ,[class_type]\n",
    "      FROM [MSU_ProjectPathways].[dbo].[z_scores_14_1_2016]\n",
    "\n",
    "    SELECT d.PlaceholderID\n",
    "    , d.[Graduating Major Category]\n",
    "    , d.Ethnicity\n",
    "    , d.gndr_flag\n",
    "    , d.[Physics major at one time]\n",
    "    , z.class_type\n",
    "    , z.course_id\n",
    "    , z.grade_code\n",
    "    , z.z_score\n",
    "    FROM @z_score AS z\n",
    "    LEFT JOIN [MSU_ProjectPathways].[dbo].demographics AS d\n",
    "    ON d.PlaceholderID = z.id\n",
    "    WHERE z.course_id IN ('PHY183', 'PHY184', 'PHY193H', 'PHY294H', 'PHY191', 'PHY192', 'PHY215', 'MTH132', 'MTH133', 'MTH234', 'MTH235')"
   ]
  },
  {
   "cell_type": "code",
   "execution_count": 63,
   "metadata": {
    "collapsed": false
   },
   "outputs": [],
   "source": [
    "# z_score = pd.read_clipboard()\n",
    "z_score = pd.read_csv('data_12_6_2016.csv' )\n",
    "z_score.columns = ['PlaceholderID', 'First Major Category', 'Graduating Major Category'\n",
    "                                                   , 'Ethnicity', 'gndr_flag', 'Physics major at one time'\n",
    "                                                     , 'class_type', 'course_id', 'grade_code', 'z_score']"
   ]
  },
  {
   "cell_type": "code",
   "execution_count": 64,
   "metadata": {
    "collapsed": false
   },
   "outputs": [
    {
     "data": {
      "text/html": [
       "<div>\n",
       "<table border=\"1\" class=\"dataframe\">\n",
       "  <thead>\n",
       "    <tr style=\"text-align: right;\">\n",
       "      <th></th>\n",
       "      <th>PlaceholderID</th>\n",
       "      <th>First Major Category</th>\n",
       "      <th>Graduating Major Category</th>\n",
       "      <th>Ethnicity</th>\n",
       "      <th>gndr_flag</th>\n",
       "      <th>Physics major at one time</th>\n",
       "      <th>class_type</th>\n",
       "      <th>course_id</th>\n",
       "      <th>grade_code</th>\n",
       "      <th>z_score</th>\n",
       "    </tr>\n",
       "  </thead>\n",
       "  <tbody>\n",
       "    <tr>\n",
       "      <th>0</th>\n",
       "      <td>9739CD0E-040A-4B92-8F34-3F2E2661CEC7</td>\n",
       "      <td>Physics</td>\n",
       "      <td>Has Not Graduated</td>\n",
       "      <td>Asian (non-Hispanic)</td>\n",
       "      <td>M</td>\n",
       "      <td>Y</td>\n",
       "      <td>MTH</td>\n",
       "      <td>MTH133</td>\n",
       "      <td>3.5</td>\n",
       "      <td>0.864641</td>\n",
       "    </tr>\n",
       "    <tr>\n",
       "      <th>1</th>\n",
       "      <td>9739CD0E-040A-4B92-8F34-3F2E2661CEC7</td>\n",
       "      <td>Physics</td>\n",
       "      <td>Has Not Graduated</td>\n",
       "      <td>Asian (non-Hispanic)</td>\n",
       "      <td>M</td>\n",
       "      <td>Y</td>\n",
       "      <td>MTH</td>\n",
       "      <td>MTH235</td>\n",
       "      <td>0.0</td>\n",
       "      <td>-2.424311</td>\n",
       "    </tr>\n",
       "    <tr>\n",
       "      <th>2</th>\n",
       "      <td>97469CA0-54F0-4106-A645-D0C58E5B4101</td>\n",
       "      <td>Other STEM</td>\n",
       "      <td>Non STEM</td>\n",
       "      <td>Not Reported</td>\n",
       "      <td>M</td>\n",
       "      <td>N</td>\n",
       "      <td>MTH</td>\n",
       "      <td>MTH234</td>\n",
       "      <td>1.0</td>\n",
       "      <td>-1.217061</td>\n",
       "    </tr>\n",
       "    <tr>\n",
       "      <th>3</th>\n",
       "      <td>974A3C85-788A-471B-AB80-EF79FC880F4E</td>\n",
       "      <td>Engineering</td>\n",
       "      <td>Engineering</td>\n",
       "      <td>White (non-Hispanic)</td>\n",
       "      <td>M</td>\n",
       "      <td>N</td>\n",
       "      <td>MTH</td>\n",
       "      <td>MTH235</td>\n",
       "      <td>4.0</td>\n",
       "      <td>1.054445</td>\n",
       "    </tr>\n",
       "    <tr>\n",
       "      <th>4</th>\n",
       "      <td>974D9233-24ED-4C7B-B0A0-2073792BEEFF</td>\n",
       "      <td>Non STEM</td>\n",
       "      <td>Has Not Graduated</td>\n",
       "      <td>White (non-Hispanic)</td>\n",
       "      <td>F</td>\n",
       "      <td>N</td>\n",
       "      <td>MTH</td>\n",
       "      <td>MTH133</td>\n",
       "      <td>3.0</td>\n",
       "      <td>0.212709</td>\n",
       "    </tr>\n",
       "  </tbody>\n",
       "</table>\n",
       "</div>"
      ],
      "text/plain": [
       "                          PlaceholderID First Major Category  \\\n",
       "0  9739CD0E-040A-4B92-8F34-3F2E2661CEC7              Physics   \n",
       "1  9739CD0E-040A-4B92-8F34-3F2E2661CEC7              Physics   \n",
       "2  97469CA0-54F0-4106-A645-D0C58E5B4101           Other STEM   \n",
       "3  974A3C85-788A-471B-AB80-EF79FC880F4E          Engineering   \n",
       "4  974D9233-24ED-4C7B-B0A0-2073792BEEFF             Non STEM   \n",
       "\n",
       "  Graduating Major Category             Ethnicity gndr_flag  \\\n",
       "0         Has Not Graduated  Asian (non-Hispanic)         M   \n",
       "1         Has Not Graduated  Asian (non-Hispanic)         M   \n",
       "2                  Non STEM          Not Reported         M   \n",
       "3               Engineering  White (non-Hispanic)         M   \n",
       "4         Has Not Graduated  White (non-Hispanic)         F   \n",
       "\n",
       "  Physics major at one time class_type course_id  grade_code   z_score  \n",
       "0                         Y        MTH    MTH133         3.5  0.864641  \n",
       "1                         Y        MTH    MTH235         0.0 -2.424311  \n",
       "2                         N        MTH    MTH234         1.0 -1.217061  \n",
       "3                         N        MTH    MTH235         4.0  1.054445  \n",
       "4                         N        MTH    MTH133         3.0  0.212709  "
      ]
     },
     "execution_count": 64,
     "metadata": {},
     "output_type": "execute_result"
    }
   ],
   "source": [
    "z_score.head()"
   ]
  },
  {
   "cell_type": "code",
   "execution_count": 108,
   "metadata": {
    "collapsed": false
   },
   "outputs": [
    {
     "data": {
      "text/plain": [
       "27549"
      ]
     },
     "execution_count": 108,
     "metadata": {},
     "output_type": "execute_result"
    }
   ],
   "source": [
    "z_score.PlaceholderID.nunique()+10929+748"
   ]
  },
  {
   "cell_type": "code",
   "execution_count": 106,
   "metadata": {
    "collapsed": false
   },
   "outputs": [
    {
     "data": {
      "text/plain": [
       "Graduating Major Category  Physics major at one time\n",
       "Engineering                N                            4047\n",
       "                           Y                             374\n",
       "Non STEM                   N                            4913\n",
       "                           Y                             134\n",
       "Other STEM                 N                            5833\n",
       "                           Y                             202\n",
       "Physics                    Y                             369\n",
       "Name: PlaceholderID, dtype: int64"
      ]
     },
     "execution_count": 106,
     "metadata": {},
     "output_type": "execute_result"
    }
   ],
   "source": [
    "z_score.groupby(['Graduating Major Category', 'Physics major at one time']).PlaceholderID.nunique()"
   ]
  },
  {
   "cell_type": "code",
   "execution_count": 65,
   "metadata": {
    "collapsed": false
   },
   "outputs": [
    {
     "data": {
      "text/plain": [
       "(27549,)"
      ]
     },
     "execution_count": 65,
     "metadata": {},
     "output_type": "execute_result"
    }
   ],
   "source": [
    "z_score.PlaceholderID.unique().shape"
   ]
  },
  {
   "cell_type": "code",
   "execution_count": 66,
   "metadata": {
    "collapsed": true
   },
   "outputs": [],
   "source": [
    "z_score = z_score[z_score['Graduating Major Category'] != 'Has Not Graduated']"
   ]
  },
  {
   "cell_type": "code",
   "execution_count": 67,
   "metadata": {
    "collapsed": false
   },
   "outputs": [],
   "source": [
    "physics_math_sem = z_score.groupby(['Physics major at one time','Graduating Major Category','class_type']).z_score.sem()\n"
   ]
  },
  {
   "cell_type": "code",
   "execution_count": 68,
   "metadata": {
    "collapsed": false
   },
   "outputs": [],
   "source": [
    "physics_math = z_score.groupby(['Physics major at one time','Graduating Major Category','class_type']).mean()\n",
    "physics_math = physics_math.reset_index()"
   ]
  },
  {
   "cell_type": "code",
   "execution_count": 69,
   "metadata": {
    "collapsed": true
   },
   "outputs": [],
   "source": [
    "physics_math_count = z_score.groupby(['Physics major at one time','Graduating Major Category','class_type']).z_score.count()\n",
    "physics_math_count = physics_math_count.reset_index()"
   ]
  },
  {
   "cell_type": "code",
   "execution_count": 70,
   "metadata": {
    "collapsed": false
   },
   "outputs": [],
   "source": [
    "physics_math = physics_math.join(physics_math_count, lsuffix='left')[['Physics major at one time','Graduating Major Category'\n",
    "                                                                     ,'class_type', 'z_scoreleft', 'z_score']]"
   ]
  },
  {
   "cell_type": "code",
   "execution_count": 71,
   "metadata": {
    "collapsed": false
   },
   "outputs": [],
   "source": [
    "physics_math.columns = ['physics_major', 'major_category', 'class_type', 'z_score','count']"
   ]
  },
  {
   "cell_type": "code",
   "execution_count": 72,
   "metadata": {
    "collapsed": false
   },
   "outputs": [],
   "source": [
    "physics_math = physics_math.join(physics_math_sem.reset_index().z_score, lsuffix='left')\n",
    "physics_math.columns = ['physics_major', 'major_category', 'class_type', 'z_score', 'cnt', 'error']"
   ]
  },
  {
   "cell_type": "code",
   "execution_count": 73,
   "metadata": {
    "collapsed": false
   },
   "outputs": [],
   "source": [
    "physics = physics_math[physics_math.class_type == 'PHY']\n",
    "math = physics_math[physics_math.class_type == 'MTH']\n",
    "math.index = physics.index"
   ]
  },
  {
   "cell_type": "code",
   "execution_count": 74,
   "metadata": {
    "collapsed": false
   },
   "outputs": [
    {
     "name": "stderr",
     "output_type": "stream",
     "text": [
      "C:\\Anaconda3\\lib\\site-packages\\ipykernel\\__main__.py:1: SettingWithCopyWarning: \n",
      "A value is trying to be set on a copy of a slice from a DataFrame.\n",
      "Try using .loc[row_indexer,col_indexer] = value instead\n",
      "\n",
      "See the caveats in the documentation: http://pandas.pydata.org/pandas-docs/stable/indexing.html#indexing-view-versus-copy\n",
      "  if __name__ == '__main__':\n"
     ]
    }
   ],
   "source": [
    "physics['color'] = ['gray','gray','gray','crimson','crimson','crimson','crimson']"
   ]
  },
  {
   "cell_type": "code",
   "execution_count": 75,
   "metadata": {
    "collapsed": false
   },
   "outputs": [
    {
     "data": {
      "text/html": [
       "<div>\n",
       "<table border=\"1\" class=\"dataframe\">\n",
       "  <thead>\n",
       "    <tr style=\"text-align: right;\">\n",
       "      <th></th>\n",
       "      <th>physics_major</th>\n",
       "      <th>major_category</th>\n",
       "      <th>class_type</th>\n",
       "      <th>z_score</th>\n",
       "      <th>cnt</th>\n",
       "      <th>error</th>\n",
       "      <th>color</th>\n",
       "    </tr>\n",
       "  </thead>\n",
       "  <tbody>\n",
       "    <tr>\n",
       "      <th>1</th>\n",
       "      <td>N</td>\n",
       "      <td>Engineering</td>\n",
       "      <td>PHY</td>\n",
       "      <td>0.289325</td>\n",
       "      <td>6643</td>\n",
       "      <td>0.009220</td>\n",
       "      <td>gray</td>\n",
       "    </tr>\n",
       "    <tr>\n",
       "      <th>3</th>\n",
       "      <td>N</td>\n",
       "      <td>Non STEM</td>\n",
       "      <td>PHY</td>\n",
       "      <td>-0.494015</td>\n",
       "      <td>1273</td>\n",
       "      <td>0.029454</td>\n",
       "      <td>gray</td>\n",
       "    </tr>\n",
       "    <tr>\n",
       "      <th>5</th>\n",
       "      <td>N</td>\n",
       "      <td>Other STEM</td>\n",
       "      <td>PHY</td>\n",
       "      <td>0.082566</td>\n",
       "      <td>5292</td>\n",
       "      <td>0.012522</td>\n",
       "      <td>gray</td>\n",
       "    </tr>\n",
       "    <tr>\n",
       "      <th>7</th>\n",
       "      <td>Y</td>\n",
       "      <td>Engineering</td>\n",
       "      <td>PHY</td>\n",
       "      <td>-0.189934</td>\n",
       "      <td>684</td>\n",
       "      <td>0.030135</td>\n",
       "      <td>crimson</td>\n",
       "    </tr>\n",
       "    <tr>\n",
       "      <th>9</th>\n",
       "      <td>Y</td>\n",
       "      <td>Non STEM</td>\n",
       "      <td>PHY</td>\n",
       "      <td>-0.669159</td>\n",
       "      <td>221</td>\n",
       "      <td>0.072372</td>\n",
       "      <td>crimson</td>\n",
       "    </tr>\n",
       "    <tr>\n",
       "      <th>11</th>\n",
       "      <td>Y</td>\n",
       "      <td>Other STEM</td>\n",
       "      <td>PHY</td>\n",
       "      <td>-0.046429</td>\n",
       "      <td>418</td>\n",
       "      <td>0.049031</td>\n",
       "      <td>crimson</td>\n",
       "    </tr>\n",
       "    <tr>\n",
       "      <th>13</th>\n",
       "      <td>Y</td>\n",
       "      <td>Physics</td>\n",
       "      <td>PHY</td>\n",
       "      <td>0.236732</td>\n",
       "      <td>1262</td>\n",
       "      <td>0.023355</td>\n",
       "      <td>crimson</td>\n",
       "    </tr>\n",
       "  </tbody>\n",
       "</table>\n",
       "</div>"
      ],
      "text/plain": [
       "   physics_major major_category class_type   z_score   cnt     error    color\n",
       "1              N    Engineering        PHY  0.289325  6643  0.009220     gray\n",
       "3              N       Non STEM        PHY -0.494015  1273  0.029454     gray\n",
       "5              N     Other STEM        PHY  0.082566  5292  0.012522     gray\n",
       "7              Y    Engineering        PHY -0.189934   684  0.030135  crimson\n",
       "9              Y       Non STEM        PHY -0.669159   221  0.072372  crimson\n",
       "11             Y     Other STEM        PHY -0.046429   418  0.049031  crimson\n",
       "13             Y        Physics        PHY  0.236732  1262  0.023355  crimson"
      ]
     },
     "execution_count": 75,
     "metadata": {},
     "output_type": "execute_result"
    }
   ],
   "source": [
    "physics"
   ]
  },
  {
   "cell_type": "code",
   "execution_count": 76,
   "metadata": {
    "collapsed": false
   },
   "outputs": [
    {
     "data": {
      "text/plain": [
       "<matplotlib.text.Text at 0xca56978>"
      ]
     },
     "execution_count": 76,
     "metadata": {},
     "output_type": "execute_result"
    },
    {
     "data": {
      "image/png": "[encoded data removed]",
      "text/plain": [
       "<matplotlib.figure.Figure at 0x9cdb38>"
      ]
     },
     "metadata": {},
     "output_type": "display_data"
    }
   ],
   "source": [
    "fig, ax = plt.subplots(1, figsize=(10,8))\n",
    "\n",
    "#ax.scatter(x=math.z_score, y=physics.z_score, s=math.cnt, alpha=0.5, color='red')\n",
    "\n",
    "ax.plot([],[], marker='o', color='gray', markersize=15, linestyle='', label='Other Declared')\n",
    "ax.plot([],[], marker='o', color='crimson', markersize=15, linestyle='', label='Physics Declared')\n",
    "ax.legend(numpoints=1, loc='lower right')\n",
    "\n",
    "\n",
    "ax.plot([-0.8,0.8], [-0.8,0.8], alpha=0.25)\n",
    "\n",
    "ax.plot([0,0], [-0.8, 0.8], linestyle='--', color='black', alpha=0.5, linewidth=2)\n",
    "ax.plot([-0.8, 0.8], [0,0], linestyle='--', color='black', alpha=0.5, linewidth=2)\n",
    "\n",
    "ax.scatter(x=math.z_score, y=physics.z_score, s=physics.cnt, color=physics.color, alpha=0.95)\n",
    "\n",
    "#ax.errorbar(x=math.z_score, y=physics.z_score, xerr=math.error, yerr=physics.error)\n",
    "\n",
    "for s,x,y in zip(physics.major_category, math.z_score, physics.z_score):\n",
    "    ax.text(s=s,x=x-0.15,y=y, fontsize=15)\n",
    "\n",
    "    \n",
    "\n",
    "ax.set_ylim(-0.8, 0.8)\n",
    "ax.set_xlim(-0.8, 0.8)\n",
    "\n",
    "ax.set_ylabel('Physics')\n",
    "ax.set_xlabel('Math')\n",
    "ax.set_title('Average Z-Scores')\n"
   ]
  },
  {
   "cell_type": "markdown",
   "metadata": {},
   "source": [
    "Student Physics and Math z scores. Scores are averaged per group but are not matched. The size of the marker indicates the size of the population and scales linearly. Physics students who receive BS or BA degrees in physics/astronomy are above average in their introductory course performance in comparison to students who move to different programs before graduating. They are comparable to STEM (engineering and other stem) students who take the prequisite introductory courses for the major. This plot with error bars representing the standard error of the mean can be seen below."
   ]
  },
  {
   "cell_type": "code",
   "execution_count": 77,
   "metadata": {
    "collapsed": false
   },
   "outputs": [],
   "source": [
    "physics_math = math.join(physics, lsuffix=' math', rsuffix=' physics')"
   ]
  },
  {
   "cell_type": "code",
   "execution_count": 78,
   "metadata": {
    "collapsed": false
   },
   "outputs": [
    {
     "data": {
      "text/html": [
       "<div>\n",
       "<table border=\"1\" class=\"dataframe\">\n",
       "  <thead>\n",
       "    <tr style=\"text-align: right;\">\n",
       "      <th></th>\n",
       "      <th>physics_major math</th>\n",
       "      <th>major_category math</th>\n",
       "      <th>class_type math</th>\n",
       "      <th>z_score math</th>\n",
       "      <th>cnt math</th>\n",
       "      <th>error math</th>\n",
       "      <th>physics_major physics</th>\n",
       "      <th>major_category physics</th>\n",
       "      <th>class_type physics</th>\n",
       "      <th>z_score physics</th>\n",
       "      <th>cnt physics</th>\n",
       "      <th>error physics</th>\n",
       "      <th>color</th>\n",
       "    </tr>\n",
       "  </thead>\n",
       "  <tbody>\n",
       "    <tr>\n",
       "      <th>1</th>\n",
       "      <td>N</td>\n",
       "      <td>Engineering</td>\n",
       "      <td>MTH</td>\n",
       "      <td>0.259347</td>\n",
       "      <td>12491</td>\n",
       "      <td>0.007500</td>\n",
       "      <td>N</td>\n",
       "      <td>Engineering</td>\n",
       "      <td>PHY</td>\n",
       "      <td>0.289325</td>\n",
       "      <td>6643</td>\n",
       "      <td>0.009220</td>\n",
       "      <td>gray</td>\n",
       "    </tr>\n",
       "    <tr>\n",
       "      <th>3</th>\n",
       "      <td>N</td>\n",
       "      <td>Non STEM</td>\n",
       "      <td>MTH</td>\n",
       "      <td>-0.072762</td>\n",
       "      <td>8095</td>\n",
       "      <td>0.011078</td>\n",
       "      <td>N</td>\n",
       "      <td>Non STEM</td>\n",
       "      <td>PHY</td>\n",
       "      <td>-0.494015</td>\n",
       "      <td>1273</td>\n",
       "      <td>0.029454</td>\n",
       "      <td>gray</td>\n",
       "    </tr>\n",
       "    <tr>\n",
       "      <th>5</th>\n",
       "      <td>N</td>\n",
       "      <td>Other STEM</td>\n",
       "      <td>MTH</td>\n",
       "      <td>0.124545</td>\n",
       "      <td>10078</td>\n",
       "      <td>0.009192</td>\n",
       "      <td>N</td>\n",
       "      <td>Other STEM</td>\n",
       "      <td>PHY</td>\n",
       "      <td>0.082566</td>\n",
       "      <td>5292</td>\n",
       "      <td>0.012522</td>\n",
       "      <td>gray</td>\n",
       "    </tr>\n",
       "    <tr>\n",
       "      <th>7</th>\n",
       "      <td>Y</td>\n",
       "      <td>Engineering</td>\n",
       "      <td>MTH</td>\n",
       "      <td>-0.202908</td>\n",
       "      <td>1396</td>\n",
       "      <td>0.023557</td>\n",
       "      <td>Y</td>\n",
       "      <td>Engineering</td>\n",
       "      <td>PHY</td>\n",
       "      <td>-0.189934</td>\n",
       "      <td>684</td>\n",
       "      <td>0.030135</td>\n",
       "      <td>crimson</td>\n",
       "    </tr>\n",
       "    <tr>\n",
       "      <th>9</th>\n",
       "      <td>Y</td>\n",
       "      <td>Non STEM</td>\n",
       "      <td>MTH</td>\n",
       "      <td>-0.564118</td>\n",
       "      <td>382</td>\n",
       "      <td>0.049475</td>\n",
       "      <td>Y</td>\n",
       "      <td>Non STEM</td>\n",
       "      <td>PHY</td>\n",
       "      <td>-0.669159</td>\n",
       "      <td>221</td>\n",
       "      <td>0.072372</td>\n",
       "      <td>crimson</td>\n",
       "    </tr>\n",
       "    <tr>\n",
       "      <th>11</th>\n",
       "      <td>Y</td>\n",
       "      <td>Other STEM</td>\n",
       "      <td>MTH</td>\n",
       "      <td>-0.137269</td>\n",
       "      <td>555</td>\n",
       "      <td>0.039450</td>\n",
       "      <td>Y</td>\n",
       "      <td>Other STEM</td>\n",
       "      <td>PHY</td>\n",
       "      <td>-0.046429</td>\n",
       "      <td>418</td>\n",
       "      <td>0.049031</td>\n",
       "      <td>crimson</td>\n",
       "    </tr>\n",
       "    <tr>\n",
       "      <th>13</th>\n",
       "      <td>Y</td>\n",
       "      <td>Physics</td>\n",
       "      <td>MTH</td>\n",
       "      <td>0.113995</td>\n",
       "      <td>919</td>\n",
       "      <td>0.031818</td>\n",
       "      <td>Y</td>\n",
       "      <td>Physics</td>\n",
       "      <td>PHY</td>\n",
       "      <td>0.236732</td>\n",
       "      <td>1262</td>\n",
       "      <td>0.023355</td>\n",
       "      <td>crimson</td>\n",
       "    </tr>\n",
       "  </tbody>\n",
       "</table>\n",
       "</div>"
      ],
      "text/plain": [
       "   physics_major math major_category math class_type math  z_score math  \\\n",
       "1                   N         Engineering             MTH      0.259347   \n",
       "3                   N            Non STEM             MTH     -0.072762   \n",
       "5                   N          Other STEM             MTH      0.124545   \n",
       "7                   Y         Engineering             MTH     -0.202908   \n",
       "9                   Y            Non STEM             MTH     -0.564118   \n",
       "11                  Y          Other STEM             MTH     -0.137269   \n",
       "13                  Y             Physics             MTH      0.113995   \n",
       "\n",
       "    cnt math  error math physics_major physics major_category physics  \\\n",
       "1      12491    0.007500                     N            Engineering   \n",
       "3       8095    0.011078                     N               Non STEM   \n",
       "5      10078    0.009192                     N             Other STEM   \n",
       "7       1396    0.023557                     Y            Engineering   \n",
       "9        382    0.049475                     Y               Non STEM   \n",
       "11       555    0.039450                     Y             Other STEM   \n",
       "13       919    0.031818                     Y                Physics   \n",
       "\n",
       "   class_type physics  z_score physics  cnt physics  error physics    color  \n",
       "1                 PHY         0.289325         6643       0.009220     gray  \n",
       "3                 PHY        -0.494015         1273       0.029454     gray  \n",
       "5                 PHY         0.082566         5292       0.012522     gray  \n",
       "7                 PHY        -0.189934          684       0.030135  crimson  \n",
       "9                 PHY        -0.669159          221       0.072372  crimson  \n",
       "11                PHY        -0.046429          418       0.049031  crimson  \n",
       "13                PHY         0.236732         1262       0.023355  crimson  "
      ]
     },
     "execution_count": 78,
     "metadata": {},
     "output_type": "execute_result"
    }
   ],
   "source": [
    "physics_math"
   ]
  },
  {
   "cell_type": "code",
   "execution_count": 79,
   "metadata": {
    "collapsed": false
   },
   "outputs": [
    {
     "data": {
      "image/png": "[encoded data removed]",
      "text/plain": [
       "<matplotlib.figure.Figure at 0xaf1db00>"
      ]
     },
     "metadata": {},
     "output_type": "display_data"
    }
   ],
   "source": [
    "fig, ax = plt.subplots(1, figsize=(8,8))\n",
    "\n",
    "msize = 50\n",
    "\n",
    "physics_math[physics_math['physics_major math']=='N'].plot(kind='scatter', x='z_score math', y='z_score physics'\n",
    "                                                           , xerr='error math', yerr='error physics', ax=ax, s=msize\n",
    "                                                          , color='gray', label='Other Declared')\n",
    "physics_math[physics_math['physics_major math']=='Y'].plot(kind='scatter', x='z_score math', y='z_score physics'\n",
    "                                                           , xerr='error math', yerr='error physics', ax=ax, s=msize\n",
    "                                                          , color='crimson', label='Physics Declared')\n",
    "\n",
    "\n",
    "ax.plot([-0.8,0.8], [-0.8,0.8], alpha=0.25)\n",
    "\n",
    "ax.plot([0,0], [-0.8, 0.8], linestyle='--', color='black', alpha=0.5, linewidth=2)\n",
    "ax.plot([-0.8, 0.8], [0,0], linestyle='--', color='black', alpha=0.5, linewidth=2)\n",
    "\n",
    "#ax.errorbar(x=math.z_score, y=physics.z_score, xerr=math.error, yerr=physics.error)\n",
    "\n",
    "for s,x,y in zip(physics.major_category, math.z_score, physics.z_score):\n",
    "    ax.text(s=s,x=x+0.05,y=y, fontsize=12)\n",
    "\n",
    "    \n",
    "\n",
    "ax.set_ylim(-0.7, 0.7)\n",
    "ax.set_xlim(-0.7, 0.7)\n",
    "\n",
    "ax.set_ylabel('Physics', fontsize=14)\n",
    "ax.set_xlabel('Math', fontsize=14)\n",
    "ax.set_title('Average Z-Scores', fontsize=16)\n",
    "\n",
    "ax.legend(scatterpoints=1)\n",
    "ax.grid(True)\n",
    "ax.text(x=-0.59, y=0.53, s='(a)', fontsize=24)\n",
    "fig.savefig('z_scores.pdf', bbox_inches='tight')"
   ]
  },
  {
   "cell_type": "markdown",
   "metadata": {},
   "source": [
    "Same plot as above but error bars represent standard error of the mean for their respective axes. There is no direct indication of population size (of course SEM is a reasonable approximation given how it's calculated :-P )"
   ]
  },
  {
   "cell_type": "code",
   "execution_count": 80,
   "metadata": {
    "collapsed": false
   },
   "outputs": [],
   "source": [
    "physmajors_gb = z_score[z_score['Physics major at one time']=='Y'].groupby(['First Major Category', 'class_type'])"
   ]
  },
  {
   "cell_type": "code",
   "execution_count": 81,
   "metadata": {
    "collapsed": false
   },
   "outputs": [],
   "source": [
    "physmajors_avg = physmajors_gb.mean().reset_index()"
   ]
  },
  {
   "cell_type": "code",
   "execution_count": 82,
   "metadata": {
    "collapsed": false
   },
   "outputs": [
    {
     "data": {
      "text/html": [
       "<div>\n",
       "<table border=\"1\" class=\"dataframe\">\n",
       "  <thead>\n",
       "    <tr style=\"text-align: right;\">\n",
       "      <th></th>\n",
       "      <th>First Major Category</th>\n",
       "      <th>class_type</th>\n",
       "      <th>grade_code</th>\n",
       "      <th>z_score</th>\n",
       "    </tr>\n",
       "  </thead>\n",
       "  <tbody>\n",
       "    <tr>\n",
       "      <th>0</th>\n",
       "      <td>Engineering</td>\n",
       "      <td>MTH</td>\n",
       "      <td>1.941007</td>\n",
       "      <td>-0.371859</td>\n",
       "    </tr>\n",
       "    <tr>\n",
       "      <th>1</th>\n",
       "      <td>Engineering</td>\n",
       "      <td>PHY</td>\n",
       "      <td>2.678205</td>\n",
       "      <td>-0.353085</td>\n",
       "    </tr>\n",
       "    <tr>\n",
       "      <th>2</th>\n",
       "      <td>Non STEM</td>\n",
       "      <td>MTH</td>\n",
       "      <td>2.422397</td>\n",
       "      <td>-0.016008</td>\n",
       "    </tr>\n",
       "    <tr>\n",
       "      <th>3</th>\n",
       "      <td>Non STEM</td>\n",
       "      <td>PHY</td>\n",
       "      <td>3.076327</td>\n",
       "      <td>0.114111</td>\n",
       "    </tr>\n",
       "    <tr>\n",
       "      <th>4</th>\n",
       "      <td>Other STEM</td>\n",
       "      <td>MTH</td>\n",
       "      <td>2.517241</td>\n",
       "      <td>-0.022046</td>\n",
       "    </tr>\n",
       "    <tr>\n",
       "      <th>5</th>\n",
       "      <td>Other STEM</td>\n",
       "      <td>PHY</td>\n",
       "      <td>3.073359</td>\n",
       "      <td>0.084151</td>\n",
       "    </tr>\n",
       "    <tr>\n",
       "      <th>6</th>\n",
       "      <td>Physics</td>\n",
       "      <td>MTH</td>\n",
       "      <td>2.540452</td>\n",
       "      <td>0.057620</td>\n",
       "    </tr>\n",
       "    <tr>\n",
       "      <th>7</th>\n",
       "      <td>Physics</td>\n",
       "      <td>PHY</td>\n",
       "      <td>3.150823</td>\n",
       "      <td>0.186090</td>\n",
       "    </tr>\n",
       "  </tbody>\n",
       "</table>\n",
       "</div>"
      ],
      "text/plain": [
       "  First Major Category class_type  grade_code   z_score\n",
       "0          Engineering        MTH    1.941007 -0.371859\n",
       "1          Engineering        PHY    2.678205 -0.353085\n",
       "2             Non STEM        MTH    2.422397 -0.016008\n",
       "3             Non STEM        PHY    3.076327  0.114111\n",
       "4           Other STEM        MTH    2.517241 -0.022046\n",
       "5           Other STEM        PHY    3.073359  0.084151\n",
       "6              Physics        MTH    2.540452  0.057620\n",
       "7              Physics        PHY    3.150823  0.186090"
      ]
     },
     "execution_count": 82,
     "metadata": {},
     "output_type": "execute_result"
    }
   ],
   "source": [
    "physmajors_avg"
   ]
  },
  {
   "cell_type": "code",
   "execution_count": 83,
   "metadata": {
    "collapsed": false
   },
   "outputs": [
    {
     "data": {
      "text/plain": [
       "Graduating Major Category\n",
       "Engineering    [978968BC-95A6-467D-8078-36F45D7D61EE, 980EB1A...\n",
       "Non STEM       [982072E3-5814-4391-8DE1-1D040E9364DA, 9D5E9FC...\n",
       "Other STEM     [9B3C4A04-0D14-4AFB-981A-D9D1C7C3AB04, 960E314...\n",
       "Physics        [9A0C1927-4A3D-45FA-84FD-3D1A6BA7238C, 9ABBA31...\n",
       "Name: PlaceholderID, dtype: object"
      ]
     },
     "execution_count": 83,
     "metadata": {},
     "output_type": "execute_result"
    }
   ],
   "source": [
    "z_score[z_score['Physics major at one time']=='Y'].groupby('Graduating Major Category')['PlaceholderID'].unique()"
   ]
  },
  {
   "cell_type": "code",
   "execution_count": 84,
   "metadata": {
    "collapsed": false
   },
   "outputs": [
    {
     "name": "stdout",
     "output_type": "stream",
     "text": [
      "374\n",
      "134\n",
      "202\n",
      "369\n"
     ]
    }
   ],
   "source": [
    "for x in z_score[z_score['Physics major at one time']=='Y'].groupby('Graduating Major Category')['PlaceholderID'].unique():\n",
    "    print(len(x))"
   ]
  },
  {
   "cell_type": "code",
   "execution_count": 85,
   "metadata": {
    "collapsed": false
   },
   "outputs": [
    {
     "data": {
      "text/plain": [
       "First Major Category\n",
       "Engineering    [9A0C1927-4A3D-45FA-84FD-3D1A6BA7238C, 8B6607B...\n",
       "Non STEM       [9ABBA315-1126-4341-94B2-3444F04AD596, 8F09CF8...\n",
       "Other STEM     [9B4E81F9-286C-4344-948F-322C6FE1E610, 9CCCAC2...\n",
       "Physics        [9BC56BCC-0C6A-44FB-B7C7-36BB699B8DED, 9DDB14F...\n",
       "Name: PlaceholderID, dtype: object"
      ]
     },
     "execution_count": 85,
     "metadata": {},
     "output_type": "execute_result"
    }
   ],
   "source": [
    "z_score[z_score['Graduating Major Category']=='Physics'].groupby('First Major Category')['PlaceholderID'].unique()"
   ]
  },
  {
   "cell_type": "code",
   "execution_count": 86,
   "metadata": {
    "collapsed": false
   },
   "outputs": [
    {
     "data": {
      "text/plain": [
       "[44, 73, 28, 224]"
      ]
     },
     "execution_count": 86,
     "metadata": {},
     "output_type": "execute_result"
    }
   ],
   "source": [
    "[len(x) for x in z_score[z_score['Graduating Major Category']=='Physics'].groupby('First Major Category')['PlaceholderID'].unique()]"
   ]
  },
  {
   "cell_type": "code",
   "execution_count": 87,
   "metadata": {
    "collapsed": false
   },
   "outputs": [],
   "source": [
    "physmajors_sem = physmajors_gb.sem().reset_index()[['First Major Category', 'class_type', 'z_score']]"
   ]
  },
  {
   "cell_type": "code",
   "execution_count": 88,
   "metadata": {
    "collapsed": false
   },
   "outputs": [
    {
     "data": {
      "text/html": [
       "<div>\n",
       "<table border=\"1\" class=\"dataframe\">\n",
       "  <thead>\n",
       "    <tr style=\"text-align: right;\">\n",
       "      <th></th>\n",
       "      <th>First Major Category</th>\n",
       "      <th>class_type</th>\n",
       "      <th>z_score</th>\n",
       "    </tr>\n",
       "  </thead>\n",
       "  <tbody>\n",
       "    <tr>\n",
       "      <th>0</th>\n",
       "      <td>Engineering</td>\n",
       "      <td>MTH</td>\n",
       "      <td>0.023644</td>\n",
       "    </tr>\n",
       "    <tr>\n",
       "      <th>1</th>\n",
       "      <td>Engineering</td>\n",
       "      <td>PHY</td>\n",
       "      <td>0.031027</td>\n",
       "    </tr>\n",
       "    <tr>\n",
       "      <th>2</th>\n",
       "      <td>Non STEM</td>\n",
       "      <td>MTH</td>\n",
       "      <td>0.042704</td>\n",
       "    </tr>\n",
       "    <tr>\n",
       "      <th>3</th>\n",
       "      <td>Non STEM</td>\n",
       "      <td>PHY</td>\n",
       "      <td>0.041191</td>\n",
       "    </tr>\n",
       "    <tr>\n",
       "      <th>4</th>\n",
       "      <td>Other STEM</td>\n",
       "      <td>MTH</td>\n",
       "      <td>0.049578</td>\n",
       "    </tr>\n",
       "    <tr>\n",
       "      <th>5</th>\n",
       "      <td>Other STEM</td>\n",
       "      <td>PHY</td>\n",
       "      <td>0.052591</td>\n",
       "    </tr>\n",
       "    <tr>\n",
       "      <th>6</th>\n",
       "      <td>Physics</td>\n",
       "      <td>MTH</td>\n",
       "      <td>0.030031</td>\n",
       "    </tr>\n",
       "    <tr>\n",
       "      <th>7</th>\n",
       "      <td>Physics</td>\n",
       "      <td>PHY</td>\n",
       "      <td>0.027476</td>\n",
       "    </tr>\n",
       "  </tbody>\n",
       "</table>\n",
       "</div>"
      ],
      "text/plain": [
       "  First Major Category class_type   z_score\n",
       "0          Engineering        MTH  0.023644\n",
       "1          Engineering        PHY  0.031027\n",
       "2             Non STEM        MTH  0.042704\n",
       "3             Non STEM        PHY  0.041191\n",
       "4           Other STEM        MTH  0.049578\n",
       "5           Other STEM        PHY  0.052591\n",
       "6              Physics        MTH  0.030031\n",
       "7              Physics        PHY  0.027476"
      ]
     },
     "execution_count": 88,
     "metadata": {},
     "output_type": "execute_result"
    }
   ],
   "source": [
    "physmajors_sem"
   ]
  },
  {
   "cell_type": "code",
   "execution_count": 89,
   "metadata": {
    "collapsed": false
   },
   "outputs": [
    {
     "data": {
      "text/html": [
       "<div>\n",
       "<table border=\"1\" class=\"dataframe\">\n",
       "  <thead>\n",
       "    <tr style=\"text-align: right;\">\n",
       "      <th></th>\n",
       "      <th>First Major Category</th>\n",
       "      <th>class_type</th>\n",
       "      <th>grade_code</th>\n",
       "      <th>z_score</th>\n",
       "    </tr>\n",
       "  </thead>\n",
       "  <tbody>\n",
       "    <tr>\n",
       "      <th>0</th>\n",
       "      <td>Engineering</td>\n",
       "      <td>MTH</td>\n",
       "      <td>1.941007</td>\n",
       "      <td>-0.371859</td>\n",
       "    </tr>\n",
       "    <tr>\n",
       "      <th>2</th>\n",
       "      <td>Non STEM</td>\n",
       "      <td>MTH</td>\n",
       "      <td>2.422397</td>\n",
       "      <td>-0.016008</td>\n",
       "    </tr>\n",
       "    <tr>\n",
       "      <th>4</th>\n",
       "      <td>Other STEM</td>\n",
       "      <td>MTH</td>\n",
       "      <td>2.517241</td>\n",
       "      <td>-0.022046</td>\n",
       "    </tr>\n",
       "    <tr>\n",
       "      <th>6</th>\n",
       "      <td>Physics</td>\n",
       "      <td>MTH</td>\n",
       "      <td>2.540452</td>\n",
       "      <td>0.057620</td>\n",
       "    </tr>\n",
       "  </tbody>\n",
       "</table>\n",
       "</div>"
      ],
      "text/plain": [
       "  First Major Category class_type  grade_code   z_score\n",
       "0          Engineering        MTH    1.941007 -0.371859\n",
       "2             Non STEM        MTH    2.422397 -0.016008\n",
       "4           Other STEM        MTH    2.517241 -0.022046\n",
       "6              Physics        MTH    2.540452  0.057620"
      ]
     },
     "execution_count": 89,
     "metadata": {},
     "output_type": "execute_result"
    }
   ],
   "source": [
    "physmajors_avg[physmajors_avg.class_type=='MTH']"
   ]
  },
  {
   "cell_type": "code",
   "execution_count": 90,
   "metadata": {
    "collapsed": false
   },
   "outputs": [
    {
     "data": {
      "text/html": [
       "<div>\n",
       "<table border=\"1\" class=\"dataframe\">\n",
       "  <thead>\n",
       "    <tr style=\"text-align: right;\">\n",
       "      <th></th>\n",
       "      <th>First Major Category</th>\n",
       "      <th>class_type</th>\n",
       "      <th>grade_code</th>\n",
       "      <th>z_score</th>\n",
       "    </tr>\n",
       "  </thead>\n",
       "  <tbody>\n",
       "    <tr>\n",
       "      <th>1</th>\n",
       "      <td>Engineering</td>\n",
       "      <td>PHY</td>\n",
       "      <td>2.678205</td>\n",
       "      <td>-0.353085</td>\n",
       "    </tr>\n",
       "    <tr>\n",
       "      <th>3</th>\n",
       "      <td>Non STEM</td>\n",
       "      <td>PHY</td>\n",
       "      <td>3.076327</td>\n",
       "      <td>0.114111</td>\n",
       "    </tr>\n",
       "    <tr>\n",
       "      <th>5</th>\n",
       "      <td>Other STEM</td>\n",
       "      <td>PHY</td>\n",
       "      <td>3.073359</td>\n",
       "      <td>0.084151</td>\n",
       "    </tr>\n",
       "    <tr>\n",
       "      <th>7</th>\n",
       "      <td>Physics</td>\n",
       "      <td>PHY</td>\n",
       "      <td>3.150823</td>\n",
       "      <td>0.186090</td>\n",
       "    </tr>\n",
       "  </tbody>\n",
       "</table>\n",
       "</div>"
      ],
      "text/plain": [
       "  First Major Category class_type  grade_code   z_score\n",
       "1          Engineering        PHY    2.678205 -0.353085\n",
       "3             Non STEM        PHY    3.076327  0.114111\n",
       "5           Other STEM        PHY    3.073359  0.084151\n",
       "7              Physics        PHY    3.150823  0.186090"
      ]
     },
     "execution_count": 90,
     "metadata": {},
     "output_type": "execute_result"
    }
   ],
   "source": [
    "physmajors_avg[physmajors_avg.class_type=='PHY']"
   ]
  },
  {
   "cell_type": "code",
   "execution_count": 91,
   "metadata": {
    "collapsed": false
   },
   "outputs": [
    {
     "data": {
      "text/html": [
       "<div>\n",
       "<table border=\"1\" class=\"dataframe\">\n",
       "  <thead>\n",
       "    <tr style=\"text-align: right;\">\n",
       "      <th></th>\n",
       "      <th>category</th>\n",
       "      <th>n</th>\n",
       "      <th>x</th>\n",
       "      <th>y</th>\n",
       "    </tr>\n",
       "  </thead>\n",
       "  <tbody>\n",
       "    <tr>\n",
       "      <th>0</th>\n",
       "      <td>Engineering</td>\n",
       "      <td>44</td>\n",
       "      <td>-0.371859</td>\n",
       "      <td>-0.353085</td>\n",
       "    </tr>\n",
       "    <tr>\n",
       "      <th>1</th>\n",
       "      <td>Non STEM</td>\n",
       "      <td>73</td>\n",
       "      <td>-0.016008</td>\n",
       "      <td>0.114111</td>\n",
       "    </tr>\n",
       "    <tr>\n",
       "      <th>2</th>\n",
       "      <td>Other STEM</td>\n",
       "      <td>28</td>\n",
       "      <td>-0.022046</td>\n",
       "      <td>0.084151</td>\n",
       "    </tr>\n",
       "    <tr>\n",
       "      <th>3</th>\n",
       "      <td>Physics</td>\n",
       "      <td>224</td>\n",
       "      <td>0.057620</td>\n",
       "      <td>0.186090</td>\n",
       "    </tr>\n",
       "  </tbody>\n",
       "</table>\n",
       "</div>"
      ],
      "text/plain": [
       "      category    n         x         y\n",
       "0  Engineering   44 -0.371859 -0.353085\n",
       "1     Non STEM   73 -0.016008  0.114111\n",
       "2   Other STEM   28 -0.022046  0.084151\n",
       "3      Physics  224  0.057620  0.186090"
      ]
     },
     "execution_count": 91,
     "metadata": {},
     "output_type": "execute_result"
    }
   ],
   "source": [
    "labels = pd.DataFrame({'category':physmajors_avg[physmajors_avg.class_type=='PHY']['First Major Category'].values\n",
    "                      ,'y':physmajors_avg[physmajors_avg.class_type=='PHY']['z_score'].values\n",
    "                     ,'x':physmajors_avg[physmajors_avg.class_type=='MTH']['z_score'].values\n",
    "                     ,'n':[len(x) for x in z_score[z_score['Graduating Major Category']=='Physics'].groupby('First Major Category')['PlaceholderID'].unique()]})\n",
    "labels"
   ]
  },
  {
   "cell_type": "code",
   "execution_count": 92,
   "metadata": {
    "collapsed": false
   },
   "outputs": [
    {
     "data": {
      "image/png": "[encoded data removed]",
      "text/plain": [
       "<matplotlib.figure.Figure at 0xc7ac588>"
      ]
     },
     "metadata": {},
     "output_type": "display_data"
    }
   ],
   "source": [
    "fig, ax = plt.subplots(1, figsize=(8,8))\n",
    "\n",
    "ax.errorbar(physmajors_avg[physmajors_avg.class_type=='MTH'].z_score.values\n",
    "        , physmajors_avg[physmajors_avg.class_type=='PHY'].z_score.values\n",
    "       , linestyle='', marker='o'\n",
    "       , xerr=physmajors_sem[physmajors_sem.class_type=='MTH'].z_score.values\n",
    "           , yerr=physmajors_sem[physmajors_sem.class_type=='PHY'].z_score.values\n",
    "           , color='crimson', markersize=15)\n",
    "\n",
    "ax.plot([-0.8,0.8], [-0.8,0.8], alpha=0.25)\n",
    "\n",
    "ax.plot([0,0], [-0.8, 0.8], linestyle='--', color='black', alpha=0.5, linewidth=2)\n",
    "ax.plot([-0.8, 0.8], [0,0], linestyle='--', color='black', alpha=0.5, linewidth=2)\n",
    "\n",
    "ax.set_xlim(-0.7, 0.7)\n",
    "ax.set_ylim(-0.7, 0.7)\n",
    "ax.grid(True)\n",
    "\n",
    "ax.set_xlabel('Math', fontsize=14)\n",
    "ax.set_ylabel('Physics', fontsize=14)\n",
    "ax.set_title('Average Z-scores (physics graduates only)', fontsize=14)\n",
    "\n",
    "for n, label in enumerate(labels.values):\n",
    "    if n >= 2:\n",
    "        offset = -0.4\n",
    "    else:\n",
    "        offset = 0.05\n",
    "    ax.text(s=label[0]+' (N={n})'.format(n=label[1]), x=label[2]+offset, y=label[3]-0.01, fontsize=12)\n",
    "ax.text(x=-0.59, y=0.53, s='(b)', fontsize=24)\n",
    "fig.savefig('z_physics_grads_only.pdf', bbox_inches='tight')"
   ]
  },
  {
   "cell_type": "code",
   "execution_count": null,
   "metadata": {
    "collapsed": true
   },
   "outputs": [],
   "source": []
  },
  {
   "cell_type": "code",
   "execution_count": null,
   "metadata": {
    "collapsed": true
   },
   "outputs": [],
   "source": []
  },
  {
   "cell_type": "code",
   "execution_count": 93,
   "metadata": {
    "collapsed": false
   },
   "outputs": [],
   "source": [
    "course_mean = z_score.groupby(['Graduating Major Category', 'Physics major at one time', 'course_id']).z_score.mean()\n",
    "course_count = z_score.groupby(['Graduating Major Category', 'Physics major at one time', 'course_id']).z_score.count()\n",
    "course_stdev = z_score.groupby(['Graduating Major Category', 'Physics major at one time', 'course_id']).z_score.std()\n",
    "course_sem = z_score.groupby(['Graduating Major Category', 'Physics major at one time', 'course_id']).z_score.sem()"
   ]
  },
  {
   "cell_type": "code",
   "execution_count": 94,
   "metadata": {
    "collapsed": false
   },
   "outputs": [],
   "source": [
    "course_mean = course_mean.reset_index().join(course_count.reset_index(), rsuffix=' 1')\n",
    "course_mean = course_mean.reset_index().join(course_stdev.reset_index(), rsuffix=' 2')\n",
    "course_mean = course_mean.reset_index().join(course_sem.reset_index(), rsuffix=' 3')"
   ]
  },
  {
   "cell_type": "code",
   "execution_count": 95,
   "metadata": {
    "collapsed": false
   },
   "outputs": [],
   "source": [
    "course_mean = course_mean[['Graduating Major Category', 'Physics major at one time', 'course_id', 'z_score'\n",
    "                          ,'z_score 1', 'z_score 2', 'z_score 3']]"
   ]
  },
  {
   "cell_type": "code",
   "execution_count": 96,
   "metadata": {
    "collapsed": false
   },
   "outputs": [],
   "source": [
    "course_mean.columns =['category', 'physics_major', 'course_id', 'z_score', 'cnt', 'stdev', 'error']"
   ]
  },
  {
   "cell_type": "code",
   "execution_count": 97,
   "metadata": {
    "collapsed": false
   },
   "outputs": [],
   "source": [
    "course_y = course_mean[course_mean.physics_major=='Y']\n",
    "course_n = course_mean[course_mean.physics_major=='N']"
   ]
  },
  {
   "cell_type": "code",
   "execution_count": 98,
   "metadata": {
    "collapsed": false
   },
   "outputs": [
    {
     "name": "stderr",
     "output_type": "stream",
     "text": [
      "C:\\Anaconda3\\lib\\site-packages\\ipykernel\\__main__.py:1: SettingWithCopyWarning: \n",
      "A value is trying to be set on a copy of a slice from a DataFrame\n",
      "\n",
      "See the caveats in the documentation: http://pandas.pydata.org/pandas-docs/stable/indexing.html#indexing-view-versus-copy\n",
      "  if __name__ == '__main__':\n"
     ]
    }
   ],
   "source": [
    "course_y.sort_values(by=['course_id', 'category'], inplace=True)\n",
    "course_y.index = [x for x in range(len(course_y))]"
   ]
  },
  {
   "cell_type": "code",
   "execution_count": 99,
   "metadata": {
    "collapsed": false
   },
   "outputs": [
    {
     "ename": "NameError",
     "evalue": "name 'data' is not defined",
     "output_type": "error",
     "traceback": [
      "\u001b[1;31m---------------------------------------------------------------------------\u001b[0m",
      "\u001b[1;31mNameError\u001b[0m                                 Traceback (most recent call last)",
      "\u001b[1;32m<ipython-input-99-79525b56a256>\u001b[0m in \u001b[0;36m<module>\u001b[1;34m()\u001b[0m\n\u001b[1;32m----> 1\u001b[1;33m \u001b[0mx\u001b[0m \u001b[1;33m=\u001b[0m \u001b[1;33m(\u001b[0m\u001b[0mdata\u001b[0m\u001b[1;33m.\u001b[0m\u001b[0mz_score\u001b[0m\u001b[1;33m.\u001b[0m\u001b[0mvalues\u001b[0m \u001b[1;33m-\u001b[0m \u001b[0mdata\u001b[0m\u001b[1;33m.\u001b[0m\u001b[0merror\u001b[0m\u001b[1;33m.\u001b[0m\u001b[0mvalues\u001b[0m\u001b[1;33m,\u001b[0m \u001b[0mdata\u001b[0m\u001b[1;33m.\u001b[0m\u001b[0mz_score\u001b[0m\u001b[1;33m.\u001b[0m\u001b[0mvalues\u001b[0m \u001b[1;33m+\u001b[0m \u001b[0mdata\u001b[0m\u001b[1;33m.\u001b[0m\u001b[0merror\u001b[0m\u001b[1;33m.\u001b[0m\u001b[0mvalues\u001b[0m\u001b[1;33m)\u001b[0m\u001b[1;33m\u001b[0m\u001b[0m\n\u001b[0m",
      "\u001b[1;31mNameError\u001b[0m: name 'data' is not defined"
     ]
    }
   ],
   "source": [
    "x = (data.z_score.values - data.error.values, data.z_score.values + data.error.values)"
   ]
  },
  {
   "cell_type": "code",
   "execution_count": null,
   "metadata": {
    "collapsed": false
   },
   "outputs": [],
   "source": [
    "fig, ax1 = plt.subplots(1, figsize=(5,15))\n",
    "\n",
    "yticks=[]\n",
    "\n",
    "ax1.plot([],[], marker='o', linewidth=2, color='violet', label='Engineering')\n",
    "ax1.plot([],[], marker='o', linewidth=2, color='red', label='Non STEM')\n",
    "ax1.plot([],[], marker='o', linewidth=2, color='yellow', label='Other STEM')\n",
    "ax1.plot([],[], marker='o', linewidth=2, color='green', label='Physics')\n",
    "ax1.legend(numpoints=1)\n",
    "\n",
    "for n, id in enumerate(course_ids):\n",
    "\n",
    "    data = course_y[(course_y.course_id == id) & (course_y.category == 'Engineering')]\n",
    "    ax1.plot(data.z_score, data.index, marker='o', color='violet')\n",
    "    x = (data.z_score.values - data.error.values, data.z_score.values + data.error.values)\n",
    "    ax1.plot(x, [data.index, data.index], linewidth=2, color='violet')    \n",
    "    y1 = data.index[0] \n",
    "    \n",
    "    data = course_y[(course_y.course_id == id) & (course_y.category == 'Non STEM')]\n",
    "    ax1.plot(data.z_score, data.index, marker='o', color='red')\n",
    "    x = (data.z_score.values - data.error.values, data.z_score.values + data.error.values)\n",
    "    ax1.plot(x, [data.index, data.index], linewidth=2, color='red')\n",
    "    \n",
    "    data = course_y[(course_y.course_id == id) & (course_y.category == 'Other STEM')]\n",
    "    ax1.plot(data.z_score, data.index, marker='o', color='yellow')\n",
    "    x = (data.z_score.values - data.error.values, data.z_score.values + data.error.values)\n",
    "    ax1.plot(x, [data.index, data.index], linewidth=2, color='yellow')\n",
    "    \n",
    "    data = course_y[(course_y.course_id == id) & (course_y.category == 'Physics')]\n",
    "    ax1.plot(data.z_score, data.index, marker='o', color='green')\n",
    "    x = (data.z_score.values - data.error.values, data.z_score.values + data.error.values)\n",
    "    ax1.plot(x, [data.index, data.index], linewidth=2, color='green')\n",
    "    y2 = data.index[0]\n",
    "    \n",
    "    if n % 2 == 0:\n",
    "        #print(y1,y2)\n",
    "        ax1.axhspan(ymin=y1-0.25, ymax=y2+0.25, facecolor='white', alpha=0.5)\n",
    "        \n",
    "    yticks.append(y1+1.5)\n",
    "    \n",
    "ax1.plot([0,0],[-5,y2+5], color='black', alpha=0.5, linewidth=3, linestyle='--')\n",
    "ax1.set_yticks(yticks)\n",
    "ax1.set_yticklabels(course_ids)\n",
    "ax1.set_title('Physics Declared')"
   ]
  },
  {
   "cell_type": "code",
   "execution_count": null,
   "metadata": {
    "collapsed": false
   },
   "outputs": [],
   "source": [
    "#################################################################\n",
    "################################################################\n",
    "##############################################################\n",
    "fig, ax1 = plt.subplots(1, figsize=(5,15))\n",
    "\n",
    "df = course_n\n",
    "# course_y.sort_values(by=['course_id', 'category'], inplace=True)\n",
    "# course_y.index = [x for x in range(len(course_y))]\n",
    "df.sort_values(by=['course_id', 'category'], inplace=True)\n",
    "df.index = [x for x in range(len(df))]\n",
    "\n",
    "yticks=[]\n",
    "\n",
    "ax1.plot([],[], marker='o', linewidth=2, color='violet', label='Engineering')\n",
    "ax1.plot([],[], marker='o', linewidth=2, color='red', label='Non STEM')\n",
    "ax1.plot([],[], marker='o', linewidth=2, color='yellow', label='Other STEM')\n",
    "#ax1.plot([],[], marker='o', linewidth=2, color='green', label='Physics')\n",
    "ax1.legend(numpoints=1)\n",
    "\n",
    "for n, id in enumerate(course_ids):\n",
    "\n",
    "    data = df[(df.course_id == id) & (df.category == 'Engineering')]\n",
    "    ax1.plot(data.z_score, data.index, marker='o', color='violet')\n",
    "    x = (data.z_score.values - data.error.values, data.z_score.values + data.error.values)\n",
    "    ax1.plot(x, [data.index, data.index], linewidth=2, color='violet')    \n",
    "    y1 = data.index[0] \n",
    "    \n",
    "    data = df[(df.course_id == id) & (df.category == 'Non STEM')]\n",
    "    ax1.plot(data.z_score, data.index, marker='o', color='red')\n",
    "    x = (data.z_score.values - data.error.values, data.z_score.values + data.error.values)\n",
    "    ax1.plot(x, [data.index, data.index], linewidth=2, color='red')\n",
    "    \n",
    "    data = df[(df.course_id == id) & (df.category == 'Other STEM')]\n",
    "    ax1.plot(data.z_score, data.index, marker='o', color='yellow')\n",
    "    x = (data.z_score.values - data.error.values, data.z_score.values + data.error.values)\n",
    "    ax1.plot(x, [data.index, data.index], linewidth=2, color='yellow')\n",
    "    \n",
    "#     data = df[(df.course_id == id) & (df.category == 'Physics')]\n",
    "#     ax1.plot(data.z_score, data.index, marker='o', color='green')\n",
    "#     x = (data.z_score.values - data.error.values, data.z_score.values + data.error.values)\n",
    "#     ax1.plot(x, [data.index, data.index], linewidth=2, color='green')\n",
    "    #y2 = data.index[0]\n",
    "    print(data.index)\n",
    "    y2=data.index[0]\n",
    "    if n % 2 == 0:\n",
    "        #print(y1,y2)\n",
    "        ax1.axhspan(ymin=y1-0.25, ymax=y2+0.25, facecolor='white', alpha=0.5)\n",
    "        \n",
    "    yticks.append(y1+1.5)\n",
    "    \n",
    "ax1.plot([0,0],[0,y2], color='black', alpha=0.5, linewidth=3, linestyle='--')\n",
    "ax1.set_yticks(yticks)\n",
    "ax1.set_yticklabels(course_ids)\n",
    "ax1.set_title('Other Declared')"
   ]
  },
  {
   "cell_type": "code",
   "execution_count": null,
   "metadata": {
    "collapsed": false
   },
   "outputs": [],
   "source": [
    "df"
   ]
  },
  {
   "cell_type": "code",
   "execution_count": null,
   "metadata": {
    "collapsed": true
   },
   "outputs": [],
   "source": []
  },
  {
   "cell_type": "code",
   "execution_count": null,
   "metadata": {
    "collapsed": true
   },
   "outputs": [],
   "source": []
  }
 ],
 "metadata": {
  "kernelspec": {
   "display_name": "Python 3",
   "language": "python",
   "name": "python3"
  },
  "language_info": {
   "codemirror_mode": {
    "name": "ipython",
    "version": 3
   },
   "file_extension": ".py",
   "mimetype": "text/x-python",
   "name": "python",
   "nbconvert_exporter": "python",
   "pygments_lexer": "ipython3",
   "version": "3.4.4"
  }
 },
 "nbformat": 4,
 "nbformat_minor": 0
}
