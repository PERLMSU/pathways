{
 "cells": [
  {
   "cell_type": "code",
   "execution_count": 1,
   "metadata": {
    "collapsed": true
   },
   "outputs": [],
   "source": [
    "%matplotlib inline\n",
    "import pandas as pd"
   ]
  },
  {
   "cell_type": "code",
   "execution_count": 2,
   "metadata": {
    "collapsed": true
   },
   "outputs": [],
   "source": [
    "students = pd.read_excel('data/get_me_working_Demogs_FS01-US16_all.xlsx')"
   ]
  },
  {
   "cell_type": "code",
   "execution_count": 3,
   "metadata": {},
   "outputs": [
    {
     "data": {
      "text/html": [
       "<div>\n",
       "<style>\n",
       "    .dataframe thead tr:only-child th {\n",
       "        text-align: right;\n",
       "    }\n",
       "\n",
       "    .dataframe thead th {\n",
       "        text-align: left;\n",
       "    }\n",
       "\n",
       "    .dataframe tbody tr th {\n",
       "        vertical-align: top;\n",
       "    }\n",
       "</style>\n",
       "<table border=\"1\" class=\"dataframe\">\n",
       "  <thead>\n",
       "    <tr style=\"text-align: right;\">\n",
       "      <th></th>\n",
       "      <th>placeholderID</th>\n",
       "      <th>Gender</th>\n",
       "      <th>Ethnicity</th>\n",
       "      <th>citizenship</th>\n",
       "      <th>First Gen</th>\n",
       "      <th>Pell eligible</th>\n",
       "      <th>permanent ZIP</th>\n",
       "      <th>Entering term code</th>\n",
       "      <th>Entering Term Major code</th>\n",
       "      <th>Entering Term Major Name</th>\n",
       "      <th>...</th>\n",
       "      <th>ap69 Calculus AB Subscore Grade</th>\n",
       "      <th>ap78 physics B</th>\n",
       "      <th>ap80 physics C Mech</th>\n",
       "      <th>ap82 physics C Physics C Electricity &amp; Magnet</th>\n",
       "      <th>ap83 physics 1</th>\n",
       "      <th>ap84 physics 2</th>\n",
       "      <th>Entering Term Major name</th>\n",
       "      <th>Entering_term_major_type</th>\n",
       "      <th>Last_enrolled_major_type</th>\n",
       "      <th>grad_major_type</th>\n",
       "    </tr>\n",
       "  </thead>\n",
       "  <tbody>\n",
       "    <tr>\n",
       "      <th>0</th>\n",
       "      <td>97758DD4-7286-4A19-BA6C-00005FE6CFA3</td>\n",
       "      <td>M</td>\n",
       "      <td>White (non-Hispanic)</td>\n",
       "      <td>US Citizen</td>\n",
       "      <td>N</td>\n",
       "      <td>N</td>\n",
       "      <td>49504</td>\n",
       "      <td>FS98</td>\n",
       "      <td>3784.0</td>\n",
       "      <td>Biological Science Interdept</td>\n",
       "      <td>...</td>\n",
       "      <td>NaN</td>\n",
       "      <td>NaN</td>\n",
       "      <td>NaN</td>\n",
       "      <td>NaN</td>\n",
       "      <td>NaN</td>\n",
       "      <td>NaN</td>\n",
       "      <td>Biological Science Interdept</td>\n",
       "      <td>Other STEM</td>\n",
       "      <td>NaN</td>\n",
       "      <td>NaN</td>\n",
       "    </tr>\n",
       "    <tr>\n",
       "      <th>1</th>\n",
       "      <td>592FB87B-B37F-476D-B7F0-0001F057D6A6</td>\n",
       "      <td>F</td>\n",
       "      <td>White (non-Hispanic)</td>\n",
       "      <td>US Citizen</td>\n",
       "      <td>N</td>\n",
       "      <td>N</td>\n",
       "      <td>22309</td>\n",
       "      <td>FS99</td>\n",
       "      <td>843.0</td>\n",
       "      <td>Music Therapy</td>\n",
       "      <td>...</td>\n",
       "      <td>NaN</td>\n",
       "      <td>NaN</td>\n",
       "      <td>NaN</td>\n",
       "      <td>NaN</td>\n",
       "      <td>NaN</td>\n",
       "      <td>NaN</td>\n",
       "      <td>Music Therapy</td>\n",
       "      <td>non STEM</td>\n",
       "      <td>NaN</td>\n",
       "      <td>NaN</td>\n",
       "    </tr>\n",
       "    <tr>\n",
       "      <th>2</th>\n",
       "      <td>9C41EAAC-FC57-42F9-B53F-000201BE35C3</td>\n",
       "      <td>M</td>\n",
       "      <td>White (non-Hispanic)</td>\n",
       "      <td>US Citizen</td>\n",
       "      <td>N</td>\n",
       "      <td>N</td>\n",
       "      <td>48879</td>\n",
       "      <td>FS05</td>\n",
       "      <td>1069.0</td>\n",
       "      <td>General Business Admin Prelaw</td>\n",
       "      <td>...</td>\n",
       "      <td>NaN</td>\n",
       "      <td>NaN</td>\n",
       "      <td>NaN</td>\n",
       "      <td>NaN</td>\n",
       "      <td>NaN</td>\n",
       "      <td>NaN</td>\n",
       "      <td>General Business Admin Prelaw</td>\n",
       "      <td>non STEM</td>\n",
       "      <td>NaN</td>\n",
       "      <td>NaN</td>\n",
       "    </tr>\n",
       "    <tr>\n",
       "      <th>3</th>\n",
       "      <td>7AED7EC2-ED7F-4FE1-8270-000209CBA389</td>\n",
       "      <td>M</td>\n",
       "      <td>White (non-Hispanic)</td>\n",
       "      <td>US Citizen</td>\n",
       "      <td>N</td>\n",
       "      <td>Y</td>\n",
       "      <td>49341</td>\n",
       "      <td>FS05</td>\n",
       "      <td>5151.0</td>\n",
       "      <td>No Preference</td>\n",
       "      <td>...</td>\n",
       "      <td>NaN</td>\n",
       "      <td>NaN</td>\n",
       "      <td>NaN</td>\n",
       "      <td>NaN</td>\n",
       "      <td>NaN</td>\n",
       "      <td>NaN</td>\n",
       "      <td>No Preference</td>\n",
       "      <td>No Preference</td>\n",
       "      <td>NaN</td>\n",
       "      <td>NaN</td>\n",
       "    </tr>\n",
       "    <tr>\n",
       "      <th>4</th>\n",
       "      <td>3C1C5E03-FA14-4F6A-B0C6-000250988C23</td>\n",
       "      <td>M</td>\n",
       "      <td>White (non-Hispanic)</td>\n",
       "      <td>US Citizen</td>\n",
       "      <td>N</td>\n",
       "      <td>N</td>\n",
       "      <td>48154</td>\n",
       "      <td>FS11</td>\n",
       "      <td>2371.0</td>\n",
       "      <td>Engineering   No Preference</td>\n",
       "      <td>...</td>\n",
       "      <td>NaN</td>\n",
       "      <td>NaN</td>\n",
       "      <td>NaN</td>\n",
       "      <td>NaN</td>\n",
       "      <td>NaN</td>\n",
       "      <td>NaN</td>\n",
       "      <td>Engineering   No Preference</td>\n",
       "      <td>Engineering</td>\n",
       "      <td>NaN</td>\n",
       "      <td>NaN</td>\n",
       "    </tr>\n",
       "  </tbody>\n",
       "</table>\n",
       "<p>5 rows × 35 columns</p>\n",
       "</div>"
      ],
      "text/plain": [
       "                          placeholderID Gender             Ethnicity  \\\n",
       "0  97758DD4-7286-4A19-BA6C-00005FE6CFA3      M  White (non-Hispanic)   \n",
       "1  592FB87B-B37F-476D-B7F0-0001F057D6A6      F  White (non-Hispanic)   \n",
       "2  9C41EAAC-FC57-42F9-B53F-000201BE35C3      M  White (non-Hispanic)   \n",
       "3  7AED7EC2-ED7F-4FE1-8270-000209CBA389      M  White (non-Hispanic)   \n",
       "4  3C1C5E03-FA14-4F6A-B0C6-000250988C23      M  White (non-Hispanic)   \n",
       "\n",
       "  citizenship First Gen Pell eligible permanent ZIP Entering term code  \\\n",
       "0  US Citizen         N             N         49504               FS98   \n",
       "1  US Citizen         N             N         22309               FS99   \n",
       "2  US Citizen         N             N         48879               FS05   \n",
       "3  US Citizen         N             Y         49341               FS05   \n",
       "4  US Citizen         N             N         48154               FS11   \n",
       "\n",
       "   Entering Term Major code        Entering Term Major Name       ...         \\\n",
       "0                    3784.0    Biological Science Interdept       ...          \n",
       "1                     843.0                  Music Therapy        ...          \n",
       "2                    1069.0   General Business Admin Prelaw       ...          \n",
       "3                    5151.0                  No Preference        ...          \n",
       "4                    2371.0     Engineering   No Preference       ...          \n",
       "\n",
       "  ap69 Calculus AB Subscore Grade  ap78 physics B ap80 physics C Mech  \\\n",
       "0                             NaN             NaN                 NaN   \n",
       "1                             NaN             NaN                 NaN   \n",
       "2                             NaN             NaN                 NaN   \n",
       "3                             NaN             NaN                 NaN   \n",
       "4                             NaN             NaN                 NaN   \n",
       "\n",
       "  ap82 physics C Physics C Electricity & Magnet  ap83 physics 1  \\\n",
       "0                                           NaN             NaN   \n",
       "1                                           NaN             NaN   \n",
       "2                                           NaN             NaN   \n",
       "3                                           NaN             NaN   \n",
       "4                                           NaN             NaN   \n",
       "\n",
       "  ap84 physics 2        Entering Term Major name  Entering_term_major_type  \\\n",
       "0            NaN    Biological Science Interdept                Other STEM   \n",
       "1            NaN                  Music Therapy                   non STEM   \n",
       "2            NaN   General Business Admin Prelaw                  non STEM   \n",
       "3            NaN                  No Preference              No Preference   \n",
       "4            NaN     Engineering   No Preference               Engineering   \n",
       "\n",
       "   Last_enrolled_major_type  grad_major_type  \n",
       "0                       NaN              NaN  \n",
       "1                       NaN              NaN  \n",
       "2                       NaN              NaN  \n",
       "3                       NaN              NaN  \n",
       "4                       NaN              NaN  \n",
       "\n",
       "[5 rows x 35 columns]"
      ]
     },
     "execution_count": 3,
     "metadata": {},
     "output_type": "execute_result"
    }
   ],
   "source": [
    "students.head()"
   ]
  },
  {
   "cell_type": "code",
   "execution_count": 4,
   "metadata": {
    "collapsed": true
   },
   "outputs": [],
   "source": [
    "courses1 = pd.read_excel('get_me_working_Classes_FS01-US16_1.xlsx')"
   ]
  },
  {
   "cell_type": "code",
   "execution_count": 5,
   "metadata": {},
   "outputs": [
    {
     "data": {
      "text/html": [
       "<div>\n",
       "<style>\n",
       "    .dataframe thead tr:only-child th {\n",
       "        text-align: right;\n",
       "    }\n",
       "\n",
       "    .dataframe thead th {\n",
       "        text-align: left;\n",
       "    }\n",
       "\n",
       "    .dataframe tbody tr th {\n",
       "        vertical-align: top;\n",
       "    }\n",
       "</style>\n",
       "<table border=\"1\" class=\"dataframe\">\n",
       "  <thead>\n",
       "    <tr style=\"text-align: right;\">\n",
       "      <th></th>\n",
       "      <th>placeholderID</th>\n",
       "      <th>term_seq_id</th>\n",
       "      <th>term_code</th>\n",
       "      <th>subj_code</th>\n",
       "      <th>crse_code</th>\n",
       "      <th>sctn_code</th>\n",
       "      <th>grade_code</th>\n",
       "      <th>repeat_status_flag</th>\n",
       "      <th>major code</th>\n",
       "      <th>major name</th>\n",
       "      <th>major_type</th>\n",
       "      <th>major_name</th>\n",
       "    </tr>\n",
       "  </thead>\n",
       "  <tbody>\n",
       "    <tr>\n",
       "      <th>0</th>\n",
       "      <td>97758DD4-7286-4A19-BA6C-00005FE6CFA3</td>\n",
       "      <td>1014</td>\n",
       "      <td>FS01</td>\n",
       "      <td>PHY</td>\n",
       "      <td>251</td>\n",
       "      <td>24.0</td>\n",
       "      <td>2.5</td>\n",
       "      <td></td>\n",
       "      <td>3611.0</td>\n",
       "      <td>Earth Science</td>\n",
       "      <td>Other STEM</td>\n",
       "      <td>Earth Science</td>\n",
       "    </tr>\n",
       "    <tr>\n",
       "      <th>1</th>\n",
       "      <td>97758DD4-7286-4A19-BA6C-00005FE6CFA3</td>\n",
       "      <td>1016</td>\n",
       "      <td>SS02</td>\n",
       "      <td>MTH</td>\n",
       "      <td>126</td>\n",
       "      <td>5.0</td>\n",
       "      <td>3.0</td>\n",
       "      <td>SR</td>\n",
       "      <td>3611.0</td>\n",
       "      <td>Earth Science</td>\n",
       "      <td>Other STEM</td>\n",
       "      <td>Earth Science</td>\n",
       "    </tr>\n",
       "    <tr>\n",
       "      <th>2</th>\n",
       "      <td>97758DD4-7286-4A19-BA6C-00005FE6CFA3</td>\n",
       "      <td>1016</td>\n",
       "      <td>SS02</td>\n",
       "      <td>PHY</td>\n",
       "      <td>232</td>\n",
       "      <td>1.0</td>\n",
       "      <td>1.0</td>\n",
       "      <td></td>\n",
       "      <td>3611.0</td>\n",
       "      <td>Earth Science</td>\n",
       "      <td>Other STEM</td>\n",
       "      <td>Earth Science</td>\n",
       "    </tr>\n",
       "    <tr>\n",
       "      <th>3</th>\n",
       "      <td>97758DD4-7286-4A19-BA6C-00005FE6CFA3</td>\n",
       "      <td>1016</td>\n",
       "      <td>SS02</td>\n",
       "      <td>PHY</td>\n",
       "      <td>252</td>\n",
       "      <td>20.0</td>\n",
       "      <td>1.5</td>\n",
       "      <td></td>\n",
       "      <td>3611.0</td>\n",
       "      <td>Earth Science</td>\n",
       "      <td>Other STEM</td>\n",
       "      <td>Earth Science</td>\n",
       "    </tr>\n",
       "    <tr>\n",
       "      <th>4</th>\n",
       "      <td>592FB87B-B37F-476D-B7F0-0001F057D6A6</td>\n",
       "      <td>1014</td>\n",
       "      <td>FS01</td>\n",
       "      <td>MTH</td>\n",
       "      <td>110</td>\n",
       "      <td>8.0</td>\n",
       "      <td>2.0</td>\n",
       "      <td></td>\n",
       "      <td>4494.0</td>\n",
       "      <td>Social Work</td>\n",
       "      <td>non STEM</td>\n",
       "      <td>Social Work</td>\n",
       "    </tr>\n",
       "  </tbody>\n",
       "</table>\n",
       "</div>"
      ],
      "text/plain": [
       "                          placeholderID  term_seq_id term_code subj_code  \\\n",
       "0  97758DD4-7286-4A19-BA6C-00005FE6CFA3         1014      FS01       PHY   \n",
       "1  97758DD4-7286-4A19-BA6C-00005FE6CFA3         1016      SS02       MTH   \n",
       "2  97758DD4-7286-4A19-BA6C-00005FE6CFA3         1016      SS02       PHY   \n",
       "3  97758DD4-7286-4A19-BA6C-00005FE6CFA3         1016      SS02       PHY   \n",
       "4  592FB87B-B37F-476D-B7F0-0001F057D6A6         1014      FS01       MTH   \n",
       "\n",
       "  crse_code  sctn_code grade_code repeat_status_flag  major code  \\\n",
       "0       251       24.0        2.5                         3611.0   \n",
       "1       126        5.0        3.0                 SR      3611.0   \n",
       "2       232        1.0        1.0                         3611.0   \n",
       "3       252       20.0        1.5                         3611.0   \n",
       "4       110        8.0        2.0                         4494.0   \n",
       "\n",
       "        major name  major_type       major_name  \n",
       "0   Earth Science   Other STEM   Earth Science   \n",
       "1   Earth Science   Other STEM   Earth Science   \n",
       "2   Earth Science   Other STEM   Earth Science   \n",
       "3   Earth Science   Other STEM   Earth Science   \n",
       "4     Social Work     non STEM     Social Work   "
      ]
     },
     "execution_count": 5,
     "metadata": {},
     "output_type": "execute_result"
    }
   ],
   "source": [
    "courses1.head()"
   ]
  },
  {
   "cell_type": "code",
   "execution_count": 6,
   "metadata": {
    "collapsed": true
   },
   "outputs": [],
   "source": [
    "courses2 = pd.read_excel('get_me_working_Classes_FS01-US16_2.xlsx')"
   ]
  },
  {
   "cell_type": "code",
   "execution_count": 7,
   "metadata": {},
   "outputs": [
    {
     "data": {
      "text/html": [
       "<div>\n",
       "<style>\n",
       "    .dataframe thead tr:only-child th {\n",
       "        text-align: right;\n",
       "    }\n",
       "\n",
       "    .dataframe thead th {\n",
       "        text-align: left;\n",
       "    }\n",
       "\n",
       "    .dataframe tbody tr th {\n",
       "        vertical-align: top;\n",
       "    }\n",
       "</style>\n",
       "<table border=\"1\" class=\"dataframe\">\n",
       "  <thead>\n",
       "    <tr style=\"text-align: right;\">\n",
       "      <th></th>\n",
       "      <th>placeholderID</th>\n",
       "      <th>term_seq_id</th>\n",
       "      <th>term_code</th>\n",
       "      <th>subj_code</th>\n",
       "      <th>crse_code</th>\n",
       "      <th>sctn_code</th>\n",
       "      <th>grade_code</th>\n",
       "      <th>repeat_status_flag</th>\n",
       "      <th>major code</th>\n",
       "      <th>major name</th>\n",
       "      <th>major_type</th>\n",
       "      <th>major_name</th>\n",
       "    </tr>\n",
       "  </thead>\n",
       "  <tbody>\n",
       "    <tr>\n",
       "      <th>0</th>\n",
       "      <td>054161B5-A668-4A93-9D1F-7F81E15EB01C</td>\n",
       "      <td>1104</td>\n",
       "      <td>FS10</td>\n",
       "      <td>MTH</td>\n",
       "      <td>103</td>\n",
       "      <td>13.0</td>\n",
       "      <td>3.5</td>\n",
       "      <td></td>\n",
       "      <td>2350.0</td>\n",
       "      <td>Electrical Engineering</td>\n",
       "      <td>Engineering</td>\n",
       "      <td>Electrical Engineering</td>\n",
       "    </tr>\n",
       "    <tr>\n",
       "      <th>1</th>\n",
       "      <td>054161B5-A668-4A93-9D1F-7F81E15EB01C</td>\n",
       "      <td>1106</td>\n",
       "      <td>SS11</td>\n",
       "      <td>MTH</td>\n",
       "      <td>114</td>\n",
       "      <td>2.0</td>\n",
       "      <td>3.0</td>\n",
       "      <td></td>\n",
       "      <td>2350.0</td>\n",
       "      <td>Electrical Engineering</td>\n",
       "      <td>Engineering</td>\n",
       "      <td>Electrical Engineering</td>\n",
       "    </tr>\n",
       "    <tr>\n",
       "      <th>2</th>\n",
       "      <td>054161B5-A668-4A93-9D1F-7F81E15EB01C</td>\n",
       "      <td>1114</td>\n",
       "      <td>FS11</td>\n",
       "      <td>MTH</td>\n",
       "      <td>132</td>\n",
       "      <td>2.0</td>\n",
       "      <td>2.5</td>\n",
       "      <td></td>\n",
       "      <td>2350.0</td>\n",
       "      <td>Electrical Engineering</td>\n",
       "      <td>Engineering</td>\n",
       "      <td>Electrical Engineering</td>\n",
       "    </tr>\n",
       "    <tr>\n",
       "      <th>3</th>\n",
       "      <td>054161B5-A668-4A93-9D1F-7F81E15EB01C</td>\n",
       "      <td>1116</td>\n",
       "      <td>SS12</td>\n",
       "      <td>MTH</td>\n",
       "      <td>133</td>\n",
       "      <td>6.0</td>\n",
       "      <td>1.0</td>\n",
       "      <td>PR</td>\n",
       "      <td>2350.0</td>\n",
       "      <td>Electrical Engineering</td>\n",
       "      <td>Engineering</td>\n",
       "      <td>Electrical Engineering</td>\n",
       "    </tr>\n",
       "    <tr>\n",
       "      <th>4</th>\n",
       "      <td>054161B5-A668-4A93-9D1F-7F81E15EB01C</td>\n",
       "      <td>1116</td>\n",
       "      <td>SS12</td>\n",
       "      <td>PHY</td>\n",
       "      <td>183</td>\n",
       "      <td>2.0</td>\n",
       "      <td>2.5</td>\n",
       "      <td></td>\n",
       "      <td>2350.0</td>\n",
       "      <td>Electrical Engineering</td>\n",
       "      <td>Engineering</td>\n",
       "      <td>Electrical Engineering</td>\n",
       "    </tr>\n",
       "  </tbody>\n",
       "</table>\n",
       "</div>"
      ],
      "text/plain": [
       "                          placeholderID  term_seq_id term_code subj_code  \\\n",
       "0  054161B5-A668-4A93-9D1F-7F81E15EB01C         1104      FS10       MTH   \n",
       "1  054161B5-A668-4A93-9D1F-7F81E15EB01C         1106      SS11       MTH   \n",
       "2  054161B5-A668-4A93-9D1F-7F81E15EB01C         1114      FS11       MTH   \n",
       "3  054161B5-A668-4A93-9D1F-7F81E15EB01C         1116      SS12       MTH   \n",
       "4  054161B5-A668-4A93-9D1F-7F81E15EB01C         1116      SS12       PHY   \n",
       "\n",
       "  crse_code  sctn_code grade_code repeat_status_flag  major code  \\\n",
       "0       103       13.0        3.5                         2350.0   \n",
       "1       114        2.0        3.0                         2350.0   \n",
       "2       132        2.0        2.5                         2350.0   \n",
       "3       133        6.0        1.0                 PR      2350.0   \n",
       "4       183        2.0        2.5                         2350.0   \n",
       "\n",
       "                 major name   major_type                major_name  \n",
       "0   Electrical Engineering   Engineering   Electrical Engineering   \n",
       "1   Electrical Engineering   Engineering   Electrical Engineering   \n",
       "2   Electrical Engineering   Engineering   Electrical Engineering   \n",
       "3   Electrical Engineering   Engineering   Electrical Engineering   \n",
       "4   Electrical Engineering   Engineering   Electrical Engineering   "
      ]
     },
     "execution_count": 7,
     "metadata": {},
     "output_type": "execute_result"
    }
   ],
   "source": [
    "courses2.head()"
   ]
  },
  {
   "cell_type": "code",
   "execution_count": 8,
   "metadata": {
    "collapsed": true
   },
   "outputs": [],
   "source": [
    "courses = pd.concat([courses1, courses2])"
   ]
  },
  {
   "cell_type": "code",
   "execution_count": 11,
   "metadata": {},
   "outputs": [
    {
     "data": {
      "text/plain": [
       "placeholderID                                    158134\n",
       "Gender                                           158134\n",
       "Ethnicity                                        158134\n",
       "citizenship                                      158134\n",
       "First Gen                                        158134\n",
       "Pell eligible                                    157867\n",
       "permanent ZIP                                    116517\n",
       "Entering term code                               156484\n",
       "Entering Term Major code                         156484\n",
       "Entering Term Major Name                         157296\n",
       "last enrolled term                               156484\n",
       "Last enrolled major code                         156484\n",
       "Last enrolled major name                         156484\n",
       "grad term                                         96867\n",
       "grad major code                                   96867\n",
       "grad major name                                  127158\n",
       "other awards                                      24844\n",
       "ACT_ENGL                                         120951\n",
       "ACT_MATH                                         120951\n",
       "ACT_READ                                         120949\n",
       "ACT_SCI                                          120951\n",
       "ACT_COMP                                         120951\n",
       "ACT_EW                                           104181\n",
       "ap66 calculus AB                                  16937\n",
       "ap68 calculus BC                                   4986\n",
       "ap69 Calculus AB Subscore Grade                    4936\n",
       "ap78 physics B                                     2219\n",
       "ap80 physics C Mech                                2489\n",
       "ap82 physics C Physics C Electricity & Magnet       960\n",
       "ap83 physics 1                                      384\n",
       "ap84 physics 2                                       74\n",
       "Entering Term Major name                         157296\n",
       "Entering_term_major_type                          79188\n",
       "Last_enrolled_major_type                             25\n",
       "grad_major_type                                   47865\n",
       "dtype: int64"
      ]
     },
     "execution_count": 11,
     "metadata": {},
     "output_type": "execute_result"
    }
   ],
   "source": [
    "students.count()\n",
    "# drop everyone who doesn't graduate\n",
    "# drop everyone who was never a physics major"
   ]
  },
  {
   "cell_type": "code",
   "execution_count": 19,
   "metadata": {},
   "outputs": [],
   "source": [
    "students_drop = students.dropna(subset=['grad_major_type'])"
   ]
  },
  {
   "cell_type": "code",
   "execution_count": 60,
   "metadata": {},
   "outputs": [],
   "source": [
    "# drop all students who started prior to 2001\n",
    "# Y2k is a bitch\n",
    "\n",
    "students_drop = students_drop[students_drop['Entering term code'].isin(['FS01', 'FS02', 'SS03', 'US02', 'FS03', 'SS04', 'SS11', 'SS02',\n",
    "       'FS05', 'SS06', 'FS04', 'SS05', 'FS07', 'US03', 'US01', 'FS09',\n",
    "       'SS10', 'SS12', 'SS13', 'FS06', 'US07', 'FS08', 'US09', 'FS10',\n",
    "       'FS11', 'US12', 'US05', 'SS09', 'US04', 'SS07', 'SS08', 'US08',\n",
    "       'FS12', 'US14', 'US10', 'US11', 'US13', 'FS13', 'SS14', 'FS14',\n",
    "       'SS16', 'SS15', 'FS16', 'US06', 'FS15', 'US15', 'US16'])]"
   ]
  },
  {
   "cell_type": "code",
   "execution_count": 61,
   "metadata": {},
   "outputs": [],
   "source": [
    "df = pd.merge(left=students_drop, right=courses, on='placeholderID')"
   ]
  },
  {
   "cell_type": "code",
   "execution_count": 62,
   "metadata": {},
   "outputs": [
    {
     "data": {
      "text/plain": [
       "Index(['placeholderID', 'Gender', 'Ethnicity', 'citizenship', 'First Gen',\n",
       "       'Pell eligible', 'permanent ZIP', 'Entering term code',\n",
       "       'Entering Term Major code', 'Entering Term Major Name',\n",
       "       'last enrolled term', 'Last enrolled major code',\n",
       "       'Last enrolled major name', 'grad term', 'grad major code',\n",
       "       'grad major name', 'other awards', 'ACT_ENGL', 'ACT_MATH', 'ACT_READ',\n",
       "       'ACT_SCI', 'ACT_COMP', 'ACT_EW', 'ap66 calculus AB', 'ap68 calculus BC',\n",
       "       'ap69 Calculus AB Subscore Grade', 'ap78 physics B',\n",
       "       'ap80 physics C Mech', 'ap82 physics C Physics C Electricity & Magnet',\n",
       "       'ap83 physics 1', 'ap84 physics 2', 'Entering Term Major name',\n",
       "       'Entering_term_major_type', 'Last_enrolled_major_type',\n",
       "       'grad_major_type', 'term_seq_id', 'term_code', 'subj_code', 'crse_code',\n",
       "       'sctn_code', 'grade_code', 'repeat_status_flag', 'major code',\n",
       "       'major name', 'major_type', 'major_name'],\n",
       "      dtype='object')"
      ]
     },
     "execution_count": 62,
     "metadata": {},
     "output_type": "execute_result"
    }
   ],
   "source": [
    "df.columns"
   ]
  },
  {
   "cell_type": "code",
   "execution_count": 63,
   "metadata": {
    "collapsed": true
   },
   "outputs": [],
   "source": [
    "df = df[['placeholderID', 'Gender', 'Ethnicity', 'citizenship', 'First Gen',\n",
    "       'Pell eligible', 'Entering term code',\n",
    "       'Entering Term Major code', 'Entering Term Major Name',\n",
    "       'last enrolled term', 'Last enrolled major code',\n",
    "       'Last enrolled major name', 'grad term', 'grad major code',\n",
    "       'grad major name', 'Entering Term Major name',\n",
    "       'Entering_term_major_type', 'Last_enrolled_major_type',\n",
    "       'grad_major_type', 'term_seq_id', 'term_code', 'subj_code', 'crse_code',\n",
    "       'sctn_code', 'grade_code', 'repeat_status_flag', 'major code',\n",
    "       'major name', 'major_type', 'major_name']]"
   ]
  },
  {
   "cell_type": "code",
   "execution_count": 64,
   "metadata": {
    "scrolled": true
   },
   "outputs": [
    {
     "data": {
      "text/plain": [
       "array(['FS01', 'FS02', 'SS03', 'US02', 'FS03', 'SS04', 'SS11', 'SS02',\n",
       "       'FS05', 'SS06', 'FS04', 'SS05', 'FS07', 'US03', 'US01', 'FS09',\n",
       "       'SS10', 'SS12', 'SS13', 'FS06', 'US07', 'FS08', 'US09', 'FS10',\n",
       "       'FS11', 'US12', 'US05', 'SS09', 'US04', 'SS07', 'SS08', 'US08',\n",
       "       'FS12', 'US14', 'US10', 'US11', 'US13', 'FS13', 'SS14', 'FS14',\n",
       "       'SS16', 'SS15', 'FS16', 'US06', 'FS15', 'US15', 'US16'], dtype=object)"
      ]
     },
     "execution_count": 64,
     "metadata": {},
     "output_type": "execute_result"
    }
   ],
   "source": [
    "df['term_code'].unique()"
   ]
  },
  {
   "cell_type": "code",
   "execution_count": 65,
   "metadata": {},
   "outputs": [
    {
     "name": "stdout",
     "output_type": "stream",
     "text": [
      "2001-3\n"
     ]
    }
   ],
   "source": [
    "def convert_term_code(term_code):\n",
    "    \"\"\"\n",
    "    converts msu termcodes from string format to decimal format\n",
    "    \"\"\"\n",
    "    semester_codes = {'SS':1, 'US':2, 'FS':3}\n",
    "    \n",
    "    semester = term_code[0:2]\n",
    "    year = int(term_code[2:4]) + 2000\n",
    "\n",
    "    semester_index = semester_codes[semester]\n",
    "    \n",
    "    return year, semester_index\n",
    "\n",
    "for code in df['term_code'].unique():\n",
    "    print('-'.join([str(c) for c in convert_term_code(code)]))\n",
    "    break"
   ]
  },
  {
   "cell_type": "code",
   "execution_count": 72,
   "metadata": {},
   "outputs": [
    {
     "data": {
      "text/plain": [
       "(2001, 3)"
      ]
     },
     "execution_count": 72,
     "metadata": {},
     "output_type": "execute_result"
    }
   ],
   "source": [
    "df['Entering term code'].apply(convert_term_code)[0]"
   ]
  },
  {
   "cell_type": "code",
   "execution_count": 75,
   "metadata": {},
   "outputs": [
    {
     "data": {
      "text/plain": [
       "(2001, 3)"
      ]
     },
     "execution_count": 75,
     "metadata": {},
     "output_type": "execute_result"
    }
   ],
   "source": [
    "df['term_code'].apply(convert_term_code)[0]"
   ]
  },
  {
   "cell_type": "code",
   "execution_count": 87,
   "metadata": {
    "scrolled": false
   },
   "outputs": [
    {
     "data": {
      "text/plain": [
       "34"
      ]
     },
     "execution_count": 87,
     "metadata": {},
     "output_type": "execute_result"
    }
   ],
   "source": [
    "def current_term_index(current_term, first_term):\n",
    "    \"\"\"\n",
    "    returns the number of terms since student first enrolled.\n",
    "    \"\"\"\n",
    "    ft_year = first_term[0]\n",
    "    ft_semester = first_term[1]\n",
    "    ct_year = current_term[0]\n",
    "    ct_semester = current_term[1]\n",
    "    \n",
    "    year_diff =  3*(ct_year - ft_year)\n",
    "    semester_diff = ct_semester - ft_semester\n",
    "    return year_diff + semester_diff\n",
    "    \n",
    "current_term_index((2012,3), (2001,2))"
   ]
  },
  {
   "cell_type": "code",
   "execution_count": 67,
   "metadata": {
    "scrolled": true
   },
   "outputs": [
    {
     "data": {
      "text/plain": [
       "array(['FS01', 'FS02', 'FS04', 'FS03', 'FS09', 'FS06', 'FS10', 'FS05',\n",
       "       'FS08', 'FS12', 'FS11', 'FS13', 'SS03', 'FS07', 'SS09', 'SS10',\n",
       "       'SS14', 'SS11', 'SS12', 'FS14', 'SS08', 'US11', 'US07', 'SS04',\n",
       "       'SS07', 'SS05', 'SS06', 'US12', 'SS13', 'US01', 'US09', 'SS02',\n",
       "       'US08', 'US14', 'US04', 'US13', 'US02', 'US10', 'US03', 'US06',\n",
       "       'SS15', 'US15', 'US05', 'FS15', 'US16'], dtype=object)"
      ]
     },
     "execution_count": 67,
     "metadata": {},
     "output_type": "execute_result"
    }
   ],
   "source": [
    "df['Entering term code'].unique()"
   ]
  },
  {
   "cell_type": "code",
   "execution_count": 107,
   "metadata": {},
   "outputs": [
    {
     "data": {
      "text/plain": [
       "placeholderID               B706976A-4920-4605-BA1E-8187D9865EB2\n",
       "Gender                                                         F\n",
       "Ethnicity                                   White (non-Hispanic)\n",
       "citizenship                                           US Citizen\n",
       "First Gen                                                      N\n",
       "Pell eligible                                                  N\n",
       "Entering term code                                          FS09\n",
       "Entering Term Major code                                    4731\n",
       "Entering Term Major Name                                    4731\n",
       "last enrolled term                                          4731\n",
       "Last enrolled major code                                    4731\n",
       "Last enrolled major name                                    4731\n",
       "grad term                                                   SS12\n",
       "grad major code                                             1267\n",
       "grad major name                                         Finance \n",
       "Entering Term Major name                                    4731\n",
       "Entering_term_major_type                                     NaN\n",
       "Last_enrolled_major_type                                     NaN\n",
       "grad_major_type                                       Other STEM\n",
       "term_seq_id                                                 1084\n",
       "term_code                                                   FS08\n",
       "subj_code                                                    MTH\n",
       "crse_code                                                    110\n",
       "sctn_code                                                    NaN\n",
       "grade_code                                                    WV\n",
       "repeat_status_flag                                           NaN\n",
       "major code                                                  4731\n",
       "major name                                            Economics \n",
       "major_type                                              non STEM\n",
       "major_name                                            Economics \n",
       "Name: 97, dtype: object"
      ]
     },
     "execution_count": 107,
     "metadata": {},
     "output_type": "execute_result"
    }
   ],
   "source": [
    "df.loc[97]"
   ]
  },
  {
   "cell_type": "code",
   "execution_count": 95,
   "metadata": {},
   "outputs": [],
   "source": [
    "semester_index = df.apply(lambda row: current_term_index(convert_term_code(row['term_code']), convert_term_code(row['Entering term code'])), axis=1)"
   ]
  },
  {
   "cell_type": "code",
   "execution_count": 109,
   "metadata": {},
   "outputs": [],
   "source": [
    "df['semester_index'] = semester_index"
   ]
  },
  {
   "cell_type": "code",
   "execution_count": 134,
   "metadata": {
    "collapsed": true
   },
   "outputs": [],
   "source": [
    "import numpy as np"
   ]
  },
  {
   "cell_type": "code",
   "execution_count": 136,
   "metadata": {},
   "outputs": [],
   "source": [
    "df_datas = df[df.semester_index.between(0, 4)].pivot_table(index='placeholderID', columns='semester_index', values='major_type', aggfunc=np.max)"
   ]
  },
  {
   "cell_type": "code",
   "execution_count": 137,
   "metadata": {
    "collapsed": true
   },
   "outputs": [],
   "source": [
    "df_datas.to_csv('data/alluvial_test.csv', index=False)"
   ]
  },
  {
   "cell_type": "code",
   "execution_count": null,
   "metadata": {
    "collapsed": true
   },
   "outputs": [],
   "source": []
  }
 ],
 "metadata": {
  "kernelspec": {
   "display_name": "Python 3",
   "language": "python",
   "name": "python3"
  },
  "language_info": {
   "codemirror_mode": {
    "name": "ipython",
    "version": 3
   },
   "file_extension": ".py",
   "mimetype": "text/x-python",
   "name": "python",
   "nbconvert_exporter": "python",
   "pygments_lexer": "ipython3",
   "version": "3.5.4"
  }
 },
 "nbformat": 4,
 "nbformat_minor": 2
}
