{
 "cells": [
  {
   "cell_type": "code",
   "execution_count": 1,
   "metadata": {
    "collapsed": true
   },
   "outputs": [],
   "source": [
    "%matplotlib inline\n",
    "import pandas as pd\n",
    "import matplotlib.pyplot as plt\n",
    "import numpy as np"
   ]
  },
  {
   "cell_type": "code",
   "execution_count": 3,
   "metadata": {},
   "outputs": [],
   "source": [
    "# df = pd.read_csv('working_raw_data.csv')\n",
    "df = pd.read_excel('data/61331_Demogs_FS01-US16_all.xlsx')"
   ]
  },
  {
   "cell_type": "code",
   "execution_count": 4,
   "metadata": {},
   "outputs": [
    {
     "data": {
      "text/plain": [
       "Index(['placeholderID', 'Gender', 'Ethnicity', 'citizenship', 'First Gen',\n",
       "       'Pell eligible', 'permanent ZIP', 'Entering term code',\n",
       "       'Entering Term Major code', 'Entering Term Major Name',\n",
       "       'last enrolled term', 'Last enrolled major code',\n",
       "       'Last enrolled major name', 'grad term', 'grad major code',\n",
       "       'grad major name', 'other awards', 'ACT_ENGL', 'ACT_MATH', 'ACT_READ',\n",
       "       'ACT_SCI', 'ACT_COMP', 'ACT_EW', 'ap66 calculus AB', 'ap68 calculus BC',\n",
       "       'ap69 Calculus AB Subscore Grade', 'ap78 physics B',\n",
       "       'ap80 physics C Mech', 'ap82 physics C Physics C Electricity & Magnet',\n",
       "       'ap83 physics 1', 'ap84 physics 2'],\n",
       "      dtype='object')"
      ]
     },
     "execution_count": 4,
     "metadata": {},
     "output_type": "execute_result"
    }
   ],
   "source": [
    "df.columns"
   ]
  },
  {
   "cell_type": "code",
   "execution_count": 5,
   "metadata": {},
   "outputs": [
    {
     "ename": "AttributeError",
     "evalue": "'DataFrame' object has no attribute 'PlaceholderID'",
     "output_type": "error",
     "traceback": [
      "\u001b[0;31m---------------------------------------------------------------------------\u001b[0m",
      "\u001b[0;31mAttributeError\u001b[0m                            Traceback (most recent call last)",
      "\u001b[0;32m<ipython-input-5-edfac10c6cdd>\u001b[0m in \u001b[0;36m<module>\u001b[0;34m()\u001b[0m\n\u001b[0;32m----> 1\u001b[0;31m \u001b[0mdf\u001b[0m\u001b[0;34m.\u001b[0m\u001b[0mPlaceholderID\u001b[0m\u001b[0;34m.\u001b[0m\u001b[0munique\u001b[0m\u001b[0;34m(\u001b[0m\u001b[0;34m)\u001b[0m\u001b[0;34m.\u001b[0m\u001b[0msize\u001b[0m\u001b[0;34m\u001b[0m\u001b[0m\n\u001b[0m",
      "\u001b[0;32m~/anaconda3/envs/research/lib/python3.5/site-packages/pandas/core/generic.py\u001b[0m in \u001b[0;36m__getattr__\u001b[0;34m(self, name)\u001b[0m\n\u001b[1;32m   3079\u001b[0m             \u001b[0;32mif\u001b[0m \u001b[0mname\u001b[0m \u001b[0;32min\u001b[0m \u001b[0mself\u001b[0m\u001b[0;34m.\u001b[0m\u001b[0m_info_axis\u001b[0m\u001b[0;34m:\u001b[0m\u001b[0;34m\u001b[0m\u001b[0m\n\u001b[1;32m   3080\u001b[0m                 \u001b[0;32mreturn\u001b[0m \u001b[0mself\u001b[0m\u001b[0;34m[\u001b[0m\u001b[0mname\u001b[0m\u001b[0;34m]\u001b[0m\u001b[0;34m\u001b[0m\u001b[0m\n\u001b[0;32m-> 3081\u001b[0;31m             \u001b[0;32mreturn\u001b[0m \u001b[0mobject\u001b[0m\u001b[0;34m.\u001b[0m\u001b[0m__getattribute__\u001b[0m\u001b[0;34m(\u001b[0m\u001b[0mself\u001b[0m\u001b[0;34m,\u001b[0m \u001b[0mname\u001b[0m\u001b[0;34m)\u001b[0m\u001b[0;34m\u001b[0m\u001b[0m\n\u001b[0m\u001b[1;32m   3082\u001b[0m \u001b[0;34m\u001b[0m\u001b[0m\n\u001b[1;32m   3083\u001b[0m     \u001b[0;32mdef\u001b[0m \u001b[0m__setattr__\u001b[0m\u001b[0;34m(\u001b[0m\u001b[0mself\u001b[0m\u001b[0;34m,\u001b[0m \u001b[0mname\u001b[0m\u001b[0;34m,\u001b[0m \u001b[0mvalue\u001b[0m\u001b[0;34m)\u001b[0m\u001b[0;34m:\u001b[0m\u001b[0;34m\u001b[0m\u001b[0m\n",
      "\u001b[0;31mAttributeError\u001b[0m: 'DataFrame' object has no attribute 'PlaceholderID'"
     ]
    }
   ],
   "source": [
    "df.PlaceholderID.unique().size"
   ]
  },
  {
   "cell_type": "code",
   "execution_count": null,
   "metadata": {},
   "outputs": [],
   "source": [
    "df2 = df.groupby(['Ethnicity', 'Graduating Major Category'])['Ethnicity'].count().unstack('Ethnicity').fillna(0)\n",
    "df2['Asian / Pacific Islander'] = df2['Asian (non-Hispanic)'] + df2['Asian / Pacific Islander'] + df2['Hawaiian / Pacific Islander (non-Hispanic)']\n",
    "del df2['Asian (non-Hispanic)'] , df2['Asian / Pacific Islander'] , df2['Hawaiian / Pacific Islander (non-Hispanic)']\n",
    "df2['No Data'] = df2['Not Reported'] + df2['Not Requested']\n",
    "del df2['Not Reported'], df2['Not Requested']\n",
    "df2['maximum'] = df2.transpose().sum()\n",
    "df3 = df2.div(df2['maximum'].values, axis=0)\n",
    "df2"
   ]
  },
  {
   "cell_type": "code",
   "execution_count": null,
   "metadata": {},
   "outputs": [],
   "source": [
    "fig, ax = plt.subplots(1, figsize=(10,7))\n",
    "\n",
    "df3[['American Indian/Alaskan Native (non-Hispanic)',\n",
    "       'Black or African American  (non-Hispanic)', 'Hispanic Ethnicity',\n",
    "       'International', 'Two or more races (non-Hispanic)',\n",
    "       'White (non-Hispanic)', 'No Data',]].plot(kind='barh', stacked=True, ax=ax, colormap='gnuplot_r')"
   ]
  },
  {
   "cell_type": "code",
   "execution_count": null,
   "metadata": {},
   "outputs": [],
   "source": [
    "df2 = df[df['Physics major at one time']=='Y'].groupby(['Ethnicity', 'Graduating Major Category'])['Ethnicity'].count().unstack('Ethnicity').fillna(0)\n",
    "df2['Asian / Pacific Islander'] = df2['Asian (non-Hispanic)'] + df2['Asian / Pacific Islander'] + df2['Hawaiian / Pacific Islander (non-Hispanic)']\n",
    "del df2['Asian (non-Hispanic)'] , df2['Asian / Pacific Islander'] , df2['Hawaiian / Pacific Islander (non-Hispanic)']\n",
    "df2['No Data'] = df2['Not Reported']# + df2['Not Requested']\n",
    "del df2['Not Reported']#, df2['Not Requested']\n",
    "df2['maximum'] = df2.transpose().sum()\n",
    "df3 = df2.div(df2['maximum'].values, axis=0)\n",
    "df2"
   ]
  },
  {
   "cell_type": "code",
   "execution_count": null,
   "metadata": {},
   "outputs": [],
   "source": [
    "fig, ax = plt.subplots(1, figsize=(10,7))\n",
    "\n",
    "df3[['American Indian/Alaskan Native (non-Hispanic)',\n",
    "       'Black or African American  (non-Hispanic)', 'Hispanic Ethnicity',\n",
    "       'International', 'Two or more races (non-Hispanic)',\n",
    "       'White (non-Hispanic)', 'No Data',]].plot(kind='barh', stacked=True, ax=ax, colormap='gnuplot_r')\n",
    "\n",
    "ax.text(s='Physics major at one point', x=0.1, y=3.5, fontsize=15)"
   ]
  },
  {
   "cell_type": "code",
   "execution_count": null,
   "metadata": {},
   "outputs": [],
   "source": [
    "df2 = df.groupby(['gndr_flag', 'Graduating Major Category'])['gndr_flag'].count().unstack('gndr_flag').fillna(0)\n",
    "df2['maximum'] = df2.transpose().sum()\n",
    "df3 = df2.div(df2['maximum'].values, axis=0)\n",
    "df2"
   ]
  },
  {
   "cell_type": "code",
   "execution_count": null,
   "metadata": {},
   "outputs": [],
   "source": [
    "fig, ax = plt.subplots(1, figsize=(10,7))\n",
    "\n",
    "df3[['F', 'M']].plot(kind='barh', stacked=True, ax=ax, colormap='Set1')\n",
    "\n",
    "# ax.text(s='Physics major at one point', x=0.1, y=3.5, fontsize=15)"
   ]
  },
  {
   "cell_type": "code",
   "execution_count": null,
   "metadata": {},
   "outputs": [],
   "source": [
    "df2 = df[df['Physics major at one time']=='Y'].groupby(['gndr_flag', 'Graduating Major Category'])['gndr_flag'].count().unstack('gndr_flag').fillna(0)\n",
    "df2['maximum'] = df2.transpose().sum()\n",
    "df3 = df2.div(df2['maximum'].values, axis=0)\n",
    "df2\n",
    "fig, ax = plt.subplots(1, figsize=(10,7))\n",
    "\n",
    "df3[['F', 'M']].plot(kind='barh', stacked=True, ax=ax, colormap='Set1')\n",
    "\n",
    "ax.text(s='Physics major at one point', x=0.1, y=3.5, fontsize=15)"
   ]
  }
 ],
 "metadata": {
  "kernelspec": {
   "display_name": "Python 3",
   "language": "python",
   "name": "python3"
  },
  "language_info": {
   "codemirror_mode": {
    "name": "ipython",
    "version": 3
   },
   "file_extension": ".py",
   "mimetype": "text/x-python",
   "name": "python",
   "nbconvert_exporter": "python",
   "pygments_lexer": "ipython3",
   "version": "3.5.4"
  }
 },
 "nbformat": 4,
 "nbformat_minor": 2
}
