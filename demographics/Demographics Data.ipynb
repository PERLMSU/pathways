{
 "cells": [
  {
   "cell_type": "code",
   "execution_count": 1,
   "metadata": {
    "collapsed": true
   },
   "outputs": [],
   "source": [
    "%matplotlib inline\n",
    "import matplotlib.pyplot as plt\n",
    "import numpy as np\n",
    "import pandas as pd\n",
    "import seaborn as sns"
   ]
  },
  {
   "cell_type": "code",
   "execution_count": 3,
   "metadata": {},
   "outputs": [],
   "source": [
    "demogs = pd.read_excel('data/61331_Demogs_FS01-US16_part1.xlsx')"
   ]
  },
  {
   "cell_type": "code",
   "execution_count": 4,
   "metadata": {},
   "outputs": [
    {
     "data": {
      "text/html": [
       "<div>\n",
       "<style>\n",
       "    .dataframe thead tr:only-child th {\n",
       "        text-align: right;\n",
       "    }\n",
       "\n",
       "    .dataframe thead th {\n",
       "        text-align: left;\n",
       "    }\n",
       "\n",
       "    .dataframe tbody tr th {\n",
       "        vertical-align: top;\n",
       "    }\n",
       "</style>\n",
       "<table border=\"1\" class=\"dataframe\">\n",
       "  <thead>\n",
       "    <tr style=\"text-align: right;\">\n",
       "      <th></th>\n",
       "      <th>placeholderID</th>\n",
       "      <th>Gender</th>\n",
       "      <th>Ethnicity</th>\n",
       "      <th>citizenship</th>\n",
       "      <th>First Gen</th>\n",
       "      <th>Pell eligible</th>\n",
       "      <th>permanent ZIP</th>\n",
       "      <th>Entering term code</th>\n",
       "      <th>Entering Term Major code</th>\n",
       "      <th>Entering Term Major Name</th>\n",
       "      <th>...</th>\n",
       "      <th>ACT_COMP</th>\n",
       "      <th>ACT_EW</th>\n",
       "      <th>ap66 calculus AB</th>\n",
       "      <th>ap68 calculus BC</th>\n",
       "      <th>ap69 Calculus AB Subscore Grade</th>\n",
       "      <th>ap78 physics B</th>\n",
       "      <th>ap80 physics C Mech</th>\n",
       "      <th>ap82 physics C Physics C Electricity &amp; Magnet</th>\n",
       "      <th>ap83 physics 1</th>\n",
       "      <th>ap84 physics 2</th>\n",
       "    </tr>\n",
       "  </thead>\n",
       "  <tbody>\n",
       "    <tr>\n",
       "      <th>0</th>\n",
       "      <td>97758DD4-7286-4A19-BA6C-00005FE6CFA3</td>\n",
       "      <td>M</td>\n",
       "      <td>White (non-Hispanic)</td>\n",
       "      <td>US Citizen</td>\n",
       "      <td>N</td>\n",
       "      <td>N</td>\n",
       "      <td>49504</td>\n",
       "      <td>FS98</td>\n",
       "      <td>3784.0</td>\n",
       "      <td>Biological Science Interdept</td>\n",
       "      <td>...</td>\n",
       "      <td>NaN</td>\n",
       "      <td>NaN</td>\n",
       "      <td>NaN</td>\n",
       "      <td>NaN</td>\n",
       "      <td>NaN</td>\n",
       "      <td>NaN</td>\n",
       "      <td>NaN</td>\n",
       "      <td>NaN</td>\n",
       "      <td>NaN</td>\n",
       "      <td>NaN</td>\n",
       "    </tr>\n",
       "    <tr>\n",
       "      <th>1</th>\n",
       "      <td>592FB87B-B37F-476D-B7F0-0001F057D6A6</td>\n",
       "      <td>F</td>\n",
       "      <td>White (non-Hispanic)</td>\n",
       "      <td>US Citizen</td>\n",
       "      <td>N</td>\n",
       "      <td>N</td>\n",
       "      <td>22309</td>\n",
       "      <td>FS99</td>\n",
       "      <td>843.0</td>\n",
       "      <td>Music Therapy</td>\n",
       "      <td>...</td>\n",
       "      <td>NaN</td>\n",
       "      <td>NaN</td>\n",
       "      <td>NaN</td>\n",
       "      <td>NaN</td>\n",
       "      <td>NaN</td>\n",
       "      <td>NaN</td>\n",
       "      <td>NaN</td>\n",
       "      <td>NaN</td>\n",
       "      <td>NaN</td>\n",
       "      <td>NaN</td>\n",
       "    </tr>\n",
       "    <tr>\n",
       "      <th>2</th>\n",
       "      <td>9C41EAAC-FC57-42F9-B53F-000201BE35C3</td>\n",
       "      <td>M</td>\n",
       "      <td>White (non-Hispanic)</td>\n",
       "      <td>US Citizen</td>\n",
       "      <td>N</td>\n",
       "      <td>N</td>\n",
       "      <td>48879</td>\n",
       "      <td>FS05</td>\n",
       "      <td>1069.0</td>\n",
       "      <td>General Business Admin Prelaw</td>\n",
       "      <td>...</td>\n",
       "      <td>26.0</td>\n",
       "      <td></td>\n",
       "      <td>NaN</td>\n",
       "      <td>NaN</td>\n",
       "      <td>NaN</td>\n",
       "      <td>NaN</td>\n",
       "      <td>NaN</td>\n",
       "      <td>NaN</td>\n",
       "      <td>NaN</td>\n",
       "      <td>NaN</td>\n",
       "    </tr>\n",
       "    <tr>\n",
       "      <th>3</th>\n",
       "      <td>7AED7EC2-ED7F-4FE1-8270-000209CBA389</td>\n",
       "      <td>M</td>\n",
       "      <td>White (non-Hispanic)</td>\n",
       "      <td>US Citizen</td>\n",
       "      <td>N</td>\n",
       "      <td>Y</td>\n",
       "      <td>49341</td>\n",
       "      <td>FS05</td>\n",
       "      <td>5151.0</td>\n",
       "      <td>No Preference</td>\n",
       "      <td>...</td>\n",
       "      <td>22.0</td>\n",
       "      <td></td>\n",
       "      <td>NaN</td>\n",
       "      <td>NaN</td>\n",
       "      <td>NaN</td>\n",
       "      <td>NaN</td>\n",
       "      <td>NaN</td>\n",
       "      <td>NaN</td>\n",
       "      <td>NaN</td>\n",
       "      <td>NaN</td>\n",
       "    </tr>\n",
       "    <tr>\n",
       "      <th>4</th>\n",
       "      <td>3C1C5E03-FA14-4F6A-B0C6-000250988C23</td>\n",
       "      <td>M</td>\n",
       "      <td>White (non-Hispanic)</td>\n",
       "      <td>US Citizen</td>\n",
       "      <td>N</td>\n",
       "      <td>N</td>\n",
       "      <td>48154</td>\n",
       "      <td>FS11</td>\n",
       "      <td>2371.0</td>\n",
       "      <td>Engineering   No Preference</td>\n",
       "      <td>...</td>\n",
       "      <td>26.0</td>\n",
       "      <td>22</td>\n",
       "      <td>NaN</td>\n",
       "      <td>NaN</td>\n",
       "      <td>NaN</td>\n",
       "      <td>NaN</td>\n",
       "      <td>NaN</td>\n",
       "      <td>NaN</td>\n",
       "      <td>NaN</td>\n",
       "      <td>NaN</td>\n",
       "    </tr>\n",
       "  </tbody>\n",
       "</table>\n",
       "<p>5 rows × 31 columns</p>\n",
       "</div>"
      ],
      "text/plain": [
       "                          placeholderID Gender             Ethnicity  \\\n",
       "0  97758DD4-7286-4A19-BA6C-00005FE6CFA3      M  White (non-Hispanic)   \n",
       "1  592FB87B-B37F-476D-B7F0-0001F057D6A6      F  White (non-Hispanic)   \n",
       "2  9C41EAAC-FC57-42F9-B53F-000201BE35C3      M  White (non-Hispanic)   \n",
       "3  7AED7EC2-ED7F-4FE1-8270-000209CBA389      M  White (non-Hispanic)   \n",
       "4  3C1C5E03-FA14-4F6A-B0C6-000250988C23      M  White (non-Hispanic)   \n",
       "\n",
       "  citizenship First Gen Pell eligible permanent ZIP Entering term code  \\\n",
       "0  US Citizen         N             N         49504               FS98   \n",
       "1  US Citizen         N             N         22309               FS99   \n",
       "2  US Citizen         N             N         48879               FS05   \n",
       "3  US Citizen         N             Y         49341               FS05   \n",
       "4  US Citizen         N             N         48154               FS11   \n",
       "\n",
       "   Entering Term Major code        Entering Term Major Name       ...        \\\n",
       "0                    3784.0    Biological Science Interdept       ...         \n",
       "1                     843.0                  Music Therapy        ...         \n",
       "2                    1069.0   General Business Admin Prelaw       ...         \n",
       "3                    5151.0                  No Preference        ...         \n",
       "4                    2371.0     Engineering   No Preference       ...         \n",
       "\n",
       "  ACT_COMP  ACT_EW ap66 calculus AB ap68 calculus BC  \\\n",
       "0      NaN     NaN              NaN              NaN   \n",
       "1      NaN     NaN              NaN              NaN   \n",
       "2     26.0                      NaN              NaN   \n",
       "3     22.0                      NaN              NaN   \n",
       "4     26.0      22              NaN              NaN   \n",
       "\n",
       "   ap69 Calculus AB Subscore Grade ap78 physics B ap80 physics C Mech  \\\n",
       "0                              NaN            NaN                 NaN   \n",
       "1                              NaN            NaN                 NaN   \n",
       "2                              NaN            NaN                 NaN   \n",
       "3                              NaN            NaN                 NaN   \n",
       "4                              NaN            NaN                 NaN   \n",
       "\n",
       "   ap82 physics C Physics C Electricity & Magnet  ap83 physics 1  \\\n",
       "0                                            NaN             NaN   \n",
       "1                                            NaN             NaN   \n",
       "2                                            NaN             NaN   \n",
       "3                                            NaN             NaN   \n",
       "4                                            NaN             NaN   \n",
       "\n",
       "   ap84 physics 2  \n",
       "0             NaN  \n",
       "1             NaN  \n",
       "2             NaN  \n",
       "3             NaN  \n",
       "4             NaN  \n",
       "\n",
       "[5 rows x 31 columns]"
      ]
     },
     "execution_count": 4,
     "metadata": {},
     "output_type": "execute_result"
    }
   ],
   "source": [
    "demogs.head()"
   ]
  },
  {
   "cell_type": "code",
   "execution_count": 8,
   "metadata": {},
   "outputs": [],
   "source": [
    "demogs2 = pd.read_excel('data/61331_Demogs_FS01-US16_part2.xlsx')"
   ]
  },
  {
   "cell_type": "code",
   "execution_count": 9,
   "metadata": {},
   "outputs": [
    {
     "data": {
      "text/html": [
       "<div>\n",
       "<style>\n",
       "    .dataframe thead tr:only-child th {\n",
       "        text-align: right;\n",
       "    }\n",
       "\n",
       "    .dataframe thead th {\n",
       "        text-align: left;\n",
       "    }\n",
       "\n",
       "    .dataframe tbody tr th {\n",
       "        vertical-align: top;\n",
       "    }\n",
       "</style>\n",
       "<table border=\"1\" class=\"dataframe\">\n",
       "  <thead>\n",
       "    <tr style=\"text-align: right;\">\n",
       "      <th></th>\n",
       "      <th>placeholderID</th>\n",
       "      <th>Gender</th>\n",
       "      <th>Ethnicity</th>\n",
       "      <th>citizenship</th>\n",
       "      <th>First Gen</th>\n",
       "      <th>Pell eligible</th>\n",
       "      <th>permanent ZIP</th>\n",
       "      <th>Entering term code</th>\n",
       "      <th>Entering Term Major code</th>\n",
       "      <th>Entering Term Major Name</th>\n",
       "      <th>...</th>\n",
       "      <th>ACT_COMP</th>\n",
       "      <th>ACT_EW</th>\n",
       "      <th>ap66 calculus AB</th>\n",
       "      <th>ap68 calculus BC</th>\n",
       "      <th>ap69 Calculus AB Subscore Grade</th>\n",
       "      <th>ap78 physics B</th>\n",
       "      <th>ap80 physics C Mech</th>\n",
       "      <th>ap82 physics C Physics C Electricity &amp; Magnet</th>\n",
       "      <th>ap83 physics 1</th>\n",
       "      <th>ap84 physics 2</th>\n",
       "    </tr>\n",
       "  </thead>\n",
       "  <tbody>\n",
       "    <tr>\n",
       "      <th>0</th>\n",
       "      <td>2CFFA8E4-DEB9-4496-8229-818734DDA8FC</td>\n",
       "      <td>F</td>\n",
       "      <td>White (non-Hispanic)</td>\n",
       "      <td>US Citizen</td>\n",
       "      <td>N</td>\n",
       "      <td>N</td>\n",
       "      <td>NaN</td>\n",
       "      <td>FS99</td>\n",
       "      <td>2237.0</td>\n",
       "      <td>Education</td>\n",
       "      <td>...</td>\n",
       "      <td>23.0</td>\n",
       "      <td></td>\n",
       "      <td>NaN</td>\n",
       "      <td>NaN</td>\n",
       "      <td>NaN</td>\n",
       "      <td>NaN</td>\n",
       "      <td>NaN</td>\n",
       "      <td>NaN</td>\n",
       "      <td>NaN</td>\n",
       "      <td>NaN</td>\n",
       "    </tr>\n",
       "    <tr>\n",
       "      <th>1</th>\n",
       "      <td>39CEE293-8488-4817-8A72-8187810DC084</td>\n",
       "      <td>M</td>\n",
       "      <td>Black or African American  (non-Hispanic)</td>\n",
       "      <td>US Citizen</td>\n",
       "      <td>N</td>\n",
       "      <td>Y</td>\n",
       "      <td>48206</td>\n",
       "      <td>FS09</td>\n",
       "      <td>648.0</td>\n",
       "      <td>English</td>\n",
       "      <td>...</td>\n",
       "      <td>21.0</td>\n",
       "      <td>NaN</td>\n",
       "      <td>NaN</td>\n",
       "      <td>NaN</td>\n",
       "      <td>NaN</td>\n",
       "      <td>NaN</td>\n",
       "      <td>NaN</td>\n",
       "      <td>NaN</td>\n",
       "      <td>NaN</td>\n",
       "      <td>NaN</td>\n",
       "    </tr>\n",
       "    <tr>\n",
       "      <th>2</th>\n",
       "      <td>305C1544-2D11-4AD4-8EC2-818783081BCB</td>\n",
       "      <td>F</td>\n",
       "      <td>White (non-Hispanic)</td>\n",
       "      <td>US Citizen</td>\n",
       "      <td>N</td>\n",
       "      <td>N</td>\n",
       "      <td>60657</td>\n",
       "      <td>FS06</td>\n",
       "      <td>2237.0</td>\n",
       "      <td>Education</td>\n",
       "      <td>...</td>\n",
       "      <td>23.0</td>\n",
       "      <td>23</td>\n",
       "      <td>NaN</td>\n",
       "      <td>NaN</td>\n",
       "      <td>NaN</td>\n",
       "      <td>NaN</td>\n",
       "      <td>NaN</td>\n",
       "      <td>NaN</td>\n",
       "      <td>NaN</td>\n",
       "      <td>NaN</td>\n",
       "    </tr>\n",
       "    <tr>\n",
       "      <th>3</th>\n",
       "      <td>B706976A-4920-4605-BA1E-8187D9865EB2</td>\n",
       "      <td>F</td>\n",
       "      <td>White (non-Hispanic)</td>\n",
       "      <td>US Citizen</td>\n",
       "      <td>N</td>\n",
       "      <td>N</td>\n",
       "      <td>NaN</td>\n",
       "      <td>FS09</td>\n",
       "      <td>4731.0</td>\n",
       "      <td>Economics</td>\n",
       "      <td>...</td>\n",
       "      <td>21.0</td>\n",
       "      <td>24</td>\n",
       "      <td>NaN</td>\n",
       "      <td>NaN</td>\n",
       "      <td>NaN</td>\n",
       "      <td>NaN</td>\n",
       "      <td>NaN</td>\n",
       "      <td>NaN</td>\n",
       "      <td>NaN</td>\n",
       "      <td>NaN</td>\n",
       "    </tr>\n",
       "    <tr>\n",
       "      <th>4</th>\n",
       "      <td>18A9FCCC-27A8-4780-A566-818882C30B7D</td>\n",
       "      <td>M</td>\n",
       "      <td>White (non-Hispanic)</td>\n",
       "      <td>US Citizen</td>\n",
       "      <td>N</td>\n",
       "      <td>N</td>\n",
       "      <td>48176</td>\n",
       "      <td>FS09</td>\n",
       "      <td>2901.0</td>\n",
       "      <td>James Madison</td>\n",
       "      <td>...</td>\n",
       "      <td>28.0</td>\n",
       "      <td>27</td>\n",
       "      <td>NaN</td>\n",
       "      <td>NaN</td>\n",
       "      <td>NaN</td>\n",
       "      <td>NaN</td>\n",
       "      <td>NaN</td>\n",
       "      <td>NaN</td>\n",
       "      <td>NaN</td>\n",
       "      <td>NaN</td>\n",
       "    </tr>\n",
       "  </tbody>\n",
       "</table>\n",
       "<p>5 rows × 31 columns</p>\n",
       "</div>"
      ],
      "text/plain": [
       "                          placeholderID Gender  \\\n",
       "0  2CFFA8E4-DEB9-4496-8229-818734DDA8FC      F   \n",
       "1  39CEE293-8488-4817-8A72-8187810DC084      M   \n",
       "2  305C1544-2D11-4AD4-8EC2-818783081BCB      F   \n",
       "3  B706976A-4920-4605-BA1E-8187D9865EB2      F   \n",
       "4  18A9FCCC-27A8-4780-A566-818882C30B7D      M   \n",
       "\n",
       "                                   Ethnicity citizenship First Gen  \\\n",
       "0                       White (non-Hispanic)  US Citizen         N   \n",
       "1  Black or African American  (non-Hispanic)  US Citizen         N   \n",
       "2                       White (non-Hispanic)  US Citizen         N   \n",
       "3                       White (non-Hispanic)  US Citizen         N   \n",
       "4                       White (non-Hispanic)  US Citizen         N   \n",
       "\n",
       "  Pell eligible permanent ZIP Entering term code  Entering Term Major code  \\\n",
       "0             N           NaN               FS99                    2237.0   \n",
       "1             Y         48206               FS09                     648.0   \n",
       "2             N         60657               FS06                    2237.0   \n",
       "3             N           NaN               FS09                    4731.0   \n",
       "4             N         48176               FS09                    2901.0   \n",
       "\n",
       "  Entering Term Major Name       ...       ACT_COMP  ACT_EW ap66 calculus AB  \\\n",
       "0               Education        ...           23.0                      NaN   \n",
       "1                 English        ...           21.0     NaN              NaN   \n",
       "2               Education        ...           23.0      23              NaN   \n",
       "3               Economics        ...           21.0      24              NaN   \n",
       "4           James Madison        ...           28.0      27              NaN   \n",
       "\n",
       "  ap68 calculus BC  ap69 Calculus AB Subscore Grade ap78 physics B  \\\n",
       "0              NaN                              NaN            NaN   \n",
       "1              NaN                              NaN            NaN   \n",
       "2              NaN                              NaN            NaN   \n",
       "3              NaN                              NaN            NaN   \n",
       "4              NaN                              NaN            NaN   \n",
       "\n",
       "  ap80 physics C Mech  ap82 physics C Physics C Electricity & Magnet  \\\n",
       "0                 NaN                                            NaN   \n",
       "1                 NaN                                            NaN   \n",
       "2                 NaN                                            NaN   \n",
       "3                 NaN                                            NaN   \n",
       "4                 NaN                                            NaN   \n",
       "\n",
       "   ap83 physics 1  ap84 physics 2  \n",
       "0             NaN             NaN  \n",
       "1             NaN             NaN  \n",
       "2             NaN             NaN  \n",
       "3             NaN             NaN  \n",
       "4             NaN             NaN  \n",
       "\n",
       "[5 rows x 31 columns]"
      ]
     },
     "execution_count": 9,
     "metadata": {},
     "output_type": "execute_result"
    }
   ],
   "source": [
    "demogs2.head()"
   ]
  },
  {
   "cell_type": "code",
   "execution_count": 10,
   "metadata": {
    "collapsed": true
   },
   "outputs": [],
   "source": [
    "demogs_all = pd.concat([demogs, demogs2], ignore_index=True)"
   ]
  },
  {
   "cell_type": "code",
   "execution_count": 11,
   "metadata": {},
   "outputs": [
    {
     "data": {
      "text/html": [
       "<div>\n",
       "<style>\n",
       "    .dataframe thead tr:only-child th {\n",
       "        text-align: right;\n",
       "    }\n",
       "\n",
       "    .dataframe thead th {\n",
       "        text-align: left;\n",
       "    }\n",
       "\n",
       "    .dataframe tbody tr th {\n",
       "        vertical-align: top;\n",
       "    }\n",
       "</style>\n",
       "<table border=\"1\" class=\"dataframe\">\n",
       "  <thead>\n",
       "    <tr style=\"text-align: right;\">\n",
       "      <th></th>\n",
       "      <th>placeholderID</th>\n",
       "      <th>Gender</th>\n",
       "      <th>Ethnicity</th>\n",
       "      <th>citizenship</th>\n",
       "      <th>First Gen</th>\n",
       "      <th>Pell eligible</th>\n",
       "      <th>permanent ZIP</th>\n",
       "      <th>Entering term code</th>\n",
       "      <th>Entering Term Major code</th>\n",
       "      <th>Entering Term Major Name</th>\n",
       "      <th>...</th>\n",
       "      <th>ACT_COMP</th>\n",
       "      <th>ACT_EW</th>\n",
       "      <th>ap66 calculus AB</th>\n",
       "      <th>ap68 calculus BC</th>\n",
       "      <th>ap69 Calculus AB Subscore Grade</th>\n",
       "      <th>ap78 physics B</th>\n",
       "      <th>ap80 physics C Mech</th>\n",
       "      <th>ap82 physics C Physics C Electricity &amp; Magnet</th>\n",
       "      <th>ap83 physics 1</th>\n",
       "      <th>ap84 physics 2</th>\n",
       "    </tr>\n",
       "  </thead>\n",
       "  <tbody>\n",
       "    <tr>\n",
       "      <th>0</th>\n",
       "      <td>97758DD4-7286-4A19-BA6C-00005FE6CFA3</td>\n",
       "      <td>M</td>\n",
       "      <td>White (non-Hispanic)</td>\n",
       "      <td>US Citizen</td>\n",
       "      <td>N</td>\n",
       "      <td>N</td>\n",
       "      <td>49504</td>\n",
       "      <td>FS98</td>\n",
       "      <td>3784.0</td>\n",
       "      <td>Biological Science Interdept</td>\n",
       "      <td>...</td>\n",
       "      <td>NaN</td>\n",
       "      <td>NaN</td>\n",
       "      <td>NaN</td>\n",
       "      <td>NaN</td>\n",
       "      <td>NaN</td>\n",
       "      <td>NaN</td>\n",
       "      <td>NaN</td>\n",
       "      <td>NaN</td>\n",
       "      <td>NaN</td>\n",
       "      <td>NaN</td>\n",
       "    </tr>\n",
       "    <tr>\n",
       "      <th>1</th>\n",
       "      <td>592FB87B-B37F-476D-B7F0-0001F057D6A6</td>\n",
       "      <td>F</td>\n",
       "      <td>White (non-Hispanic)</td>\n",
       "      <td>US Citizen</td>\n",
       "      <td>N</td>\n",
       "      <td>N</td>\n",
       "      <td>22309</td>\n",
       "      <td>FS99</td>\n",
       "      <td>843.0</td>\n",
       "      <td>Music Therapy</td>\n",
       "      <td>...</td>\n",
       "      <td>NaN</td>\n",
       "      <td>NaN</td>\n",
       "      <td>NaN</td>\n",
       "      <td>NaN</td>\n",
       "      <td>NaN</td>\n",
       "      <td>NaN</td>\n",
       "      <td>NaN</td>\n",
       "      <td>NaN</td>\n",
       "      <td>NaN</td>\n",
       "      <td>NaN</td>\n",
       "    </tr>\n",
       "    <tr>\n",
       "      <th>2</th>\n",
       "      <td>9C41EAAC-FC57-42F9-B53F-000201BE35C3</td>\n",
       "      <td>M</td>\n",
       "      <td>White (non-Hispanic)</td>\n",
       "      <td>US Citizen</td>\n",
       "      <td>N</td>\n",
       "      <td>N</td>\n",
       "      <td>48879</td>\n",
       "      <td>FS05</td>\n",
       "      <td>1069.0</td>\n",
       "      <td>General Business Admin Prelaw</td>\n",
       "      <td>...</td>\n",
       "      <td>26.0</td>\n",
       "      <td></td>\n",
       "      <td>NaN</td>\n",
       "      <td>NaN</td>\n",
       "      <td>NaN</td>\n",
       "      <td>NaN</td>\n",
       "      <td>NaN</td>\n",
       "      <td>NaN</td>\n",
       "      <td>NaN</td>\n",
       "      <td>NaN</td>\n",
       "    </tr>\n",
       "    <tr>\n",
       "      <th>3</th>\n",
       "      <td>7AED7EC2-ED7F-4FE1-8270-000209CBA389</td>\n",
       "      <td>M</td>\n",
       "      <td>White (non-Hispanic)</td>\n",
       "      <td>US Citizen</td>\n",
       "      <td>N</td>\n",
       "      <td>Y</td>\n",
       "      <td>49341</td>\n",
       "      <td>FS05</td>\n",
       "      <td>5151.0</td>\n",
       "      <td>No Preference</td>\n",
       "      <td>...</td>\n",
       "      <td>22.0</td>\n",
       "      <td></td>\n",
       "      <td>NaN</td>\n",
       "      <td>NaN</td>\n",
       "      <td>NaN</td>\n",
       "      <td>NaN</td>\n",
       "      <td>NaN</td>\n",
       "      <td>NaN</td>\n",
       "      <td>NaN</td>\n",
       "      <td>NaN</td>\n",
       "    </tr>\n",
       "    <tr>\n",
       "      <th>4</th>\n",
       "      <td>3C1C5E03-FA14-4F6A-B0C6-000250988C23</td>\n",
       "      <td>M</td>\n",
       "      <td>White (non-Hispanic)</td>\n",
       "      <td>US Citizen</td>\n",
       "      <td>N</td>\n",
       "      <td>N</td>\n",
       "      <td>48154</td>\n",
       "      <td>FS11</td>\n",
       "      <td>2371.0</td>\n",
       "      <td>Engineering   No Preference</td>\n",
       "      <td>...</td>\n",
       "      <td>26.0</td>\n",
       "      <td>22</td>\n",
       "      <td>NaN</td>\n",
       "      <td>NaN</td>\n",
       "      <td>NaN</td>\n",
       "      <td>NaN</td>\n",
       "      <td>NaN</td>\n",
       "      <td>NaN</td>\n",
       "      <td>NaN</td>\n",
       "      <td>NaN</td>\n",
       "    </tr>\n",
       "  </tbody>\n",
       "</table>\n",
       "<p>5 rows × 31 columns</p>\n",
       "</div>"
      ],
      "text/plain": [
       "                          placeholderID Gender             Ethnicity  \\\n",
       "0  97758DD4-7286-4A19-BA6C-00005FE6CFA3      M  White (non-Hispanic)   \n",
       "1  592FB87B-B37F-476D-B7F0-0001F057D6A6      F  White (non-Hispanic)   \n",
       "2  9C41EAAC-FC57-42F9-B53F-000201BE35C3      M  White (non-Hispanic)   \n",
       "3  7AED7EC2-ED7F-4FE1-8270-000209CBA389      M  White (non-Hispanic)   \n",
       "4  3C1C5E03-FA14-4F6A-B0C6-000250988C23      M  White (non-Hispanic)   \n",
       "\n",
       "  citizenship First Gen Pell eligible permanent ZIP Entering term code  \\\n",
       "0  US Citizen         N             N         49504               FS98   \n",
       "1  US Citizen         N             N         22309               FS99   \n",
       "2  US Citizen         N             N         48879               FS05   \n",
       "3  US Citizen         N             Y         49341               FS05   \n",
       "4  US Citizen         N             N         48154               FS11   \n",
       "\n",
       "   Entering Term Major code        Entering Term Major Name       ...        \\\n",
       "0                    3784.0    Biological Science Interdept       ...         \n",
       "1                     843.0                  Music Therapy        ...         \n",
       "2                    1069.0   General Business Admin Prelaw       ...         \n",
       "3                    5151.0                  No Preference        ...         \n",
       "4                    2371.0     Engineering   No Preference       ...         \n",
       "\n",
       "  ACT_COMP  ACT_EW ap66 calculus AB ap68 calculus BC  \\\n",
       "0      NaN     NaN              NaN              NaN   \n",
       "1      NaN     NaN              NaN              NaN   \n",
       "2     26.0                      NaN              NaN   \n",
       "3     22.0                      NaN              NaN   \n",
       "4     26.0      22              NaN              NaN   \n",
       "\n",
       "   ap69 Calculus AB Subscore Grade ap78 physics B ap80 physics C Mech  \\\n",
       "0                              NaN            NaN                 NaN   \n",
       "1                              NaN            NaN                 NaN   \n",
       "2                              NaN            NaN                 NaN   \n",
       "3                              NaN            NaN                 NaN   \n",
       "4                              NaN            NaN                 NaN   \n",
       "\n",
       "   ap82 physics C Physics C Electricity & Magnet  ap83 physics 1  \\\n",
       "0                                            NaN             NaN   \n",
       "1                                            NaN             NaN   \n",
       "2                                            NaN             NaN   \n",
       "3                                            NaN             NaN   \n",
       "4                                            NaN             NaN   \n",
       "\n",
       "   ap84 physics 2  \n",
       "0             NaN  \n",
       "1             NaN  \n",
       "2             NaN  \n",
       "3             NaN  \n",
       "4             NaN  \n",
       "\n",
       "[5 rows x 31 columns]"
      ]
     },
     "execution_count": 11,
     "metadata": {},
     "output_type": "execute_result"
    }
   ],
   "source": [
    "demogs_all.head()"
   ]
  },
  {
   "cell_type": "code",
   "execution_count": 12,
   "metadata": {},
   "outputs": [
    {
     "data": {
      "text/html": [
       "<div>\n",
       "<style>\n",
       "    .dataframe thead tr:only-child th {\n",
       "        text-align: right;\n",
       "    }\n",
       "\n",
       "    .dataframe thead th {\n",
       "        text-align: left;\n",
       "    }\n",
       "\n",
       "    .dataframe tbody tr th {\n",
       "        vertical-align: top;\n",
       "    }\n",
       "</style>\n",
       "<table border=\"1\" class=\"dataframe\">\n",
       "  <thead>\n",
       "    <tr style=\"text-align: right;\">\n",
       "      <th></th>\n",
       "      <th>Entering Term Major code</th>\n",
       "      <th>Last enrolled major code</th>\n",
       "      <th>grad major code</th>\n",
       "      <th>ACT_ENGL</th>\n",
       "      <th>ACT_MATH</th>\n",
       "      <th>ACT_READ</th>\n",
       "      <th>ACT_SCI</th>\n",
       "      <th>ACT_COMP</th>\n",
       "      <th>ap66 calculus AB</th>\n",
       "      <th>ap68 calculus BC</th>\n",
       "      <th>ap69 Calculus AB Subscore Grade</th>\n",
       "      <th>ap78 physics B</th>\n",
       "      <th>ap80 physics C Mech</th>\n",
       "      <th>ap82 physics C Physics C Electricity &amp; Magnet</th>\n",
       "      <th>ap83 physics 1</th>\n",
       "      <th>ap84 physics 2</th>\n",
       "    </tr>\n",
       "  </thead>\n",
       "  <tbody>\n",
       "    <tr>\n",
       "      <th>count</th>\n",
       "      <td>156484.000000</td>\n",
       "      <td>156484.000000</td>\n",
       "      <td>96867.000000</td>\n",
       "      <td>120951.000000</td>\n",
       "      <td>120951.000000</td>\n",
       "      <td>120949.000000</td>\n",
       "      <td>120951.000000</td>\n",
       "      <td>120951.000000</td>\n",
       "      <td>16937.000000</td>\n",
       "      <td>4986.00000</td>\n",
       "      <td>4936.000000</td>\n",
       "      <td>2219.000000</td>\n",
       "      <td>2489.000000</td>\n",
       "      <td>960.000000</td>\n",
       "      <td>384.000000</td>\n",
       "      <td>74.000000</td>\n",
       "    </tr>\n",
       "    <tr>\n",
       "      <th>mean</th>\n",
       "      <td>3436.091492</td>\n",
       "      <td>3179.493642</td>\n",
       "      <td>2969.503340</td>\n",
       "      <td>24.447413</td>\n",
       "      <td>24.681631</td>\n",
       "      <td>25.170989</td>\n",
       "      <td>24.672330</td>\n",
       "      <td>24.620541</td>\n",
       "      <td>3.165141</td>\n",
       "      <td>3.63217</td>\n",
       "      <td>3.979741</td>\n",
       "      <td>3.132041</td>\n",
       "      <td>3.388911</td>\n",
       "      <td>3.150000</td>\n",
       "      <td>2.786458</td>\n",
       "      <td>2.756757</td>\n",
       "    </tr>\n",
       "    <tr>\n",
       "      <th>std</th>\n",
       "      <td>1828.138750</td>\n",
       "      <td>1972.441377</td>\n",
       "      <td>1924.744961</td>\n",
       "      <td>4.695052</td>\n",
       "      <td>4.448751</td>\n",
       "      <td>5.045863</td>\n",
       "      <td>3.961457</td>\n",
       "      <td>3.844721</td>\n",
       "      <td>1.438577</td>\n",
       "      <td>1.35269</td>\n",
       "      <td>1.210556</td>\n",
       "      <td>1.211664</td>\n",
       "      <td>1.221053</td>\n",
       "      <td>1.323723</td>\n",
       "      <td>1.086938</td>\n",
       "      <td>0.933557</td>\n",
       "    </tr>\n",
       "    <tr>\n",
       "      <th>min</th>\n",
       "      <td>101.000000</td>\n",
       "      <td>101.000000</td>\n",
       "      <td>109.000000</td>\n",
       "      <td>6.000000</td>\n",
       "      <td>11.000000</td>\n",
       "      <td>4.000000</td>\n",
       "      <td>2.000000</td>\n",
       "      <td>9.000000</td>\n",
       "      <td>1.000000</td>\n",
       "      <td>1.00000</td>\n",
       "      <td>1.000000</td>\n",
       "      <td>1.000000</td>\n",
       "      <td>1.000000</td>\n",
       "      <td>1.000000</td>\n",
       "      <td>1.000000</td>\n",
       "      <td>1.000000</td>\n",
       "    </tr>\n",
       "    <tr>\n",
       "      <th>25%</th>\n",
       "      <td>2237.000000</td>\n",
       "      <td>1353.000000</td>\n",
       "      <td>1328.000000</td>\n",
       "      <td>21.000000</td>\n",
       "      <td>22.000000</td>\n",
       "      <td>22.000000</td>\n",
       "      <td>22.000000</td>\n",
       "      <td>22.000000</td>\n",
       "      <td>2.000000</td>\n",
       "      <td>3.00000</td>\n",
       "      <td>3.000000</td>\n",
       "      <td>2.000000</td>\n",
       "      <td>3.000000</td>\n",
       "      <td>2.000000</td>\n",
       "      <td>2.000000</td>\n",
       "      <td>2.000000</td>\n",
       "    </tr>\n",
       "    <tr>\n",
       "      <th>50%</th>\n",
       "      <td>3643.000000</td>\n",
       "      <td>3188.000000</td>\n",
       "      <td>2403.000000</td>\n",
       "      <td>24.000000</td>\n",
       "      <td>25.000000</td>\n",
       "      <td>25.000000</td>\n",
       "      <td>24.000000</td>\n",
       "      <td>25.000000</td>\n",
       "      <td>3.000000</td>\n",
       "      <td>4.00000</td>\n",
       "      <td>4.000000</td>\n",
       "      <td>3.000000</td>\n",
       "      <td>4.000000</td>\n",
       "      <td>3.000000</td>\n",
       "      <td>3.000000</td>\n",
       "      <td>3.000000</td>\n",
       "    </tr>\n",
       "    <tr>\n",
       "      <th>75%</th>\n",
       "      <td>4876.000000</td>\n",
       "      <td>4419.000000</td>\n",
       "      <td>4416.000000</td>\n",
       "      <td>28.000000</td>\n",
       "      <td>28.000000</td>\n",
       "      <td>29.000000</td>\n",
       "      <td>27.000000</td>\n",
       "      <td>27.000000</td>\n",
       "      <td>4.000000</td>\n",
       "      <td>5.00000</td>\n",
       "      <td>5.000000</td>\n",
       "      <td>4.000000</td>\n",
       "      <td>4.000000</td>\n",
       "      <td>4.000000</td>\n",
       "      <td>4.000000</td>\n",
       "      <td>3.000000</td>\n",
       "    </tr>\n",
       "    <tr>\n",
       "      <th>max</th>\n",
       "      <td>8503.000000</td>\n",
       "      <td>8503.000000</td>\n",
       "      <td>8503.000000</td>\n",
       "      <td>36.000000</td>\n",
       "      <td>36.000000</td>\n",
       "      <td>36.000000</td>\n",
       "      <td>36.000000</td>\n",
       "      <td>36.000000</td>\n",
       "      <td>5.000000</td>\n",
       "      <td>5.00000</td>\n",
       "      <td>5.000000</td>\n",
       "      <td>5.000000</td>\n",
       "      <td>5.000000</td>\n",
       "      <td>5.000000</td>\n",
       "      <td>5.000000</td>\n",
       "      <td>5.000000</td>\n",
       "    </tr>\n",
       "  </tbody>\n",
       "</table>\n",
       "</div>"
      ],
      "text/plain": [
       "       Entering Term Major code  Last enrolled major code  grad major code  \\\n",
       "count             156484.000000             156484.000000     96867.000000   \n",
       "mean                3436.091492               3179.493642      2969.503340   \n",
       "std                 1828.138750               1972.441377      1924.744961   \n",
       "min                  101.000000                101.000000       109.000000   \n",
       "25%                 2237.000000               1353.000000      1328.000000   \n",
       "50%                 3643.000000               3188.000000      2403.000000   \n",
       "75%                 4876.000000               4419.000000      4416.000000   \n",
       "max                 8503.000000               8503.000000      8503.000000   \n",
       "\n",
       "            ACT_ENGL       ACT_MATH       ACT_READ        ACT_SCI  \\\n",
       "count  120951.000000  120951.000000  120949.000000  120951.000000   \n",
       "mean       24.447413      24.681631      25.170989      24.672330   \n",
       "std         4.695052       4.448751       5.045863       3.961457   \n",
       "min         6.000000      11.000000       4.000000       2.000000   \n",
       "25%        21.000000      22.000000      22.000000      22.000000   \n",
       "50%        24.000000      25.000000      25.000000      24.000000   \n",
       "75%        28.000000      28.000000      29.000000      27.000000   \n",
       "max        36.000000      36.000000      36.000000      36.000000   \n",
       "\n",
       "            ACT_COMP  ap66 calculus AB  ap68 calculus BC  \\\n",
       "count  120951.000000      16937.000000        4986.00000   \n",
       "mean       24.620541          3.165141           3.63217   \n",
       "std         3.844721          1.438577           1.35269   \n",
       "min         9.000000          1.000000           1.00000   \n",
       "25%        22.000000          2.000000           3.00000   \n",
       "50%        25.000000          3.000000           4.00000   \n",
       "75%        27.000000          4.000000           5.00000   \n",
       "max        36.000000          5.000000           5.00000   \n",
       "\n",
       "       ap69 Calculus AB Subscore Grade  ap78 physics B  ap80 physics C Mech  \\\n",
       "count                      4936.000000     2219.000000          2489.000000   \n",
       "mean                          3.979741        3.132041             3.388911   \n",
       "std                           1.210556        1.211664             1.221053   \n",
       "min                           1.000000        1.000000             1.000000   \n",
       "25%                           3.000000        2.000000             3.000000   \n",
       "50%                           4.000000        3.000000             4.000000   \n",
       "75%                           5.000000        4.000000             4.000000   \n",
       "max                           5.000000        5.000000             5.000000   \n",
       "\n",
       "       ap82 physics C Physics C Electricity & Magnet  ap83 physics 1  \\\n",
       "count                                     960.000000      384.000000   \n",
       "mean                                        3.150000        2.786458   \n",
       "std                                         1.323723        1.086938   \n",
       "min                                         1.000000        1.000000   \n",
       "25%                                         2.000000        2.000000   \n",
       "50%                                         3.000000        3.000000   \n",
       "75%                                         4.000000        4.000000   \n",
       "max                                         5.000000        5.000000   \n",
       "\n",
       "       ap84 physics 2  \n",
       "count       74.000000  \n",
       "mean         2.756757  \n",
       "std          0.933557  \n",
       "min          1.000000  \n",
       "25%          2.000000  \n",
       "50%          3.000000  \n",
       "75%          3.000000  \n",
       "max          5.000000  "
      ]
     },
     "execution_count": 12,
     "metadata": {},
     "output_type": "execute_result"
    }
   ],
   "source": [
    "demogs_all.describe()"
   ]
  },
  {
   "cell_type": "code",
   "execution_count": 15,
   "metadata": {},
   "outputs": [
    {
     "data": {
      "text/plain": [
       "0      Biological Science Interdept\n",
       "1                    Music Therapy \n",
       "2     General Business Admin Prelaw\n",
       "3                    No Preference \n",
       "4       Engineering   No Preference\n",
       "Name: Entering Term Major Name, dtype: object"
      ]
     },
     "execution_count": 15,
     "metadata": {},
     "output_type": "execute_result"
    }
   ],
   "source": [
    "# demogs_all['Entering Term Major name'].head()\n",
    "demogs_all['Entering Term Major Name'].head()"
   ]
  },
  {
   "cell_type": "code",
   "execution_count": 16,
   "metadata": {
    "collapsed": true
   },
   "outputs": [],
   "source": [
    "demogs_all['Entering Term College'] = \"\"\n",
    "demogs_all['Entering Term Department'] = \"\"\n",
    "demogs_all['Last Enrolled College'] = \"\"\n",
    "demogs_all['Last Enrolled Department'] = \"\"\n",
    "demogs_all['Grad College'] = \"\"\n",
    "demogs_all['Grad Department'] = \"\""
   ]
  },
  {
   "cell_type": "code",
   "execution_count": 17,
   "metadata": {},
   "outputs": [
    {
     "data": {
      "text/html": [
       "<div>\n",
       "<style>\n",
       "    .dataframe thead tr:only-child th {\n",
       "        text-align: right;\n",
       "    }\n",
       "\n",
       "    .dataframe thead th {\n",
       "        text-align: left;\n",
       "    }\n",
       "\n",
       "    .dataframe tbody tr th {\n",
       "        vertical-align: top;\n",
       "    }\n",
       "</style>\n",
       "<table border=\"1\" class=\"dataframe\">\n",
       "  <thead>\n",
       "    <tr style=\"text-align: right;\">\n",
       "      <th></th>\n",
       "      <th>placeholderID</th>\n",
       "      <th>Gender</th>\n",
       "      <th>Ethnicity</th>\n",
       "      <th>citizenship</th>\n",
       "      <th>First Gen</th>\n",
       "      <th>Pell eligible</th>\n",
       "      <th>permanent ZIP</th>\n",
       "      <th>Entering term code</th>\n",
       "      <th>Entering Term Major code</th>\n",
       "      <th>Entering Term Major Name</th>\n",
       "      <th>...</th>\n",
       "      <th>ap80 physics C Mech</th>\n",
       "      <th>ap82 physics C Physics C Electricity &amp; Magnet</th>\n",
       "      <th>ap83 physics 1</th>\n",
       "      <th>ap84 physics 2</th>\n",
       "      <th>Entering Term College</th>\n",
       "      <th>Entering Term Department</th>\n",
       "      <th>Last Enrolled College</th>\n",
       "      <th>Last Enrolled Department</th>\n",
       "      <th>Grad College</th>\n",
       "      <th>Grad Department</th>\n",
       "    </tr>\n",
       "  </thead>\n",
       "  <tbody>\n",
       "    <tr>\n",
       "      <th>0</th>\n",
       "      <td>97758DD4-7286-4A19-BA6C-00005FE6CFA3</td>\n",
       "      <td>M</td>\n",
       "      <td>White (non-Hispanic)</td>\n",
       "      <td>US Citizen</td>\n",
       "      <td>N</td>\n",
       "      <td>N</td>\n",
       "      <td>49504</td>\n",
       "      <td>FS98</td>\n",
       "      <td>3784.0</td>\n",
       "      <td>Biological Science Interdept</td>\n",
       "      <td>...</td>\n",
       "      <td>NaN</td>\n",
       "      <td>NaN</td>\n",
       "      <td>NaN</td>\n",
       "      <td>NaN</td>\n",
       "      <td></td>\n",
       "      <td></td>\n",
       "      <td></td>\n",
       "      <td></td>\n",
       "      <td></td>\n",
       "      <td></td>\n",
       "    </tr>\n",
       "    <tr>\n",
       "      <th>1</th>\n",
       "      <td>592FB87B-B37F-476D-B7F0-0001F057D6A6</td>\n",
       "      <td>F</td>\n",
       "      <td>White (non-Hispanic)</td>\n",
       "      <td>US Citizen</td>\n",
       "      <td>N</td>\n",
       "      <td>N</td>\n",
       "      <td>22309</td>\n",
       "      <td>FS99</td>\n",
       "      <td>843.0</td>\n",
       "      <td>Music Therapy</td>\n",
       "      <td>...</td>\n",
       "      <td>NaN</td>\n",
       "      <td>NaN</td>\n",
       "      <td>NaN</td>\n",
       "      <td>NaN</td>\n",
       "      <td></td>\n",
       "      <td></td>\n",
       "      <td></td>\n",
       "      <td></td>\n",
       "      <td></td>\n",
       "      <td></td>\n",
       "    </tr>\n",
       "    <tr>\n",
       "      <th>2</th>\n",
       "      <td>9C41EAAC-FC57-42F9-B53F-000201BE35C3</td>\n",
       "      <td>M</td>\n",
       "      <td>White (non-Hispanic)</td>\n",
       "      <td>US Citizen</td>\n",
       "      <td>N</td>\n",
       "      <td>N</td>\n",
       "      <td>48879</td>\n",
       "      <td>FS05</td>\n",
       "      <td>1069.0</td>\n",
       "      <td>General Business Admin Prelaw</td>\n",
       "      <td>...</td>\n",
       "      <td>NaN</td>\n",
       "      <td>NaN</td>\n",
       "      <td>NaN</td>\n",
       "      <td>NaN</td>\n",
       "      <td></td>\n",
       "      <td></td>\n",
       "      <td></td>\n",
       "      <td></td>\n",
       "      <td></td>\n",
       "      <td></td>\n",
       "    </tr>\n",
       "    <tr>\n",
       "      <th>3</th>\n",
       "      <td>7AED7EC2-ED7F-4FE1-8270-000209CBA389</td>\n",
       "      <td>M</td>\n",
       "      <td>White (non-Hispanic)</td>\n",
       "      <td>US Citizen</td>\n",
       "      <td>N</td>\n",
       "      <td>Y</td>\n",
       "      <td>49341</td>\n",
       "      <td>FS05</td>\n",
       "      <td>5151.0</td>\n",
       "      <td>No Preference</td>\n",
       "      <td>...</td>\n",
       "      <td>NaN</td>\n",
       "      <td>NaN</td>\n",
       "      <td>NaN</td>\n",
       "      <td>NaN</td>\n",
       "      <td></td>\n",
       "      <td></td>\n",
       "      <td></td>\n",
       "      <td></td>\n",
       "      <td></td>\n",
       "      <td></td>\n",
       "    </tr>\n",
       "    <tr>\n",
       "      <th>4</th>\n",
       "      <td>3C1C5E03-FA14-4F6A-B0C6-000250988C23</td>\n",
       "      <td>M</td>\n",
       "      <td>White (non-Hispanic)</td>\n",
       "      <td>US Citizen</td>\n",
       "      <td>N</td>\n",
       "      <td>N</td>\n",
       "      <td>48154</td>\n",
       "      <td>FS11</td>\n",
       "      <td>2371.0</td>\n",
       "      <td>Engineering   No Preference</td>\n",
       "      <td>...</td>\n",
       "      <td>NaN</td>\n",
       "      <td>NaN</td>\n",
       "      <td>NaN</td>\n",
       "      <td>NaN</td>\n",
       "      <td></td>\n",
       "      <td></td>\n",
       "      <td></td>\n",
       "      <td></td>\n",
       "      <td></td>\n",
       "      <td></td>\n",
       "    </tr>\n",
       "  </tbody>\n",
       "</table>\n",
       "<p>5 rows × 37 columns</p>\n",
       "</div>"
      ],
      "text/plain": [
       "                          placeholderID Gender             Ethnicity  \\\n",
       "0  97758DD4-7286-4A19-BA6C-00005FE6CFA3      M  White (non-Hispanic)   \n",
       "1  592FB87B-B37F-476D-B7F0-0001F057D6A6      F  White (non-Hispanic)   \n",
       "2  9C41EAAC-FC57-42F9-B53F-000201BE35C3      M  White (non-Hispanic)   \n",
       "3  7AED7EC2-ED7F-4FE1-8270-000209CBA389      M  White (non-Hispanic)   \n",
       "4  3C1C5E03-FA14-4F6A-B0C6-000250988C23      M  White (non-Hispanic)   \n",
       "\n",
       "  citizenship First Gen Pell eligible permanent ZIP Entering term code  \\\n",
       "0  US Citizen         N             N         49504               FS98   \n",
       "1  US Citizen         N             N         22309               FS99   \n",
       "2  US Citizen         N             N         48879               FS05   \n",
       "3  US Citizen         N             Y         49341               FS05   \n",
       "4  US Citizen         N             N         48154               FS11   \n",
       "\n",
       "   Entering Term Major code        Entering Term Major Name       ...         \\\n",
       "0                    3784.0    Biological Science Interdept       ...          \n",
       "1                     843.0                  Music Therapy        ...          \n",
       "2                    1069.0   General Business Admin Prelaw       ...          \n",
       "3                    5151.0                  No Preference        ...          \n",
       "4                    2371.0     Engineering   No Preference       ...          \n",
       "\n",
       "  ap80 physics C Mech  ap82 physics C Physics C Electricity & Magnet  \\\n",
       "0                 NaN                                            NaN   \n",
       "1                 NaN                                            NaN   \n",
       "2                 NaN                                            NaN   \n",
       "3                 NaN                                            NaN   \n",
       "4                 NaN                                            NaN   \n",
       "\n",
       "  ap83 physics 1 ap84 physics 2  Entering Term College  \\\n",
       "0            NaN            NaN                          \n",
       "1            NaN            NaN                          \n",
       "2            NaN            NaN                          \n",
       "3            NaN            NaN                          \n",
       "4            NaN            NaN                          \n",
       "\n",
       "  Entering Term Department Last Enrolled College  Last Enrolled Department  \\\n",
       "0                                                                            \n",
       "1                                                                            \n",
       "2                                                                            \n",
       "3                                                                            \n",
       "4                                                                            \n",
       "\n",
       "   Grad College  Grad Department  \n",
       "0                                 \n",
       "1                                 \n",
       "2                                 \n",
       "3                                 \n",
       "4                                 \n",
       "\n",
       "[5 rows x 37 columns]"
      ]
     },
     "execution_count": 17,
     "metadata": {},
     "output_type": "execute_result"
    }
   ],
   "source": [
    "demogs_all.head()"
   ]
  },
  {
   "cell_type": "code",
   "execution_count": 18,
   "metadata": {},
   "outputs": [
    {
     "data": {
      "text/plain": [
       "['placeholderID',\n",
       " 'Gender',\n",
       " 'Ethnicity',\n",
       " 'citizenship',\n",
       " 'First Gen',\n",
       " 'Pell eligible',\n",
       " 'permanent ZIP',\n",
       " 'Entering term code',\n",
       " 'Entering Term Major code',\n",
       " 'Entering Term Major Name',\n",
       " 'last enrolled term',\n",
       " 'Last enrolled major code',\n",
       " 'Last enrolled major name',\n",
       " 'grad term',\n",
       " 'grad major code',\n",
       " 'grad major name',\n",
       " 'other awards',\n",
       " 'ACT_ENGL',\n",
       " 'ACT_MATH',\n",
       " 'ACT_READ',\n",
       " 'ACT_SCI',\n",
       " 'ACT_COMP',\n",
       " 'ACT_EW',\n",
       " 'ap66 calculus AB',\n",
       " 'ap68 calculus BC',\n",
       " 'ap69 Calculus AB Subscore Grade',\n",
       " 'ap78 physics B',\n",
       " 'ap80 physics C Mech',\n",
       " 'ap82 physics C Physics C Electricity & Magnet',\n",
       " 'ap83 physics 1',\n",
       " 'ap84 physics 2',\n",
       " 'Entering Term College',\n",
       " 'Entering Term Department',\n",
       " 'Last Enrolled College',\n",
       " 'Last Enrolled Department',\n",
       " 'Grad College',\n",
       " 'Grad Department']"
      ]
     },
     "execution_count": 18,
     "metadata": {},
     "output_type": "execute_result"
    }
   ],
   "source": [
    "cols = demogs_all.columns.tolist()\n",
    "cols"
   ]
  },
  {
   "cell_type": "code",
   "execution_count": 21,
   "metadata": {
    "collapsed": true
   },
   "outputs": [],
   "source": [
    "cols = ['placeholderID',\n",
    " 'Gender',\n",
    " 'Ethnicity',\n",
    " 'citizenship',\n",
    " 'First Gen',\n",
    " 'Pell eligible',\n",
    " 'permanent ZIP',\n",
    " 'Entering term code',\n",
    " 'Entering Term Major code',\n",
    "#  'Entering Term Major name',\n",
    " 'Entering Term Major Name',\n",
    " 'Entering Term College',\n",
    " 'Entering Term Department',\n",
    " 'last enrolled term',\n",
    " 'Last enrolled major code',\n",
    " 'Last enrolled major name',\n",
    " 'Last Enrolled College',\n",
    " 'Last Enrolled Department',\n",
    " 'grad term',\n",
    " 'grad major code',\n",
    " 'grad major name',\n",
    " 'Grad College',\n",
    " 'Grad Department',\n",
    " 'other awards',\n",
    " 'ACT_ENGL',\n",
    " 'ACT_MATH',\n",
    " 'ACT_READ',\n",
    " 'ACT_SCI',\n",
    " 'ACT_COMP',\n",
    " 'ACT_EW',\n",
    " 'ap66 calculus AB',\n",
    " 'ap68 calculus BC',\n",
    " 'ap69 Calculus AB Subscore Grade',\n",
    " 'ap78 physics B',\n",
    " 'ap80 physics C Mech',\n",
    " 'ap82 physics C Physics C Electricity & Magnet',\n",
    " 'ap83 physics 1',\n",
    " 'ap84 physics 2']"
   ]
  },
  {
   "cell_type": "code",
   "execution_count": 22,
   "metadata": {},
   "outputs": [
    {
     "data": {
      "text/html": [
       "<div>\n",
       "<style>\n",
       "    .dataframe thead tr:only-child th {\n",
       "        text-align: right;\n",
       "    }\n",
       "\n",
       "    .dataframe thead th {\n",
       "        text-align: left;\n",
       "    }\n",
       "\n",
       "    .dataframe tbody tr th {\n",
       "        vertical-align: top;\n",
       "    }\n",
       "</style>\n",
       "<table border=\"1\" class=\"dataframe\">\n",
       "  <thead>\n",
       "    <tr style=\"text-align: right;\">\n",
       "      <th></th>\n",
       "      <th>placeholderID</th>\n",
       "      <th>Gender</th>\n",
       "      <th>Ethnicity</th>\n",
       "      <th>citizenship</th>\n",
       "      <th>First Gen</th>\n",
       "      <th>Pell eligible</th>\n",
       "      <th>permanent ZIP</th>\n",
       "      <th>Entering term code</th>\n",
       "      <th>Entering Term Major code</th>\n",
       "      <th>Entering Term Major Name</th>\n",
       "      <th>...</th>\n",
       "      <th>ACT_COMP</th>\n",
       "      <th>ACT_EW</th>\n",
       "      <th>ap66 calculus AB</th>\n",
       "      <th>ap68 calculus BC</th>\n",
       "      <th>ap69 Calculus AB Subscore Grade</th>\n",
       "      <th>ap78 physics B</th>\n",
       "      <th>ap80 physics C Mech</th>\n",
       "      <th>ap82 physics C Physics C Electricity &amp; Magnet</th>\n",
       "      <th>ap83 physics 1</th>\n",
       "      <th>ap84 physics 2</th>\n",
       "    </tr>\n",
       "  </thead>\n",
       "  <tbody>\n",
       "    <tr>\n",
       "      <th>0</th>\n",
       "      <td>97758DD4-7286-4A19-BA6C-00005FE6CFA3</td>\n",
       "      <td>M</td>\n",
       "      <td>White (non-Hispanic)</td>\n",
       "      <td>US Citizen</td>\n",
       "      <td>N</td>\n",
       "      <td>N</td>\n",
       "      <td>49504</td>\n",
       "      <td>FS98</td>\n",
       "      <td>3784.0</td>\n",
       "      <td>Biological Science Interdept</td>\n",
       "      <td>...</td>\n",
       "      <td>NaN</td>\n",
       "      <td>NaN</td>\n",
       "      <td>NaN</td>\n",
       "      <td>NaN</td>\n",
       "      <td>NaN</td>\n",
       "      <td>NaN</td>\n",
       "      <td>NaN</td>\n",
       "      <td>NaN</td>\n",
       "      <td>NaN</td>\n",
       "      <td>NaN</td>\n",
       "    </tr>\n",
       "    <tr>\n",
       "      <th>1</th>\n",
       "      <td>592FB87B-B37F-476D-B7F0-0001F057D6A6</td>\n",
       "      <td>F</td>\n",
       "      <td>White (non-Hispanic)</td>\n",
       "      <td>US Citizen</td>\n",
       "      <td>N</td>\n",
       "      <td>N</td>\n",
       "      <td>22309</td>\n",
       "      <td>FS99</td>\n",
       "      <td>843.0</td>\n",
       "      <td>Music Therapy</td>\n",
       "      <td>...</td>\n",
       "      <td>NaN</td>\n",
       "      <td>NaN</td>\n",
       "      <td>NaN</td>\n",
       "      <td>NaN</td>\n",
       "      <td>NaN</td>\n",
       "      <td>NaN</td>\n",
       "      <td>NaN</td>\n",
       "      <td>NaN</td>\n",
       "      <td>NaN</td>\n",
       "      <td>NaN</td>\n",
       "    </tr>\n",
       "    <tr>\n",
       "      <th>2</th>\n",
       "      <td>9C41EAAC-FC57-42F9-B53F-000201BE35C3</td>\n",
       "      <td>M</td>\n",
       "      <td>White (non-Hispanic)</td>\n",
       "      <td>US Citizen</td>\n",
       "      <td>N</td>\n",
       "      <td>N</td>\n",
       "      <td>48879</td>\n",
       "      <td>FS05</td>\n",
       "      <td>1069.0</td>\n",
       "      <td>General Business Admin Prelaw</td>\n",
       "      <td>...</td>\n",
       "      <td>26.0</td>\n",
       "      <td></td>\n",
       "      <td>NaN</td>\n",
       "      <td>NaN</td>\n",
       "      <td>NaN</td>\n",
       "      <td>NaN</td>\n",
       "      <td>NaN</td>\n",
       "      <td>NaN</td>\n",
       "      <td>NaN</td>\n",
       "      <td>NaN</td>\n",
       "    </tr>\n",
       "    <tr>\n",
       "      <th>3</th>\n",
       "      <td>7AED7EC2-ED7F-4FE1-8270-000209CBA389</td>\n",
       "      <td>M</td>\n",
       "      <td>White (non-Hispanic)</td>\n",
       "      <td>US Citizen</td>\n",
       "      <td>N</td>\n",
       "      <td>Y</td>\n",
       "      <td>49341</td>\n",
       "      <td>FS05</td>\n",
       "      <td>5151.0</td>\n",
       "      <td>No Preference</td>\n",
       "      <td>...</td>\n",
       "      <td>22.0</td>\n",
       "      <td></td>\n",
       "      <td>NaN</td>\n",
       "      <td>NaN</td>\n",
       "      <td>NaN</td>\n",
       "      <td>NaN</td>\n",
       "      <td>NaN</td>\n",
       "      <td>NaN</td>\n",
       "      <td>NaN</td>\n",
       "      <td>NaN</td>\n",
       "    </tr>\n",
       "    <tr>\n",
       "      <th>4</th>\n",
       "      <td>3C1C5E03-FA14-4F6A-B0C6-000250988C23</td>\n",
       "      <td>M</td>\n",
       "      <td>White (non-Hispanic)</td>\n",
       "      <td>US Citizen</td>\n",
       "      <td>N</td>\n",
       "      <td>N</td>\n",
       "      <td>48154</td>\n",
       "      <td>FS11</td>\n",
       "      <td>2371.0</td>\n",
       "      <td>Engineering   No Preference</td>\n",
       "      <td>...</td>\n",
       "      <td>26.0</td>\n",
       "      <td>22</td>\n",
       "      <td>NaN</td>\n",
       "      <td>NaN</td>\n",
       "      <td>NaN</td>\n",
       "      <td>NaN</td>\n",
       "      <td>NaN</td>\n",
       "      <td>NaN</td>\n",
       "      <td>NaN</td>\n",
       "      <td>NaN</td>\n",
       "    </tr>\n",
       "  </tbody>\n",
       "</table>\n",
       "<p>5 rows × 37 columns</p>\n",
       "</div>"
      ],
      "text/plain": [
       "                          placeholderID Gender             Ethnicity  \\\n",
       "0  97758DD4-7286-4A19-BA6C-00005FE6CFA3      M  White (non-Hispanic)   \n",
       "1  592FB87B-B37F-476D-B7F0-0001F057D6A6      F  White (non-Hispanic)   \n",
       "2  9C41EAAC-FC57-42F9-B53F-000201BE35C3      M  White (non-Hispanic)   \n",
       "3  7AED7EC2-ED7F-4FE1-8270-000209CBA389      M  White (non-Hispanic)   \n",
       "4  3C1C5E03-FA14-4F6A-B0C6-000250988C23      M  White (non-Hispanic)   \n",
       "\n",
       "  citizenship First Gen Pell eligible permanent ZIP Entering term code  \\\n",
       "0  US Citizen         N             N         49504               FS98   \n",
       "1  US Citizen         N             N         22309               FS99   \n",
       "2  US Citizen         N             N         48879               FS05   \n",
       "3  US Citizen         N             Y         49341               FS05   \n",
       "4  US Citizen         N             N         48154               FS11   \n",
       "\n",
       "   Entering Term Major code        Entering Term Major Name      ...        \\\n",
       "0                    3784.0    Biological Science Interdept      ...         \n",
       "1                     843.0                  Music Therapy       ...         \n",
       "2                    1069.0   General Business Admin Prelaw      ...         \n",
       "3                    5151.0                  No Preference       ...         \n",
       "4                    2371.0     Engineering   No Preference      ...         \n",
       "\n",
       "  ACT_COMP ACT_EW ap66 calculus AB  ap68 calculus BC  \\\n",
       "0      NaN    NaN              NaN               NaN   \n",
       "1      NaN    NaN              NaN               NaN   \n",
       "2     26.0                     NaN               NaN   \n",
       "3     22.0                     NaN               NaN   \n",
       "4     26.0     22              NaN               NaN   \n",
       "\n",
       "  ap69 Calculus AB Subscore Grade ap78 physics B ap80 physics C Mech  \\\n",
       "0                             NaN            NaN                 NaN   \n",
       "1                             NaN            NaN                 NaN   \n",
       "2                             NaN            NaN                 NaN   \n",
       "3                             NaN            NaN                 NaN   \n",
       "4                             NaN            NaN                 NaN   \n",
       "\n",
       "  ap82 physics C Physics C Electricity & Magnet  ap83 physics 1 ap84 physics 2  \n",
       "0                                           NaN             NaN            NaN  \n",
       "1                                           NaN             NaN            NaN  \n",
       "2                                           NaN             NaN            NaN  \n",
       "3                                           NaN             NaN            NaN  \n",
       "4                                           NaN             NaN            NaN  \n",
       "\n",
       "[5 rows x 37 columns]"
      ]
     },
     "execution_count": 22,
     "metadata": {},
     "output_type": "execute_result"
    }
   ],
   "source": [
    "demogs_all = demogs_all[cols]\n",
    "demogs_all.head()"
   ]
  },
  {
   "cell_type": "code",
   "execution_count": 24,
   "metadata": {},
   "outputs": [
    {
     "name": "stdout",
     "output_type": "stream",
     "text": [
      "843.0\n",
      " Music Therapy \n"
     ]
    }
   ],
   "source": [
    "print(demogs_all['Entering Term Major code'][1])\n",
    "# print(demogs_all['Entering Term Major name'][1])\n",
    "print(demogs_all['Entering Term Major Name'][1])"
   ]
  },
  {
   "cell_type": "code",
   "execution_count": 25,
   "metadata": {},
   "outputs": [
    {
     "ename": "FileNotFoundError",
     "evalue": "[Errno 2] No such file or directory: 'major_codes_as_of_US17.xlsx'",
     "output_type": "error",
     "traceback": [
      "\u001b[0;31m---------------------------------------------------------------------------\u001b[0m",
      "\u001b[0;31mFileNotFoundError\u001b[0m                         Traceback (most recent call last)",
      "\u001b[0;32m<ipython-input-25-5151788a472a>\u001b[0m in \u001b[0;36m<module>\u001b[0;34m()\u001b[0m\n\u001b[0;32m----> 1\u001b[0;31m \u001b[0mmajor_codes\u001b[0m \u001b[0;34m=\u001b[0m \u001b[0mpd\u001b[0m\u001b[0;34m.\u001b[0m\u001b[0mread_excel\u001b[0m\u001b[0;34m(\u001b[0m\u001b[0;34m'major_codes_as_of_US17.xlsx'\u001b[0m\u001b[0;34m)\u001b[0m\u001b[0;34m\u001b[0m\u001b[0m\n\u001b[0m\u001b[1;32m      2\u001b[0m \u001b[0mmajor_codes\u001b[0m\u001b[0;34m.\u001b[0m\u001b[0mhead\u001b[0m\u001b[0;34m(\u001b[0m\u001b[0;34m)\u001b[0m\u001b[0;34m\u001b[0m\u001b[0m\n",
      "\u001b[0;32m~/anaconda3/envs/research/lib/python3.5/site-packages/pandas/io/excel.py\u001b[0m in \u001b[0;36mread_excel\u001b[0;34m(io, sheetname, header, skiprows, skip_footer, index_col, names, parse_cols, parse_dates, date_parser, na_values, thousands, convert_float, has_index_names, converters, dtype, true_values, false_values, engine, squeeze, **kwds)\u001b[0m\n\u001b[1;32m    201\u001b[0m \u001b[0;34m\u001b[0m\u001b[0m\n\u001b[1;32m    202\u001b[0m     \u001b[0;32mif\u001b[0m \u001b[0;32mnot\u001b[0m \u001b[0misinstance\u001b[0m\u001b[0;34m(\u001b[0m\u001b[0mio\u001b[0m\u001b[0;34m,\u001b[0m \u001b[0mExcelFile\u001b[0m\u001b[0;34m)\u001b[0m\u001b[0;34m:\u001b[0m\u001b[0;34m\u001b[0m\u001b[0m\n\u001b[0;32m--> 203\u001b[0;31m         \u001b[0mio\u001b[0m \u001b[0;34m=\u001b[0m \u001b[0mExcelFile\u001b[0m\u001b[0;34m(\u001b[0m\u001b[0mio\u001b[0m\u001b[0;34m,\u001b[0m \u001b[0mengine\u001b[0m\u001b[0;34m=\u001b[0m\u001b[0mengine\u001b[0m\u001b[0;34m)\u001b[0m\u001b[0;34m\u001b[0m\u001b[0m\n\u001b[0m\u001b[1;32m    204\u001b[0m \u001b[0;34m\u001b[0m\u001b[0m\n\u001b[1;32m    205\u001b[0m     return io._parse_excel(\n",
      "\u001b[0;32m~/anaconda3/envs/research/lib/python3.5/site-packages/pandas/io/excel.py\u001b[0m in \u001b[0;36m__init__\u001b[0;34m(self, io, **kwds)\u001b[0m\n\u001b[1;32m    258\u001b[0m             \u001b[0mself\u001b[0m\u001b[0;34m.\u001b[0m\u001b[0mbook\u001b[0m \u001b[0;34m=\u001b[0m \u001b[0mxlrd\u001b[0m\u001b[0;34m.\u001b[0m\u001b[0mopen_workbook\u001b[0m\u001b[0;34m(\u001b[0m\u001b[0mfile_contents\u001b[0m\u001b[0;34m=\u001b[0m\u001b[0mdata\u001b[0m\u001b[0;34m)\u001b[0m\u001b[0;34m\u001b[0m\u001b[0m\n\u001b[1;32m    259\u001b[0m         \u001b[0;32melif\u001b[0m \u001b[0misinstance\u001b[0m\u001b[0;34m(\u001b[0m\u001b[0mio\u001b[0m\u001b[0;34m,\u001b[0m \u001b[0mcompat\u001b[0m\u001b[0;34m.\u001b[0m\u001b[0mstring_types\u001b[0m\u001b[0;34m)\u001b[0m\u001b[0;34m:\u001b[0m\u001b[0;34m\u001b[0m\u001b[0m\n\u001b[0;32m--> 260\u001b[0;31m             \u001b[0mself\u001b[0m\u001b[0;34m.\u001b[0m\u001b[0mbook\u001b[0m \u001b[0;34m=\u001b[0m \u001b[0mxlrd\u001b[0m\u001b[0;34m.\u001b[0m\u001b[0mopen_workbook\u001b[0m\u001b[0;34m(\u001b[0m\u001b[0mio\u001b[0m\u001b[0;34m)\u001b[0m\u001b[0;34m\u001b[0m\u001b[0m\n\u001b[0m\u001b[1;32m    261\u001b[0m         \u001b[0;32melse\u001b[0m\u001b[0;34m:\u001b[0m\u001b[0;34m\u001b[0m\u001b[0m\n\u001b[1;32m    262\u001b[0m             raise ValueError('Must explicitly set engine if not passing in'\n",
      "\u001b[0;32m~/anaconda3/envs/research/lib/python3.5/site-packages/xlrd/__init__.py\u001b[0m in \u001b[0;36mopen_workbook\u001b[0;34m(filename, logfile, verbosity, use_mmap, file_contents, encoding_override, formatting_info, on_demand, ragged_rows)\u001b[0m\n\u001b[1;32m    393\u001b[0m         \u001b[0mpeek\u001b[0m \u001b[0;34m=\u001b[0m \u001b[0mfile_contents\u001b[0m\u001b[0;34m[\u001b[0m\u001b[0;34m:\u001b[0m\u001b[0mpeeksz\u001b[0m\u001b[0;34m]\u001b[0m\u001b[0;34m\u001b[0m\u001b[0m\n\u001b[1;32m    394\u001b[0m     \u001b[0;32melse\u001b[0m\u001b[0;34m:\u001b[0m\u001b[0;34m\u001b[0m\u001b[0m\n\u001b[0;32m--> 395\u001b[0;31m         \u001b[0;32mwith\u001b[0m \u001b[0mopen\u001b[0m\u001b[0;34m(\u001b[0m\u001b[0mfilename\u001b[0m\u001b[0;34m,\u001b[0m \u001b[0;34m\"rb\"\u001b[0m\u001b[0;34m)\u001b[0m \u001b[0;32mas\u001b[0m \u001b[0mf\u001b[0m\u001b[0;34m:\u001b[0m\u001b[0;34m\u001b[0m\u001b[0m\n\u001b[0m\u001b[1;32m    396\u001b[0m             \u001b[0mpeek\u001b[0m \u001b[0;34m=\u001b[0m \u001b[0mf\u001b[0m\u001b[0;34m.\u001b[0m\u001b[0mread\u001b[0m\u001b[0;34m(\u001b[0m\u001b[0mpeeksz\u001b[0m\u001b[0;34m)\u001b[0m\u001b[0;34m\u001b[0m\u001b[0m\n\u001b[1;32m    397\u001b[0m     \u001b[0;32mif\u001b[0m \u001b[0mpeek\u001b[0m \u001b[0;34m==\u001b[0m \u001b[0;34mb\"PK\\x03\\x04\"\u001b[0m\u001b[0;34m:\u001b[0m \u001b[0;31m# a ZIP file\u001b[0m\u001b[0;34m\u001b[0m\u001b[0m\n",
      "\u001b[0;31mFileNotFoundError\u001b[0m: [Errno 2] No such file or directory: 'major_codes_as_of_US17.xlsx'"
     ]
    }
   ],
   "source": [
    "major_codes = pd.read_excel('major_codes_as_of_US17.xlsx')\n",
    "major_codes.head()"
   ]
  },
  {
   "cell_type": "code",
   "execution_count": 17,
   "metadata": {},
   "outputs": [
    {
     "data": {
      "text/plain": [
       "['Agriculture and Natural Resources',\n",
       " 'Arts and Letters',\n",
       " 'Resdntl Coll Arts and Humanities',\n",
       " 'Business',\n",
       " 'Communication Arts and Sciences',\n",
       " 'Education',\n",
       " 'Engineering',\n",
       " 'Human Medicine',\n",
       " 'James Madison College',\n",
       " 'Lyman Briggs College',\n",
       " 'Music',\n",
       " 'Natural Science',\n",
       " 'Nursing',\n",
       " 'Osteopathic Medicine',\n",
       " 'Social Science',\n",
       " 'Honors College',\n",
       " 'Assoc Prov Undergraduate Education',\n",
       " 'Veterinary Medicine',\n",
       " 'Assoc Provost Academic Services',\n",
       " 'Assoc Provost Lifelong Education',\n",
       " 'Graduate School Dean',\n",
       " 'MSU College of Law']"
      ]
     },
     "execution_count": 17,
     "metadata": {},
     "output_type": "execute_result"
    }
   ],
   "source": [
    "college_list = []\n",
    "for i in range(len(major_codes['college'])):\n",
    "    if major_codes['college'][i] not in college_list:\n",
    "        college_list.append(major_codes['college'][i])\n",
    "college_list"
   ]
  },
  {
   "cell_type": "code",
   "execution_count": 18,
   "metadata": {},
   "outputs": [],
   "source": [
    "#create dataframes splitting up major codes by college\n",
    "df_ANR = major_codes[major_codes['college'] == 'Agriculture and Natural Resources']\n",
    "df_AL = major_codes[major_codes['college'] == 'Arts and Letters']\n",
    "df_RCAH = major_codes[major_codes['college'] == 'Resdntl Coll Arts and Humanities']\n",
    "df_Bus = major_codes[major_codes['college'] == 'Business']\n",
    "df_CAS = major_codes[major_codes['college'] == 'Communication Arts and Sciences']\n",
    "df_Edu = major_codes[major_codes['college'] == 'Education']\n",
    "df_Eng = major_codes[major_codes['college'] == 'Engineering']\n",
    "df_HM = major_codes[major_codes['college'] == 'Human Medicine']\n",
    "df_JMC = major_codes[major_codes['college'] == 'James Madison College']\n",
    "df_LBC = major_codes[major_codes['college'] == 'Lyman Briggs College']\n",
    "df_Mus = major_codes[major_codes['college'] == 'Music']\n",
    "df_NS = major_codes[major_codes['college'] == 'Natural Science']\n",
    "df_Nur = major_codes[major_codes['college'] == 'Nursing']\n",
    "df_OM = major_codes[major_codes['college'] == 'Osteopathic Medicine']\n",
    "df_SS = major_codes[major_codes['college'] == 'Social Science']\n",
    "df_HC = major_codes[major_codes['college'] == 'Honors College']\n",
    "df_APUE = major_codes[major_codes['college'] == 'Assoc Prov Undergraduate Education']\n",
    "df_VM = major_codes[major_codes['college'] == 'Veterinary Medicine']\n",
    "df_APAS = major_codes[major_codes['college'] == 'Assoc Provost Academic Services']\n",
    "df_APLE = major_codes[major_codes['college'] == 'Assoc Provost Lifelong Education']\n",
    "df_GSD = major_codes[major_codes['college'] == 'Graduate School Dean']\n",
    "df_Law = major_codes[major_codes['college'] == 'MSU College of Law']"
   ]
  },
  {
   "cell_type": "code",
   "execution_count": 19,
   "metadata": {},
   "outputs": [
    {
     "data": {
      "text/plain": [
       "str"
      ]
     },
     "execution_count": 19,
     "metadata": {},
     "output_type": "execute_result"
    }
   ],
   "source": [
    "type(df_ANR['major_code'][0])"
   ]
  },
  {
   "cell_type": "code",
   "execution_count": 20,
   "metadata": {},
   "outputs": [
    {
     "data": {
      "text/plain": [
       "numpy.float64"
      ]
     },
     "execution_count": 20,
     "metadata": {},
     "output_type": "execute_result"
    }
   ],
   "source": [
    "type(demogs_all['Entering Term Major code'][0])"
   ]
  },
  {
   "cell_type": "code",
   "execution_count": 21,
   "metadata": {},
   "outputs": [
    {
     "data": {
      "text/plain": [
       "5432"
      ]
     },
     "execution_count": 21,
     "metadata": {},
     "output_type": "execute_result"
    }
   ],
   "source": [
    "int(df_ANR['major_code'][0])"
   ]
  },
  {
   "cell_type": "code",
   "execution_count": 22,
   "metadata": {},
   "outputs": [
    {
     "data": {
      "text/plain": [
       "3784"
      ]
     },
     "execution_count": 22,
     "metadata": {},
     "output_type": "execute_result"
    }
   ],
   "source": [
    "int(demogs_all['Entering Term Major code'][0])"
   ]
  },
  {
   "cell_type": "code",
   "execution_count": 23,
   "metadata": {},
   "outputs": [
    {
     "name": "stdout",
     "output_type": "stream",
     "text": [
      "Found it!\n",
      "116\n"
     ]
    }
   ],
   "source": [
    "count = 0\n",
    "for i in df_NS['major_code']:\n",
    "    count += 1\n",
    "    try:\n",
    "        if int(i) == 3784:\n",
    "            print('Found it!')\n",
    "            print(count)\n",
    "    except:\n",
    "        continue"
   ]
  },
  {
   "cell_type": "code",
   "execution_count": 24,
   "metadata": {
    "collapsed": true
   },
   "outputs": [],
   "source": [
    "ent_num_students_ls = []"
   ]
  },
  {
   "cell_type": "code",
   "execution_count": 25,
   "metadata": {},
   "outputs": [
    {
     "name": "stdout",
     "output_type": "stream",
     "text": [
      "Entering # ANR students: 6852\n"
     ]
    }
   ],
   "source": [
    "entering_ANR = 0   #find number of entering Agriculture and Natural Resources students\n",
    "for i in demogs_all['Entering Term Major code']:\n",
    "    try:\n",
    "        j = int(i)\n",
    "    except:\n",
    "        continue\n",
    "    for m in df_ANR['major_code']:\n",
    "        try:\n",
    "            n = int(m)\n",
    "        except:\n",
    "            continue\n",
    "        if j == n:\n",
    "            entering_ANR += 1\n",
    "ent_num_students_ls.append(entering_ANR)\n",
    "print('Entering # ANR students:', entering_ANR)"
   ]
  },
  {
   "cell_type": "code",
   "execution_count": 26,
   "metadata": {},
   "outputs": [
    {
     "name": "stdout",
     "output_type": "stream",
     "text": [
      "Entering # AL students: 5395\n"
     ]
    }
   ],
   "source": [
    "entering_AL = 0   #find number of Arts and Letters students\n",
    "for i in demogs_all['Entering Term Major code']:\n",
    "    try:\n",
    "        j = int(i)\n",
    "    except:\n",
    "        continue\n",
    "    for m in df_AL['major_code']:\n",
    "        try:\n",
    "            n = int(m)\n",
    "        except:\n",
    "            continue\n",
    "        if j == n:\n",
    "            entering_AL += 1\n",
    "ent_num_students_ls.append(entering_AL)\n",
    "print('Entering # AL students:', entering_AL)"
   ]
  },
  {
   "cell_type": "code",
   "execution_count": 27,
   "metadata": {},
   "outputs": [
    {
     "name": "stdout",
     "output_type": "stream",
     "text": [
      "Entering # RCAH students: 495\n"
     ]
    }
   ],
   "source": [
    "entering_RCAH = 0   #find number of RCAH students\n",
    "for i in demogs_all['Entering Term Major code']:\n",
    "    try:\n",
    "        j = int(i)\n",
    "    except:\n",
    "        continue\n",
    "    for m in df_RCAH['major_code']:\n",
    "        try:\n",
    "            n = int(m)\n",
    "        except:\n",
    "            continue\n",
    "        if j == n:\n",
    "            entering_RCAH += 1\n",
    "ent_num_students_ls.append(entering_RCAH)\n",
    "print('Entering # RCAH students:', entering_RCAH)"
   ]
  },
  {
   "cell_type": "code",
   "execution_count": 28,
   "metadata": {},
   "outputs": [
    {
     "name": "stdout",
     "output_type": "stream",
     "text": [
      "Entering # Business students: 18231\n"
     ]
    }
   ],
   "source": [
    "entering_Bus = 0   #find number of Business students\n",
    "for i in demogs_all['Entering Term Major code']:\n",
    "    try:\n",
    "        j = int(i)\n",
    "    except:\n",
    "        continue\n",
    "    for m in df_Bus['major_code']:\n",
    "        try:\n",
    "            n = int(m)\n",
    "        except:\n",
    "            continue\n",
    "        if j == n:\n",
    "            entering_Bus += 1\n",
    "ent_num_students_ls.append(entering_Bus)\n",
    "print('Entering # Business students:', entering_Bus)"
   ]
  },
  {
   "cell_type": "code",
   "execution_count": 29,
   "metadata": {},
   "outputs": [
    {
     "name": "stdout",
     "output_type": "stream",
     "text": [
      "Entering # Comm Arts students: 5160\n"
     ]
    }
   ],
   "source": [
    "entering_CAS = 0   #find number of Comm Arts students\n",
    "for i in demogs_all['Entering Term Major code']:\n",
    "    try:\n",
    "        j = int(i)\n",
    "    except:\n",
    "        continue\n",
    "    for m in df_CAS['major_code']:\n",
    "        try:\n",
    "            n = int(m)\n",
    "        except:\n",
    "            continue\n",
    "        if j == n:\n",
    "            entering_CAS += 1\n",
    "ent_num_students_ls.append(entering_CAS)\n",
    "print('Entering # Comm Arts students:', entering_CAS)"
   ]
  },
  {
   "cell_type": "code",
   "execution_count": 30,
   "metadata": {},
   "outputs": [
    {
     "name": "stdout",
     "output_type": "stream",
     "text": [
      "Entering # Education students: 8102\n"
     ]
    }
   ],
   "source": [
    "entering_Edu = 0   #find number of Education students\n",
    "for i in demogs_all['Entering Term Major code']:\n",
    "    try:\n",
    "        j = int(i)\n",
    "    except:\n",
    "        continue\n",
    "    for m in df_Edu['major_code']:\n",
    "        try:\n",
    "            n = int(m)\n",
    "        except:\n",
    "            continue\n",
    "        if j == n:\n",
    "            entering_Edu += 1\n",
    "ent_num_students_ls.append(entering_Edu)\n",
    "print('Entering # Education students:', entering_Edu)"
   ]
  },
  {
   "cell_type": "code",
   "execution_count": 31,
   "metadata": {},
   "outputs": [
    {
     "name": "stdout",
     "output_type": "stream",
     "text": [
      "Entering # Engineering students: 18459\n"
     ]
    }
   ],
   "source": [
    "entering_Eng = 0   #find number of Engineering students\n",
    "for i in demogs_all['Entering Term Major code']:\n",
    "    try:\n",
    "        j = int(i)\n",
    "    except:\n",
    "        continue\n",
    "    for m in df_Eng['major_code']:\n",
    "        try:\n",
    "            n = int(m)\n",
    "        except:\n",
    "            continue\n",
    "        if j == n:\n",
    "            entering_Eng += 1\n",
    "ent_num_students_ls.append(entering_Eng)\n",
    "print('Entering # Engineering students:', entering_Eng)"
   ]
  },
  {
   "cell_type": "code",
   "execution_count": 32,
   "metadata": {},
   "outputs": [
    {
     "name": "stdout",
     "output_type": "stream",
     "text": [
      "Entering # Human Medicine students: 0\n"
     ]
    }
   ],
   "source": [
    "entering_HM = 0   #find number of Human Medicine students\n",
    "for i in demogs_all['Entering Term Major code']:\n",
    "    try:\n",
    "        j = int(i)\n",
    "    except:\n",
    "        continue\n",
    "    for m in df_HM['major_code']:\n",
    "        try:\n",
    "            n = int(m)\n",
    "        except:\n",
    "            continue\n",
    "        if j == n:\n",
    "            entering_HM += 1\n",
    "ent_num_students_ls.append(entering_HM)\n",
    "print('Entering # Human Medicine students:', entering_HM)"
   ]
  },
  {
   "cell_type": "code",
   "execution_count": 33,
   "metadata": {},
   "outputs": [
    {
     "name": "stdout",
     "output_type": "stream",
     "text": [
      "Entering # James Madison students: 4160\n"
     ]
    }
   ],
   "source": [
    "entering_JMC = 0   #find number of James Madison students\n",
    "for i in demogs_all['Entering Term Major code']:\n",
    "    try:\n",
    "        j = int(i)\n",
    "    except:\n",
    "        continue\n",
    "    for m in df_JMC['major_code']:\n",
    "        try:\n",
    "            n = int(m)\n",
    "        except:\n",
    "            continue\n",
    "        if j == n:\n",
    "            entering_JMC += 1\n",
    "ent_num_students_ls.append(entering_JMC)\n",
    "print('Entering # James Madison students:', entering_JMC)"
   ]
  },
  {
   "cell_type": "code",
   "execution_count": 34,
   "metadata": {},
   "outputs": [
    {
     "name": "stdout",
     "output_type": "stream",
     "text": [
      "Entering # Lyman Briggs students: 5286\n"
     ]
    }
   ],
   "source": [
    "entering_LBC = 0   #find number of Lyman Briggs students\n",
    "for i in demogs_all['Entering Term Major code']:\n",
    "    try:\n",
    "        j = int(i)\n",
    "    except:\n",
    "        continue\n",
    "    for m in df_LBC['major_code']:\n",
    "        try:\n",
    "            n = int(m)\n",
    "        except:\n",
    "            continue\n",
    "        if j == n:\n",
    "            entering_LBC += 1\n",
    "ent_num_students_ls.append(entering_LBC)\n",
    "print('Entering # Lyman Briggs students:', entering_LBC)"
   ]
  },
  {
   "cell_type": "code",
   "execution_count": 35,
   "metadata": {},
   "outputs": [
    {
     "name": "stdout",
     "output_type": "stream",
     "text": [
      "Entering # Music students: 592\n"
     ]
    }
   ],
   "source": [
    "entering_Mus = 0   #find number of Music students\n",
    "for i in demogs_all['Entering Term Major code']:\n",
    "    try:\n",
    "        j = int(i)\n",
    "    except:\n",
    "        continue\n",
    "    for m in df_Mus['major_code']:\n",
    "        try:\n",
    "            n = int(m)\n",
    "        except:\n",
    "            continue\n",
    "        if j == n:\n",
    "            entering_Mus += 1\n",
    "ent_num_students_ls.append(entering_Mus)\n",
    "print('Entering # Music students:', entering_Mus)"
   ]
  },
  {
   "cell_type": "code",
   "execution_count": 36,
   "metadata": {},
   "outputs": [
    {
     "name": "stdout",
     "output_type": "stream",
     "text": [
      "Entering # Natural Science students: 21600\n"
     ]
    }
   ],
   "source": [
    "entering_NS = 0   #find number of Natural Science students\n",
    "for i in demogs_all['Entering Term Major code']:\n",
    "    try:\n",
    "        j = int(i)\n",
    "    except:\n",
    "        continue\n",
    "    for m in df_NS['major_code']:\n",
    "        try:\n",
    "            n = int(m)\n",
    "        except:\n",
    "            continue\n",
    "        if j == n:\n",
    "            entering_NS += 1\n",
    "ent_num_students_ls.append(entering_NS)\n",
    "print('Entering # Natural Science students:', entering_NS)"
   ]
  },
  {
   "cell_type": "code",
   "execution_count": 37,
   "metadata": {},
   "outputs": [
    {
     "name": "stdout",
     "output_type": "stream",
     "text": [
      "Entering # Nursing students: 4040\n"
     ]
    }
   ],
   "source": [
    "entering_Nur = 0   #find number of Nursing students\n",
    "for i in demogs_all['Entering Term Major code']:\n",
    "    try:\n",
    "        j = int(i)\n",
    "    except:\n",
    "        continue\n",
    "    for m in df_Nur['major_code']:\n",
    "        try:\n",
    "            n = int(m)\n",
    "        except:\n",
    "            continue\n",
    "        if j == n:\n",
    "            entering_Nur += 1\n",
    "ent_num_students_ls.append(entering_Nur)\n",
    "print('Entering # Nursing students:', entering_Nur)"
   ]
  },
  {
   "cell_type": "code",
   "execution_count": 38,
   "metadata": {},
   "outputs": [
    {
     "name": "stdout",
     "output_type": "stream",
     "text": [
      "Entering # Osteopathic Medicine students: 0\n"
     ]
    }
   ],
   "source": [
    "entering_OM = 0   #find number of Osteopathic Medicine students\n",
    "for i in demogs_all['Entering Term Major code']:\n",
    "    try:\n",
    "        j = int(i)\n",
    "    except:\n",
    "        continue\n",
    "    for m in df_OM['major_code']:\n",
    "        try:\n",
    "            n = int(m)\n",
    "        except:\n",
    "            continue\n",
    "        if j == n:\n",
    "            entering_OM += 1\n",
    "ent_num_students_ls.append(entering_OM)\n",
    "print('Entering # Osteopathic Medicine students:', entering_OM)"
   ]
  },
  {
   "cell_type": "code",
   "execution_count": 39,
   "metadata": {},
   "outputs": [
    {
     "name": "stdout",
     "output_type": "stream",
     "text": [
      "Entering # Social Science students: 15081\n"
     ]
    }
   ],
   "source": [
    "entering_SS = 0   #find number of Social Science students\n",
    "for i in demogs_all['Entering Term Major code']:\n",
    "    try:\n",
    "        j = int(i)\n",
    "    except:\n",
    "        continue\n",
    "    for m in df_SS['major_code']:\n",
    "        try:\n",
    "            n = int(m)\n",
    "        except:\n",
    "            continue\n",
    "        if j == n:\n",
    "            entering_SS += 1\n",
    "ent_num_students_ls.append(entering_SS)\n",
    "print('Entering # Social Science students:', entering_SS)"
   ]
  },
  {
   "cell_type": "code",
   "execution_count": 40,
   "metadata": {},
   "outputs": [
    {
     "name": "stdout",
     "output_type": "stream",
     "text": [
      "Entering # Honors College students: 0\n"
     ]
    }
   ],
   "source": [
    "entering_HC = 0   #find number of Honors College students\n",
    "for i in demogs_all['Entering Term Major code']:\n",
    "    try:\n",
    "        j = int(i)\n",
    "    except:\n",
    "        continue\n",
    "    for m in df_HC['major_code']:\n",
    "        try:\n",
    "            n = int(m)\n",
    "        except:\n",
    "            continue\n",
    "        if j == n:\n",
    "            entering_HC += 1\n",
    "ent_num_students_ls.append(entering_HC)\n",
    "print('Entering # Honors College students:', entering_HC)"
   ]
  },
  {
   "cell_type": "code",
   "execution_count": 41,
   "metadata": {},
   "outputs": [
    {
     "name": "stdout",
     "output_type": "stream",
     "text": [
      "Entering # APUE students: 16002\n"
     ]
    }
   ],
   "source": [
    "entering_APUE = 0   #find number of APUE students\n",
    "for i in demogs_all['Entering Term Major code']:\n",
    "    try:\n",
    "        j = int(i)\n",
    "    except:\n",
    "        continue\n",
    "    for m in df_APUE['major_code']:\n",
    "        try:\n",
    "            n = int(m)\n",
    "        except:\n",
    "            continue\n",
    "        if j == n:\n",
    "            entering_APUE += 1\n",
    "ent_num_students_ls.append(entering_APUE)\n",
    "print('Entering # APUE students:', entering_APUE)"
   ]
  },
  {
   "cell_type": "code",
   "execution_count": 42,
   "metadata": {},
   "outputs": [
    {
     "name": "stdout",
     "output_type": "stream",
     "text": [
      "Entering # Veterinary Medicine students: 2881\n"
     ]
    }
   ],
   "source": [
    "entering_VM = 0   #find number of Veterinary Medicine students\n",
    "for i in demogs_all['Entering Term Major code']:\n",
    "    try:\n",
    "        j = int(i)\n",
    "    except:\n",
    "        continue\n",
    "    for m in df_VM['major_code']:\n",
    "        try:\n",
    "            n = int(m)\n",
    "        except:\n",
    "            continue\n",
    "        if j == n:\n",
    "            entering_VM += 1\n",
    "ent_num_students_ls.append(entering_VM)\n",
    "print('Entering # Veterinary Medicine students:', entering_VM)"
   ]
  },
  {
   "cell_type": "code",
   "execution_count": 43,
   "metadata": {},
   "outputs": [
    {
     "name": "stdout",
     "output_type": "stream",
     "text": [
      "Entering # APAS students: 11\n"
     ]
    }
   ],
   "source": [
    "entering_APAS = 0   #find number of APAS students\n",
    "for i in demogs_all['Entering Term Major code']:\n",
    "    try:\n",
    "        j = int(i)\n",
    "    except:\n",
    "        continue\n",
    "    for m in df_APAS['major_code']:\n",
    "        try:\n",
    "            n = int(m)\n",
    "        except:\n",
    "            continue\n",
    "        if j == n:\n",
    "            entering_APAS += 1\n",
    "ent_num_students_ls.append(entering_APAS)\n",
    "print('Entering # APAS students:', entering_APAS)"
   ]
  },
  {
   "cell_type": "code",
   "execution_count": 44,
   "metadata": {},
   "outputs": [
    {
     "name": "stdout",
     "output_type": "stream",
     "text": [
      "Entering # APLE students: 0\n"
     ]
    }
   ],
   "source": [
    "entering_APLE = 0   #find number of APLE students\n",
    "for i in demogs_all['Entering Term Major code']:\n",
    "    try:\n",
    "        j = int(i)\n",
    "    except:\n",
    "        continue\n",
    "    for m in df_APLE['major_code']:\n",
    "        try:\n",
    "            n = int(m)\n",
    "        except:\n",
    "            continue\n",
    "        if j == n:\n",
    "            entering_APLE += 1\n",
    "ent_num_students_ls.append(entering_APLE)\n",
    "print('Entering # APLE students:', entering_APLE)"
   ]
  },
  {
   "cell_type": "code",
   "execution_count": 45,
   "metadata": {},
   "outputs": [
    {
     "name": "stdout",
     "output_type": "stream",
     "text": [
      "Entering # Graduate School Dean students: 0\n"
     ]
    }
   ],
   "source": [
    "entering_GSD = 0   #find number of Graduate School Dean students\n",
    "for i in demogs_all['Entering Term Major code']:\n",
    "    try:\n",
    "        j = int(i)\n",
    "    except:\n",
    "        continue\n",
    "    for m in df_GSD['major_code']:\n",
    "        try:\n",
    "            n = int(m)\n",
    "        except:\n",
    "            continue\n",
    "        if j == n:\n",
    "            entering_GSD += 1\n",
    "ent_num_students_ls.append(entering_GSD)\n",
    "print('Entering # Graduate School Dean students:', entering_GSD)"
   ]
  },
  {
   "cell_type": "code",
   "execution_count": 46,
   "metadata": {},
   "outputs": [
    {
     "name": "stdout",
     "output_type": "stream",
     "text": [
      "Entering # Law students: 0\n"
     ]
    }
   ],
   "source": [
    "entering_Law = 0   #find number of Law students\n",
    "for i in demogs_all['Entering Term Major code']:\n",
    "    try:\n",
    "        j = int(i)\n",
    "    except:\n",
    "        continue\n",
    "    for m in df_Law['major_code']:\n",
    "        try:\n",
    "            n = int(m)\n",
    "        except:\n",
    "            continue\n",
    "        if j == n:\n",
    "            entering_Law += 1\n",
    "ent_num_students_ls.append(entering_Law)\n",
    "print('Entering # Law students:', entering_Law)"
   ]
  },
  {
   "cell_type": "code",
   "execution_count": 47,
   "metadata": {},
   "outputs": [
    {
     "name": "stdout",
     "output_type": "stream",
     "text": [
      "['Agriculture and Natural Resources', 'Arts and Letters', 'Resdntl Coll Arts and Humanities', 'Business', 'Communication Arts and Sciences', 'Education', 'Engineering', 'Human Medicine', 'James Madison College', 'Lyman Briggs College', 'Music', 'Natural Science', 'Nursing', 'Osteopathic Medicine', 'Social Science', 'Honors College', 'Assoc Prov Undergraduate Education', 'Veterinary Medicine', 'Assoc Provost Academic Services', 'Assoc Provost Lifelong Education', 'Graduate School Dean', 'MSU College of Law']\n",
      "[6852, 5395, 495, 18231, 5160, 8102, 18459, 0, 4160, 5286, 592, 21600, 4040, 0, 15081, 0, 16002, 2881, 11, 0, 0, 0]\n"
     ]
    }
   ],
   "source": [
    "print(college_list)\n",
    "print(ent_num_students_ls)"
   ]
  },
  {
   "cell_type": "code",
   "execution_count": 94,
   "metadata": {},
   "outputs": [
    {
     "data": {
      "image/png": "[encoded data removed]",
      "text/plain": [
       "<matplotlib.figure.Figure at 0x1f09ebb06a0>"
      ]
     },
     "metadata": {},
     "output_type": "display_data"
    }
   ],
   "source": [
    "explode = np.repeat(0.1, len(ent_num_students_ls))\n",
    "fig = plt.figure(figsize=(8,8))\n",
    "plt.pie(ent_num_students_ls, labels=college_list, explode=explode, shadow=True)\n",
    "plt.axis('equal')\n",
    "plt.text(0.8, 1.2, 'Incoming Majors by College', horizontalalignment='center', fontsize=24)\n",
    "plt.show()"
   ]
  },
  {
   "cell_type": "code",
   "execution_count": 52,
   "metadata": {
    "collapsed": true
   },
   "outputs": [],
   "source": [
    "last_enrolled_students_list = []"
   ]
  },
  {
   "cell_type": "code",
   "execution_count": 53,
   "metadata": {},
   "outputs": [
    {
     "name": "stdout",
     "output_type": "stream",
     "text": [
      "Last Enrolled # Agriculture and Natural Resources students: 13436\n"
     ]
    }
   ],
   "source": [
    "last_ANR = 0   #find number of last enrolled Agriculture and Natural Resources students\n",
    "for i in demogs_all['Last enrolled major code']:\n",
    "    try:\n",
    "        j = int(i)\n",
    "    except:\n",
    "        continue\n",
    "    for m in df_ANR['major_code']:\n",
    "        try:\n",
    "            n = int(m)\n",
    "        except:\n",
    "            continue\n",
    "        if j == n:\n",
    "            last_ANR += 1\n",
    "last_enrolled_students_list.append(last_ANR)\n",
    "print('Last Enrolled # Agriculture and Natural Resources students:', last_ANR)"
   ]
  },
  {
   "cell_type": "code",
   "execution_count": 54,
   "metadata": {},
   "outputs": [
    {
     "name": "stdout",
     "output_type": "stream",
     "text": [
      "Last Enrolled # Arts and Letters students: 7513\n"
     ]
    }
   ],
   "source": [
    "last_AL = 0   #find number of last enrolled Arts and Letters students\n",
    "for i in demogs_all['Last enrolled major code']:\n",
    "    try:\n",
    "        j = int(i)\n",
    "    except:\n",
    "        continue\n",
    "    for m in df_AL['major_code']:\n",
    "        try:\n",
    "            n = int(m)\n",
    "        except:\n",
    "            continue\n",
    "        if j == n:\n",
    "            last_AL += 1\n",
    "last_enrolled_students_list.append(last_AL)\n",
    "print('Last Enrolled # Arts and Letters students:', last_AL)"
   ]
  },
  {
   "cell_type": "code",
   "execution_count": 55,
   "metadata": {},
   "outputs": [
    {
     "name": "stdout",
     "output_type": "stream",
     "text": [
      "Last Enrolled # RCAH students: 489\n"
     ]
    }
   ],
   "source": [
    "last_RCAH = 0   #find number of last enrolled RCAH students\n",
    "for i in demogs_all['Last enrolled major code']:\n",
    "    try:\n",
    "        j = int(i)\n",
    "    except:\n",
    "        continue\n",
    "    for m in df_RCAH['major_code']:\n",
    "        try:\n",
    "            n = int(m)\n",
    "        except:\n",
    "            continue\n",
    "        if j == n:\n",
    "            last_RCAH += 1\n",
    "last_enrolled_students_list.append(last_RCAH)\n",
    "print('Last Enrolled # RCAH students:', last_RCAH)"
   ]
  },
  {
   "cell_type": "code",
   "execution_count": 56,
   "metadata": {},
   "outputs": [
    {
     "name": "stdout",
     "output_type": "stream",
     "text": [
      "Last Enrolled # Business students: 21587\n"
     ]
    }
   ],
   "source": [
    "last_Bus = 0   #find number of last enrolled Business students\n",
    "for i in demogs_all['Last enrolled major code']:\n",
    "    try:\n",
    "        j = int(i)\n",
    "    except:\n",
    "        continue\n",
    "    for m in df_Bus['major_code']:\n",
    "        try:\n",
    "            n = int(m)\n",
    "        except:\n",
    "            continue\n",
    "        if j == n:\n",
    "            last_Bus += 1\n",
    "last_enrolled_students_list.append(last_Bus)\n",
    "print('Last Enrolled # Business students:', last_Bus)"
   ]
  },
  {
   "cell_type": "code",
   "execution_count": 57,
   "metadata": {},
   "outputs": [
    {
     "name": "stdout",
     "output_type": "stream",
     "text": [
      "Last Enrolled # Comm Arts students: 7905\n"
     ]
    }
   ],
   "source": [
    "last_CAS = 0   #find number of last enrolled Comm Arts students\n",
    "for i in demogs_all['Last enrolled major code']:\n",
    "    try:\n",
    "        j = int(i)\n",
    "    except:\n",
    "        continue\n",
    "    for m in df_CAS['major_code']:\n",
    "        try:\n",
    "            n = int(m)\n",
    "        except:\n",
    "            continue\n",
    "        if j == n:\n",
    "            last_CAS += 1\n",
    "last_enrolled_students_list.append(last_CAS)\n",
    "print('Last Enrolled # Comm Arts students:', last_CAS)"
   ]
  },
  {
   "cell_type": "code",
   "execution_count": 58,
   "metadata": {},
   "outputs": [
    {
     "name": "stdout",
     "output_type": "stream",
     "text": [
      "Last Enrolled # Education students: 9321\n"
     ]
    }
   ],
   "source": [
    "last_Edu = 0   #find number of last enrolled Education students\n",
    "for i in demogs_all['Last enrolled major code']:\n",
    "    try:\n",
    "        j = int(i)\n",
    "    except:\n",
    "        continue\n",
    "    for m in df_Edu['major_code']:\n",
    "        try:\n",
    "            n = int(m)\n",
    "        except:\n",
    "            continue\n",
    "        if j == n:\n",
    "            last_Edu += 1\n",
    "last_enrolled_students_list.append(last_Edu)\n",
    "print('Last Enrolled # Education students:', last_Edu)"
   ]
  },
  {
   "cell_type": "code",
   "execution_count": 59,
   "metadata": {},
   "outputs": [
    {
     "name": "stdout",
     "output_type": "stream",
     "text": [
      "Last Enrolled # Engineering students: 14532\n"
     ]
    }
   ],
   "source": [
    "last_Eng = 0   #find number of last enrolled Engineering students\n",
    "for i in demogs_all['Last enrolled major code']:\n",
    "    try:\n",
    "        j = int(i)\n",
    "    except:\n",
    "        continue\n",
    "    for m in df_Eng['major_code']:\n",
    "        try:\n",
    "            n = int(m)\n",
    "        except:\n",
    "            continue\n",
    "        if j == n:\n",
    "            last_Eng += 1\n",
    "last_enrolled_students_list.append(last_Eng)\n",
    "print('Last Enrolled # Engineering students:', last_Eng)"
   ]
  },
  {
   "cell_type": "code",
   "execution_count": 60,
   "metadata": {},
   "outputs": [
    {
     "name": "stdout",
     "output_type": "stream",
     "text": [
      "Last Enrolled # Human Medicine students: 0\n"
     ]
    }
   ],
   "source": [
    "last_HM = 0   #find number of last enrolled Human Medicine students\n",
    "for i in demogs_all['Last enrolled major code']:\n",
    "    try:\n",
    "        j = int(i)\n",
    "    except:\n",
    "        continue\n",
    "    for m in df_HM['major_code']:\n",
    "        try:\n",
    "            n = int(m)\n",
    "        except:\n",
    "            continue\n",
    "        if j == n:\n",
    "            last_HM += 1\n",
    "last_enrolled_students_list.append(last_HM)\n",
    "print('Last Enrolled # Human Medicine students:', last_HM)"
   ]
  },
  {
   "cell_type": "code",
   "execution_count": 61,
   "metadata": {},
   "outputs": [
    {
     "name": "stdout",
     "output_type": "stream",
     "text": [
      "Last Enrolled # James Madison students: 3748\n"
     ]
    }
   ],
   "source": [
    "last_JMC = 0   #find number of last enrolled James Madison students\n",
    "for i in demogs_all['Last enrolled major code']:\n",
    "    try:\n",
    "        j = int(i)\n",
    "    except:\n",
    "        continue\n",
    "    for m in df_JMC['major_code']:\n",
    "        try:\n",
    "            n = int(m)\n",
    "        except:\n",
    "            continue\n",
    "        if j == n:\n",
    "            last_JMC += 1\n",
    "last_enrolled_students_list.append(last_JMC)\n",
    "print('Last Enrolled # James Madison students:', last_JMC)"
   ]
  },
  {
   "cell_type": "code",
   "execution_count": 62,
   "metadata": {},
   "outputs": [
    {
     "name": "stdout",
     "output_type": "stream",
     "text": [
      "Last Enrolled # Lyman Briggs students: 4526\n"
     ]
    }
   ],
   "source": [
    "last_LBC = 0   #find number of last enrolled Lyman Briggs students\n",
    "for i in demogs_all['Last enrolled major code']:\n",
    "    try:\n",
    "        j = int(i)\n",
    "    except:\n",
    "        continue\n",
    "    for m in df_LBC['major_code']:\n",
    "        try:\n",
    "            n = int(m)\n",
    "        except:\n",
    "            continue\n",
    "        if j == n:\n",
    "            last_LBC += 1\n",
    "last_enrolled_students_list.append(last_LBC)\n",
    "print('Last Enrolled # Lyman Briggs students:', last_LBC)"
   ]
  },
  {
   "cell_type": "code",
   "execution_count": 63,
   "metadata": {},
   "outputs": [
    {
     "name": "stdout",
     "output_type": "stream",
     "text": [
      "Last Enrolled # Music students: 789\n"
     ]
    }
   ],
   "source": [
    "last_Mus = 0   #find number of last enrolled Music students\n",
    "for i in demogs_all['Last enrolled major code']:\n",
    "    try:\n",
    "        j = int(i)\n",
    "    except:\n",
    "        continue\n",
    "    for m in df_Mus['major_code']:\n",
    "        try:\n",
    "            n = int(m)\n",
    "        except:\n",
    "            continue\n",
    "        if j == n:\n",
    "            last_Mus += 1\n",
    "last_enrolled_students_list.append(last_Mus)\n",
    "print('Last Enrolled # Music students:', last_Mus)"
   ]
  },
  {
   "cell_type": "code",
   "execution_count": 64,
   "metadata": {},
   "outputs": [
    {
     "name": "stdout",
     "output_type": "stream",
     "text": [
      "Last Enrolled # Natural Science students: 19000\n"
     ]
    }
   ],
   "source": [
    "last_NS = 0   #find number of last enrolled Natural Science students\n",
    "for i in demogs_all['Last enrolled major code']:\n",
    "    try:\n",
    "        j = int(i)\n",
    "    except:\n",
    "        continue\n",
    "    for m in df_NS['major_code']:\n",
    "        try:\n",
    "            n = int(m)\n",
    "        except:\n",
    "            continue\n",
    "        if j == n:\n",
    "            last_NS += 1\n",
    "last_enrolled_students_list.append(last_NS)\n",
    "print('Last Enrolled # Natural Science students:', last_NS)"
   ]
  },
  {
   "cell_type": "code",
   "execution_count": 65,
   "metadata": {},
   "outputs": [
    {
     "name": "stdout",
     "output_type": "stream",
     "text": [
      "Last Enrolled # Nursing students: 2698\n"
     ]
    }
   ],
   "source": [
    "last_Nur = 0   #find number of last enrolled Nursing students\n",
    "for i in demogs_all['Last enrolled major code']:\n",
    "    try:\n",
    "        j = int(i)\n",
    "    except:\n",
    "        continue\n",
    "    for m in df_Nur['major_code']:\n",
    "        try:\n",
    "            n = int(m)\n",
    "        except:\n",
    "            continue\n",
    "        if j == n:\n",
    "            last_Nur += 1\n",
    "last_enrolled_students_list.append(last_Nur)\n",
    "print('Last Enrolled # Nursing students:', last_Nur)"
   ]
  },
  {
   "cell_type": "code",
   "execution_count": 66,
   "metadata": {},
   "outputs": [
    {
     "name": "stdout",
     "output_type": "stream",
     "text": [
      "Last Enrolled # Osteopathic Medicine students: 0\n"
     ]
    }
   ],
   "source": [
    "last_OM = 0   #find number of last enrolled Osteopathic Medicine students\n",
    "for i in demogs_all['Last enrolled major code']:\n",
    "    try:\n",
    "        j = int(i)\n",
    "    except:\n",
    "        continue\n",
    "    for m in df_OM['major_code']:\n",
    "        try:\n",
    "            n = int(m)\n",
    "        except:\n",
    "            continue\n",
    "        if j == n:\n",
    "            last_OM += 1\n",
    "last_enrolled_students_list.append(last_OM)\n",
    "print('Last Enrolled # Osteopathic Medicine students:', last_OM)"
   ]
  },
  {
   "cell_type": "code",
   "execution_count": 67,
   "metadata": {},
   "outputs": [
    {
     "name": "stdout",
     "output_type": "stream",
     "text": [
      "Last Enrolled # Social Science students: 23394\n"
     ]
    }
   ],
   "source": [
    "last_SS = 0   #find number of last enrolled Social Science students\n",
    "for i in demogs_all['Last enrolled major code']:\n",
    "    try:\n",
    "        j = int(i)\n",
    "    except:\n",
    "        continue\n",
    "    for m in df_SS['major_code']:\n",
    "        try:\n",
    "            n = int(m)\n",
    "        except:\n",
    "            continue\n",
    "        if j == n:\n",
    "            last_SS += 1\n",
    "last_enrolled_students_list.append(last_SS)\n",
    "print('Last Enrolled # Social Science students:', last_SS)"
   ]
  },
  {
   "cell_type": "code",
   "execution_count": 68,
   "metadata": {},
   "outputs": [
    {
     "name": "stdout",
     "output_type": "stream",
     "text": [
      "Last Enrolled # Honors College students: 0\n"
     ]
    }
   ],
   "source": [
    "last_HC = 0   #find number of last enrolled Honors College students\n",
    "for i in demogs_all['Last enrolled major code']:\n",
    "    try:\n",
    "        j = int(i)\n",
    "    except:\n",
    "        continue\n",
    "    for m in df_HC['major_code']:\n",
    "        try:\n",
    "            n = int(m)\n",
    "        except:\n",
    "            continue\n",
    "        if j == n:\n",
    "            last_HC += 1\n",
    "last_enrolled_students_list.append(last_HC)\n",
    "print('Last Enrolled # Honors College students:', last_HC)"
   ]
  },
  {
   "cell_type": "code",
   "execution_count": 69,
   "metadata": {},
   "outputs": [
    {
     "name": "stdout",
     "output_type": "stream",
     "text": [
      "Last Enrolled # APUE students: 2182\n"
     ]
    }
   ],
   "source": [
    "last_APUE = 0   #find number of last enrolled APUE students\n",
    "for i in demogs_all['Last enrolled major code']:\n",
    "    try:\n",
    "        j = int(i)\n",
    "    except:\n",
    "        continue\n",
    "    for m in df_APUE['major_code']:\n",
    "        try:\n",
    "            n = int(m)\n",
    "        except:\n",
    "            continue\n",
    "        if j == n:\n",
    "            last_APUE += 1\n",
    "last_enrolled_students_list.append(last_APUE)\n",
    "print('Last Enrolled # APUE students:', last_APUE)"
   ]
  },
  {
   "cell_type": "code",
   "execution_count": 70,
   "metadata": {},
   "outputs": [
    {
     "name": "stdout",
     "output_type": "stream",
     "text": [
      "Last Enrolled # Veterinary Medicine students: 773\n"
     ]
    }
   ],
   "source": [
    "last_VM = 0   #find number of last enrolled Veterinary Medicine students\n",
    "for i in demogs_all['Last enrolled major code']:\n",
    "    try:\n",
    "        j = int(i)\n",
    "    except:\n",
    "        continue\n",
    "    for m in df_VM['major_code']:\n",
    "        try:\n",
    "            n = int(m)\n",
    "        except:\n",
    "            continue\n",
    "        if j == n:\n",
    "            last_VM += 1\n",
    "last_enrolled_students_list.append(last_VM)\n",
    "print('Last Enrolled # Veterinary Medicine students:', last_VM)"
   ]
  },
  {
   "cell_type": "code",
   "execution_count": 71,
   "metadata": {},
   "outputs": [
    {
     "name": "stdout",
     "output_type": "stream",
     "text": [
      "Last Enrolled # APAS students: 0\n"
     ]
    }
   ],
   "source": [
    "last_APAS = 0   #find number of last enrolled APAS students\n",
    "for i in demogs_all['Last enrolled major code']:\n",
    "    try:\n",
    "        j = int(i)\n",
    "    except:\n",
    "        continue\n",
    "    for m in df_APAS['major_code']:\n",
    "        try:\n",
    "            n = int(m)\n",
    "        except:\n",
    "            continue\n",
    "        if j == n:\n",
    "            last_APAS += 1\n",
    "last_enrolled_students_list.append(last_APAS)\n",
    "print('Last Enrolled # APAS students:', last_APAS)"
   ]
  },
  {
   "cell_type": "code",
   "execution_count": 72,
   "metadata": {},
   "outputs": [
    {
     "name": "stdout",
     "output_type": "stream",
     "text": [
      "Last Enrolled # APLE students: 0\n"
     ]
    }
   ],
   "source": [
    "last_APLE = 0   #find number of last enrolled APLE students\n",
    "for i in demogs_all['Last enrolled major code']:\n",
    "    try:\n",
    "        j = int(i)\n",
    "    except:\n",
    "        continue\n",
    "    for m in df_APLE['major_code']:\n",
    "        try:\n",
    "            n = int(m)\n",
    "        except:\n",
    "            continue\n",
    "        if j == n:\n",
    "            last_APLE += 1\n",
    "last_enrolled_students_list.append(last_APLE)\n",
    "print('Last Enrolled # APLE students:', last_APLE)"
   ]
  },
  {
   "cell_type": "code",
   "execution_count": 73,
   "metadata": {},
   "outputs": [
    {
     "name": "stdout",
     "output_type": "stream",
     "text": [
      "Last Enrolled # GSD students: 0\n"
     ]
    }
   ],
   "source": [
    "last_GSD = 0   #find number of last enrolled GSD students\n",
    "for i in demogs_all['Last enrolled major code']:\n",
    "    try:\n",
    "        j = int(i)\n",
    "    except:\n",
    "        continue\n",
    "    for m in df_GSD['major_code']:\n",
    "        try:\n",
    "            n = int(m)\n",
    "        except:\n",
    "            continue\n",
    "        if j == n:\n",
    "            last_GSD += 1\n",
    "last_enrolled_students_list.append(last_GSD)\n",
    "print('Last Enrolled # GSD students:', last_GSD)"
   ]
  },
  {
   "cell_type": "code",
   "execution_count": 74,
   "metadata": {},
   "outputs": [
    {
     "name": "stdout",
     "output_type": "stream",
     "text": [
      "Last Enrolled # Law students: 0\n"
     ]
    }
   ],
   "source": [
    "last_Law = 0   #find number of last enrolled Law students\n",
    "for i in demogs_all['Last enrolled major code']:\n",
    "    try:\n",
    "        j = int(i)\n",
    "    except:\n",
    "        continue\n",
    "    for m in df_Law['major_code']:\n",
    "        try:\n",
    "            n = int(m)\n",
    "        except:\n",
    "            continue\n",
    "        if j == n:\n",
    "            last_Law += 1\n",
    "last_enrolled_students_list.append(last_Law)\n",
    "print('Last Enrolled # Law students:', last_Law)"
   ]
  },
  {
   "cell_type": "code",
   "execution_count": 75,
   "metadata": {},
   "outputs": [
    {
     "name": "stdout",
     "output_type": "stream",
     "text": [
      "['Agriculture and Natural Resources', 'Arts and Letters', 'Resdntl Coll Arts and Humanities', 'Business', 'Communication Arts and Sciences', 'Education', 'Engineering', 'Human Medicine', 'James Madison College', 'Lyman Briggs College', 'Music', 'Natural Science', 'Nursing', 'Osteopathic Medicine', 'Social Science', 'Honors College', 'Assoc Prov Undergraduate Education', 'Veterinary Medicine', 'Assoc Provost Academic Services', 'Assoc Provost Lifelong Education', 'Graduate School Dean', 'MSU College of Law']\n",
      "[13436, 7513, 489, 21587, 7905, 9321, 14532, 0, 3748, 4526, 789, 19000, 2698, 0, 23394, 0, 2182, 773, 0, 0, 0, 0]\n"
     ]
    }
   ],
   "source": [
    "print(college_list)\n",
    "print(last_enrolled_students_list)"
   ]
  },
  {
   "cell_type": "code",
   "execution_count": 96,
   "metadata": {},
   "outputs": [
    {
     "data": {
      "image/png": "[encoded data removed]",
      "text/plain": [
       "<matplotlib.figure.Figure at 0x1f0a3c21c88>"
      ]
     },
     "metadata": {},
     "output_type": "display_data"
    }
   ],
   "source": [
    "fig = plt.figure(figsize=(8,8))\n",
    "plt.pie(last_enrolled_students_list, labels=college_list, explode=explode, shadow=True)\n",
    "plt.axis('equal')\n",
    "plt.text(-0.8, 1.15, 'Last Enrolled Majors by College', horizontalalignment='center', fontsize=24)\n",
    "plt.show()"
   ]
  },
  {
   "cell_type": "code",
   "execution_count": 77,
   "metadata": {},
   "outputs": [
    {
     "name": "stdout",
     "output_type": "stream",
     "text": [
      "Total number of students in df: 158134\n"
     ]
    }
   ],
   "source": [
    "#total number of students in dataframe\n",
    "print('Total number of students in df:', len(demogs_all['Entering Term Major code']))"
   ]
  },
  {
   "cell_type": "code",
   "execution_count": 78,
   "metadata": {},
   "outputs": [
    {
     "name": "stdout",
     "output_type": "stream",
     "text": [
      "total number of entering students: 132347\n"
     ]
    }
   ],
   "source": [
    "#find total number of entering students\n",
    "total_ent = 0\n",
    "for i in ent_num_students_ls:\n",
    "    total_ent += i\n",
    "    \n",
    "print('total number of entering students:', total_ent)"
   ]
  },
  {
   "cell_type": "code",
   "execution_count": 79,
   "metadata": {},
   "outputs": [
    {
     "name": "stdout",
     "output_type": "stream",
     "text": [
      "total number of last enrolled students: 131893\n"
     ]
    }
   ],
   "source": [
    "#find total number of last enrolled students\n",
    "total_last = 0\n",
    "for i in last_enrolled_students_list:\n",
    "    total_last += i    \n",
    "print('total number of last enrolled students:', total_last)"
   ]
  },
  {
   "cell_type": "code",
   "execution_count": 80,
   "metadata": {},
   "outputs": [
    {
     "data": {
      "text/plain": [
       "1650"
      ]
     },
     "execution_count": 80,
     "metadata": {},
     "output_type": "execute_result"
    }
   ],
   "source": [
    "#find empty values in entering students\n",
    "pd.isnull(demogs_all['Entering Term Major code']).sum()"
   ]
  },
  {
   "cell_type": "code",
   "execution_count": 81,
   "metadata": {},
   "outputs": [
    {
     "data": {
      "text/plain": [
       "1650"
      ]
     },
     "execution_count": 81,
     "metadata": {},
     "output_type": "execute_result"
    }
   ],
   "source": [
    "#find empty values in last enrolled students\n",
    "pd.isnull(demogs_all['Last enrolled major code']).sum()"
   ]
  },
  {
   "cell_type": "code",
   "execution_count": 82,
   "metadata": {},
   "outputs": [
    {
     "name": "stdout",
     "output_type": "stream",
     "text": [
      "1650\n"
     ]
    }
   ],
   "source": [
    "#try to find non-numeric major codes\n",
    "non_int_maj_codes = 0\n",
    "for i in demogs_all['Last enrolled major code']:\n",
    "    try:\n",
    "        int(i)\n",
    "    except:\n",
    "        non_int_maj_codes += 1\n",
    "print(non_int_maj_codes)"
   ]
  },
  {
   "cell_type": "code",
   "execution_count": 83,
   "metadata": {},
   "outputs": [],
   "source": [
    "#trying to implement all colleges and departments at once, should set college and department for each student\n",
    "num_students = len(demogs_all['Entering Term Major code'])\n",
    "num_majors = len(major_codes['major_code'])\n",
    "for i in range(1000):\n",
    "    try:\n",
    "        m = int(demogs_all['Entering Term Major code'][i])\n",
    "    except:\n",
    "        continue\n",
    "    for j in range(num_majors):\n",
    "        try:\n",
    "            n = int(major_codes['major_code'][j])\n",
    "        except:\n",
    "            continue\n",
    "        if m == n:\n",
    "            demogs_all.set_value(i, 'Entering Term College', major_codes['college'][j])\n",
    "            demogs_all.set_value(i, 'Entering Term Department', major_codes['dept'][j])"
   ]
  },
  {
   "cell_type": "code",
   "execution_count": 84,
   "metadata": {},
   "outputs": [
    {
     "data": {
      "text/plain": [
       "0                        Natural Science\n",
       "1                                       \n",
       "2                                       \n",
       "3     Assoc Prov Undergraduate Education\n",
       "4                            Engineering\n",
       "5                        Natural Science\n",
       "6                                       \n",
       "7                         Social Science\n",
       "8                        Natural Science\n",
       "9                    Veterinary Medicine\n",
       "10                           Engineering\n",
       "11                  Lyman Briggs College\n",
       "12    Assoc Prov Undergraduate Education\n",
       "13                           Engineering\n",
       "14                                      \n",
       "Name: Entering Term College, dtype: object"
      ]
     },
     "execution_count": 84,
     "metadata": {},
     "output_type": "execute_result"
    }
   ],
   "source": [
    "# look at top part of colleges\n",
    "demogs_all['Entering Term College'].head(15)"
   ]
  },
  {
   "cell_type": "code",
   "execution_count": 85,
   "metadata": {},
   "outputs": [
    {
     "data": {
      "text/plain": [
       "0                    Natural Science Dean\n",
       "1                                        \n",
       "2                                        \n",
       "3     Neighborhood Student Success Collab\n",
       "4                        Engineering Dean\n",
       "5                    Natural Science Dean\n",
       "6                                        \n",
       "7                               Economics\n",
       "8                    Natural Science Dean\n",
       "9                Veterinary Medicine Dean\n",
       "10                       Engineering Dean\n",
       "11                      Lyman Briggs Dean\n",
       "12    Neighborhood Student Success Collab\n",
       "13    Electrical and Computer Engineering\n",
       "14                                       \n",
       "Name: Entering Term Department, dtype: object"
      ]
     },
     "execution_count": 85,
     "metadata": {},
     "output_type": "execute_result"
    }
   ],
   "source": [
    "# look at top part of departments\n",
    "demogs_all['Entering Term Department'].head(15)"
   ]
  },
  {
   "cell_type": "code",
   "execution_count": 86,
   "metadata": {},
   "outputs": [
    {
     "data": {
      "text/plain": [
       "array(['Natural Science', '', 'Assoc Prov Undergraduate Education',\n",
       "       'Engineering', 'Social Science', 'Veterinary Medicine',\n",
       "       'Lyman Briggs College', 'James Madison College',\n",
       "       'Communication Arts and Sciences', 'Arts and Letters', 'Business',\n",
       "       'Nursing', 'Education', 'Music',\n",
       "       'Agriculture and Natural Resources',\n",
       "       'Resdntl Coll Arts and Humanities'], dtype=object)"
      ]
     },
     "execution_count": 86,
     "metadata": {},
     "output_type": "execute_result"
    }
   ],
   "source": [
    "# see all unique colleges\n",
    "demogs_all['Entering Term College'].unique()"
   ]
  },
  {
   "cell_type": "code",
   "execution_count": 87,
   "metadata": {},
   "outputs": [
    {
     "data": {
      "text/plain": [
       "array(['Natural Science Dean', '', 'Neighborhood Student Success Collab',\n",
       "       'Engineering Dean', 'Economics', 'Veterinary Medicine Dean',\n",
       "       'Lyman Briggs Dean', 'Electrical and Computer Engineering',\n",
       "       'James Madison College Dean', 'Psychology', 'Journalism',\n",
       "       'Arts & Letters Dean', 'Physiology', 'Hospitality Business',\n",
       "       'Nursing', 'Criminal Justice', 'Communication', 'Kinesiology',\n",
       "       'Art, Art History, and Design', 'Chemical Engr & Materials Science',\n",
       "       'Accounting and Information Systems', 'English',\n",
       "       'Counseling, Ed Psych & Special Ed',\n",
       "       'Computer Science & Engineering', 'Department of Marketing',\n",
       "       'Business Dean', 'Music', 'Animal Science', 'Physics-Astronomy',\n",
       "       'Political Science', 'Chemistry', 'Social Work',\n",
       "       'Integrative Biology', 'Department of Supply Chain Mgt',\n",
       "       'Planning, Design, & Construction',\n",
       "       'Biomedical Laboratory Diagstcs Prog', 'Anthropology',\n",
       "       'Biochemistry & Molecular Biology', 'Romance and Classical Studies',\n",
       "       'Finance', 'Community Sustainability',\n",
       "       'Earth and Environmental Sciences', 'Management',\n",
       "       'Mechanical Engineering', 'Civil & Environmental Engineering',\n",
       "       'Packaging', 'History', 'Teacher Education', 'Horticulture',\n",
       "       'Agricultural, Food, & Resource Econ',\n",
       "       'Writing,Rhetoric,American Cultures',\n",
       "       'Food Science & Human Nutrition',\n",
       "       'Linguistic,Germ,Slavic,Asian&Afr Lg',\n",
       "       'Department of Media and Information',\n",
       "       'Microbiology & Molecular Genetics',\n",
       "       'Human Development & Family Studies', 'Mathematics',\n",
       "       'Plant Biology', 'Agriculture & Natural Resource Dean',\n",
       "       'Fisheries & Wildlife', 'Resdntl Coll Arts and Humanit Dean'], dtype=object)"
      ]
     },
     "execution_count": 87,
     "metadata": {},
     "output_type": "execute_result"
    }
   ],
   "source": [
    "# see all unique departments\n",
    "demogs_all['Entering Term Department'].unique()"
   ]
  },
  {
   "cell_type": "code",
   "execution_count": 88,
   "metadata": {},
   "outputs": [
    {
     "data": {
      "text/plain": [
       "                                      157290\n",
       "Music                                      2\n",
       "Nursing                                   26\n",
       "Natural Science                          149\n",
       "Lyman Briggs College                      39\n",
       "Communication Arts and Sciences           30\n",
       "Social Science                           108\n",
       "Education                                 43\n",
       "Arts and Letters                          29\n",
       "Agriculture and Natural Resources         35\n",
       "Assoc Prov Undergraduate Education        96\n",
       "Veterinary Medicine                       20\n",
       "Business                                 113\n",
       "James Madison College                     28\n",
       "Resdntl Coll Arts and Humanities           2\n",
       "Engineering                              124\n",
       "dtype: int64"
      ]
     },
     "execution_count": 88,
     "metadata": {},
     "output_type": "execute_result"
    }
   ],
   "source": [
    "# see how many students are in each college\n",
    "pd.value_counts(demogs_all['Entering Term College'].values, sort=False)"
   ]
  },
  {
   "cell_type": "code",
   "execution_count": 89,
   "metadata": {},
   "outputs": [
    {
     "data": {
      "text/plain": [
       "                                       157290\n",
       "Natural Science Dean                       88\n",
       "Music                                       2\n",
       "Teacher Education                          18\n",
       "Nursing                                    26\n",
       "Human Development & Family Studies          1\n",
       "Fisheries & Wildlife                        1\n",
       "Hospitality Business                        9\n",
       "Journalism                                 10\n",
       "Writing,Rhetoric,American Cultures          2\n",
       "Neighborhood Student Success Collab        96\n",
       "James Madison College Dean                 28\n",
       "Integrative Biology                        13\n",
       "Community Sustainability                    2\n",
       "Microbiology & Molecular Genetics           6\n",
       "History                                     9\n",
       "Criminal Justice                           14\n",
       "Electrical and Computer Engineering        34\n",
       "Department of Media and Information         3\n",
       "Packaging                                   9\n",
       "Earth and Environmental Sciences            3\n",
       "Communication                              17\n",
       "Counseling, Ed Psych & Special Ed           5\n",
       "Animal Science                              4\n",
       "Psychology                                 36\n",
       "Lyman Briggs Dean                          39\n",
       "Accounting and Information Systems         17\n",
       "Business Dean                              31\n",
       "Anthropology                                6\n",
       "Engineering Dean                           31\n",
       "                                        ...  \n",
       "Department of Supply Chain Mgt             11\n",
       "Kinesiology                                20\n",
       "English                                    10\n",
       "Finance                                    29\n",
       "Linguistic,Germ,Slavic,Asian&Afr Lg         3\n",
       "Horticulture                                2\n",
       "Art, Art History, and Design                9\n",
       "Arts & Letters Dean                         4\n",
       "Social Work                                 6\n",
       "Romance and Classical Studies               1\n",
       "Chemistry                                   4\n",
       "Mathematics                                11\n",
       "Agriculture & Natural Resource Dean         2\n",
       "Department of Marketing                    12\n",
       "Agricultural, Food, & Resource Econ         5\n",
       "Civil & Environmental Engineering          12\n",
       "Computer Science & Engineering             20\n",
       "Physics-Astronomy                           4\n",
       "Chemical Engr & Materials Science           9\n",
       "Economics                                  18\n",
       "Biochemistry & Molecular Biology            8\n",
       "Food Science & Human Nutrition              2\n",
       "Resdntl Coll Arts and Humanit Dean          2\n",
       "Political Science                          17\n",
       "Management                                  4\n",
       "Plant Biology                               1\n",
       "Mechanical Engineering                     18\n",
       "Veterinary Medicine Dean                   20\n",
       "Physiology                                  8\n",
       "Biomedical Laboratory Diagstcs Prog         3\n",
       "dtype: int64"
      ]
     },
     "execution_count": 89,
     "metadata": {},
     "output_type": "execute_result"
    }
   ],
   "source": [
    "# see how many students are in each department\n",
    "pd.value_counts(demogs_all['Entering Term Department'].values, sort=False)"
   ]
  },
  {
   "cell_type": "code",
   "execution_count": null,
   "metadata": {
    "collapsed": true
   },
   "outputs": [],
   "source": []
  }
 ],
 "metadata": {
  "kernelspec": {
   "display_name": "Python 3",
   "language": "python",
   "name": "python3"
  },
  "language_info": {
   "codemirror_mode": {
    "name": "ipython",
    "version": 3
   },
   "file_extension": ".py",
   "mimetype": "text/x-python",
   "name": "python",
   "nbconvert_exporter": "python",
   "pygments_lexer": "ipython3",
   "version": "3.5.4"
  }
 },
 "nbformat": 4,
 "nbformat_minor": 1
}
