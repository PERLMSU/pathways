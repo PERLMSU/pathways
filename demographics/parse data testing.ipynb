{
 "cells": [
  {
   "cell_type": "code",
   "execution_count": null,
   "metadata": {},
   "outputs": [],
   "source": [
    "%matplotlib inline\n",
    "import sys \n",
    "sys.path.append('..')\n",
    "import pandas as pd\n",
    "from parse_raw_data import *\n",
    "import numpy as np\n",
    "import matplotlib.pyplot as plt"
   ]
  },
  {
   "cell_type": "code",
   "execution_count": null,
   "metadata": {
    "collapsed": true
   },
   "outputs": [],
   "source": [
    "courses = pd.read_excel('data/61331_Classes_FS01-US16_part1.xlsx')"
   ]
  },
  {
   "cell_type": "code",
   "execution_count": null,
   "metadata": {
    "collapsed": true
   },
   "outputs": [],
   "source": [
    "students = pd.read_excel('data/61331_Demogs_FS01-US16_part1.xlsx')"
   ]
  },
  {
   "cell_type": "code",
   "execution_count": null,
   "metadata": {},
   "outputs": [],
   "source": [
    "#calculate z score\n",
    "courses.groupby('grade_code').count()"
   ]
  },
  {
   "cell_type": "code",
   "execution_count": null,
   "metadata": {
    "collapsed": true
   },
   "outputs": [],
   "source": [
    "# def convert_grade_to_float(grade):\n",
    "#     \"\"\"\n",
    "#     converts the provided string grade to a float\n",
    "#     replaces non-numeric grades with nans\n",
    "    \n",
    "#     grade : str\n",
    "#     return : float\n",
    "#     \"\"\"\n",
    "    \n",
    "#     try:\n",
    "#         grade = np.float64(grade)\n",
    "#     except ValueError:\n",
    "#         grade = np.nan\n",
    "        \n",
    "#     return grade        "
   ]
  },
  {
   "cell_type": "code",
   "execution_count": null,
   "metadata": {},
   "outputs": [],
   "source": [
    "courses['grade_float'] = courses.grade_code.apply(convert_grade_to_float)"
   ]
  },
  {
   "cell_type": "code",
   "execution_count": null,
   "metadata": {},
   "outputs": [],
   "source": [
    "courses['z_score'] = courses.groupby(['term_code', 'subj_code', 'crse_code', 'sctn_code'])['grade_float'].apply(calc_z_score)"
   ]
  },
  {
   "cell_type": "code",
   "execution_count": null,
   "metadata": {},
   "outputs": [],
   "source": [
    "courses.groupby('grade_float').count()"
   ]
  },
  {
   "cell_type": "code",
   "execution_count": null,
   "metadata": {},
   "outputs": [],
   "source": [
    "fig, ax = plt.subplots()\n",
    "\n",
    "courses[courses.crse_code=='183'].groupby('major name').mean().plot(kind='scatter', x='grade_float', y='z_score', alpha=0.5\n",
    "                                                                   ,ax=ax)"
   ]
  },
  {
   "cell_type": "code",
   "execution_count": null,
   "metadata": {
    "collapsed": true
   },
   "outputs": [],
   "source": []
  },
  {
   "cell_type": "code",
   "execution_count": 10,
   "metadata": {
    "collapsed": true
   },
   "outputs": [],
   "source": [
    "# merge everything into one big table\n",
    "df = pd.merge(left=students, right=courses, how='left', on='placeholderID')"
   ]
  },
  {
   "cell_type": "code",
   "execution_count": 15,
   "metadata": {},
   "outputs": [
    {
     "data": {
      "text/plain": [
       "array(['FS98', 'FS99', 'FS05', 'FS11', 'FS14', 'FS06', 'FS03', 'FS15',\n",
       "       'SS02', 'FS01', 'FS16', 'FS02', 'FS07', 'FS08', 'FS09', 'FS13',\n",
       "       'SS12', 'FS12', 'FS10', 'SS09', 'FS04', 'SS16', 'US16', 'FS00',\n",
       "       'SS06', 'SS15', 'SS04', 'FS92', 'SS05', 'FS97', 'SS13', 'US09',\n",
       "       'US05', 'SS14', 'SS07', 'SS08', 'US10', 'SS10', nan, 'US13', 'FS96',\n",
       "       'US04', 'FQ72', 'SS00', 'SS11', 'US12', 'US08', 'SS03', 'FS93',\n",
       "       'US11', 'US02', 'SS01', 'FQ77', 'US07', 'US03', 'SS17', 'US99',\n",
       "       'SS94', 'FS95', 'US15', 'SS96', 'SS98', 'US14', 'WQ90', 'SS99',\n",
       "       'FQ69', 'FQ83', 'US06', 'US01', 'UQ77', 'FQ87', 'FS94', 'US00',\n",
       "       'FQ88', 'UQ76', 'WQ81', 'US95', 'SS97', 'UQ89', 'FQ89', 'US97',\n",
       "       'FQ80', 'FQ90', 'FQ79', 'FQ86', 'FQ91', 'US98', 'FQ84', 'FQ76',\n",
       "       'FQ82', 'FQ85', 'FQ81', 'FQ75', 'WQ84', 'SS95', 'FQ71', 'US93',\n",
       "       'SQ82', 'WQ89', 'SQ79', 'SS93', 'WQ69', 'FQ73', 'US94', 'FQ78',\n",
       "       'US96', 'WQ92', 'WQ71'], dtype=object)"
      ]
     },
     "execution_count": 15,
     "metadata": {},
     "output_type": "execute_result"
    }
   ],
   "source": [
    "# remove everything prior to 2000\n",
    "df['Entering term code'].unique()"
   ]
  },
  {
   "cell_type": "code",
   "execution_count": 13,
   "metadata": {},
   "outputs": [
    {
     "data": {
      "text/plain": [
       "0   -291\n",
       "1   -290\n",
       "2   -290\n",
       "dtype: int64"
      ]
     },
     "execution_count": 13,
     "metadata": {},
     "output_type": "execute_result"
    }
   ],
   "source": [
    "# update courses\n",
    "df[0:3].apply(lambda row: current_term_index(first_term=convert_term_code(row['Entering term code'])\n",
    "                                            ,current_term=convert_term_code(row['term_code'])), axis=1)"
   ]
  },
  {
   "cell_type": "code",
   "execution_count": null,
   "metadata": {
    "collapsed": true
   },
   "outputs": [],
   "source": [
    "# update students"
   ]
  },
  {
   "cell_type": "code",
   "execution_count": 6,
   "metadata": {},
   "outputs": [
    {
     "data": {
      "text/html": [
       "<div>\n",
       "<style>\n",
       "    .dataframe thead tr:only-child th {\n",
       "        text-align: right;\n",
       "    }\n",
       "\n",
       "    .dataframe thead th {\n",
       "        text-align: left;\n",
       "    }\n",
       "\n",
       "    .dataframe tbody tr th {\n",
       "        vertical-align: top;\n",
       "    }\n",
       "</style>\n",
       "<table border=\"1\" class=\"dataframe\">\n",
       "  <thead>\n",
       "    <tr style=\"text-align: right;\">\n",
       "      <th></th>\n",
       "      <th>placeholderID</th>\n",
       "      <th>term_seq_id</th>\n",
       "      <th>term_code</th>\n",
       "      <th>subj_code</th>\n",
       "      <th>crse_code</th>\n",
       "      <th>sctn_code</th>\n",
       "      <th>grade_code</th>\n",
       "      <th>repeat_status_flag</th>\n",
       "      <th>major code</th>\n",
       "      <th>major name</th>\n",
       "    </tr>\n",
       "  </thead>\n",
       "  <tbody>\n",
       "    <tr>\n",
       "      <th>0</th>\n",
       "      <td>97758DD4-7286-4A19-BA6C-00005FE6CFA3</td>\n",
       "      <td>1014</td>\n",
       "      <td>FS01</td>\n",
       "      <td>PHY</td>\n",
       "      <td>251</td>\n",
       "      <td>24.0</td>\n",
       "      <td>2.5</td>\n",
       "      <td></td>\n",
       "      <td>3611.0</td>\n",
       "      <td>Earth Science</td>\n",
       "    </tr>\n",
       "    <tr>\n",
       "      <th>1</th>\n",
       "      <td>97758DD4-7286-4A19-BA6C-00005FE6CFA3</td>\n",
       "      <td>1016</td>\n",
       "      <td>SS02</td>\n",
       "      <td>MTH</td>\n",
       "      <td>126</td>\n",
       "      <td>5.0</td>\n",
       "      <td>3.0</td>\n",
       "      <td>SR</td>\n",
       "      <td>3611.0</td>\n",
       "      <td>Earth Science</td>\n",
       "    </tr>\n",
       "    <tr>\n",
       "      <th>2</th>\n",
       "      <td>97758DD4-7286-4A19-BA6C-00005FE6CFA3</td>\n",
       "      <td>1016</td>\n",
       "      <td>SS02</td>\n",
       "      <td>PHY</td>\n",
       "      <td>232</td>\n",
       "      <td>1.0</td>\n",
       "      <td>1.0</td>\n",
       "      <td></td>\n",
       "      <td>3611.0</td>\n",
       "      <td>Earth Science</td>\n",
       "    </tr>\n",
       "    <tr>\n",
       "      <th>3</th>\n",
       "      <td>97758DD4-7286-4A19-BA6C-00005FE6CFA3</td>\n",
       "      <td>1016</td>\n",
       "      <td>SS02</td>\n",
       "      <td>PHY</td>\n",
       "      <td>252</td>\n",
       "      <td>20.0</td>\n",
       "      <td>1.5</td>\n",
       "      <td></td>\n",
       "      <td>3611.0</td>\n",
       "      <td>Earth Science</td>\n",
       "    </tr>\n",
       "    <tr>\n",
       "      <th>4</th>\n",
       "      <td>592FB87B-B37F-476D-B7F0-0001F057D6A6</td>\n",
       "      <td>1014</td>\n",
       "      <td>FS01</td>\n",
       "      <td>MTH</td>\n",
       "      <td>110</td>\n",
       "      <td>8.0</td>\n",
       "      <td>2.0</td>\n",
       "      <td></td>\n",
       "      <td>4494.0</td>\n",
       "      <td>Social Work</td>\n",
       "    </tr>\n",
       "  </tbody>\n",
       "</table>\n",
       "</div>"
      ],
      "text/plain": [
       "                          placeholderID  term_seq_id term_code subj_code  \\\n",
       "0  97758DD4-7286-4A19-BA6C-00005FE6CFA3         1014      FS01       PHY   \n",
       "1  97758DD4-7286-4A19-BA6C-00005FE6CFA3         1016      SS02       MTH   \n",
       "2  97758DD4-7286-4A19-BA6C-00005FE6CFA3         1016      SS02       PHY   \n",
       "3  97758DD4-7286-4A19-BA6C-00005FE6CFA3         1016      SS02       PHY   \n",
       "4  592FB87B-B37F-476D-B7F0-0001F057D6A6         1014      FS01       MTH   \n",
       "\n",
       "  crse_code  sctn_code grade_code repeat_status_flag  major code  \\\n",
       "0       251       24.0        2.5                         3611.0   \n",
       "1       126        5.0        3.0                 SR      3611.0   \n",
       "2       232        1.0        1.0                         3611.0   \n",
       "3       252       20.0        1.5                         3611.0   \n",
       "4       110        8.0        2.0                         4494.0   \n",
       "\n",
       "        major name  \n",
       "0   Earth Science   \n",
       "1   Earth Science   \n",
       "2   Earth Science   \n",
       "3   Earth Science   \n",
       "4     Social Work   "
      ]
     },
     "execution_count": 6,
     "metadata": {},
     "output_type": "execute_result"
    }
   ],
   "source": [
    "courses.head()"
   ]
  },
  {
   "cell_type": "code",
   "execution_count": 7,
   "metadata": {},
   "outputs": [
    {
     "data": {
      "text/html": [
       "<div>\n",
       "<style>\n",
       "    .dataframe thead tr:only-child th {\n",
       "        text-align: right;\n",
       "    }\n",
       "\n",
       "    .dataframe thead th {\n",
       "        text-align: left;\n",
       "    }\n",
       "\n",
       "    .dataframe tbody tr th {\n",
       "        vertical-align: top;\n",
       "    }\n",
       "</style>\n",
       "<table border=\"1\" class=\"dataframe\">\n",
       "  <thead>\n",
       "    <tr style=\"text-align: right;\">\n",
       "      <th></th>\n",
       "      <th>placeholderID</th>\n",
       "      <th>Gender</th>\n",
       "      <th>Ethnicity</th>\n",
       "      <th>citizenship</th>\n",
       "      <th>First Gen</th>\n",
       "      <th>Pell eligible</th>\n",
       "      <th>permanent ZIP</th>\n",
       "      <th>Entering term code</th>\n",
       "      <th>Entering Term Major code</th>\n",
       "      <th>Entering Term Major Name</th>\n",
       "      <th>...</th>\n",
       "      <th>ACT_COMP</th>\n",
       "      <th>ACT_EW</th>\n",
       "      <th>ap66 calculus AB</th>\n",
       "      <th>ap68 calculus BC</th>\n",
       "      <th>ap69 Calculus AB Subscore Grade</th>\n",
       "      <th>ap78 physics B</th>\n",
       "      <th>ap80 physics C Mech</th>\n",
       "      <th>ap82 physics C Physics C Electricity &amp; Magnet</th>\n",
       "      <th>ap83 physics 1</th>\n",
       "      <th>ap84 physics 2</th>\n",
       "    </tr>\n",
       "  </thead>\n",
       "  <tbody>\n",
       "    <tr>\n",
       "      <th>0</th>\n",
       "      <td>97758DD4-7286-4A19-BA6C-00005FE6CFA3</td>\n",
       "      <td>M</td>\n",
       "      <td>White (non-Hispanic)</td>\n",
       "      <td>US Citizen</td>\n",
       "      <td>N</td>\n",
       "      <td>N</td>\n",
       "      <td>49504</td>\n",
       "      <td>FS98</td>\n",
       "      <td>3784.0</td>\n",
       "      <td>Biological Science Interdept</td>\n",
       "      <td>...</td>\n",
       "      <td>NaN</td>\n",
       "      <td>NaN</td>\n",
       "      <td>NaN</td>\n",
       "      <td>NaN</td>\n",
       "      <td>NaN</td>\n",
       "      <td>NaN</td>\n",
       "      <td>NaN</td>\n",
       "      <td>NaN</td>\n",
       "      <td>NaN</td>\n",
       "      <td>NaN</td>\n",
       "    </tr>\n",
       "    <tr>\n",
       "      <th>1</th>\n",
       "      <td>592FB87B-B37F-476D-B7F0-0001F057D6A6</td>\n",
       "      <td>F</td>\n",
       "      <td>White (non-Hispanic)</td>\n",
       "      <td>US Citizen</td>\n",
       "      <td>N</td>\n",
       "      <td>N</td>\n",
       "      <td>22309</td>\n",
       "      <td>FS99</td>\n",
       "      <td>843.0</td>\n",
       "      <td>Music Therapy</td>\n",
       "      <td>...</td>\n",
       "      <td>NaN</td>\n",
       "      <td>NaN</td>\n",
       "      <td>NaN</td>\n",
       "      <td>NaN</td>\n",
       "      <td>NaN</td>\n",
       "      <td>NaN</td>\n",
       "      <td>NaN</td>\n",
       "      <td>NaN</td>\n",
       "      <td>NaN</td>\n",
       "      <td>NaN</td>\n",
       "    </tr>\n",
       "    <tr>\n",
       "      <th>2</th>\n",
       "      <td>9C41EAAC-FC57-42F9-B53F-000201BE35C3</td>\n",
       "      <td>M</td>\n",
       "      <td>White (non-Hispanic)</td>\n",
       "      <td>US Citizen</td>\n",
       "      <td>N</td>\n",
       "      <td>N</td>\n",
       "      <td>48879</td>\n",
       "      <td>FS05</td>\n",
       "      <td>1069.0</td>\n",
       "      <td>General Business Admin Prelaw</td>\n",
       "      <td>...</td>\n",
       "      <td>26.0</td>\n",
       "      <td></td>\n",
       "      <td>NaN</td>\n",
       "      <td>NaN</td>\n",
       "      <td>NaN</td>\n",
       "      <td>NaN</td>\n",
       "      <td>NaN</td>\n",
       "      <td>NaN</td>\n",
       "      <td>NaN</td>\n",
       "      <td>NaN</td>\n",
       "    </tr>\n",
       "    <tr>\n",
       "      <th>3</th>\n",
       "      <td>7AED7EC2-ED7F-4FE1-8270-000209CBA389</td>\n",
       "      <td>M</td>\n",
       "      <td>White (non-Hispanic)</td>\n",
       "      <td>US Citizen</td>\n",
       "      <td>N</td>\n",
       "      <td>Y</td>\n",
       "      <td>49341</td>\n",
       "      <td>FS05</td>\n",
       "      <td>5151.0</td>\n",
       "      <td>No Preference</td>\n",
       "      <td>...</td>\n",
       "      <td>22.0</td>\n",
       "      <td></td>\n",
       "      <td>NaN</td>\n",
       "      <td>NaN</td>\n",
       "      <td>NaN</td>\n",
       "      <td>NaN</td>\n",
       "      <td>NaN</td>\n",
       "      <td>NaN</td>\n",
       "      <td>NaN</td>\n",
       "      <td>NaN</td>\n",
       "    </tr>\n",
       "    <tr>\n",
       "      <th>4</th>\n",
       "      <td>3C1C5E03-FA14-4F6A-B0C6-000250988C23</td>\n",
       "      <td>M</td>\n",
       "      <td>White (non-Hispanic)</td>\n",
       "      <td>US Citizen</td>\n",
       "      <td>N</td>\n",
       "      <td>N</td>\n",
       "      <td>48154</td>\n",
       "      <td>FS11</td>\n",
       "      <td>2371.0</td>\n",
       "      <td>Engineering   No Preference</td>\n",
       "      <td>...</td>\n",
       "      <td>26.0</td>\n",
       "      <td>22</td>\n",
       "      <td>NaN</td>\n",
       "      <td>NaN</td>\n",
       "      <td>NaN</td>\n",
       "      <td>NaN</td>\n",
       "      <td>NaN</td>\n",
       "      <td>NaN</td>\n",
       "      <td>NaN</td>\n",
       "      <td>NaN</td>\n",
       "    </tr>\n",
       "  </tbody>\n",
       "</table>\n",
       "<p>5 rows × 31 columns</p>\n",
       "</div>"
      ],
      "text/plain": [
       "                          placeholderID Gender             Ethnicity  \\\n",
       "0  97758DD4-7286-4A19-BA6C-00005FE6CFA3      M  White (non-Hispanic)   \n",
       "1  592FB87B-B37F-476D-B7F0-0001F057D6A6      F  White (non-Hispanic)   \n",
       "2  9C41EAAC-FC57-42F9-B53F-000201BE35C3      M  White (non-Hispanic)   \n",
       "3  7AED7EC2-ED7F-4FE1-8270-000209CBA389      M  White (non-Hispanic)   \n",
       "4  3C1C5E03-FA14-4F6A-B0C6-000250988C23      M  White (non-Hispanic)   \n",
       "\n",
       "  citizenship First Gen Pell eligible permanent ZIP Entering term code  \\\n",
       "0  US Citizen         N             N         49504               FS98   \n",
       "1  US Citizen         N             N         22309               FS99   \n",
       "2  US Citizen         N             N         48879               FS05   \n",
       "3  US Citizen         N             Y         49341               FS05   \n",
       "4  US Citizen         N             N         48154               FS11   \n",
       "\n",
       "   Entering Term Major code        Entering Term Major Name       ...        \\\n",
       "0                    3784.0    Biological Science Interdept       ...         \n",
       "1                     843.0                  Music Therapy        ...         \n",
       "2                    1069.0   General Business Admin Prelaw       ...         \n",
       "3                    5151.0                  No Preference        ...         \n",
       "4                    2371.0     Engineering   No Preference       ...         \n",
       "\n",
       "  ACT_COMP  ACT_EW ap66 calculus AB ap68 calculus BC  \\\n",
       "0      NaN     NaN              NaN              NaN   \n",
       "1      NaN     NaN              NaN              NaN   \n",
       "2     26.0                      NaN              NaN   \n",
       "3     22.0                      NaN              NaN   \n",
       "4     26.0      22              NaN              NaN   \n",
       "\n",
       "   ap69 Calculus AB Subscore Grade ap78 physics B ap80 physics C Mech  \\\n",
       "0                              NaN            NaN                 NaN   \n",
       "1                              NaN            NaN                 NaN   \n",
       "2                              NaN            NaN                 NaN   \n",
       "3                              NaN            NaN                 NaN   \n",
       "4                              NaN            NaN                 NaN   \n",
       "\n",
       "   ap82 physics C Physics C Electricity & Magnet  ap83 physics 1  \\\n",
       "0                                            NaN             NaN   \n",
       "1                                            NaN             NaN   \n",
       "2                                            NaN             NaN   \n",
       "3                                            NaN             NaN   \n",
       "4                                            NaN             NaN   \n",
       "\n",
       "   ap84 physics 2  \n",
       "0             NaN  \n",
       "1             NaN  \n",
       "2             NaN  \n",
       "3             NaN  \n",
       "4             NaN  \n",
       "\n",
       "[5 rows x 31 columns]"
      ]
     },
     "execution_count": 7,
     "metadata": {},
     "output_type": "execute_result"
    }
   ],
   "source": [
    "students.head()"
   ]
  }
 ],
 "metadata": {
  "kernelspec": {
   "display_name": "Python 3",
   "language": "python",
   "name": "python3"
  },
  "language_info": {
   "codemirror_mode": {
    "name": "ipython",
    "version": 3
   },
   "file_extension": ".py",
   "mimetype": "text/x-python",
   "name": "python",
   "nbconvert_exporter": "python",
   "pygments_lexer": "ipython3",
   "version": "3.5.4"
  }
 },
 "nbformat": 4,
 "nbformat_minor": 2
}
