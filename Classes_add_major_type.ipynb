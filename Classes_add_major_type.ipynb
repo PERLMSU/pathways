{
 "cells": [
  {
   "cell_type": "code",
   "execution_count": null,
   "metadata": {
    "collapsed": true
   },
   "outputs": [],
   "source": [
    "import numpy as np\n",
    "import pandas as pd\n",
    "pd.options.display.max_columns = 50"
   ]
  },
  {
   "cell_type": "code",
   "execution_count": null,
   "metadata": {
    "collapsed": true
   },
   "outputs": [],
   "source": [
    "df_classes_1 = pd.read_excel('Classes_FS01-US16_1.xlsx')\n",
    "df_classes_2 = pd.read_excel('Classes_FS01-US16_2.xlsx')"
   ]
  },
  {
   "cell_type": "code",
   "execution_count": null,
   "metadata": {
    "collapsed": true
   },
   "outputs": [],
   "source": [
    "#add major_type columns for both datasets\n",
    "df_classes_1['major_type'] = \"\"\n",
    "df_classes_2['major_type'] = \"\""
   ]
  },
  {
   "cell_type": "code",
   "execution_count": null,
   "metadata": {},
   "outputs": [],
   "source": [
    "df_classes_1"
   ]
  },
  {
   "cell_type": "code",
   "execution_count": null,
   "metadata": {},
   "outputs": [],
   "source": [
    "#introduce lists of types of majors\n",
    "stem_majors=[' Animal Husbandry ', ' Integrative Biology ', ' Geology ', ' Envir & Natural Res Policy Std ', ' Physics and Geophysics ',' Chemical Physics ',' Geophysics ',' Accounting ',' Actuarial Science ',' Agr & Nat Res   No Preference',' Ag,Food & Natural Resources Ed ',' Agri Business',' Agribusiness Management ',' Agric & Natural Resources Comm ',' Agricultural Industries ',' Agricultural Operations ',' Agriscience ',' Animal Science ',' Anthropology ',' Applied Mathematics ',' Applied Plant Science ',' Applied Statistics ',' Audiology and Speech Sciences ',' Beef Cattle Management ',' Biochem&Molecular Biol/Biotech ',' Biochemistry ',' Biochemistry & Molecular Biol ',' Biochemistry/Biotechnology ',' Biological Science ',' Biological Science Interdept',' Biology ',' Biomedical Laboratory Science ',' Botany ',' Botany and Plant Pathology ',' Building Construction Mgt ',' Cell and Molecular Biology ',' Chemistry ',' Clinical Laboratory Sciences ',' Communication ',' Communicative Sci & Disorders ',' Computational Chemistry ',' Computational Mathematics ',' Computer Science ',' Crop and Soil Sciences ',' Diagnostic Molecular Science ',' Dietetics ',' Earth Science Interdept',' Earth Science ',' Economic Geography ',' Electrical Technology ',' Entomology ',' Envir Biol/Botany & Plant Path ',' Envir Biology/Microbiology ',' Envir Biology/Plant Biology ',' Envir Studies & Sustainability ' ,' Envir Studies and Agriscience ',' Environ Biology/Microbiology ',' Environ Studies & Applications ',' Environmental Biol/Plant Biol ',' Environmental Biology/Botany ',' Environmental Biology/Zoology ',' Environmental Economics & Mgt ',' Environmental Economics&Policy ',' Environmental Geography ',' Environmental Geosciences ',' Environmental Sci & Mgt ',' Environmental Soil Science ',' Epidemiology ',' Finance ',' Fisheries and Wildlife ',' Food Science ',' Forensic Science ',' Forestry ',' Fruit & Vegetable Crop Mgt ',' General Science ',' General Science Interdept',' Genomics & Molecular Genetics ',' Geographic Information Science ',' Geography ',' Geological Sciences ',' Global & Area Studies Soc Sci',' Global & Intl Stdys in Soc Sci ',' Graphic Design ',' Horticulture ',' Human Biology ',' Human Geography ',' Human Medicine ',' Industrial Mathematics ',' Integrative Pharmacology ',' Intr Stdy S S Public Plcy Stdy',' Intr Stdy Soc Sci Cmty Rel',' Intr Stdy Soc Sci Envir Policy',' Intr Stdy Soc Sci Health Stdy',' Intr Stdy Soc Sci Hm Res Scty',' Intr Stdy Soc Sci Human Aging',' Intr Stdy Soc Sci Intl Studies',' Intr Stdy Soc Sci Law&Society',' Intr Stdys Soc Sci: Soc Sci Ed ',' Intr Studies in Social Science ',' Kinesiology ',' LBS Animal Science ',' Mathematics ',' Mathematics, Advanced ',' Media Arts and Technology ',' Media and Communication Tech ',' Microbiol & Molecular Genetics ',' Microbiology ',' Natural Res Recreation & Tour ',' Natural Science No Preference',' Neuroscience ',' Nursing ',' Nutritional Sciences ',' Organic Farming ',' Osteopathic Medicine ',' Pharmacology & Toxicology ',' Physical Science ',' Physical Science Interdept',' Physics and Geophysics ',' Physiology ',' Plant Biology ',' Plant Breeding & Genetics CSS',' Plant Pathology ',' Predental ',' Premedical ',' Prenursing ',' Preoptometry ',' Preveterinary ',' Psychology ',' Public Health ',' School Psychology ',' Science & Technology Studies ',' Statistics ',' Swine Management ',' Technology Systems Management ',' Telecommunication ',' Urban and Regional Planning ',' Veterinary Medicine ',' Veterinary Technology ',' Viticulture ',' Zoology ']\n",
    "nonstem_majors=[' Public Administration ', ' Criminalistics ',  ' Personnel Administration ', ' Park and Recreation Resources ', ' Financial Administration ', ' Home Economics ', ' Social Science Law, Democracy', ' Food: Technology & Management ', ' Applied Music ', ' Apparel Design and Textiles ', ' Music   No Major', ' Social Science ',' Social Science Prelaw', ' Hotel & Restaurant Management ', ' Art Practice ', ' Humanities ', ' MLM Logistics', ' Advertising ',' African American & African Std ',' American Studies ',' Ancient Studies ',' Apparel and Textile Design ',' Apparel and Textiles ',' Arabic ',' Art History and Visual Culture ',' Arts & Letters   General',' Arts and Humanities ',' Athletic Training ',' Business Analytics ',' Business Preference',' Business Administration ',' Business Admitted',' Child Development ',' Chinese ',' Classical Studies ',' Clinical Social Work ',' Commercial Floriculture ',' Community Sustainability ',' Comparative Culture & Politics ' ,' Composition ',' Composition and Music Theory ',' Construction Management ',' Criminal Justice ',' Dairy Management ',' Dairy Production ',' East Asian Languages & Culture ',' Economics ',' English ',' English Language Center ',' Experience Architecture ',' Family & Consumer Resources ',' Family Community Services ',' Family and Consumer Sciences ',' Film Studies ',' Food Industry Management ',' French ',' General Business Admin ',' General Business Admin Prelaw',' General Management ',' German ',' Global Stdys Arts & Humanities ',' Hist,Philosophy & Soc of Sci ',' History ',' History of Art ',' Horse Management ',' Hospitality Business ',' Human Devel and Family Studies ',' Human Devl and Family Studies ',' Human Resource Management ',' Human Resources and Labor Rel ',' Humanities Prelaw',' Interdisciplinary Humanities ',' Interior Design ',' Interior Design&Facilities Mgt ',' International Relations ',' James Madison ',' Japanese ',' Jazz Studies ',' Journalism ',' Landscape Architecture ',' Landscape Management ',' Landscape and Lawn Management ',' Landscape and Nursery ',' Landscape and Nursery Mgt ',' Language Program ',' Latin ',' Law ',' Linguistics ',' Livestock Industries ',' Management ',' Management,Strategy,Leadership ',' Manufacturing Engineering ',' Marketing ',' Media and Information ',' Medical Technology ',' Merchandising Management ',' Music ',' Music Education ',' Music Performance ',' Music Therapy ',' Park, Recreation & Tourism Res ',' Philosophy ',' Pol Theory&Constitutional Dem ',' Policy and Applied Economics ',' Political Economy ',' Political Science ',' Political Science Prelaw',' Professional Writing ',' Public Admin and Public Policy ',' Public Affairs Management ',' Public Policy ',' Public Resource Management ',' Religious Studies ',' Residential Coll in Arts & Hum ',' Resource Development ',' Retailing ',' Russian ',' School Music   No Major',' Social Relations ',' Social Relations and Policy ',' Social Work ',' Sociology ',' Spanish ',' Special E Emotional Impairment',' Sports and Commercial Turf Mgt ',' Studio Art ',' Supply Chain Management ',' Sustainable Parks,Rec and Tour ',' Teaching Cert Internship Year ',' Telecomm, Info Studies & Media ',' Theatre ',' Turfgrass Management ',' Turfgrass Management Golf',\" Women's Studies \",\" Women's and Gender Studies \",' World Politics ']\n",
    "Enigeering=[' Agricultural Engineering Tech ', ' Agricultural Engineering ', ' Mechanics ', ' Applied Engineering Sciences ',' Biosystems Engineering ',' Chemical Engineering ',' Civil Engineering ',' Computer Engineering ',' Electrical Engineering ',' Engineering   No Preference',' Engineering Arts ',' Engineering Mechanics ',' Environmental Engineering ',' Materials Sci and Engineering ',' Mechanical Engineering ',' Packaging ']\n",
    "phy_ast=[' Physics ',' Astrophysics ',' Astrophysics and Astronomy ']\n",
    "education=[' Recreation and Youth Leadershp ', ' Physical Education ', ' Early Care and Education ',' Art Education ',' Curriculum and Teaching ',' Education ',' Elementary Education ',' History Education ',' Instrumental Music Education ',' Lifelong Education ',' Mathematics Education ',' Music Education ',' Phys Ed & Exercise Science ',' Special E Emotional Impairment',' Special Ed Deaf Education',' Special Ed Learn Disabilities',' Special Ed Visual Impairment',' Stringed Instrument Music Ed ',' Teaching and Curriculum ',' Vocal General Music Education']\n",
    "other=[' High School Guest ',' Law Non Degree Guest',' Transient Major ']\n",
    "no_preference=[' No Preference ']\n",
    "lbs=[' LBS   No Coordinate Major', ' LBS Medical Technology', ' LBS Human Biology ', ' LBS Astrophysics ',' LBS Animal Science ',' LBS Biochem and Molecular Biol ',' LBS Biochemistry ',' LBS Biochemistry/Biotechnology ',' LBS Biological Science ',' LBS Biology Field of Concent',' LBS Botany and Plant Pathology ',' LBS Chemical Physics ',' LBS Chemistry ',' LBS Computational Chemistry ',' LBS Computational Mathematics ',' LBS Computer Science ',' LBS Computer Science   FC',' LBS Earth Science   FC',' LBS Earth Science Interdept',' LBS Entomology ',' LBS Envir Biology/Plant Biol ',' LBS Envir Biology/Zoology ',' LBS Envir/Bio/Botany & Plant P ',' LBS Envir/Biology/Microbiology ',' LBS Environ Sci and Management ',' LBS Environmental Geosciences ',' LBS General Science Interdept',' LBS Genomics & Molecular Genet ',' LBS Geological Sciences ',' LBS Geological Sciences ',' LBS Mathematics ',' LBS Medical Technology ',' LBS Microbiology ',' LBS Nutritional Sciences ',' LBS Physical Science   FC',' LBS Physical Science Interdept',' LBS Physics ',' LBS Physics and Geophysics ',' LBS Physiology ',' LBS Plant Biology ',' LBS Science & Tech Studies  FC',' LBS Statistics ',' LBS Zoology ',' Lyman Briggs ',' Lyman Briggs School ']"
   ]
  },
  {
   "cell_type": "code",
   "execution_count": null,
   "metadata": {},
   "outputs": [],
   "source": [
    "#fill out the major-type columns based on the lists above\n",
    "for i in range(len(df_classes_1)):\n",
    "    if df_classes_1['major_name'][i] in stem_majors:\n",
    "        df_classes_1.set_value(i, \"major_type\", 'Other STEM')\n",
    "        continue\n",
    "    elif df_classes_1['major_name'][i] in nonstem_majors:\n",
    "        df_classes_1.set_value(i, \"major_type\", 'non STEM')\n",
    "        continue\n",
    "    elif df_classes_1['major_name'][i] in Enigeering:\n",
    "        df_classes_1.set_value(i, \"major_type\", 'Engineering')\n",
    "        continue\n",
    "    elif df_classes_1['major_name'][i] in phy_ast:\n",
    "        df_classes_1.set_value(i, \"major_type\", 'Physics/Astrophysics')\n",
    "        continue\n",
    "    elif df_classes_1['major_name'][i] in education:\n",
    "        df_classes_1.set_value(i, \"major_type\", 'Education')\n",
    "        continue\n",
    "    elif df_classes_1['major_name'][i] in other:\n",
    "        df_classes_1.set_value(i, \"major_type\", 'Other Major')\n",
    "        continue\n",
    "    elif df_classes_1['major_name'][i] in no_preference:\n",
    "        df_classes_1.set_value(i, \"major_type\", 'No Preference')\n",
    "        continue\n",
    "    elif df_classes_1['major_name'][i] in lbs:\n",
    "        df_classes_1.set_value(i, \"major_type\", 'Lyman Briggs')\n",
    "        continue        "
   ]
  },
  {
   "cell_type": "code",
   "execution_count": null,
   "metadata": {},
   "outputs": [],
   "source": [
    "df_classes_1"
   ]
  },
  {
   "cell_type": "code",
   "execution_count": null,
   "metadata": {
    "collapsed": true
   },
   "outputs": [],
   "source": [
    "for i in range(len(df_classes_2)):\n",
    "    if df_classes_2['major_name'][i] in stem_majors:\n",
    "        df_classes_2.set_value(i, \"major_type\", 'Other STEM')\n",
    "        continue\n",
    "    elif df_classes_2['major_name'][i] in nonstem_majors:\n",
    "        df_classes_2.set_value(i, \"major_type\", 'non STEM')\n",
    "        continue\n",
    "    elif df_classes_2['major_name'][i] in Enigeering:\n",
    "        df_classes_2.set_value(i, \"major_type\", 'Engineering')\n",
    "        continue\n",
    "    elif df_classes_2['major_name'][i] in phy_ast:\n",
    "        df_classes_2.set_value(i, \"major_type\", 'Physics/Astrophysics')\n",
    "        continue\n",
    "    elif df_classes_2['major_name'][i] in education:\n",
    "        df_classes_2.set_value(i, \"major_type\", 'Education')\n",
    "        continue\n",
    "    elif df_classes_2['major_name'][i] in other:\n",
    "        df_classes_2.set_value(i, \"major_type\", 'Other Major')\n",
    "        continue\n",
    "    elif df_classes_2['major_name'][i] in no_preference:\n",
    "        df_classes_2.set_value(i, \"major_type\", 'No Preference')\n",
    "        continue\n",
    "    elif df_classes_2['major_name'][i] in lbs:\n",
    "        df_classes_2.set_value(i, \"major_type\", 'Lyman Briggs')\n",
    "        continue        "
   ]
  },
  {
   "cell_type": "code",
   "execution_count": null,
   "metadata": {},
   "outputs": [],
   "source": [
    "df_classes_2"
   ]
  },
  {
   "cell_type": "code",
   "execution_count": null,
   "metadata": {
    "collapsed": true
   },
   "outputs": [],
   "source": [
    "from pandas import ExcelWriter\n",
    "writer = ExcelWriter('Classes_FS01-US16_1.xlsx')\n",
    "df_classes_1.to_excel(writer, 'Sheet1')\n",
    "writer.save()"
   ]
  },
  {
   "cell_type": "code",
   "execution_count": null,
   "metadata": {
    "collapsed": true
   },
   "outputs": [],
   "source": [
    "from pandas import ExcelWriter\n",
    "writer = ExcelWriter('Classes_FS01-US16_2.xlsx')\n",
    "df_classes_2.to_excel(writer, 'Sheet1')\n",
    "writer.save()"
   ]
  },
  {
   "cell_type": "code",
   "execution_count": null,
   "metadata": {},
   "outputs": [],
   "source": [
    "dem_all = pd.read_excel('Demogs_FS01-US16_all.xlsx')\n",
    "dem_all"
   ]
  },
  {
   "cell_type": "code",
   "execution_count": null,
   "metadata": {},
   "outputs": [],
   "source": [
    "#check for majors that are not in our current list\n",
    "#commented out sections were when I added major_types in\n",
    "ls_more_majors = []\n",
    "for i in range(len(dem_all)):\n",
    "    if dem_all['Entering Term Major name'][i] in stem_majors:\n",
    "        #dem_all.set_value(i, \"major_type\", 'Other STEM')\n",
    "        continue\n",
    "    elif dem_all['Entering Term Major name'][i] in nonstem_majors:\n",
    "        #dem_all.set_value(i, \"major_type\", 'non STEM')\n",
    "        continue\n",
    "    elif dem_all['Entering Term Major name'][i] in Enigeering:\n",
    "        #dem_all.set_value(i, \"major_type\", 'Engineering')\n",
    "        continue\n",
    "    elif dem_all['Entering Term Major name'][i] in phy_ast:\n",
    "        #dem_all.set_value(i, \"major_type\", 'Physics/Astrophysics')\n",
    "        continue\n",
    "    elif dem_all['Entering Term Major name'][i] in education:\n",
    "        #dem_all.set_value(i, \"major_type\", 'Education')\n",
    "        continue\n",
    "    elif dem_all['Entering Term Major name'][i] in other:\n",
    "        #dem_all.set_value(i, \"major_type\", 'Other Major')\n",
    "        continue\n",
    "    elif dem_all['Entering Term Major name'][i] in no_preference:\n",
    "        #dem_all.set_value(i, \"major_type\", 'No Preference')\n",
    "        continue\n",
    "    elif dem_all['Entering Term Major name'][i] in lbs:\n",
    "        #dem_all.set_value(i, \"major_type\", 'Lyman Briggs')\n",
    "        continue        \n",
    "    else:\n",
    "        if dem_all['Entering Term Major name'][i] in ls_more_majors:\n",
    "            continue\n",
    "        else:\n",
    "            ls_more_majors.append(dem_all['Entering Term Major name'][i])"
   ]
  },
  {
   "cell_type": "code",
   "execution_count": null,
   "metadata": {
    "scrolled": true
   },
   "outputs": [],
   "source": [
    "#look at majors that were not in original list, then we added these majors to the appropriate major type list\n",
    "#do the same for other major type/name columns in the demographics dataset\n",
    "ls_more_majors "
   ]
  },
  {
   "cell_type": "code",
   "execution_count": null,
   "metadata": {},
   "outputs": [],
   "source": [
    "ls_more_majors = []\n",
    "for i in range(len(dem_all)):\n",
    "    if dem_all['Last enrolled major name'][i] in stem_majors:\n",
    "        #dem_all.set_value(i, \"major_type\", 'Other STEM')\n",
    "        continue\n",
    "    elif dem_all['Last enrolled major name'][i] in nonstem_majors:\n",
    "        #dem_all.set_value(i, \"major_type\", 'non STEM')\n",
    "        continue\n",
    "    elif dem_all['Last enrolled major name'][i] in Enigeering:\n",
    "        #dem_all.set_value(i, \"major_type\", 'Engineering')\n",
    "        continue\n",
    "    elif dem_all['Last enrolled major name'][i] in phy_ast:\n",
    "        #dem_all.set_value(i, \"major_type\", 'Physics/Astrophysics')\n",
    "        continue\n",
    "    elif dem_all['Last enrolled major name'][i] in education:\n",
    "        #dem_all.set_value(i, \"major_type\", 'Education')\n",
    "        continue\n",
    "    elif dem_all['Last enrolled major name'][i] in other:\n",
    "        #dem_all.set_value(i, \"major_type\", 'Other Major')\n",
    "        continue\n",
    "    elif dem_all['Last enrolled major name'][i] in no_preference:\n",
    "        #dem_all.set_value(i, \"major_type\", 'No Preference')\n",
    "        continue\n",
    "    elif dem_all['Last enrolled major name'][i] in lbs:\n",
    "        #dem_all.set_value(i, \"major_type\", 'Lyman Briggs')\n",
    "        continue        \n",
    "    else:\n",
    "        if dem_all['Last enrolled major name'][i] in ls_more_majors:\n",
    "            continue\n",
    "        else:\n",
    "            ls_more_majors.append(dem_all['Last enrolled major name'][i])"
   ]
  },
  {
   "cell_type": "code",
   "execution_count": null,
   "metadata": {},
   "outputs": [],
   "source": [
    "ls_more_majors"
   ]
  },
  {
   "cell_type": "code",
   "execution_count": null,
   "metadata": {
    "collapsed": true
   },
   "outputs": [],
   "source": [
    "ls_more_majors = []\n",
    "for i in range(len(dem_all)):\n",
    "    if dem_all['grad major name'][i] in stem_majors:\n",
    "        #dem_all.set_value(i, \"major_type\", 'Other STEM')\n",
    "        continue\n",
    "    elif dem_all['grad major name'][i] in nonstem_majors:\n",
    "        #dem_all.set_value(i, \"major_type\", 'non STEM')\n",
    "        continue\n",
    "    elif dem_all['grad major name'][i] in Enigeering:\n",
    "        #dem_all.set_value(i, \"major_type\", 'Engineering')\n",
    "        continue\n",
    "    elif dem_all['grad major name'][i] in phy_ast:\n",
    "        #dem_all.set_value(i, \"major_type\", 'Physics/Astrophysics')\n",
    "        continue\n",
    "    elif dem_all['grad major name'][i] in education:\n",
    "        #dem_all.set_value(i, \"major_type\", 'Education')\n",
    "        continue\n",
    "    elif dem_all['grad major name'][i] in other:\n",
    "        #dem_all.set_value(i, \"major_type\", 'Other Major')\n",
    "        continue\n",
    "    elif dem_all['grad major name'][i] in no_preference:\n",
    "        #dem_all.set_value(i, \"major_type\", 'No Preference')\n",
    "        continue\n",
    "    elif dem_all['grad major name'][i] in lbs:\n",
    "        #dem_all.set_value(i, \"major_type\", 'Lyman Briggs')\n",
    "        continue        \n",
    "    else:\n",
    "        if dem_all['grad major name'][i] in ls_more_majors:\n",
    "            continue\n",
    "        else:\n",
    "            ls_more_majors.append(dem_all['grad major name'][i])"
   ]
  },
  {
   "cell_type": "code",
   "execution_count": null,
   "metadata": {},
   "outputs": [],
   "source": [
    "ls_more_majors"
   ]
  },
  {
   "cell_type": "code",
   "execution_count": null,
   "metadata": {
    "collapsed": true
   },
   "outputs": [],
   "source": [
    "dem_all['Entering_term_major_type'] = \"\"\n",
    "dem_all['Last_enrolled_major_type'] = \"\"\n",
    "dem_all['grad_major_type'] = \"\""
   ]
  },
  {
   "cell_type": "code",
   "execution_count": null,
   "metadata": {},
   "outputs": [],
   "source": [
    "dem_all"
   ]
  },
  {
   "cell_type": "code",
   "execution_count": null,
   "metadata": {
    "collapsed": true
   },
   "outputs": [],
   "source": [
    "for i in range(len(dem_all)):\n",
    "    if dem_all['Entering Term Major name'][i] in stem_majors:\n",
    "        dem_all.set_value(i, \"Entering_term_major_type\", 'Other STEM')\n",
    "        continue\n",
    "    elif dem_all['Entering Term Major name'][i] in nonstem_majors:\n",
    "        dem_all.set_value(i, \"Entering_term_major_type\", 'non STEM')\n",
    "        continue\n",
    "    elif dem_all['Entering Term Major name'][i] in Enigeering:\n",
    "        dem_all.set_value(i, \"Entering_term_major_type\", 'Engineering')\n",
    "        continue\n",
    "    elif dem_all['Entering Term Major name'][i] in phy_ast:\n",
    "        dem_all.set_value(i, \"Entering_term_major_type\", 'Physics/Astrophysics')\n",
    "        continue\n",
    "    elif dem_all['Entering Term Major name'][i] in education:\n",
    "        dem_all.set_value(i, \"Entering_term_major_type\", 'Education')\n",
    "        continue\n",
    "    elif dem_all['Entering Term Major name'][i] in other:\n",
    "        dem_all.set_value(i, \"Entering_term_major_type\", 'Other Major')\n",
    "        continue\n",
    "    elif dem_all['Entering Term Major name'][i] in no_preference:\n",
    "        dem_all.set_value(i, \"Entering_term_major_type\", 'No Preference')\n",
    "        continue\n",
    "    elif dem_all['Entering Term Major name'][i] in lbs:\n",
    "        dem_all.set_value(i, \"Entering_term_major_type\", 'Lyman Briggs')\n",
    "        continue        "
   ]
  },
  {
   "cell_type": "code",
   "execution_count": null,
   "metadata": {},
   "outputs": [],
   "source": [
    "dem_all"
   ]
  },
  {
   "cell_type": "code",
   "execution_count": null,
   "metadata": {
    "collapsed": true
   },
   "outputs": [],
   "source": [
    "for i in range(len(dem_all)):\n",
    "    if dem_all['Last enrolled major name'][i] in stem_majors:\n",
    "        dem_all.set_value(i, \"Last_enrolled_major_type\", 'Other STEM')\n",
    "        continue\n",
    "    elif dem_all['Last enrolled major name'][i] in nonstem_majors:\n",
    "        dem_all.set_value(i, \"Last_enrolled_major_type\", 'non STEM')\n",
    "        continue\n",
    "    elif dem_all['Last enrolled major name'][i] in Enigeering:\n",
    "        dem_all.set_value(i, \"Last_enrolled_major_type\", 'Engineering')\n",
    "        continue\n",
    "    elif dem_all['Last enrolled major name'][i] in phy_ast:\n",
    "        dem_all.set_value(i, \"Last_enrolled_major_type\", 'Physics/Astrophysics')\n",
    "        continue\n",
    "    elif dem_all['Last enrolled major name'][i] in education:\n",
    "        dem_all.set_value(i, \"Last_enrolled_major_type\", 'Education')\n",
    "        continue\n",
    "    elif dem_all['Last enrolled major name'][i] in other:\n",
    "        dem_all.set_value(i, \"Last_enrolled_major_type\", 'Other Major')\n",
    "        continue\n",
    "    elif dem_all['Last enrolled major name'][i] in no_preference:\n",
    "        dem_all.set_value(i, \"Last_enrolled_major_type\", 'No Preference')\n",
    "        continue\n",
    "    elif dem_all['Last enrolled major name'][i] in lbs:\n",
    "        dem_all.set_value(i, \"Last_enrolled_major_type\", 'Lyman Briggs')\n",
    "        continue"
   ]
  },
  {
   "cell_type": "code",
   "execution_count": null,
   "metadata": {},
   "outputs": [],
   "source": [
    "dem_all"
   ]
  },
  {
   "cell_type": "code",
   "execution_count": null,
   "metadata": {
    "collapsed": true
   },
   "outputs": [],
   "source": [
    "for i in range(len(dem_all)):\n",
    "    if dem_all['grad major name'][i] in stem_majors:\n",
    "        dem_all.set_value(i, \"grad_major_type\", 'Other STEM')\n",
    "        continue\n",
    "    elif dem_all['grad major name'][i] in nonstem_majors:\n",
    "        dem_all.set_value(i, \"grad_major_type\", 'non STEM')\n",
    "        continue\n",
    "    elif dem_all['grad major name'][i] in Enigeering:\n",
    "        dem_all.set_value(i, \"grad_major_type\", 'Engineering')\n",
    "        continue\n",
    "    elif dem_all['grad major name'][i] in phy_ast:\n",
    "        dem_all.set_value(i, \"grad_major_type\", 'Physics/Astrophysics')\n",
    "        continue\n",
    "    elif dem_all['grad major name'][i] in education:\n",
    "        dem_all.set_value(i, \"grad_major_type\", 'Education')\n",
    "        continue\n",
    "    elif dem_all['grad major name'][i] in other:\n",
    "        dem_all.set_value(i, \"grad_major_type\", 'Other Major')\n",
    "        continue\n",
    "    elif dem_all['grad major name'][i] in no_preference:\n",
    "        dem_all.set_value(i, \"grad_major_type\", 'No Preference')\n",
    "        continue\n",
    "    elif dem_all['grad major name'][i] in lbs:\n",
    "        dem_all.set_value(i, \"grad_major_type\", 'Lyman Briggs')\n",
    "        continue"
   ]
  },
  {
   "cell_type": "code",
   "execution_count": null,
   "metadata": {},
   "outputs": [],
   "source": [
    "dem_all"
   ]
  },
  {
   "cell_type": "code",
   "execution_count": null,
   "metadata": {},
   "outputs": [],
   "source": [
    "dem_all.columns"
   ]
  },
  {
   "cell_type": "code",
   "execution_count": null,
   "metadata": {
    "collapsed": true
   },
   "outputs": [],
   "source": [
    "cols = ['placeholderID', 'Gender', 'Ethnicity', 'citizenship', 'First Gen', 'Pell eligible', 'permanent ZIP', 'Entering term code','Entering Term Major code', 'Entering Term Major name', 'Entering Term College', 'Entering_term_major_type', 'Entering Term Department', 'last enrolled term', 'Last enrolled major code', 'Last enrolled major name', 'Last Enrolled College', 'Last Enrolled Department', 'Last_enrolled_major_type', 'grad term', 'grad major code', 'grad major name', 'Grad College', 'Grad Department', 'grad_major_type', 'other awards', 'ACT_ENGL', 'ACT_MATH', 'ACT_READ', 'ACT_SCI', 'ACT_COMP', 'ACT_EW', 'ap66 calculus AB', 'ap68 calculus BC', 'ap69 Calculus AB Subscore Grade', 'ap78 physics B', 'ap80 physics C Mech', 'ap82 physics C Physics C Electricity & Magnet', 'ap83 physics 1', 'ap84 physics 2']"
   ]
  },
  {
   "cell_type": "code",
   "execution_count": null,
   "metadata": {},
   "outputs": [],
   "source": [
    "dem_all = dem_all[cols]\n",
    "dem_all"
   ]
  },
  {
   "cell_type": "code",
   "execution_count": null,
   "metadata": {
    "collapsed": true
   },
   "outputs": [],
   "source": [
    "from pandas import ExcelWriter\n",
    "writer = ExcelWriter('Demogs_FS01-US16_all.xlsx')\n",
    "dem_all.to_excel(writer, 'Sheet1')\n",
    "writer.save()"
   ]
  },
  {
   "cell_type": "code",
   "execution_count": null,
   "metadata": {
    "collapsed": true
   },
   "outputs": [],
   "source": []
  }
 ],
 "metadata": {
  "anaconda-cloud": {},
  "kernelspec": {
   "display_name": "Python 3",
   "language": "python",
   "name": "python3"
  },
  "language_info": {
   "codemirror_mode": {
    "name": "ipython",
    "version": 3
   },
   "file_extension": ".py",
   "mimetype": "text/x-python",
   "name": "python",
   "nbconvert_exporter": "python",
   "pygments_lexer": "ipython3",
   "version": "3.5.4"
  }
 },
 "nbformat": 4,
 "nbformat_minor": 1
}
