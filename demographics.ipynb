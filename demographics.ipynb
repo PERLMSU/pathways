{
 "cells": [
  {
   "cell_type": "code",
   "execution_count": 23,
   "metadata": {
    "collapsed": true
   },
   "outputs": [],
   "source": [
    "%matplotlib inline\n",
    "import pandas as pd\n",
    "import matplotlib.pyplot as plt\n",
    "import numpy as np"
   ]
  },
  {
   "cell_type": "code",
   "execution_count": 24,
   "metadata": {
    "collapsed": true
   },
   "outputs": [],
   "source": [
    "df = pd.read_csv('working_raw_data.csv')"
   ]
  },
  {
   "cell_type": "code",
   "execution_count": 25,
   "metadata": {},
   "outputs": [
    {
     "data": {
      "text/plain": [
       "Index(['PlaceholderID', 'Physics major at one time', 'gndr_flag',\n",
       "       'citizenship', 'Ethnicity', 'First Gen', 'undergrad Residency',\n",
       "       'first enrolled term at MSU', 'first enrolled level at MSU',\n",
       "       'first UN term at MSU', 'first UN primary major code',\n",
       "       'first UN primary major', 'first UN student level', 'Transfer',\n",
       "       'most recent UN term (as of SS15)', 'most recent UN major code',\n",
       "       'most recent UN major', 'most recent UN level',\n",
       "       'UN grad term (blank if did not graduate)',\n",
       "       'UN grad major (blank if did not graduate)', 'First Major Category',\n",
       "       'Most Recent Major Category', 'Graduating Major Category'],\n",
       "      dtype='object')"
      ]
     },
     "execution_count": 25,
     "metadata": {},
     "output_type": "execute_result"
    }
   ],
   "source": [
    "df.columns"
   ]
  },
  {
   "cell_type": "code",
   "execution_count": 26,
   "metadata": {},
   "outputs": [
    {
     "data": {
      "text/plain": [
       "105700"
      ]
     },
     "execution_count": 26,
     "metadata": {},
     "output_type": "execute_result"
    }
   ],
   "source": [
    "df.PlaceholderID.unique().size"
   ]
  },
  {
   "cell_type": "code",
   "execution_count": 53,
   "metadata": {},
   "outputs": [
    {
     "data": {
      "text/html": [
       "<div>\n",
       "<style>\n",
       "    .dataframe thead tr:only-child th {\n",
       "        text-align: right;\n",
       "    }\n",
       "\n",
       "    .dataframe thead th {\n",
       "        text-align: left;\n",
       "    }\n",
       "\n",
       "    .dataframe tbody tr th {\n",
       "        vertical-align: top;\n",
       "    }\n",
       "</style>\n",
       "<table border=\"1\" class=\"dataframe\">\n",
       "  <thead>\n",
       "    <tr style=\"text-align: right;\">\n",
       "      <th>Ethnicity</th>\n",
       "      <th>American Indian/Alaskan Native (non-Hispanic)</th>\n",
       "      <th>Black or African American  (non-Hispanic)</th>\n",
       "      <th>Hispanic Ethnicity</th>\n",
       "      <th>International</th>\n",
       "      <th>Two or more races (non-Hispanic)</th>\n",
       "      <th>White (non-Hispanic)</th>\n",
       "      <th>No Data</th>\n",
       "      <th>maximum</th>\n",
       "    </tr>\n",
       "    <tr>\n",
       "      <th>Graduating Major Category</th>\n",
       "      <th></th>\n",
       "      <th></th>\n",
       "      <th></th>\n",
       "      <th></th>\n",
       "      <th></th>\n",
       "      <th></th>\n",
       "      <th></th>\n",
       "      <th></th>\n",
       "    </tr>\n",
       "  </thead>\n",
       "  <tbody>\n",
       "    <tr>\n",
       "      <th>Engineering</th>\n",
       "      <td>15.0</td>\n",
       "      <td>232.0</td>\n",
       "      <td>105.0</td>\n",
       "      <td>352.0</td>\n",
       "      <td>62.0</td>\n",
       "      <td>4094.0</td>\n",
       "      <td>61.0</td>\n",
       "      <td>4921.0</td>\n",
       "    </tr>\n",
       "    <tr>\n",
       "      <th>Has Not Graduated</th>\n",
       "      <td>194.0</td>\n",
       "      <td>4329.0</td>\n",
       "      <td>1941.0</td>\n",
       "      <td>5053.0</td>\n",
       "      <td>977.0</td>\n",
       "      <td>28358.0</td>\n",
       "      <td>506.0</td>\n",
       "      <td>41358.0</td>\n",
       "    </tr>\n",
       "    <tr>\n",
       "      <th>Non STEM</th>\n",
       "      <td>151.0</td>\n",
       "      <td>2515.0</td>\n",
       "      <td>1047.0</td>\n",
       "      <td>2375.0</td>\n",
       "      <td>349.0</td>\n",
       "      <td>29057.0</td>\n",
       "      <td>422.0</td>\n",
       "      <td>35916.0</td>\n",
       "    </tr>\n",
       "    <tr>\n",
       "      <th>Other STEM</th>\n",
       "      <td>86.0</td>\n",
       "      <td>1079.0</td>\n",
       "      <td>508.0</td>\n",
       "      <td>528.0</td>\n",
       "      <td>271.0</td>\n",
       "      <td>15487.0</td>\n",
       "      <td>245.0</td>\n",
       "      <td>18204.0</td>\n",
       "    </tr>\n",
       "    <tr>\n",
       "      <th>Physics</th>\n",
       "      <td>3.0</td>\n",
       "      <td>5.0</td>\n",
       "      <td>13.0</td>\n",
       "      <td>20.0</td>\n",
       "      <td>4.0</td>\n",
       "      <td>310.0</td>\n",
       "      <td>6.0</td>\n",
       "      <td>361.0</td>\n",
       "    </tr>\n",
       "  </tbody>\n",
       "</table>\n",
       "</div>"
      ],
      "text/plain": [
       "Ethnicity                  American Indian/Alaskan Native (non-Hispanic)  \\\n",
       "Graduating Major Category                                                  \n",
       "Engineering                                                         15.0   \n",
       "Has Not Graduated                                                  194.0   \n",
       "Non STEM                                                           151.0   \n",
       "Other STEM                                                          86.0   \n",
       "Physics                                                              3.0   \n",
       "\n",
       "Ethnicity                  Black or African American  (non-Hispanic)  \\\n",
       "Graduating Major Category                                              \n",
       "Engineering                                                    232.0   \n",
       "Has Not Graduated                                             4329.0   \n",
       "Non STEM                                                      2515.0   \n",
       "Other STEM                                                    1079.0   \n",
       "Physics                                                          5.0   \n",
       "\n",
       "Ethnicity                  Hispanic Ethnicity  International  \\\n",
       "Graduating Major Category                                      \n",
       "Engineering                             105.0          352.0   \n",
       "Has Not Graduated                      1941.0         5053.0   \n",
       "Non STEM                               1047.0         2375.0   \n",
       "Other STEM                              508.0          528.0   \n",
       "Physics                                  13.0           20.0   \n",
       "\n",
       "Ethnicity                  Two or more races (non-Hispanic)  \\\n",
       "Graduating Major Category                                     \n",
       "Engineering                                            62.0   \n",
       "Has Not Graduated                                     977.0   \n",
       "Non STEM                                              349.0   \n",
       "Other STEM                                            271.0   \n",
       "Physics                                                 4.0   \n",
       "\n",
       "Ethnicity                  White (non-Hispanic)  No Data  maximum  \n",
       "Graduating Major Category                                          \n",
       "Engineering                              4094.0     61.0   4921.0  \n",
       "Has Not Graduated                       28358.0    506.0  41358.0  \n",
       "Non STEM                                29057.0    422.0  35916.0  \n",
       "Other STEM                              15487.0    245.0  18204.0  \n",
       "Physics                                   310.0      6.0    361.0  "
      ]
     },
     "execution_count": 53,
     "metadata": {},
     "output_type": "execute_result"
    }
   ],
   "source": [
    "df2 = df.groupby(['Ethnicity', 'Graduating Major Category'])['Ethnicity'].count().unstack('Ethnicity').fillna(0)\n",
    "df2['Asian / Pacific Islander'] = df2['Asian (non-Hispanic)'] + df2['Asian / Pacific Islander'] + df2['Hawaiian / Pacific Islander (non-Hispanic)']\n",
    "del df2['Asian (non-Hispanic)'] , df2['Asian / Pacific Islander'] , df2['Hawaiian / Pacific Islander (non-Hispanic)']\n",
    "df2['No Data'] = df2['Not Reported'] + df2['Not Requested']\n",
    "del df2['Not Reported'], df2['Not Requested']\n",
    "df2['maximum'] = df2.transpose().sum()\n",
    "df3 = df2.div(df2['maximum'].values, axis=0)\n",
    "df2"
   ]
  },
  {
   "cell_type": "code",
   "execution_count": 61,
   "metadata": {},
   "outputs": [
    {
     "data": {
      "text/plain": [
       "<matplotlib.axes._subplots.AxesSubplot at 0x7f416cc91c18>"
      ]
     },
     "execution_count": 61,
     "metadata": {},
     "output_type": "execute_result"
    },
    {
     "data": {
      "image/png": "[encoded data removed]",
      "text/plain": [
       "<matplotlib.figure.Figure at 0x7f416cc1deb8>"
      ]
     },
     "metadata": {},
     "output_type": "display_data"
    }
   ],
   "source": [
    "fig, ax = plt.subplots(1, figsize=(10,7))\n",
    "\n",
    "df3[['American Indian/Alaskan Native (non-Hispanic)',\n",
    "       'Black or African American  (non-Hispanic)', 'Hispanic Ethnicity',\n",
    "       'International', 'Two or more races (non-Hispanic)',\n",
    "       'White (non-Hispanic)', 'No Data',]].plot(kind='barh', stacked=True, ax=ax, colormap='gnuplot_r')"
   ]
  },
  {
   "cell_type": "code",
   "execution_count": 63,
   "metadata": {},
   "outputs": [
    {
     "data": {
      "text/html": [
       "<div>\n",
       "<style>\n",
       "    .dataframe thead tr:only-child th {\n",
       "        text-align: right;\n",
       "    }\n",
       "\n",
       "    .dataframe thead th {\n",
       "        text-align: left;\n",
       "    }\n",
       "\n",
       "    .dataframe tbody tr th {\n",
       "        vertical-align: top;\n",
       "    }\n",
       "</style>\n",
       "<table border=\"1\" class=\"dataframe\">\n",
       "  <thead>\n",
       "    <tr style=\"text-align: right;\">\n",
       "      <th>Ethnicity</th>\n",
       "      <th>American Indian/Alaskan Native (non-Hispanic)</th>\n",
       "      <th>Black or African American  (non-Hispanic)</th>\n",
       "      <th>Hispanic Ethnicity</th>\n",
       "      <th>International</th>\n",
       "      <th>Two or more races (non-Hispanic)</th>\n",
       "      <th>White (non-Hispanic)</th>\n",
       "      <th>No Data</th>\n",
       "      <th>maximum</th>\n",
       "    </tr>\n",
       "    <tr>\n",
       "      <th>Graduating Major Category</th>\n",
       "      <th></th>\n",
       "      <th></th>\n",
       "      <th></th>\n",
       "      <th></th>\n",
       "      <th></th>\n",
       "      <th></th>\n",
       "      <th></th>\n",
       "      <th></th>\n",
       "    </tr>\n",
       "  </thead>\n",
       "  <tbody>\n",
       "    <tr>\n",
       "      <th>Engineering</th>\n",
       "      <td>2.0</td>\n",
       "      <td>36.0</td>\n",
       "      <td>11.0</td>\n",
       "      <td>29.0</td>\n",
       "      <td>3.0</td>\n",
       "      <td>268.0</td>\n",
       "      <td>2.0</td>\n",
       "      <td>351.0</td>\n",
       "    </tr>\n",
       "    <tr>\n",
       "      <th>Has Not Graduated</th>\n",
       "      <td>5.0</td>\n",
       "      <td>29.0</td>\n",
       "      <td>37.0</td>\n",
       "      <td>104.0</td>\n",
       "      <td>26.0</td>\n",
       "      <td>558.0</td>\n",
       "      <td>13.0</td>\n",
       "      <td>772.0</td>\n",
       "    </tr>\n",
       "    <tr>\n",
       "      <th>Non STEM</th>\n",
       "      <td>1.0</td>\n",
       "      <td>8.0</td>\n",
       "      <td>4.0</td>\n",
       "      <td>10.0</td>\n",
       "      <td>1.0</td>\n",
       "      <td>109.0</td>\n",
       "      <td>4.0</td>\n",
       "      <td>137.0</td>\n",
       "    </tr>\n",
       "    <tr>\n",
       "      <th>Other STEM</th>\n",
       "      <td>0.0</td>\n",
       "      <td>5.0</td>\n",
       "      <td>5.0</td>\n",
       "      <td>8.0</td>\n",
       "      <td>4.0</td>\n",
       "      <td>180.0</td>\n",
       "      <td>3.0</td>\n",
       "      <td>205.0</td>\n",
       "    </tr>\n",
       "    <tr>\n",
       "      <th>Physics</th>\n",
       "      <td>3.0</td>\n",
       "      <td>5.0</td>\n",
       "      <td>13.0</td>\n",
       "      <td>20.0</td>\n",
       "      <td>4.0</td>\n",
       "      <td>302.0</td>\n",
       "      <td>6.0</td>\n",
       "      <td>353.0</td>\n",
       "    </tr>\n",
       "  </tbody>\n",
       "</table>\n",
       "</div>"
      ],
      "text/plain": [
       "Ethnicity                  American Indian/Alaskan Native (non-Hispanic)  \\\n",
       "Graduating Major Category                                                  \n",
       "Engineering                                                          2.0   \n",
       "Has Not Graduated                                                    5.0   \n",
       "Non STEM                                                             1.0   \n",
       "Other STEM                                                           0.0   \n",
       "Physics                                                              3.0   \n",
       "\n",
       "Ethnicity                  Black or African American  (non-Hispanic)  \\\n",
       "Graduating Major Category                                              \n",
       "Engineering                                                     36.0   \n",
       "Has Not Graduated                                               29.0   \n",
       "Non STEM                                                         8.0   \n",
       "Other STEM                                                       5.0   \n",
       "Physics                                                          5.0   \n",
       "\n",
       "Ethnicity                  Hispanic Ethnicity  International  \\\n",
       "Graduating Major Category                                      \n",
       "Engineering                              11.0           29.0   \n",
       "Has Not Graduated                        37.0          104.0   \n",
       "Non STEM                                  4.0           10.0   \n",
       "Other STEM                                5.0            8.0   \n",
       "Physics                                  13.0           20.0   \n",
       "\n",
       "Ethnicity                  Two or more races (non-Hispanic)  \\\n",
       "Graduating Major Category                                     \n",
       "Engineering                                             3.0   \n",
       "Has Not Graduated                                      26.0   \n",
       "Non STEM                                                1.0   \n",
       "Other STEM                                              4.0   \n",
       "Physics                                                 4.0   \n",
       "\n",
       "Ethnicity                  White (non-Hispanic)  No Data  maximum  \n",
       "Graduating Major Category                                          \n",
       "Engineering                               268.0      2.0    351.0  \n",
       "Has Not Graduated                         558.0     13.0    772.0  \n",
       "Non STEM                                  109.0      4.0    137.0  \n",
       "Other STEM                                180.0      3.0    205.0  \n",
       "Physics                                   302.0      6.0    353.0  "
      ]
     },
     "execution_count": 63,
     "metadata": {},
     "output_type": "execute_result"
    }
   ],
   "source": [
    "df2 = df[df['Physics major at one time']=='Y'].groupby(['Ethnicity', 'Graduating Major Category'])['Ethnicity'].count().unstack('Ethnicity').fillna(0)\n",
    "df2['Asian / Pacific Islander'] = df2['Asian (non-Hispanic)'] + df2['Asian / Pacific Islander'] + df2['Hawaiian / Pacific Islander (non-Hispanic)']\n",
    "del df2['Asian (non-Hispanic)'] , df2['Asian / Pacific Islander'] , df2['Hawaiian / Pacific Islander (non-Hispanic)']\n",
    "df2['No Data'] = df2['Not Reported']# + df2['Not Requested']\n",
    "del df2['Not Reported']#, df2['Not Requested']\n",
    "df2['maximum'] = df2.transpose().sum()\n",
    "df3 = df2.div(df2['maximum'].values, axis=0)\n",
    "df2"
   ]
  },
  {
   "cell_type": "code",
   "execution_count": 69,
   "metadata": {},
   "outputs": [
    {
     "data": {
      "text/plain": [
       "<matplotlib.text.Text at 0x7f41689991d0>"
      ]
     },
     "execution_count": 69,
     "metadata": {},
     "output_type": "execute_result"
    },
    {
     "data": {
      "image/png": "[encoded data removed]",
      "text/plain": [
       "<matplotlib.figure.Figure at 0x7f41689afa20>"
      ]
     },
     "metadata": {},
     "output_type": "display_data"
    }
   ],
   "source": [
    "fig, ax = plt.subplots(1, figsize=(10,7))\n",
    "\n",
    "df3[['American Indian/Alaskan Native (non-Hispanic)',\n",
    "       'Black or African American  (non-Hispanic)', 'Hispanic Ethnicity',\n",
    "       'International', 'Two or more races (non-Hispanic)',\n",
    "       'White (non-Hispanic)', 'No Data',]].plot(kind='barh', stacked=True, ax=ax, colormap='gnuplot_r')\n",
    "\n",
    "ax.text(s='Physics major at one point', x=0.1, y=3.5, fontsize=15)"
   ]
  },
  {
   "cell_type": "code",
   "execution_count": 74,
   "metadata": {},
   "outputs": [
    {
     "data": {
      "text/html": [
       "<div>\n",
       "<style>\n",
       "    .dataframe thead tr:only-child th {\n",
       "        text-align: right;\n",
       "    }\n",
       "\n",
       "    .dataframe thead th {\n",
       "        text-align: left;\n",
       "    }\n",
       "\n",
       "    .dataframe tbody tr th {\n",
       "        vertical-align: top;\n",
       "    }\n",
       "</style>\n",
       "<table border=\"1\" class=\"dataframe\">\n",
       "  <thead>\n",
       "    <tr style=\"text-align: right;\">\n",
       "      <th>gndr_flag</th>\n",
       "      <th>F</th>\n",
       "      <th>M</th>\n",
       "      <th>maximum</th>\n",
       "    </tr>\n",
       "    <tr>\n",
       "      <th>Graduating Major Category</th>\n",
       "      <th></th>\n",
       "      <th></th>\n",
       "      <th></th>\n",
       "    </tr>\n",
       "  </thead>\n",
       "  <tbody>\n",
       "    <tr>\n",
       "      <th>Engineering</th>\n",
       "      <td>1208</td>\n",
       "      <td>4030</td>\n",
       "      <td>5238</td>\n",
       "    </tr>\n",
       "    <tr>\n",
       "      <th>Has Not Graduated</th>\n",
       "      <td>21520</td>\n",
       "      <td>21858</td>\n",
       "      <td>43378</td>\n",
       "    </tr>\n",
       "    <tr>\n",
       "      <th>Non STEM</th>\n",
       "      <td>21246</td>\n",
       "      <td>16122</td>\n",
       "      <td>37368</td>\n",
       "    </tr>\n",
       "    <tr>\n",
       "      <th>Other STEM</th>\n",
       "      <td>11403</td>\n",
       "      <td>7940</td>\n",
       "      <td>19343</td>\n",
       "    </tr>\n",
       "    <tr>\n",
       "      <th>Physics</th>\n",
       "      <td>63</td>\n",
       "      <td>310</td>\n",
       "      <td>373</td>\n",
       "    </tr>\n",
       "  </tbody>\n",
       "</table>\n",
       "</div>"
      ],
      "text/plain": [
       "gndr_flag                      F      M  maximum\n",
       "Graduating Major Category                       \n",
       "Engineering                 1208   4030     5238\n",
       "Has Not Graduated          21520  21858    43378\n",
       "Non STEM                   21246  16122    37368\n",
       "Other STEM                 11403   7940    19343\n",
       "Physics                       63    310      373"
      ]
     },
     "execution_count": 74,
     "metadata": {},
     "output_type": "execute_result"
    }
   ],
   "source": [
    "df2 = df.groupby(['gndr_flag', 'Graduating Major Category'])['gndr_flag'].count().unstack('gndr_flag').fillna(0)\n",
    "df2['maximum'] = df2.transpose().sum()\n",
    "df3 = df2.div(df2['maximum'].values, axis=0)\n",
    "df2"
   ]
  },
  {
   "cell_type": "code",
   "execution_count": 85,
   "metadata": {},
   "outputs": [
    {
     "data": {
      "text/plain": [
       "<matplotlib.axes._subplots.AxesSubplot at 0x7f41671da7b8>"
      ]
     },
     "execution_count": 85,
     "metadata": {},
     "output_type": "execute_result"
    },
    {
     "data": {
      "image/png": "[encoded data removed]",
      "text/plain": [
       "<matplotlib.figure.Figure at 0x7f41688ac400>"
      ]
     },
     "metadata": {},
     "output_type": "display_data"
    }
   ],
   "source": [
    "fig, ax = plt.subplots(1, figsize=(10,7))\n",
    "\n",
    "df3[['F', 'M']].plot(kind='barh', stacked=True, ax=ax, colormap='Set1')\n",
    "\n",
    "# ax.text(s='Physics major at one point', x=0.1, y=3.5, fontsize=15)"
   ]
  },
  {
   "cell_type": "code",
   "execution_count": 86,
   "metadata": {},
   "outputs": [
    {
     "data": {
      "text/plain": [
       "<matplotlib.text.Text at 0x7f4167050940>"
      ]
     },
     "execution_count": 86,
     "metadata": {},
     "output_type": "execute_result"
    },
    {
     "data": {
      "image/png": "[encoded data removed]",
      "text/plain": [
       "<matplotlib.figure.Figure at 0x7f41670fc9e8>"
      ]
     },
     "metadata": {},
     "output_type": "display_data"
    }
   ],
   "source": [
    "df2 = df[df['Physics major at one time']=='Y'].groupby(['gndr_flag', 'Graduating Major Category'])['gndr_flag'].count().unstack('gndr_flag').fillna(0)\n",
    "df2['maximum'] = df2.transpose().sum()\n",
    "df3 = df2.div(df2['maximum'].values, axis=0)\n",
    "df2\n",
    "fig, ax = plt.subplots(1, figsize=(10,7))\n",
    "\n",
    "df3[['F', 'M']].plot(kind='barh', stacked=True, ax=ax, colormap='Set1')\n",
    "\n",
    "ax.text(s='Physics major at one point', x=0.1, y=3.5, fontsize=15)"
   ]
  }
 ],
 "metadata": {
  "kernelspec": {
   "display_name": "Python 3",
   "language": "python",
   "name": "python3"
  },
  "language_info": {
   "codemirror_mode": {
    "name": "ipython",
    "version": 3
   },
   "file_extension": ".py",
   "mimetype": "text/x-python",
   "name": "python",
   "nbconvert_exporter": "python",
   "pygments_lexer": "ipython3",
   "version": "3.5.4"
  }
 },
 "nbformat": 4,
 "nbformat_minor": 2
}
