{
 "cells": [
  {
   "cell_type": "code",
   "execution_count": 1,
   "metadata": {
    "collapsed": true
   },
   "outputs": [],
   "source": [
    "%matplotlib inline\n",
    "import matplotlib.pyplot as plt\n",
    "import pandas as pd\n",
    "import numpy as np"
   ]
  },
  {
   "cell_type": "code",
   "execution_count": 12,
   "metadata": {
    "collapsed": true
   },
   "outputs": [],
   "source": [
    "df = pd.read_excel('61331_Classes_FS01-US16_part1.xlsx', skip_footer=264999)\n",
    "df = df[df.grade_code.isin(('2.5', '3.0', '1.0', '1.5', '2.0', '0.0', '4.0', '3.5',))]\n",
    "df['grade_code'] = df.grade_code.astype(float)"
   ]
  },
  {
   "cell_type": "code",
   "execution_count": 21,
   "metadata": {},
   "outputs": [
    {
     "data": {
      "text/html": [
       "<div>\n",
       "<style>\n",
       "    .dataframe thead tr:only-child th {\n",
       "        text-align: right;\n",
       "    }\n",
       "\n",
       "    .dataframe thead th {\n",
       "        text-align: left;\n",
       "    }\n",
       "\n",
       "    .dataframe tbody tr th {\n",
       "        vertical-align: top;\n",
       "    }\n",
       "</style>\n",
       "<table border=\"1\" class=\"dataframe\">\n",
       "  <thead>\n",
       "    <tr style=\"text-align: right;\">\n",
       "      <th></th>\n",
       "      <th>placeholderID</th>\n",
       "      <th>term_seq_id</th>\n",
       "      <th>term_code</th>\n",
       "      <th>subj_code</th>\n",
       "      <th>crse_code</th>\n",
       "      <th>sctn_code</th>\n",
       "      <th>grade_code</th>\n",
       "      <th>repeat_status_flag</th>\n",
       "      <th>major code</th>\n",
       "      <th>major name</th>\n",
       "    </tr>\n",
       "  </thead>\n",
       "  <tbody>\n",
       "    <tr>\n",
       "      <th>0</th>\n",
       "      <td>97758DD4-7286-4A19-BA6C-00005FE6CFA3</td>\n",
       "      <td>1014</td>\n",
       "      <td>FS01</td>\n",
       "      <td>PHY</td>\n",
       "      <td>251</td>\n",
       "      <td>24.0</td>\n",
       "      <td>2.5</td>\n",
       "      <td></td>\n",
       "      <td>3611.0</td>\n",
       "      <td>Earth Science</td>\n",
       "    </tr>\n",
       "    <tr>\n",
       "      <th>1</th>\n",
       "      <td>97758DD4-7286-4A19-BA6C-00005FE6CFA3</td>\n",
       "      <td>1016</td>\n",
       "      <td>SS02</td>\n",
       "      <td>MTH</td>\n",
       "      <td>126</td>\n",
       "      <td>5.0</td>\n",
       "      <td>3.0</td>\n",
       "      <td>SR</td>\n",
       "      <td>3611.0</td>\n",
       "      <td>Earth Science</td>\n",
       "    </tr>\n",
       "    <tr>\n",
       "      <th>2</th>\n",
       "      <td>97758DD4-7286-4A19-BA6C-00005FE6CFA3</td>\n",
       "      <td>1016</td>\n",
       "      <td>SS02</td>\n",
       "      <td>PHY</td>\n",
       "      <td>232</td>\n",
       "      <td>1.0</td>\n",
       "      <td>1.0</td>\n",
       "      <td></td>\n",
       "      <td>3611.0</td>\n",
       "      <td>Earth Science</td>\n",
       "    </tr>\n",
       "    <tr>\n",
       "      <th>3</th>\n",
       "      <td>97758DD4-7286-4A19-BA6C-00005FE6CFA3</td>\n",
       "      <td>1016</td>\n",
       "      <td>SS02</td>\n",
       "      <td>PHY</td>\n",
       "      <td>252</td>\n",
       "      <td>20.0</td>\n",
       "      <td>1.5</td>\n",
       "      <td></td>\n",
       "      <td>3611.0</td>\n",
       "      <td>Earth Science</td>\n",
       "    </tr>\n",
       "    <tr>\n",
       "      <th>4</th>\n",
       "      <td>592FB87B-B37F-476D-B7F0-0001F057D6A6</td>\n",
       "      <td>1014</td>\n",
       "      <td>FS01</td>\n",
       "      <td>MTH</td>\n",
       "      <td>110</td>\n",
       "      <td>8.0</td>\n",
       "      <td>2.0</td>\n",
       "      <td></td>\n",
       "      <td>4494.0</td>\n",
       "      <td>Social Work</td>\n",
       "    </tr>\n",
       "    <tr>\n",
       "      <th>5</th>\n",
       "      <td>9C41EAAC-FC57-42F9-B53F-000201BE35C3</td>\n",
       "      <td>1054</td>\n",
       "      <td>FS05</td>\n",
       "      <td>MTH</td>\n",
       "      <td>103</td>\n",
       "      <td>1.0</td>\n",
       "      <td>2.0</td>\n",
       "      <td></td>\n",
       "      <td>1069.0</td>\n",
       "      <td>General Business Admin Prelaw</td>\n",
       "    </tr>\n",
       "    <tr>\n",
       "      <th>6</th>\n",
       "      <td>9C41EAAC-FC57-42F9-B53F-000201BE35C3</td>\n",
       "      <td>1056</td>\n",
       "      <td>SS06</td>\n",
       "      <td>MTH</td>\n",
       "      <td>124</td>\n",
       "      <td>3.0</td>\n",
       "      <td>2.5</td>\n",
       "      <td></td>\n",
       "      <td>4380.0</td>\n",
       "      <td>Political Science Prelaw</td>\n",
       "    </tr>\n",
       "    <tr>\n",
       "      <th>7</th>\n",
       "      <td>7AED7EC2-ED7F-4FE1-8270-000209CBA389</td>\n",
       "      <td>1054</td>\n",
       "      <td>FS05</td>\n",
       "      <td>MTH</td>\n",
       "      <td>103</td>\n",
       "      <td>2.0</td>\n",
       "      <td>3.0</td>\n",
       "      <td></td>\n",
       "      <td>5151.0</td>\n",
       "      <td>No Preference</td>\n",
       "    </tr>\n",
       "    <tr>\n",
       "      <th>8</th>\n",
       "      <td>7AED7EC2-ED7F-4FE1-8270-000209CBA389</td>\n",
       "      <td>1064</td>\n",
       "      <td>FS06</td>\n",
       "      <td>MTH</td>\n",
       "      <td>124</td>\n",
       "      <td>27.0</td>\n",
       "      <td>2.0</td>\n",
       "      <td></td>\n",
       "      <td>3969.0</td>\n",
       "      <td>Human Biology</td>\n",
       "    </tr>\n",
       "    <tr>\n",
       "      <th>9</th>\n",
       "      <td>7AED7EC2-ED7F-4FE1-8270-000209CBA389</td>\n",
       "      <td>1076</td>\n",
       "      <td>SS08</td>\n",
       "      <td>PHY</td>\n",
       "      <td>231C</td>\n",
       "      <td>730.0</td>\n",
       "      <td>2.5</td>\n",
       "      <td></td>\n",
       "      <td>3969.0</td>\n",
       "      <td>Human Biology</td>\n",
       "    </tr>\n",
       "  </tbody>\n",
       "</table>\n",
       "</div>"
      ],
      "text/plain": [
       "                          placeholderID  term_seq_id term_code subj_code  \\\n",
       "0  97758DD4-7286-4A19-BA6C-00005FE6CFA3         1014      FS01       PHY   \n",
       "1  97758DD4-7286-4A19-BA6C-00005FE6CFA3         1016      SS02       MTH   \n",
       "2  97758DD4-7286-4A19-BA6C-00005FE6CFA3         1016      SS02       PHY   \n",
       "3  97758DD4-7286-4A19-BA6C-00005FE6CFA3         1016      SS02       PHY   \n",
       "4  592FB87B-B37F-476D-B7F0-0001F057D6A6         1014      FS01       MTH   \n",
       "5  9C41EAAC-FC57-42F9-B53F-000201BE35C3         1054      FS05       MTH   \n",
       "6  9C41EAAC-FC57-42F9-B53F-000201BE35C3         1056      SS06       MTH   \n",
       "7  7AED7EC2-ED7F-4FE1-8270-000209CBA389         1054      FS05       MTH   \n",
       "8  7AED7EC2-ED7F-4FE1-8270-000209CBA389         1064      FS06       MTH   \n",
       "9  7AED7EC2-ED7F-4FE1-8270-000209CBA389         1076      SS08       PHY   \n",
       "\n",
       "  crse_code  sctn_code  grade_code repeat_status_flag  major code  \\\n",
       "0       251       24.0         2.5                         3611.0   \n",
       "1       126        5.0         3.0                 SR      3611.0   \n",
       "2       232        1.0         1.0                         3611.0   \n",
       "3       252       20.0         1.5                         3611.0   \n",
       "4       110        8.0         2.0                         4494.0   \n",
       "5       103        1.0         2.0                         1069.0   \n",
       "6       124        3.0         2.5                         4380.0   \n",
       "7       103        2.0         3.0                         5151.0   \n",
       "8       124       27.0         2.0                         3969.0   \n",
       "9      231C      730.0         2.5                         3969.0   \n",
       "\n",
       "                       major name  \n",
       "0                  Earth Science   \n",
       "1                  Earth Science   \n",
       "2                  Earth Science   \n",
       "3                  Earth Science   \n",
       "4                    Social Work   \n",
       "5   General Business Admin Prelaw  \n",
       "6        Political Science Prelaw  \n",
       "7                  No Preference   \n",
       "8                  Human Biology   \n",
       "9                  Human Biology   "
      ]
     },
     "execution_count": 21,
     "metadata": {},
     "output_type": "execute_result"
    }
   ],
   "source": [
    "df.head(10)"
   ]
  },
  {
   "cell_type": "code",
   "execution_count": 16,
   "metadata": {},
   "outputs": [],
   "source": [
    "df_agg = df.groupby(['placeholderID', 'term_seq_id', 'subj_code']).grade_code.describe().reset_index()"
   ]
  },
  {
   "cell_type": "code",
   "execution_count": 32,
   "metadata": {},
   "outputs": [],
   "source": [
    "df_agg = df.groupby(['placeholderID', 'term_seq_id']).grade_code.describe().reset_index()"
   ]
  },
  {
   "cell_type": "code",
   "execution_count": 33,
   "metadata": {},
   "outputs": [
    {
     "data": {
      "text/html": [
       "<div>\n",
       "<style>\n",
       "    .dataframe thead tr:only-child th {\n",
       "        text-align: right;\n",
       "    }\n",
       "\n",
       "    .dataframe thead th {\n",
       "        text-align: left;\n",
       "    }\n",
       "\n",
       "    .dataframe tbody tr th {\n",
       "        vertical-align: top;\n",
       "    }\n",
       "</style>\n",
       "<table border=\"1\" class=\"dataframe\">\n",
       "  <thead>\n",
       "    <tr style=\"text-align: right;\">\n",
       "      <th></th>\n",
       "      <th>placeholderID</th>\n",
       "      <th>term_seq_id</th>\n",
       "      <th>count</th>\n",
       "      <th>mean</th>\n",
       "      <th>std</th>\n",
       "      <th>min</th>\n",
       "      <th>25%</th>\n",
       "      <th>50%</th>\n",
       "      <th>75%</th>\n",
       "      <th>max</th>\n",
       "    </tr>\n",
       "  </thead>\n",
       "  <tbody>\n",
       "    <tr>\n",
       "      <th>0</th>\n",
       "      <td>000A100B-CF8A-4B1F-BEEE-039F0D231E69</td>\n",
       "      <td>1104</td>\n",
       "      <td>1.0</td>\n",
       "      <td>1.50</td>\n",
       "      <td>NaN</td>\n",
       "      <td>1.5</td>\n",
       "      <td>1.500</td>\n",
       "      <td>1.50</td>\n",
       "      <td>1.500</td>\n",
       "      <td>1.5</td>\n",
       "    </tr>\n",
       "    <tr>\n",
       "      <th>1</th>\n",
       "      <td>000A100B-CF8A-4B1F-BEEE-039F0D231E69</td>\n",
       "      <td>1134</td>\n",
       "      <td>1.0</td>\n",
       "      <td>3.00</td>\n",
       "      <td>NaN</td>\n",
       "      <td>3.0</td>\n",
       "      <td>3.000</td>\n",
       "      <td>3.00</td>\n",
       "      <td>3.000</td>\n",
       "      <td>3.0</td>\n",
       "    </tr>\n",
       "    <tr>\n",
       "      <th>2</th>\n",
       "      <td>000A100B-CF8A-4B1F-BEEE-039F0D231E69</td>\n",
       "      <td>1136</td>\n",
       "      <td>2.0</td>\n",
       "      <td>2.25</td>\n",
       "      <td>0.353553</td>\n",
       "      <td>2.0</td>\n",
       "      <td>2.125</td>\n",
       "      <td>2.25</td>\n",
       "      <td>2.375</td>\n",
       "      <td>2.5</td>\n",
       "    </tr>\n",
       "    <tr>\n",
       "      <th>3</th>\n",
       "      <td>00159A18-E6EF-42C6-A7D6-007DEB4934A2</td>\n",
       "      <td>1164</td>\n",
       "      <td>1.0</td>\n",
       "      <td>2.50</td>\n",
       "      <td>NaN</td>\n",
       "      <td>2.5</td>\n",
       "      <td>2.500</td>\n",
       "      <td>2.50</td>\n",
       "      <td>2.500</td>\n",
       "      <td>2.5</td>\n",
       "    </tr>\n",
       "    <tr>\n",
       "      <th>4</th>\n",
       "      <td>001DF31C-E9D2-4321-B8CC-0388E847D423</td>\n",
       "      <td>1156</td>\n",
       "      <td>2.0</td>\n",
       "      <td>2.00</td>\n",
       "      <td>0.000000</td>\n",
       "      <td>2.0</td>\n",
       "      <td>2.000</td>\n",
       "      <td>2.00</td>\n",
       "      <td>2.000</td>\n",
       "      <td>2.0</td>\n",
       "    </tr>\n",
       "  </tbody>\n",
       "</table>\n",
       "</div>"
      ],
      "text/plain": [
       "                          placeholderID  term_seq_id  count  mean       std  \\\n",
       "0  000A100B-CF8A-4B1F-BEEE-039F0D231E69         1104    1.0  1.50       NaN   \n",
       "1  000A100B-CF8A-4B1F-BEEE-039F0D231E69         1134    1.0  3.00       NaN   \n",
       "2  000A100B-CF8A-4B1F-BEEE-039F0D231E69         1136    2.0  2.25  0.353553   \n",
       "3  00159A18-E6EF-42C6-A7D6-007DEB4934A2         1164    1.0  2.50       NaN   \n",
       "4  001DF31C-E9D2-4321-B8CC-0388E847D423         1156    2.0  2.00  0.000000   \n",
       "\n",
       "   min    25%   50%    75%  max  \n",
       "0  1.5  1.500  1.50  1.500  1.5  \n",
       "1  3.0  3.000  3.00  3.000  3.0  \n",
       "2  2.0  2.125  2.25  2.375  2.5  \n",
       "3  2.5  2.500  2.50  2.500  2.5  \n",
       "4  2.0  2.000  2.00  2.000  2.0  "
      ]
     },
     "execution_count": 33,
     "metadata": {},
     "output_type": "execute_result"
    }
   ],
   "source": [
    "df_agg.head()"
   ]
  },
  {
   "cell_type": "code",
   "execution_count": 59,
   "metadata": {},
   "outputs": [],
   "source": [
    "semesterid = df_agg.groupby('placeholderID').term_seq_id.count().apply(lambda x: np.arange(x))"
   ]
  },
  {
   "cell_type": "code",
   "execution_count": 64,
   "metadata": {},
   "outputs": [],
   "source": [
    "# [item for sublist in l for item in sublist]\n",
    "df_agg['semesterid'] = [item for sublist in semesterid for item in sublist]"
   ]
  },
  {
   "cell_type": "code",
   "execution_count": 72,
   "metadata": {},
   "outputs": [
    {
     "data": {
      "text/plain": [
       "(6348, 11)"
      ]
     },
     "execution_count": 72,
     "metadata": {},
     "output_type": "execute_result"
    }
   ],
   "source": [
    "df_agg.shape"
   ]
  },
  {
   "cell_type": "code",
   "execution_count": 73,
   "metadata": {},
   "outputs": [
    {
     "data": {
      "text/plain": [
       "(6348,)"
      ]
     },
     "execution_count": 73,
     "metadata": {},
     "output_type": "execute_result"
    }
   ],
   "source": [
    "df_agg['mean'].shape"
   ]
  },
  {
   "cell_type": "code",
   "execution_count": 77,
   "metadata": {},
   "outputs": [],
   "source": [
    "df_agg['meandiff'] = df_agg['mean'].diff()"
   ]
  },
  {
   "cell_type": "code",
   "execution_count": 83,
   "metadata": {},
   "outputs": [
    {
     "data": {
      "text/plain": [
       "<matplotlib.axes._subplots.AxesSubplot at 0x2076c45c3c8>"
      ]
     },
     "execution_count": 83,
     "metadata": {},
     "output_type": "execute_result"
    },
    {
     "data": {
      "image/png": "[encoded data removed]",
      "text/plain": [
       "<matplotlib.figure.Figure at 0x2076e482cf8>"
      ]
     },
     "metadata": {},
     "output_type": "display_data"
    }
   ],
   "source": [
    "df_agg.plot(kind='scatter', x='meandiff', y='mean')"
   ]
  },
  {
   "cell_type": "code",
   "execution_count": 113,
   "metadata": {},
   "outputs": [
    {
     "data": {
      "image/png": "[encoded data removed]",
      "text/plain": [
       "<matplotlib.figure.Figure at 0x20768176c18>"
      ]
     },
     "metadata": {},
     "output_type": "display_data"
    }
   ],
   "source": [
    "fig, ax = plt.subplots(figsize=(10, 7))\n",
    "\n",
    "data = df_agg[df_agg.meandiff.between(-df_agg.meandiff.std(), df_agg.meandiff.std())].copy()\n",
    "\n",
    "data.plot(kind='scatter', x='semesterid', y='meandiff', ax=ax)\n",
    "x = sorted(data.semesterid.unique())\n",
    "y = data.groupby('semesterid').meandiff.mean()"
   ]
  },
  {
   "cell_type": "code",
   "execution_count": 120,
   "metadata": {},
   "outputs": [
    {
     "data": {
      "text/plain": [
       "<matplotlib.axes._subplots.AxesSubplot at 0x2076c0c81d0>"
      ]
     },
     "execution_count": 120,
     "metadata": {},
     "output_type": "execute_result"
    },
    {
     "data": {
      "image/png": "[encoded data removed]",
      "text/plain": [
       "<matplotlib.figure.Figure at 0x2076c0ce9b0>"
      ]
     },
     "metadata": {},
     "output_type": "display_data"
    }
   ],
   "source": []
  },
  {
   "cell_type": "code",
   "execution_count": 100,
   "metadata": {},
   "outputs": [
    {
     "data": {
      "text/plain": [
       "<matplotlib.axes._subplots.AxesSubplot at 0x207689efbe0>"
      ]
     },
     "execution_count": 100,
     "metadata": {},
     "output_type": "execute_result"
    },
    {
     "data": {
      "image/png": "[encoded data removed]",
      "text/plain": [
       "<matplotlib.figure.Figure at 0x207685d8518>"
      ]
     },
     "metadata": {},
     "output_type": "display_data"
    }
   ],
   "source": [
    "df_agg.meandiff.hist(log=True)"
   ]
  },
  {
   "cell_type": "code",
   "execution_count": 26,
   "metadata": {},
   "outputs": [
    {
     "data": {
      "text/html": [
       "<div>\n",
       "<style>\n",
       "    .dataframe thead tr:only-child th {\n",
       "        text-align: right;\n",
       "    }\n",
       "\n",
       "    .dataframe thead th {\n",
       "        text-align: left;\n",
       "    }\n",
       "\n",
       "    .dataframe tbody tr th {\n",
       "        vertical-align: top;\n",
       "    }\n",
       "</style>\n",
       "<table border=\"1\" class=\"dataframe\">\n",
       "  <thead>\n",
       "    <tr style=\"text-align: right;\">\n",
       "      <th></th>\n",
       "      <th>placeholderID</th>\n",
       "      <th>term_seq_id</th>\n",
       "      <th>term_code</th>\n",
       "      <th>subj_code</th>\n",
       "      <th>crse_code</th>\n",
       "      <th>sctn_code</th>\n",
       "      <th>grade_code</th>\n",
       "      <th>repeat_status_flag</th>\n",
       "      <th>major code</th>\n",
       "      <th>major name</th>\n",
       "    </tr>\n",
       "  </thead>\n",
       "  <tbody>\n",
       "    <tr>\n",
       "      <th>0</th>\n",
       "      <td>97758DD4-7286-4A19-BA6C-00005FE6CFA3</td>\n",
       "      <td>1014</td>\n",
       "      <td>FS01</td>\n",
       "      <td>PHY</td>\n",
       "      <td>251</td>\n",
       "      <td>24.0</td>\n",
       "      <td>2.5</td>\n",
       "      <td></td>\n",
       "      <td>3611.0</td>\n",
       "      <td>Earth Science</td>\n",
       "    </tr>\n",
       "    <tr>\n",
       "      <th>1</th>\n",
       "      <td>97758DD4-7286-4A19-BA6C-00005FE6CFA3</td>\n",
       "      <td>1016</td>\n",
       "      <td>SS02</td>\n",
       "      <td>MTH</td>\n",
       "      <td>126</td>\n",
       "      <td>5.0</td>\n",
       "      <td>3.0</td>\n",
       "      <td>SR</td>\n",
       "      <td>3611.0</td>\n",
       "      <td>Earth Science</td>\n",
       "    </tr>\n",
       "    <tr>\n",
       "      <th>2</th>\n",
       "      <td>97758DD4-7286-4A19-BA6C-00005FE6CFA3</td>\n",
       "      <td>1016</td>\n",
       "      <td>SS02</td>\n",
       "      <td>PHY</td>\n",
       "      <td>232</td>\n",
       "      <td>1.0</td>\n",
       "      <td>1.0</td>\n",
       "      <td></td>\n",
       "      <td>3611.0</td>\n",
       "      <td>Earth Science</td>\n",
       "    </tr>\n",
       "    <tr>\n",
       "      <th>3</th>\n",
       "      <td>97758DD4-7286-4A19-BA6C-00005FE6CFA3</td>\n",
       "      <td>1016</td>\n",
       "      <td>SS02</td>\n",
       "      <td>PHY</td>\n",
       "      <td>252</td>\n",
       "      <td>20.0</td>\n",
       "      <td>1.5</td>\n",
       "      <td></td>\n",
       "      <td>3611.0</td>\n",
       "      <td>Earth Science</td>\n",
       "    </tr>\n",
       "    <tr>\n",
       "      <th>4</th>\n",
       "      <td>592FB87B-B37F-476D-B7F0-0001F057D6A6</td>\n",
       "      <td>1014</td>\n",
       "      <td>FS01</td>\n",
       "      <td>MTH</td>\n",
       "      <td>110</td>\n",
       "      <td>8.0</td>\n",
       "      <td>2.0</td>\n",
       "      <td></td>\n",
       "      <td>4494.0</td>\n",
       "      <td>Social Work</td>\n",
       "    </tr>\n",
       "  </tbody>\n",
       "</table>\n",
       "</div>"
      ],
      "text/plain": [
       "                          placeholderID  term_seq_id term_code subj_code  \\\n",
       "0  97758DD4-7286-4A19-BA6C-00005FE6CFA3         1014      FS01       PHY   \n",
       "1  97758DD4-7286-4A19-BA6C-00005FE6CFA3         1016      SS02       MTH   \n",
       "2  97758DD4-7286-4A19-BA6C-00005FE6CFA3         1016      SS02       PHY   \n",
       "3  97758DD4-7286-4A19-BA6C-00005FE6CFA3         1016      SS02       PHY   \n",
       "4  592FB87B-B37F-476D-B7F0-0001F057D6A6         1014      FS01       MTH   \n",
       "\n",
       "  crse_code  sctn_code grade_code repeat_status_flag  major code  \\\n",
       "0       251       24.0        2.5                         3611.0   \n",
       "1       126        5.0        3.0                 SR      3611.0   \n",
       "2       232        1.0        1.0                         3611.0   \n",
       "3       252       20.0        1.5                         3611.0   \n",
       "4       110        8.0        2.0                         4494.0   \n",
       "\n",
       "        major name  \n",
       "0   Earth Science   \n",
       "1   Earth Science   \n",
       "2   Earth Science   \n",
       "3   Earth Science   \n",
       "4     Social Work   "
      ]
     },
     "execution_count": 26,
     "metadata": {},
     "output_type": "execute_result"
    }
   ],
   "source": [
    "df.head()"
   ]
  },
  {
   "cell_type": "code",
   "execution_count": 27,
   "metadata": {
    "collapsed": true
   },
   "outputs": [],
   "source": [
    "df['course_id'] = df['subj_code'] + df['crse_code']"
   ]
  },
  {
   "cell_type": "code",
   "execution_count": 28,
   "metadata": {},
   "outputs": [],
   "source": [
    "df['course_id'] = df['course_id'].apply(lambda x: x[:-1] if len(x)==7 else x)"
   ]
  },
  {
   "cell_type": "code",
   "execution_count": 29,
   "metadata": {},
   "outputs": [
    {
     "data": {
      "text/plain": [
       "array(['2.5', '3.0', '1.0', '1.5', '2.0', '0.0', 'T', '4.0', '3.5', 'WV',\n",
       "       'P', 'TWV', 'U', 'N', 'WVR', 'WV1', 'T1', 'W', ' ', 'V', 'I'], dtype=object)"
      ]
     },
     "execution_count": 29,
     "metadata": {},
     "output_type": "execute_result"
    }
   ],
   "source": [
    "df.grade_code.unique()"
   ]
  },
  {
   "cell_type": "code",
   "execution_count": 30,
   "metadata": {},
   "outputs": [],
   "source": [
    "df = df[df.grade_code.isin(('2.5', '3.0', '1.0', '1.5', '2.0', '0.0', '4.0', '3.5',))]"
   ]
  },
  {
   "cell_type": "code",
   "execution_count": 32,
   "metadata": {},
   "outputs": [],
   "source": [
    "df['grade_code'] = df.grade_code.astype(float)"
   ]
  },
  {
   "cell_type": "code",
   "execution_count": 36,
   "metadata": {},
   "outputs": [],
   "source": [
    "physics = df[df.subj_code == 'PHY']"
   ]
  },
  {
   "cell_type": "code",
   "execution_count": 42,
   "metadata": {},
   "outputs": [],
   "source": [
    "physics_aggregate = physics.groupby('course_id').describe()"
   ]
  },
  {
   "cell_type": "code",
   "execution_count": 48,
   "metadata": {},
   "outputs": [],
   "source": [
    "physics_aggregate = physics_aggregate['grade_code']"
   ]
  },
  {
   "cell_type": "code",
   "execution_count": 54,
   "metadata": {},
   "outputs": [],
   "source": [
    "physics_aggregate = physics_aggregate[physics_aggregate['count'] >= 100]"
   ]
  },
  {
   "cell_type": "code",
   "execution_count": 56,
   "metadata": {},
   "outputs": [],
   "source": [
    "pdiff = physics_aggregate.diff()"
   ]
  },
  {
   "cell_type": "code",
   "execution_count": 64,
   "metadata": {},
   "outputs": [],
   "source": [
    "t = np.arange(len(physics_aggregate.index))"
   ]
  },
  {
   "cell_type": "code",
   "execution_count": 66,
   "metadata": {},
   "outputs": [
    {
     "data": {
      "text/plain": [
       "<matplotlib.colorbar.Colorbar at 0x26b98d09b70>"
      ]
     },
     "execution_count": 66,
     "metadata": {},
     "output_type": "execute_result"
    },
    {
     "data": {
      "image/png": "[encoded data removed]",
      "text/plain": [
       "<matplotlib.figure.Figure at 0x26b98d578d0>"
      ]
     },
     "metadata": {},
     "output_type": "display_data"
    }
   ],
   "source": [
    "fig, ax = plt.subplots()\n",
    "\n",
    "y = physics_aggregate['mean']\n",
    "x = pdiff['mean']\n",
    "\n",
    "cbar = ax.scatter(x, y, marker='o', c=t)\n",
    "fig.colorbar(cbar)"
   ]
  }
 ],
 "metadata": {
  "kernelspec": {
   "display_name": "Python 3",
   "language": "python",
   "name": "python3"
  },
  "language_info": {
   "codemirror_mode": {
    "name": "ipython",
    "version": 3
   },
   "file_extension": ".py",
   "mimetype": "text/x-python",
   "name": "python",
   "nbconvert_exporter": "python",
   "pygments_lexer": "ipython3",
   "version": "3.5.3"
  }
 },
 "nbformat": 4,
 "nbformat_minor": 2
}
