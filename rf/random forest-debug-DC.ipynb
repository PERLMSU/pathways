{
 "cells": [
  {
   "cell_type": "code",
   "execution_count": 1,
   "metadata": {
    "collapsed": true
   },
   "outputs": [],
   "source": [
    "%matplotlib inline\n",
    "import itertools\n",
    "\n",
    "import pandas as pd\n",
    "import numpy as np\n",
    "import matplotlib.pyplot as plt\n",
    "from sklearn.ensemble import RandomForestClassifier\n",
    "from pandas.tools.plotting import scatter_matrix\n",
    "\n",
    "import matplotlib.mlab as mlab\n",
    "\n",
    "from sklearn.preprocessing import StandardScaler\n",
    "from sklearn.ensemble import RandomForestClassifier, RandomForestRegressor\n",
    "from sklearn.metrics import accuracy_score, roc_auc_score, confusion_matrix, roc_curve, auc\n",
    "from sklearn.model_selection import train_test_split\n",
    "from sklearn.feature_selection import SelectFromModel\n",
    "\n",
    "from scipy.stats import sem"
   ]
  },
  {
   "cell_type": "code",
   "execution_count": 2,
   "metadata": {
    "collapsed": true
   },
   "outputs": [],
   "source": [
    "data = pd.read_csv('student_vector_new_29_10_2015.csv')"
   ]
  },
  {
   "cell_type": "code",
   "execution_count": null,
   "metadata": {},
   "outputs": [],
   "source": [
    "data.columns"
   ]
  },
  {
   "cell_type": "code",
   "execution_count": null,
   "metadata": {},
   "outputs": [],
   "source": [
    "data.head()"
   ]
  },
  {
   "cell_type": "code",
   "execution_count": 3,
   "metadata": {
    "collapsed": true
   },
   "outputs": [],
   "source": [
    "data['physics_true'] = [1 if x==3 else 0 for x in data['graduated_category']]"
   ]
  },
  {
   "cell_type": "code",
   "execution_count": null,
   "metadata": {},
   "outputs": [],
   "source": [
    "data.head()"
   ]
  },
  {
   "cell_type": "code",
   "execution_count": null,
   "metadata": {},
   "outputs": [],
   "source": [
    "data.groupby('physics_true').count()"
   ]
  },
  {
   "cell_type": "code",
   "execution_count": 4,
   "metadata": {
    "collapsed": true
   },
   "outputs": [],
   "source": [
    "data['is_train'] = np.random.uniform(0, 1, len(data)) <= 0.75"
   ]
  },
  {
   "cell_type": "code",
   "execution_count": 5,
   "metadata": {},
   "outputs": [
    {
     "data": {
      "text/html": [
       "<div>\n",
       "<style>\n",
       "    .dataframe thead tr:only-child th {\n",
       "        text-align: right;\n",
       "    }\n",
       "\n",
       "    .dataframe thead th {\n",
       "        text-align: left;\n",
       "    }\n",
       "\n",
       "    .dataframe tbody tr th {\n",
       "        vertical-align: top;\n",
       "    }\n",
       "</style>\n",
       "<table border=\"1\" class=\"dataframe\">\n",
       "  <thead>\n",
       "    <tr style=\"text-align: right;\">\n",
       "      <th></th>\n",
       "      <th>PlaceholderID</th>\n",
       "      <th>gndr_flag</th>\n",
       "      <th>Ethnicity</th>\n",
       "      <th>first_gen</th>\n",
       "      <th>graduated_category</th>\n",
       "      <th>pre-major class level</th>\n",
       "      <th>lower_math_count</th>\n",
       "      <th>lower_math_dist_count</th>\n",
       "      <th>lower_math_course_attempt_ratio</th>\n",
       "      <th>lower_math_avg</th>\n",
       "      <th>...</th>\n",
       "      <th>lower_physics_course_attempt_ratio</th>\n",
       "      <th>lower_physics_avg</th>\n",
       "      <th>lower_physics_std</th>\n",
       "      <th>upper_physics_dist_count</th>\n",
       "      <th>upper_physics_course_attempt_ratio</th>\n",
       "      <th>upper_physics_count</th>\n",
       "      <th>upper_physics_avg</th>\n",
       "      <th>upper_physics_std</th>\n",
       "      <th>physics_true</th>\n",
       "      <th>is_train</th>\n",
       "    </tr>\n",
       "  </thead>\n",
       "  <tbody>\n",
       "    <tr>\n",
       "      <th>0</th>\n",
       "      <td>000A5CF0-0DBA-48BD-B7C1-982BBDFFF40B</td>\n",
       "      <td>0</td>\n",
       "      <td>7</td>\n",
       "      <td>0</td>\n",
       "      <td>1</td>\n",
       "      <td>1</td>\n",
       "      <td>8</td>\n",
       "      <td>5</td>\n",
       "      <td>0.625000</td>\n",
       "      <td>0.375000</td>\n",
       "      <td>...</td>\n",
       "      <td>0.800000</td>\n",
       "      <td>0.450000</td>\n",
       "      <td>0.287772</td>\n",
       "      <td>4</td>\n",
       "      <td>0.800000</td>\n",
       "      <td>1</td>\n",
       "      <td>0.375</td>\n",
       "      <td>0.000000</td>\n",
       "      <td>0</td>\n",
       "      <td>False</td>\n",
       "    </tr>\n",
       "    <tr>\n",
       "      <th>1</th>\n",
       "      <td>002E1739-81FA-467D-91A6-2318A00273E3</td>\n",
       "      <td>0</td>\n",
       "      <td>7</td>\n",
       "      <td>0</td>\n",
       "      <td>4</td>\n",
       "      <td>1</td>\n",
       "      <td>2</td>\n",
       "      <td>2</td>\n",
       "      <td>1.000000</td>\n",
       "      <td>0.562500</td>\n",
       "      <td>...</td>\n",
       "      <td>1.000000</td>\n",
       "      <td>0.833333</td>\n",
       "      <td>0.072169</td>\n",
       "      <td>3</td>\n",
       "      <td>1.000000</td>\n",
       "      <td>0</td>\n",
       "      <td>0.000</td>\n",
       "      <td>0.000000</td>\n",
       "      <td>0</td>\n",
       "      <td>True</td>\n",
       "    </tr>\n",
       "    <tr>\n",
       "      <th>2</th>\n",
       "      <td>004E919F-6AD9-4F34-B4DC-19328B9FBF1F</td>\n",
       "      <td>0</td>\n",
       "      <td>7</td>\n",
       "      <td>0</td>\n",
       "      <td>4</td>\n",
       "      <td>1</td>\n",
       "      <td>9</td>\n",
       "      <td>5</td>\n",
       "      <td>0.555556</td>\n",
       "      <td>0.347222</td>\n",
       "      <td>...</td>\n",
       "      <td>0.833333</td>\n",
       "      <td>0.562500</td>\n",
       "      <td>0.233854</td>\n",
       "      <td>5</td>\n",
       "      <td>0.833333</td>\n",
       "      <td>9</td>\n",
       "      <td>0.500</td>\n",
       "      <td>0.197642</td>\n",
       "      <td>0</td>\n",
       "      <td>False</td>\n",
       "    </tr>\n",
       "    <tr>\n",
       "      <th>3</th>\n",
       "      <td>0082B136-3401-4D35-AE45-494A67111358</td>\n",
       "      <td>0</td>\n",
       "      <td>7</td>\n",
       "      <td>0</td>\n",
       "      <td>4</td>\n",
       "      <td>3</td>\n",
       "      <td>0</td>\n",
       "      <td>0</td>\n",
       "      <td>0.000000</td>\n",
       "      <td>0.000000</td>\n",
       "      <td>...</td>\n",
       "      <td>1.000000</td>\n",
       "      <td>0.625000</td>\n",
       "      <td>0.000000</td>\n",
       "      <td>1</td>\n",
       "      <td>1.000000</td>\n",
       "      <td>0</td>\n",
       "      <td>0.000</td>\n",
       "      <td>0.000000</td>\n",
       "      <td>0</td>\n",
       "      <td>True</td>\n",
       "    </tr>\n",
       "    <tr>\n",
       "      <th>4</th>\n",
       "      <td>00A6E8CF-9302-4C7D-83BA-DC5DDA31E543</td>\n",
       "      <td>0</td>\n",
       "      <td>7</td>\n",
       "      <td>0</td>\n",
       "      <td>2</td>\n",
       "      <td>0</td>\n",
       "      <td>4</td>\n",
       "      <td>3</td>\n",
       "      <td>0.750000</td>\n",
       "      <td>0.531250</td>\n",
       "      <td>...</td>\n",
       "      <td>0.000000</td>\n",
       "      <td>0.000000</td>\n",
       "      <td>0.000000</td>\n",
       "      <td>0</td>\n",
       "      <td>0.000000</td>\n",
       "      <td>0</td>\n",
       "      <td>0.000</td>\n",
       "      <td>0.000000</td>\n",
       "      <td>0</td>\n",
       "      <td>False</td>\n",
       "    </tr>\n",
       "  </tbody>\n",
       "</table>\n",
       "<p>5 rows × 28 columns</p>\n",
       "</div>"
      ],
      "text/plain": [
       "                          PlaceholderID  gndr_flag  Ethnicity  first_gen  \\\n",
       "0  000A5CF0-0DBA-48BD-B7C1-982BBDFFF40B          0          7          0   \n",
       "1  002E1739-81FA-467D-91A6-2318A00273E3          0          7          0   \n",
       "2  004E919F-6AD9-4F34-B4DC-19328B9FBF1F          0          7          0   \n",
       "3  0082B136-3401-4D35-AE45-494A67111358          0          7          0   \n",
       "4  00A6E8CF-9302-4C7D-83BA-DC5DDA31E543          0          7          0   \n",
       "\n",
       "   graduated_category  pre-major class level  lower_math_count  \\\n",
       "0                   1                      1                 8   \n",
       "1                   4                      1                 2   \n",
       "2                   4                      1                 9   \n",
       "3                   4                      3                 0   \n",
       "4                   2                      0                 4   \n",
       "\n",
       "   lower_math_dist_count  lower_math_course_attempt_ratio  lower_math_avg  \\\n",
       "0                      5                         0.625000        0.375000   \n",
       "1                      2                         1.000000        0.562500   \n",
       "2                      5                         0.555556        0.347222   \n",
       "3                      0                         0.000000        0.000000   \n",
       "4                      3                         0.750000        0.531250   \n",
       "\n",
       "     ...     lower_physics_course_attempt_ratio  lower_physics_avg  \\\n",
       "0    ...                               0.800000           0.450000   \n",
       "1    ...                               1.000000           0.833333   \n",
       "2    ...                               0.833333           0.562500   \n",
       "3    ...                               1.000000           0.625000   \n",
       "4    ...                               0.000000           0.000000   \n",
       "\n",
       "   lower_physics_std  upper_physics_dist_count  \\\n",
       "0           0.287772                         4   \n",
       "1           0.072169                         3   \n",
       "2           0.233854                         5   \n",
       "3           0.000000                         1   \n",
       "4           0.000000                         0   \n",
       "\n",
       "   upper_physics_course_attempt_ratio  upper_physics_count  upper_physics_avg  \\\n",
       "0                            0.800000                    1              0.375   \n",
       "1                            1.000000                    0              0.000   \n",
       "2                            0.833333                    9              0.500   \n",
       "3                            1.000000                    0              0.000   \n",
       "4                            0.000000                    0              0.000   \n",
       "\n",
       "   upper_physics_std  physics_true  is_train  \n",
       "0           0.000000             0     False  \n",
       "1           0.000000             0      True  \n",
       "2           0.197642             0     False  \n",
       "3           0.000000             0      True  \n",
       "4           0.000000             0     False  \n",
       "\n",
       "[5 rows x 28 columns]"
      ]
     },
     "execution_count": 5,
     "metadata": {},
     "output_type": "execute_result"
    }
   ],
   "source": [
    "data.head()"
   ]
  },
  {
   "cell_type": "code",
   "execution_count": 6,
   "metadata": {
    "collapsed": true
   },
   "outputs": [],
   "source": [
    "train, test = data[data['is_train']==True], data[data['is_train']==False]"
   ]
  },
  {
   "cell_type": "code",
   "execution_count": 20,
   "metadata": {},
   "outputs": [
    {
     "data": {
      "text/html": [
       "<div>\n",
       "<style>\n",
       "    .dataframe thead tr:only-child th {\n",
       "        text-align: right;\n",
       "    }\n",
       "\n",
       "    .dataframe thead th {\n",
       "        text-align: left;\n",
       "    }\n",
       "\n",
       "    .dataframe tbody tr th {\n",
       "        vertical-align: top;\n",
       "    }\n",
       "</style>\n",
       "<table border=\"1\" class=\"dataframe\">\n",
       "  <thead>\n",
       "    <tr style=\"text-align: right;\">\n",
       "      <th></th>\n",
       "      <th>PlaceholderID</th>\n",
       "      <th>gndr_flag</th>\n",
       "      <th>Ethnicity</th>\n",
       "      <th>first_gen</th>\n",
       "      <th>graduated_category</th>\n",
       "      <th>pre-major class level</th>\n",
       "      <th>lower_math_count</th>\n",
       "      <th>lower_math_dist_count</th>\n",
       "      <th>lower_math_course_attempt_ratio</th>\n",
       "      <th>lower_math_avg</th>\n",
       "      <th>...</th>\n",
       "      <th>lower_physics_dist_count</th>\n",
       "      <th>lower_physics_course_attempt_ratio</th>\n",
       "      <th>lower_physics_avg</th>\n",
       "      <th>lower_physics_std</th>\n",
       "      <th>upper_physics_dist_count</th>\n",
       "      <th>upper_physics_course_attempt_ratio</th>\n",
       "      <th>upper_physics_count</th>\n",
       "      <th>upper_physics_avg</th>\n",
       "      <th>upper_physics_std</th>\n",
       "      <th>is_train</th>\n",
       "    </tr>\n",
       "    <tr>\n",
       "      <th>physics_true</th>\n",
       "      <th></th>\n",
       "      <th></th>\n",
       "      <th></th>\n",
       "      <th></th>\n",
       "      <th></th>\n",
       "      <th></th>\n",
       "      <th></th>\n",
       "      <th></th>\n",
       "      <th></th>\n",
       "      <th></th>\n",
       "      <th></th>\n",
       "      <th></th>\n",
       "      <th></th>\n",
       "      <th></th>\n",
       "      <th></th>\n",
       "      <th></th>\n",
       "      <th></th>\n",
       "      <th></th>\n",
       "      <th></th>\n",
       "      <th></th>\n",
       "      <th></th>\n",
       "    </tr>\n",
       "  </thead>\n",
       "  <tbody>\n",
       "    <tr>\n",
       "      <th>0</th>\n",
       "      <td>1309</td>\n",
       "      <td>1309</td>\n",
       "      <td>1309</td>\n",
       "      <td>1309</td>\n",
       "      <td>1309</td>\n",
       "      <td>1309</td>\n",
       "      <td>1309</td>\n",
       "      <td>1309</td>\n",
       "      <td>1309</td>\n",
       "      <td>1309</td>\n",
       "      <td>...</td>\n",
       "      <td>1309</td>\n",
       "      <td>1309</td>\n",
       "      <td>1309</td>\n",
       "      <td>1309</td>\n",
       "      <td>1309</td>\n",
       "      <td>1309</td>\n",
       "      <td>1309</td>\n",
       "      <td>1309</td>\n",
       "      <td>1309</td>\n",
       "      <td>1309</td>\n",
       "    </tr>\n",
       "    <tr>\n",
       "      <th>1</th>\n",
       "      <td>304</td>\n",
       "      <td>304</td>\n",
       "      <td>304</td>\n",
       "      <td>304</td>\n",
       "      <td>304</td>\n",
       "      <td>304</td>\n",
       "      <td>304</td>\n",
       "      <td>304</td>\n",
       "      <td>304</td>\n",
       "      <td>304</td>\n",
       "      <td>...</td>\n",
       "      <td>304</td>\n",
       "      <td>304</td>\n",
       "      <td>304</td>\n",
       "      <td>304</td>\n",
       "      <td>304</td>\n",
       "      <td>304</td>\n",
       "      <td>304</td>\n",
       "      <td>304</td>\n",
       "      <td>304</td>\n",
       "      <td>304</td>\n",
       "    </tr>\n",
       "  </tbody>\n",
       "</table>\n",
       "<p>2 rows × 27 columns</p>\n",
       "</div>"
      ],
      "text/plain": [
       "              PlaceholderID  gndr_flag  Ethnicity  first_gen  \\\n",
       "physics_true                                                   \n",
       "0                      1309       1309       1309       1309   \n",
       "1                       304        304        304        304   \n",
       "\n",
       "              graduated_category  pre-major class level  lower_math_count  \\\n",
       "physics_true                                                                \n",
       "0                           1309                   1309              1309   \n",
       "1                            304                    304               304   \n",
       "\n",
       "              lower_math_dist_count  lower_math_course_attempt_ratio  \\\n",
       "physics_true                                                           \n",
       "0                              1309                             1309   \n",
       "1                               304                              304   \n",
       "\n",
       "              lower_math_avg    ...     lower_physics_dist_count  \\\n",
       "physics_true                    ...                                \n",
       "0                       1309    ...                         1309   \n",
       "1                        304    ...                          304   \n",
       "\n",
       "              lower_physics_course_attempt_ratio  lower_physics_avg  \\\n",
       "physics_true                                                          \n",
       "0                                           1309               1309   \n",
       "1                                            304                304   \n",
       "\n",
       "              lower_physics_std  upper_physics_dist_count  \\\n",
       "physics_true                                                \n",
       "0                          1309                      1309   \n",
       "1                           304                       304   \n",
       "\n",
       "              upper_physics_course_attempt_ratio  upper_physics_count  \\\n",
       "physics_true                                                            \n",
       "0                                           1309                 1309   \n",
       "1                                            304                  304   \n",
       "\n",
       "              upper_physics_avg  upper_physics_std  is_train  \n",
       "physics_true                                                  \n",
       "0                          1309               1309      1309  \n",
       "1                           304                304       304  \n",
       "\n",
       "[2 rows x 27 columns]"
      ]
     },
     "execution_count": 20,
     "metadata": {},
     "output_type": "execute_result"
    }
   ],
   "source": [
    "train.groupby('physics_true').count()"
   ]
  },
  {
   "cell_type": "markdown",
   "metadata": {},
   "source": [
    "## Force a bootstrap on the training data\n",
    "There is a problem with false predictions when there's a significant imbalance between classes that you are trying to classify. So, I forced a bootstrap by randomly selecting more records from students with physics degrees until there's roughly equal number of students earning physics and nonphysics degrees are represented in the training data."
   ]
  },
  {
   "cell_type": "code",
   "execution_count": 70,
   "metadata": {},
   "outputs": [],
   "source": [
    "## force a bootstrap; randomly select more records from students with physics degrees to interrogate sampling issues\n",
    "bootstrap_train = train\n",
    "for i in range(0,7):\n",
    "    bootstrap_train = pd.concat([bootstrap_train,train[train['physics_true'] == 1].sample(frac=0.5)])"
   ]
  },
  {
   "cell_type": "code",
   "execution_count": null,
   "metadata": {
    "collapsed": true
   },
   "outputs": [],
   "source": [
    "# features = ['gndr_flag', 'Ethnicity', 'first_gen','pre-major class level',\n",
    "#             'lower_math_course_attempt_ratio', 'lower_physics_course_attempt_ratio',\n",
    "#        'lower_physics_avg','lower_math_avg']"
   ]
  },
  {
   "cell_type": "code",
   "execution_count": 71,
   "metadata": {},
   "outputs": [
    {
     "data": {
      "text/html": [
       "<div>\n",
       "<style>\n",
       "    .dataframe thead tr:only-child th {\n",
       "        text-align: right;\n",
       "    }\n",
       "\n",
       "    .dataframe thead th {\n",
       "        text-align: left;\n",
       "    }\n",
       "\n",
       "    .dataframe tbody tr th {\n",
       "        vertical-align: top;\n",
       "    }\n",
       "</style>\n",
       "<table border=\"1\" class=\"dataframe\">\n",
       "  <thead>\n",
       "    <tr style=\"text-align: right;\">\n",
       "      <th></th>\n",
       "      <th>PlaceholderID</th>\n",
       "      <th>gndr_flag</th>\n",
       "      <th>Ethnicity</th>\n",
       "      <th>first_gen</th>\n",
       "      <th>graduated_category</th>\n",
       "      <th>pre-major class level</th>\n",
       "      <th>lower_math_count</th>\n",
       "      <th>lower_math_dist_count</th>\n",
       "      <th>lower_math_course_attempt_ratio</th>\n",
       "      <th>lower_math_avg</th>\n",
       "      <th>...</th>\n",
       "      <th>lower_physics_dist_count</th>\n",
       "      <th>lower_physics_course_attempt_ratio</th>\n",
       "      <th>lower_physics_avg</th>\n",
       "      <th>lower_physics_std</th>\n",
       "      <th>upper_physics_dist_count</th>\n",
       "      <th>upper_physics_course_attempt_ratio</th>\n",
       "      <th>upper_physics_count</th>\n",
       "      <th>upper_physics_avg</th>\n",
       "      <th>upper_physics_std</th>\n",
       "      <th>is_train</th>\n",
       "    </tr>\n",
       "    <tr>\n",
       "      <th>physics_true</th>\n",
       "      <th></th>\n",
       "      <th></th>\n",
       "      <th></th>\n",
       "      <th></th>\n",
       "      <th></th>\n",
       "      <th></th>\n",
       "      <th></th>\n",
       "      <th></th>\n",
       "      <th></th>\n",
       "      <th></th>\n",
       "      <th></th>\n",
       "      <th></th>\n",
       "      <th></th>\n",
       "      <th></th>\n",
       "      <th></th>\n",
       "      <th></th>\n",
       "      <th></th>\n",
       "      <th></th>\n",
       "      <th></th>\n",
       "      <th></th>\n",
       "      <th></th>\n",
       "    </tr>\n",
       "  </thead>\n",
       "  <tbody>\n",
       "    <tr>\n",
       "      <th>0</th>\n",
       "      <td>1309</td>\n",
       "      <td>1309</td>\n",
       "      <td>1309</td>\n",
       "      <td>1309</td>\n",
       "      <td>1309</td>\n",
       "      <td>1309</td>\n",
       "      <td>1309</td>\n",
       "      <td>1309</td>\n",
       "      <td>1309</td>\n",
       "      <td>1309</td>\n",
       "      <td>...</td>\n",
       "      <td>1309</td>\n",
       "      <td>1309</td>\n",
       "      <td>1309</td>\n",
       "      <td>1309</td>\n",
       "      <td>1309</td>\n",
       "      <td>1309</td>\n",
       "      <td>1309</td>\n",
       "      <td>1309</td>\n",
       "      <td>1309</td>\n",
       "      <td>1309</td>\n",
       "    </tr>\n",
       "    <tr>\n",
       "      <th>1</th>\n",
       "      <td>1368</td>\n",
       "      <td>1368</td>\n",
       "      <td>1368</td>\n",
       "      <td>1368</td>\n",
       "      <td>1368</td>\n",
       "      <td>1368</td>\n",
       "      <td>1368</td>\n",
       "      <td>1368</td>\n",
       "      <td>1368</td>\n",
       "      <td>1368</td>\n",
       "      <td>...</td>\n",
       "      <td>1368</td>\n",
       "      <td>1368</td>\n",
       "      <td>1368</td>\n",
       "      <td>1368</td>\n",
       "      <td>1368</td>\n",
       "      <td>1368</td>\n",
       "      <td>1368</td>\n",
       "      <td>1368</td>\n",
       "      <td>1368</td>\n",
       "      <td>1368</td>\n",
       "    </tr>\n",
       "  </tbody>\n",
       "</table>\n",
       "<p>2 rows × 27 columns</p>\n",
       "</div>"
      ],
      "text/plain": [
       "              PlaceholderID  gndr_flag  Ethnicity  first_gen  \\\n",
       "physics_true                                                   \n",
       "0                      1309       1309       1309       1309   \n",
       "1                      1368       1368       1368       1368   \n",
       "\n",
       "              graduated_category  pre-major class level  lower_math_count  \\\n",
       "physics_true                                                                \n",
       "0                           1309                   1309              1309   \n",
       "1                           1368                   1368              1368   \n",
       "\n",
       "              lower_math_dist_count  lower_math_course_attempt_ratio  \\\n",
       "physics_true                                                           \n",
       "0                              1309                             1309   \n",
       "1                              1368                             1368   \n",
       "\n",
       "              lower_math_avg    ...     lower_physics_dist_count  \\\n",
       "physics_true                    ...                                \n",
       "0                       1309    ...                         1309   \n",
       "1                       1368    ...                         1368   \n",
       "\n",
       "              lower_physics_course_attempt_ratio  lower_physics_avg  \\\n",
       "physics_true                                                          \n",
       "0                                           1309               1309   \n",
       "1                                           1368               1368   \n",
       "\n",
       "              lower_physics_std  upper_physics_dist_count  \\\n",
       "physics_true                                                \n",
       "0                          1309                      1309   \n",
       "1                          1368                      1368   \n",
       "\n",
       "              upper_physics_course_attempt_ratio  upper_physics_count  \\\n",
       "physics_true                                                            \n",
       "0                                           1309                 1309   \n",
       "1                                           1368                 1368   \n",
       "\n",
       "              upper_physics_avg  upper_physics_std  is_train  \n",
       "physics_true                                                  \n",
       "0                          1309               1309      1309  \n",
       "1                          1368               1368      1368  \n",
       "\n",
       "[2 rows x 27 columns]"
      ]
     },
     "execution_count": 71,
     "metadata": {},
     "output_type": "execute_result"
    }
   ],
   "source": [
    "bootstrap_train.groupby('physics_true').count()"
   ]
  },
  {
   "cell_type": "code",
   "execution_count": 72,
   "metadata": {
    "collapsed": true
   },
   "outputs": [],
   "source": [
    "# features = ['gndr_flag', 'Ethnicity', 'first_gen',\n",
    "#         'pre-major class level',\n",
    "#        'lower_math_dist_count', \n",
    "#        'lower_math_avg',  \n",
    "#        'lower_physics_dist_count', \n",
    "#        'lower_physics_avg', ]"
   ]
  },
  {
   "cell_type": "code",
   "execution_count": 73,
   "metadata": {
    "collapsed": true
   },
   "outputs": [],
   "source": [
    "features = ['gndr_flag', 'Ethnicity', 'first_gen',\n",
    "        'pre-major class level',\n",
    "       'lower_math_dist_count',\n",
    "       'lower_math_avg', \n",
    "       'lower_physics_dist_count', \n",
    "       'lower_physics_avg']"
   ]
  },
  {
   "cell_type": "code",
   "execution_count": 74,
   "metadata": {
    "collapsed": true
   },
   "outputs": [],
   "source": [
    "feature_we_are_trying_to_predict = 'physics_true'\n",
    "#feature_we_are_trying_to_predict = 'graduated_category'\n",
    "class_names = ['!Earn PA Degree','Earn PA Degree']"
   ]
  },
  {
   "cell_type": "code",
   "execution_count": 75,
   "metadata": {
    "collapsed": true
   },
   "outputs": [],
   "source": [
    "y = pd.factorize(bootstrap_train[feature_we_are_trying_to_predict])[0]\n",
    "y_test = pd.factorize(test[feature_we_are_trying_to_predict])[0]\n",
    "X = bootstrap_train[features]\n",
    "X_test = test[features]"
   ]
  },
  {
   "cell_type": "code",
   "execution_count": 76,
   "metadata": {
    "collapsed": true
   },
   "outputs": [],
   "source": [
    "# Scaling to ensure it doesn't behave badly\n",
    "scaler = StandardScaler()\n",
    "scaler.fit(X)\n",
    "\n",
    "# Now apply the transformations to the data:\n",
    "X = scaler.transform(X)\n",
    "X_test = scaler.transform(X_test)"
   ]
  },
  {
   "cell_type": "code",
   "execution_count": 77,
   "metadata": {},
   "outputs": [],
   "source": [
    "# Create a random forest classifier. By convention, clf means 'classifier'\n",
    "\n",
    "## There was definitely a problem with imbalance. You have 4 times as many people not graduating with physics degrees\n",
    "## I increased the number of trees in the forest as well\n",
    "\n",
    "clf = RandomForestClassifier(n_estimators = 1024, criterion = 'entropy', n_jobs = -1);\n",
    "\n",
    "# Train the classifier to take the training features, X, and learn how they relate\n",
    "# to the training classes, y\n",
    "clf.fit(X, y);\n",
    "\n",
    "# Apply the classifier we trained to the test data (which, remember, it has never seen before)\n",
    "pred_y_test = clf.predict(X_test);\n",
    "\n",
    "importances = clf.feature_importances_\n",
    "std = np.std([tree.feature_importances_ for tree in clf.estimators_],\n",
    "             axis=0)\n",
    "stderr = sem([tree.feature_importances_ for tree in clf.estimators_],\n",
    "             axis=0)"
   ]
  },
  {
   "cell_type": "code",
   "execution_count": 78,
   "metadata": {},
   "outputs": [
    {
     "name": "stdout",
     "output_type": "stream",
     "text": [
      "Confusion Matrix:\n",
      " [[361  47]\n",
      " [ 36  54]]\n",
      "Percentage of accurate predictions:\n",
      " 0.833333333333\n",
      "Area under curve:\n",
      " 0.873897058824\n"
     ]
    }
   ],
   "source": [
    "## Confusion Matrix\n",
    "cnf_matrix = confusion_matrix(y_test,pred_y_test)\n",
    "print('Confusion Matrix:\\n',cnf_matrix)\n",
    "\n",
    "## Check accuracy of model on test data\n",
    "acc_score = accuracy_score(y_test, pred_y_test);\n",
    "print('Percentage of accurate predictions:\\n', acc_score)\n",
    "\n",
    "## Compute predicted class probabilities\n",
    "preds = clf.predict_proba(X_test)\n",
    "\n",
    "## Determine false positive and true positive rate\n",
    "fpr, tpr, thresholds = roc_curve(y_test, preds[:,1])\n",
    "\n",
    "## Store rates for plotting\n",
    "dfROC = pd.DataFrame(dict(fpr = fpr, tpr = tpr))\n",
    "\n",
    "## Compute area under curve of ROC\n",
    "area_under_curve = auc(fpr,tpr)\n",
    "print('Area under curve:\\n', area_under_curve)"
   ]
  },
  {
   "cell_type": "code",
   "execution_count": 79,
   "metadata": {},
   "outputs": [],
   "source": [
    "def plot_confusion_matrix(cm, classes,\n",
    "                          normalize=False,\n",
    "                          title='Confusion matrix',\n",
    "                          cmap=plt.cm.GnBu):\n",
    "    \"\"\"\n",
    "    This function prints and plots the confusion matrix.\n",
    "    Normalization can be applied by setting `normalize=True`.\n",
    "    \"\"\"\n",
    "    if normalize:\n",
    "        cm = cm.astype('float') / cm.sum(axis=1)[:, np.newaxis]\n",
    "        print(\"Normalized confusion matrix\")\n",
    "    else:\n",
    "        print('Confusion matrix, without normalization')\n",
    "\n",
    "    print(cm)\n",
    "\n",
    "    plt.imshow(cm, interpolation='nearest', cmap=cmap)\n",
    "    plt.title(title)\n",
    "    plt.colorbar()\n",
    "    tick_marks = np.arange(len(classes))\n",
    "    plt.xticks(tick_marks, classes, rotation=45)\n",
    "    plt.yticks(tick_marks, classes)\n",
    "\n",
    "    fmt = '.2f' if normalize else 'd'\n",
    "    thresh = cm.max() / 2.\n",
    "    for i, j in itertools.product(range(cm.shape[0]), range(cm.shape[1])):\n",
    "        plt.text(j, i, format(cm[i, j], fmt),\n",
    "                 horizontalalignment=\"center\",\n",
    "                 color=\"white\" if cm[i, j] > thresh else \"black\")\n",
    "\n",
    "    plt.tight_layout()\n",
    "    plt.ylabel('True label')\n",
    "    plt.xlabel('Predicted label')"
   ]
  },
  {
   "cell_type": "code",
   "execution_count": 80,
   "metadata": {},
   "outputs": [
    {
     "name": "stdout",
     "output_type": "stream",
     "text": [
      "Confusion matrix, without normalization\n",
      "[[361  47]\n",
      " [ 36  54]]\n",
      "Normalized confusion matrix\n",
      "[[ 0.88480392  0.11519608]\n",
      " [ 0.4         0.6       ]]\n"
     ]
    },
    {
     "data": {
      "image/png": "[encoded data removed]",
      "text/plain": [
       "<matplotlib.figure.Figure at 0x116016b00>"
      ]
     },
     "metadata": {},
     "output_type": "display_data"
    },
    {
     "data": {
      "image/png": "[encoded data removed]",
      "text/plain": [
       "<matplotlib.figure.Figure at 0x1158661d0>"
      ]
     },
     "metadata": {},
     "output_type": "display_data"
    }
   ],
   "source": [
    "# Plot non-normalized confusion matrix\n",
    "plt.figure(figsize = (4,4), dpi = 200)\n",
    "plot_confusion_matrix(cnf_matrix, classes=class_names,\n",
    "                      title='Confusion matrix,\\nwithout normalization')\n",
    "plt.tight_layout()\n",
    "\n",
    "# Plot normalized confusion matrix\n",
    "plt.figure(figsize = (4,4), dpi = 200)\n",
    "plot_confusion_matrix(cnf_matrix, classes=class_names, normalize=True,\n",
    "                      title='Normalized\\nconfusion matrix')\n",
    "plt.tight_layout()"
   ]
  },
  {
   "cell_type": "code",
   "execution_count": 81,
   "metadata": {},
   "outputs": [
    {
     "data": {
      "image/png": "[encoded data removed]",
      "text/plain": [
       "<matplotlib.figure.Figure at 0x116fdfac8>"
      ]
     },
     "metadata": {},
     "output_type": "display_data"
    }
   ],
   "source": [
    "#just to plot guessing line\n",
    "a = np.arange(0,1,0.01)\n",
    "\n",
    "bboxprops = {'facecolor':'white', 'pad':0.3, 'boxstyle':'round', 'edgecolor':'darkgrey', 'alpha':0.7}\n",
    "\n",
    "fig1 = plt.figure(num=None, figsize=(3, 3), dpi=150, facecolor='w', edgecolor='k')\n",
    "ax1 = fig1.add_subplot(111)\n",
    "\n",
    "plt.plot(dfROC['fpr'],dfROC['tpr'],'-')\n",
    "plt.plot(a,a,'--')\n",
    "\n",
    "plt.xlabel('False Positive Rate')\n",
    "plt.ylabel('True Positive Rate')\n",
    "\n",
    "ax1.fill_between(dfROC['fpr'], 0, dfROC['tpr'],alpha=0.1)\n",
    "ax1.text(0.51, 0.07, 'AUC = '+ str(round(area_under_curve, 3)), bbox = bboxprops)\n",
    "plt.axis([0,1,0,1])\n",
    "plt.xticks([0,0.5,1])\n",
    "plt.yticks([0,0.5,1])\n",
    "\n",
    "plt.tight_layout()"
   ]
  },
  {
   "cell_type": "code",
   "execution_count": 82,
   "metadata": {},
   "outputs": [
    {
     "name": "stdout",
     "output_type": "stream",
     "text": [
      "0.285140562249\n"
     ]
    }
   ],
   "source": [
    "print(clf.score(test[features],test[feature_we_are_trying_to_predict]));"
   ]
  },
  {
   "cell_type": "code",
   "execution_count": 83,
   "metadata": {},
   "outputs": [
    {
     "data": {
      "text/plain": [
       "<matplotlib.text.Text at 0x118131320>"
      ]
     },
     "execution_count": 83,
     "metadata": {},
     "output_type": "execute_result"
    },
    {
     "data": {
      "image/png": "[encoded data removed]",
      "text/plain": [
       "<matplotlib.figure.Figure at 0x1180a9630>"
      ]
     },
     "metadata": {},
     "output_type": "display_data"
    }
   ],
   "source": [
    "feature_importance = sorted(zip(clf.feature_importances_, features))\n",
    "feature_importance = pd.DataFrame(feature_importance, columns=['value', 'feature'])\n",
    "feature_importance = feature_importance.set_index('feature')\n",
    "ax = feature_importance.plot(kind='barh', legend=False, figsize=((8,6)))\n",
    "ax.set_ylabel('')\n",
    "ax.set_title('Feature Importance', fontsize=25)\n",
    "ax.text(feature_importance.max()[0]-0.1,0.15,s='score={s}'.format(s=round(clf.score(test[features],test[feature_we_are_trying_to_predict]),2))\n",
    "       ,fontsize=20)"
   ]
  },
  {
   "cell_type": "code",
   "execution_count": null,
   "metadata": {},
   "outputs": [],
   "source": [
    "# # Create a selector object that will use the random forest classifier to identify\n",
    "# # features that have an importance of more than 0.15\n",
    "# sfm = SelectFromModel(clf, threshold=0.05)\n",
    "\n",
    "# # Train the selector\n",
    "# sfm.fit(X, y)"
   ]
  },
  {
   "cell_type": "code",
   "execution_count": null,
   "metadata": {
    "collapsed": true
   },
   "outputs": [],
   "source": [
    "# test_data = data[data['is_train']==False][feature_we_are_trying_to_predict]"
   ]
  },
  {
   "cell_type": "code",
   "execution_count": null,
   "metadata": {
    "collapsed": true
   },
   "outputs": [],
   "source": [
    "# clf = RandomForestClassifier(n_estimators=128)"
   ]
  },
  {
   "cell_type": "code",
   "execution_count": null,
   "metadata": {
    "scrolled": true
   },
   "outputs": [],
   "source": [
    "# clf.fit(train[features], y)"
   ]
  },
  {
   "cell_type": "code",
   "execution_count": null,
   "metadata": {
    "collapsed": true
   },
   "outputs": [],
   "source": [
    "# prediction = clf.predict(test[features])"
   ]
  },
  {
   "cell_type": "code",
   "execution_count": null,
   "metadata": {
    "collapsed": true
   },
   "outputs": [],
   "source": [
    "# score_data = (abs(prediction - test_data))"
   ]
  },
  {
   "cell_type": "code",
   "execution_count": null,
   "metadata": {},
   "outputs": [],
   "source": [
    "# score_data.hist(normed=True)"
   ]
  },
  {
   "cell_type": "code",
   "execution_count": null,
   "metadata": {},
   "outputs": [],
   "source": [
    "# clf.predict_proba(test[features])"
   ]
  },
  {
   "cell_type": "code",
   "execution_count": null,
   "metadata": {},
   "outputs": [],
   "source": [
    "clf.score(test[features],test[feature_we_are_trying_to_predict])"
   ]
  },
  {
   "cell_type": "code",
   "execution_count": null,
   "metadata": {
    "collapsed": true
   },
   "outputs": [],
   "source": [
    "# feature_importance = sorted(zip(clf.feature_importances_, features))"
   ]
  },
  {
   "cell_type": "code",
   "execution_count": null,
   "metadata": {
    "collapsed": true
   },
   "outputs": [],
   "source": [
    "# feature_importance = pd.DataFrame(feature_importance)"
   ]
  },
  {
   "cell_type": "code",
   "execution_count": null,
   "metadata": {
    "collapsed": true
   },
   "outputs": [],
   "source": [
    "# feature_importance.columns = ['importance', 'feature']"
   ]
  },
  {
   "cell_type": "code",
   "execution_count": null,
   "metadata": {
    "collapsed": true
   },
   "outputs": [],
   "source": [
    "# feature_importance.index = feature_importance.feature"
   ]
  },
  {
   "cell_type": "code",
   "execution_count": null,
   "metadata": {
    "collapsed": true
   },
   "outputs": [],
   "source": [
    "color=['red','blue','blue','blue','blue','blue','blue','blue']"
   ]
  },
  {
   "cell_type": "code",
   "execution_count": null,
   "metadata": {},
   "outputs": [],
   "source": [
    "feature_importance.max()[0]"
   ]
  },
  {
   "cell_type": "code",
   "execution_count": null,
   "metadata": {
    "scrolled": false
   },
   "outputs": [],
   "source": [
    "feature_importance = sorted(zip(clf.feature_importances_, features))\n",
    "ax = feature_importance.plot(kind='barh', legend=False, figsize=((8,6)))\n",
    "ax.set_ylabel('')\n",
    "ax.set_title('Feature Importance', fontsize=25)\n",
    "ax.text(feature_importance.max()[0]-0.1,0.15,s='score={s}'.format(s=round(clf.score(test[features],test[feature_we_are_trying_to_predict]),2))\n",
    "       ,fontsize=20)"
   ]
  },
  {
   "cell_type": "code",
   "execution_count": null,
   "metadata": {},
   "outputs": [],
   "source": [
    "prediction.shape"
   ]
  },
  {
   "cell_type": "code",
   "execution_count": null,
   "metadata": {},
   "outputs": [],
   "source": [
    "y.shape"
   ]
  },
  {
   "cell_type": "code",
   "execution_count": null,
   "metadata": {},
   "outputs": [],
   "source": [
    "train_test_split(train,test)"
   ]
  },
  {
   "cell_type": "code",
   "execution_count": null,
   "metadata": {},
   "outputs": [],
   "source": [
    "## Confusion Matrix\n",
    "# confusion = confusion_matrix(y_test,pred_y_test)\n",
    "confusion = confusion_matrix(y, prediction)\n",
    "print('Confusion Matrix:\\n',confusion)"
   ]
  },
  {
   "cell_type": "code",
   "execution_count": null,
   "metadata": {},
   "outputs": [],
   "source": [
    "## Check accuracy of model on test data\n",
    "acc_score = accuracy_score(y_test, pred_y_test);\n",
    "print('Percentage of accurate predictions:\\n', acc_score)\n",
    "\n",
    "## Compute predicted class probabilities\n",
    "preds = clf.predict_proba(X_test)\n",
    "\n",
    "## Determine false positive and true positive rate\n",
    "fpr, tpr, thresholds = roc_curve(y_test, preds[:,1])\n",
    "\n",
    "## Store rates for plotting\n",
    "dfROC = pd.DataFrame(dict(fpr = fpr, tpr = tpr))\n",
    "\n",
    "## Compute area under curve of ROC\n",
    "area_under_curve = auc(fpr,tpr)\n",
    "print('Area under curve:\\n', area_under_curve)"
   ]
  },
  {
   "cell_type": "code",
   "execution_count": null,
   "metadata": {
    "collapsed": true
   },
   "outputs": [],
   "source": [
    "color = []\n",
    "for d in data[feature_we_are_trying_to_predict]:\n",
    "    if d==True:\n",
    "        color.append('red')\n",
    "    else:\n",
    "        color.append('gray')"
   ]
  },
  {
   "cell_type": "code",
   "execution_count": null,
   "metadata": {
    "collapsed": true
   },
   "outputs": [],
   "source": [
    "def add_jitter(df, jitter):\n",
    "    \"\"\"\n",
    "    Adds jitter to a data set based on a random normal\n",
    "    distribution.\n",
    "    \n",
    "    Requirements: numpy, pandas\n",
    "    \"\"\"\n",
    "    return abs(df + np.random.normal(df, jitter, size=len(df)))"
   ]
  },
  {
   "cell_type": "code",
   "execution_count": null,
   "metadata": {
    "scrolled": true
   },
   "outputs": [],
   "source": [
    "scatter_matrix(data[features], color=color, figsize=(20,20), alpha=0.5)"
   ]
  },
  {
   "cell_type": "code",
   "execution_count": null,
   "metadata": {
    "collapsed": true
   },
   "outputs": [],
   "source": [
    "from sklearn import svm, datasets\n"
   ]
  },
  {
   "cell_type": "code",
   "execution_count": null,
   "metadata": {
    "collapsed": true
   },
   "outputs": [],
   "source": [
    "iris = datasets.load_iris()"
   ]
  },
  {
   "cell_type": "code",
   "execution_count": null,
   "metadata": {},
   "outputs": [],
   "source": [
    "iris.data.shape"
   ]
  },
  {
   "cell_type": "code",
   "execution_count": null,
   "metadata": {},
   "outputs": [],
   "source": [
    "iris.target.shape"
   ]
  },
  {
   "cell_type": "code",
   "execution_count": null,
   "metadata": {},
   "outputs": [],
   "source": [
    "from sklearn.datasets import load_iris\n",
    "from sklearn.ensemble import RandomForestClassifier\n",
    "import pandas as pd\n",
    "import numpy as np\n",
    "\n",
    "iris = load_iris()\n",
    "df = pd.DataFrame(iris.data, columns=iris.feature_names)\n",
    "df['is_train'] = np.random.uniform(0, 1, len(df)) <= .75\n",
    "df['species'] = pd.Categorical.from_codes(iris.target, iris.target_names)\n",
    "df.head()\n",
    "\n",
    "train, test = df[df['is_train']==True], df[df['is_train']==False]\n",
    "\n",
    "features = df.columns[:4]\n",
    "clf = RandomForestClassifier(n_jobs=2)\n",
    "y, _ = pd.factorize(train['species'])\n",
    "clf.fit(train[features], y)\n",
    "\n",
    "preds = iris.target_names[clf.predict(test[features])]\n",
    "pd.crosstab(test['species'], preds, rownames=['actual'], colnames=['preds'])"
   ]
  },
  {
   "cell_type": "code",
   "execution_count": null,
   "metadata": {},
   "outputs": [],
   "source": [
    "df.groupby('is_train').count()"
   ]
  }
 ],
 "metadata": {
  "kernelspec": {
   "display_name": "Python 3",
   "language": "python",
   "name": "python3"
  },
  "language_info": {
   "codemirror_mode": {
    "name": "ipython",
    "version": 3
   },
   "file_extension": ".py",
   "mimetype": "text/x-python",
   "name": "python",
   "nbconvert_exporter": "python",
   "pygments_lexer": "ipython3",
   "version": "3.6.3"
  }
 },
 "nbformat": 4,
 "nbformat_minor": 1
}
